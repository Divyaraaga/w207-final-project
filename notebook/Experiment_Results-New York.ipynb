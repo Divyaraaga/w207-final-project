{
 "cells": [
  {
   "cell_type": "markdown",
   "metadata": {},
   "source": [
    "# Experiment Results"
   ]
  },
  {
   "cell_type": "markdown",
   "metadata": {},
   "source": [
    "## Results for New York"
   ]
  },
  {
   "cell_type": "code",
   "execution_count": 6,
   "metadata": {},
   "outputs": [
    {
     "data": {
      "text/html": [
       "<script>requirejs.config({paths: { 'plotly': ['https://cdn.plot.ly/plotly-latest.min']},});if(!window.Plotly) {{require(['plotly'],function(plotly) {window.Plotly=plotly;});}}</script>"
      ],
      "text/vnd.plotly.v1+html": [
       "<script>requirejs.config({paths: { 'plotly': ['https://cdn.plot.ly/plotly-latest.min']},});if(!window.Plotly) {{require(['plotly'],function(plotly) {window.Plotly=plotly;});}}</script>"
      ]
     },
     "metadata": {},
     "output_type": "display_data"
    }
   ],
   "source": [
    "import warnings\n",
    "warnings.filterwarnings('ignore')\n",
    "\n",
    "%run helper_functions.py\n",
    "%matplotlib inline"
   ]
  },
  {
   "cell_type": "markdown",
   "metadata": {},
   "source": [
    "Lets review the top 10 results, ordered by Mean Square Error (ascending)"
   ]
  },
  {
   "cell_type": "code",
   "execution_count": 7,
   "metadata": {},
   "outputs": [
    {
     "data": {
      "text/html": [
       "<div>\n",
       "<style scoped>\n",
       "    .dataframe tbody tr th:only-of-type {\n",
       "        vertical-align: middle;\n",
       "    }\n",
       "\n",
       "    .dataframe tbody tr th {\n",
       "        vertical-align: top;\n",
       "    }\n",
       "\n",
       "    .dataframe thead th {\n",
       "        text-align: right;\n",
       "    }\n",
       "</style>\n",
       "<table border=\"1\" class=\"dataframe\">\n",
       "  <thead>\n",
       "    <tr style=\"text-align: right;\">\n",
       "      <th></th>\n",
       "      <th>RUN_ID</th>\n",
       "      <th>DATETIME</th>\n",
       "      <th>MODEL_NAME</th>\n",
       "      <th>CITY</th>\n",
       "      <th>FEATURE_TYPE</th>\n",
       "      <th>HOST_MACHINE</th>\n",
       "      <th>MODEL_PARAMETERS</th>\n",
       "      <th>MODEL_RESULTS</th>\n",
       "      <th>MEAN_SQUARED_ERROR</th>\n",
       "    </tr>\n",
       "  </thead>\n",
       "  <tbody>\n",
       "    <tr>\n",
       "      <th>1</th>\n",
       "      <td>49</td>\n",
       "      <td>2018-08-14 20:38:45.591679</td>\n",
       "      <td>RNN</td>\n",
       "      <td>New York</td>\n",
       "      <td>Enhanced_Signals</td>\n",
       "      <td>DESKTOP-KN40C32</td>\n",
       "      <td>{'epochs': 50, 'Info': {'feature_set_type': 'E...</td>\n",
       "      <td>{'features': ['temperature_lag1', 'temperature...</td>\n",
       "      <td>4.095801</td>\n",
       "    </tr>\n",
       "    <tr>\n",
       "      <th>2</th>\n",
       "      <td>25</td>\n",
       "      <td>2018-08-14 19:55:22.399240</td>\n",
       "      <td>RANDOM FOREST</td>\n",
       "      <td>New York</td>\n",
       "      <td>Inc_Signals</td>\n",
       "      <td>DESKTOP-KN40C32</td>\n",
       "      <td>{'max_depth': 8, 'n_estimators': 50, 'Info': {...</td>\n",
       "      <td>{'features': ['temperature_lag1', 'temperature...</td>\n",
       "      <td>4.216172</td>\n",
       "    </tr>\n",
       "    <tr>\n",
       "      <th>3</th>\n",
       "      <td>31</td>\n",
       "      <td>2018-08-14 19:56:16.424827</td>\n",
       "      <td>RANDOM FOREST</td>\n",
       "      <td>New York</td>\n",
       "      <td>Enhanced_Signals</td>\n",
       "      <td>DESKTOP-KN40C32</td>\n",
       "      <td>{'max_depth': 8, 'n_estimators': 50, 'Info': {...</td>\n",
       "      <td>{'features': ['temperature_lag1', 'temperature...</td>\n",
       "      <td>4.216172</td>\n",
       "    </tr>\n",
       "    <tr>\n",
       "      <th>4</th>\n",
       "      <td>19</td>\n",
       "      <td>2018-08-14 19:53:51.786200</td>\n",
       "      <td>RANDOM FOREST</td>\n",
       "      <td>New York</td>\n",
       "      <td>Basic</td>\n",
       "      <td>DESKTOP-KN40C32</td>\n",
       "      <td>{'max_depth': 8, 'n_estimators': 50, 'Info': {...</td>\n",
       "      <td>{'features': ['temperature_lag1', 'temperature...</td>\n",
       "      <td>4.369905</td>\n",
       "    </tr>\n",
       "    <tr>\n",
       "      <th>5</th>\n",
       "      <td>43</td>\n",
       "      <td>2018-08-14 20:35:48.643558</td>\n",
       "      <td>RNN</td>\n",
       "      <td>New York</td>\n",
       "      <td>Inc_Signals</td>\n",
       "      <td>DESKTOP-KN40C32</td>\n",
       "      <td>{'epochs': 50, 'Info': {'feature_set_type': 'I...</td>\n",
       "      <td>{'features': ['temperature_lag1', 'temperature...</td>\n",
       "      <td>4.700272</td>\n",
       "    </tr>\n",
       "    <tr>\n",
       "      <th>6</th>\n",
       "      <td>37</td>\n",
       "      <td>2018-08-14 20:33:25.810145</td>\n",
       "      <td>RNN</td>\n",
       "      <td>New York</td>\n",
       "      <td>Basic</td>\n",
       "      <td>DESKTOP-KN40C32</td>\n",
       "      <td>{'epochs': 50, 'Info': {'feature_set_type': 'B...</td>\n",
       "      <td>{'features': ['temperature_lag1', 'temperature...</td>\n",
       "      <td>4.839433</td>\n",
       "    </tr>\n",
       "    <tr>\n",
       "      <th>7</th>\n",
       "      <td>1</td>\n",
       "      <td>2018-08-14 19:41:45.275297</td>\n",
       "      <td>DECISION TREE</td>\n",
       "      <td>New York</td>\n",
       "      <td>Basic</td>\n",
       "      <td>DESKTOP-KN40C32</td>\n",
       "      <td>{'max_depth': 8, 'Info': {'feature_set_type': ...</td>\n",
       "      <td>{'features': ['temperature_lag1', 'temperature...</td>\n",
       "      <td>5.799872</td>\n",
       "    </tr>\n",
       "    <tr>\n",
       "      <th>8</th>\n",
       "      <td>7</td>\n",
       "      <td>2018-08-14 19:43:04.972617</td>\n",
       "      <td>DECISION TREE</td>\n",
       "      <td>New York</td>\n",
       "      <td>Inc_Signals</td>\n",
       "      <td>DESKTOP-KN40C32</td>\n",
       "      <td>{'max_depth': 8, 'Info': {'feature_set_type': ...</td>\n",
       "      <td>{'features': ['temperature_lag1', 'temperature...</td>\n",
       "      <td>6.518000</td>\n",
       "    </tr>\n",
       "    <tr>\n",
       "      <th>9</th>\n",
       "      <td>13</td>\n",
       "      <td>2018-08-14 19:44:00.243495</td>\n",
       "      <td>DECISION TREE</td>\n",
       "      <td>New York</td>\n",
       "      <td>Enhanced_Signals</td>\n",
       "      <td>DESKTOP-KN40C32</td>\n",
       "      <td>{'max_depth': 8, 'Info': {'feature_set_type': ...</td>\n",
       "      <td>{'features': ['temperature_lag1', 'temperature...</td>\n",
       "      <td>6.767755</td>\n",
       "    </tr>\n",
       "  </tbody>\n",
       "</table>\n",
       "</div>"
      ],
      "text/plain": [
       "  RUN_ID                   DATETIME     MODEL_NAME      CITY  \\\n",
       "1     49 2018-08-14 20:38:45.591679            RNN  New York   \n",
       "2     25 2018-08-14 19:55:22.399240  RANDOM FOREST  New York   \n",
       "3     31 2018-08-14 19:56:16.424827  RANDOM FOREST  New York   \n",
       "4     19 2018-08-14 19:53:51.786200  RANDOM FOREST  New York   \n",
       "5     43 2018-08-14 20:35:48.643558            RNN  New York   \n",
       "6     37 2018-08-14 20:33:25.810145            RNN  New York   \n",
       "7      1 2018-08-14 19:41:45.275297  DECISION TREE  New York   \n",
       "8      7 2018-08-14 19:43:04.972617  DECISION TREE  New York   \n",
       "9     13 2018-08-14 19:44:00.243495  DECISION TREE  New York   \n",
       "\n",
       "       FEATURE_TYPE     HOST_MACHINE  \\\n",
       "1  Enhanced_Signals  DESKTOP-KN40C32   \n",
       "2       Inc_Signals  DESKTOP-KN40C32   \n",
       "3  Enhanced_Signals  DESKTOP-KN40C32   \n",
       "4             Basic  DESKTOP-KN40C32   \n",
       "5       Inc_Signals  DESKTOP-KN40C32   \n",
       "6             Basic  DESKTOP-KN40C32   \n",
       "7             Basic  DESKTOP-KN40C32   \n",
       "8       Inc_Signals  DESKTOP-KN40C32   \n",
       "9  Enhanced_Signals  DESKTOP-KN40C32   \n",
       "\n",
       "                                    MODEL_PARAMETERS  \\\n",
       "1  {'epochs': 50, 'Info': {'feature_set_type': 'E...   \n",
       "2  {'max_depth': 8, 'n_estimators': 50, 'Info': {...   \n",
       "3  {'max_depth': 8, 'n_estimators': 50, 'Info': {...   \n",
       "4  {'max_depth': 8, 'n_estimators': 50, 'Info': {...   \n",
       "5  {'epochs': 50, 'Info': {'feature_set_type': 'I...   \n",
       "6  {'epochs': 50, 'Info': {'feature_set_type': 'B...   \n",
       "7  {'max_depth': 8, 'Info': {'feature_set_type': ...   \n",
       "8  {'max_depth': 8, 'Info': {'feature_set_type': ...   \n",
       "9  {'max_depth': 8, 'Info': {'feature_set_type': ...   \n",
       "\n",
       "                                       MODEL_RESULTS  MEAN_SQUARED_ERROR  \n",
       "1  {'features': ['temperature_lag1', 'temperature...            4.095801  \n",
       "2  {'features': ['temperature_lag1', 'temperature...            4.216172  \n",
       "3  {'features': ['temperature_lag1', 'temperature...            4.216172  \n",
       "4  {'features': ['temperature_lag1', 'temperature...            4.369905  \n",
       "5  {'features': ['temperature_lag1', 'temperature...            4.700272  \n",
       "6  {'features': ['temperature_lag1', 'temperature...            4.839433  \n",
       "7  {'features': ['temperature_lag1', 'temperature...            5.799872  \n",
       "8  {'features': ['temperature_lag1', 'temperature...            6.518000  \n",
       "9  {'features': ['temperature_lag1', 'temperature...            6.767755  "
      ]
     },
     "execution_count": 7,
     "metadata": {},
     "output_type": "execute_result"
    }
   ],
   "source": [
    "city='New York'\n",
    "results_top_10 = get_results(city=city, top_hm_results=10)\n",
    "results_top_10"
   ]
  },
  {
   "cell_type": "markdown",
   "metadata": {},
   "source": [
    "RNN has done much better than Random forest so in this instance it is the winner, lets take a look at that chart."
   ]
  },
  {
   "cell_type": "code",
   "execution_count": 8,
   "metadata": {},
   "outputs": [
    {
     "data": {
      "text/markdown": [
       "### Experiment #49 - run by DESKTOP-KN40C32 on 2018-08-14 20:38:45.591679"
      ],
      "text/plain": [
       "<IPython.core.display.Markdown object>"
      ]
     },
     "metadata": {},
     "output_type": "display_data"
    },
    {
     "data": {
      "text/markdown": [
       "![](../experiment_results/RUN-49/Daily_predict.png)"
      ],
      "text/plain": [
       "<IPython.core.display.Markdown object>"
      ]
     },
     "metadata": {},
     "output_type": "display_data"
    }
   ],
   "source": [
    "display_results(results_top_10.head(1), chart_type='predict')"
   ]
  },
  {
   "cell_type": "markdown",
   "metadata": {},
   "source": [
    "We can see the forecast follows the trend and it does a good job following the peaks and troughs of the actual temperature patterns. \n",
    "\n",
    "Lets examine the top 10 features across the model runs for this location in a pivot table form."
   ]
  },
  {
   "cell_type": "code",
   "execution_count": 13,
   "metadata": {},
   "outputs": [
    {
     "data": {
      "text/html": [
       "<div>\n",
       "<style scoped>\n",
       "    .dataframe tbody tr th:only-of-type {\n",
       "        vertical-align: middle;\n",
       "    }\n",
       "\n",
       "    .dataframe tbody tr th {\n",
       "        vertical-align: top;\n",
       "    }\n",
       "\n",
       "    .dataframe thead tr th {\n",
       "        text-align: left;\n",
       "    }\n",
       "\n",
       "    .dataframe thead tr:last-of-type th {\n",
       "        text-align: right;\n",
       "    }\n",
       "</style>\n",
       "<table border=\"1\" class=\"dataframe\">\n",
       "  <thead>\n",
       "    <tr>\n",
       "      <th>MODEL_NAME</th>\n",
       "      <th colspan=\"3\" halign=\"left\">DECISION TREE</th>\n",
       "      <th colspan=\"3\" halign=\"left\">RANDOM FOREST</th>\n",
       "    </tr>\n",
       "    <tr>\n",
       "      <th>FEATURE_TYPE</th>\n",
       "      <th>Basic</th>\n",
       "      <th>Enhanced_Signals</th>\n",
       "      <th>Inc_Signals</th>\n",
       "      <th>Basic</th>\n",
       "      <th>Enhanced_Signals</th>\n",
       "      <th>Inc_Signals</th>\n",
       "    </tr>\n",
       "    <tr>\n",
       "      <th>FEATURE</th>\n",
       "      <th></th>\n",
       "      <th></th>\n",
       "      <th></th>\n",
       "      <th></th>\n",
       "      <th></th>\n",
       "      <th></th>\n",
       "    </tr>\n",
       "  </thead>\n",
       "  <tbody>\n",
       "    <tr>\n",
       "      <th>clean_ao_value</th>\n",
       "      <td>NaN</td>\n",
       "      <td>0.342321</td>\n",
       "      <td>0.405794</td>\n",
       "      <td>NaN</td>\n",
       "      <td>0.495784</td>\n",
       "      <td>0.495784</td>\n",
       "    </tr>\n",
       "    <tr>\n",
       "      <th>clean_nao_value</th>\n",
       "      <td>NaN</td>\n",
       "      <td>0.413380</td>\n",
       "      <td>0.409221</td>\n",
       "      <td>NaN</td>\n",
       "      <td>0.362524</td>\n",
       "      <td>0.362524</td>\n",
       "    </tr>\n",
       "    <tr>\n",
       "      <th>clean_nino12_value</th>\n",
       "      <td>NaN</td>\n",
       "      <td>0.004266</td>\n",
       "      <td>0.000000</td>\n",
       "      <td>NaN</td>\n",
       "      <td>NaN</td>\n",
       "      <td>NaN</td>\n",
       "    </tr>\n",
       "    <tr>\n",
       "      <th>clean_nino34_value</th>\n",
       "      <td>NaN</td>\n",
       "      <td>0.016905</td>\n",
       "      <td>0.004148</td>\n",
       "      <td>NaN</td>\n",
       "      <td>NaN</td>\n",
       "      <td>NaN</td>\n",
       "    </tr>\n",
       "    <tr>\n",
       "      <th>clean_nino3_value</th>\n",
       "      <td>NaN</td>\n",
       "      <td>0.066890</td>\n",
       "      <td>0.067450</td>\n",
       "      <td>NaN</td>\n",
       "      <td>NaN</td>\n",
       "      <td>NaN</td>\n",
       "    </tr>\n",
       "    <tr>\n",
       "      <th>clean_nino4_value</th>\n",
       "      <td>NaN</td>\n",
       "      <td>0.039745</td>\n",
       "      <td>0.062396</td>\n",
       "      <td>NaN</td>\n",
       "      <td>NaN</td>\n",
       "      <td>NaN</td>\n",
       "    </tr>\n",
       "    <tr>\n",
       "      <th>temperature_lag1</th>\n",
       "      <td>92.275579</td>\n",
       "      <td>92.092587</td>\n",
       "      <td>92.086427</td>\n",
       "      <td>76.219275</td>\n",
       "      <td>75.992544</td>\n",
       "      <td>75.992544</td>\n",
       "    </tr>\n",
       "    <tr>\n",
       "      <th>temperature_lag2</th>\n",
       "      <td>1.509527</td>\n",
       "      <td>1.452181</td>\n",
       "      <td>1.434437</td>\n",
       "      <td>1.444294</td>\n",
       "      <td>1.242860</td>\n",
       "      <td>1.242860</td>\n",
       "    </tr>\n",
       "    <tr>\n",
       "      <th>temperature_lag30</th>\n",
       "      <td>0.222598</td>\n",
       "      <td>0.209085</td>\n",
       "      <td>0.215933</td>\n",
       "      <td>0.418034</td>\n",
       "      <td>0.329091</td>\n",
       "      <td>0.329091</td>\n",
       "    </tr>\n",
       "    <tr>\n",
       "      <th>temperature_lag365</th>\n",
       "      <td>0.592770</td>\n",
       "      <td>0.433306</td>\n",
       "      <td>0.411147</td>\n",
       "      <td>0.840668</td>\n",
       "      <td>0.707942</td>\n",
       "      <td>0.707942</td>\n",
       "    </tr>\n",
       "    <tr>\n",
       "      <th>temperature_lag7</th>\n",
       "      <td>0.540986</td>\n",
       "      <td>0.326928</td>\n",
       "      <td>0.326868</td>\n",
       "      <td>0.634435</td>\n",
       "      <td>0.483584</td>\n",
       "      <td>0.483584</td>\n",
       "    </tr>\n",
       "    <tr>\n",
       "      <th>temperature_lag90</th>\n",
       "      <td>0.315943</td>\n",
       "      <td>0.247336</td>\n",
       "      <td>0.219708</td>\n",
       "      <td>0.507118</td>\n",
       "      <td>0.429263</td>\n",
       "      <td>0.429263</td>\n",
       "    </tr>\n",
       "    <tr>\n",
       "      <th>temperature_mavg180</th>\n",
       "      <td>0.252067</td>\n",
       "      <td>0.197706</td>\n",
       "      <td>0.240038</td>\n",
       "      <td>0.345253</td>\n",
       "      <td>NaN</td>\n",
       "      <td>NaN</td>\n",
       "    </tr>\n",
       "    <tr>\n",
       "      <th>temperature_mavg30</th>\n",
       "      <td>0.376335</td>\n",
       "      <td>0.234558</td>\n",
       "      <td>0.236628</td>\n",
       "      <td>0.385914</td>\n",
       "      <td>0.316122</td>\n",
       "      <td>0.316122</td>\n",
       "    </tr>\n",
       "    <tr>\n",
       "      <th>temperature_mavg60</th>\n",
       "      <td>0.179414</td>\n",
       "      <td>0.206461</td>\n",
       "      <td>0.135184</td>\n",
       "      <td>0.240559</td>\n",
       "      <td>NaN</td>\n",
       "      <td>NaN</td>\n",
       "    </tr>\n",
       "    <tr>\n",
       "      <th>temperature_mavg7</th>\n",
       "      <td>3.558182</td>\n",
       "      <td>3.466374</td>\n",
       "      <td>3.489681</td>\n",
       "      <td>18.744591</td>\n",
       "      <td>18.520411</td>\n",
       "      <td>18.520411</td>\n",
       "    </tr>\n",
       "    <tr>\n",
       "      <th>temperature_mavg90</th>\n",
       "      <td>0.176598</td>\n",
       "      <td>0.249971</td>\n",
       "      <td>0.254940</td>\n",
       "      <td>NaN</td>\n",
       "      <td>NaN</td>\n",
       "      <td>NaN</td>\n",
       "    </tr>\n",
       "  </tbody>\n",
       "</table>\n",
       "</div>"
      ],
      "text/plain": [
       "MODEL_NAME          DECISION TREE                              RANDOM FOREST  \\\n",
       "FEATURE_TYPE                Basic Enhanced_Signals Inc_Signals         Basic   \n",
       "FEATURE                                                                        \n",
       "clean_ao_value                NaN         0.342321    0.405794           NaN   \n",
       "clean_nao_value               NaN         0.413380    0.409221           NaN   \n",
       "clean_nino12_value            NaN         0.004266    0.000000           NaN   \n",
       "clean_nino34_value            NaN         0.016905    0.004148           NaN   \n",
       "clean_nino3_value             NaN         0.066890    0.067450           NaN   \n",
       "clean_nino4_value             NaN         0.039745    0.062396           NaN   \n",
       "temperature_lag1        92.275579        92.092587   92.086427     76.219275   \n",
       "temperature_lag2         1.509527         1.452181    1.434437      1.444294   \n",
       "temperature_lag30        0.222598         0.209085    0.215933      0.418034   \n",
       "temperature_lag365       0.592770         0.433306    0.411147      0.840668   \n",
       "temperature_lag7         0.540986         0.326928    0.326868      0.634435   \n",
       "temperature_lag90        0.315943         0.247336    0.219708      0.507118   \n",
       "temperature_mavg180      0.252067         0.197706    0.240038      0.345253   \n",
       "temperature_mavg30       0.376335         0.234558    0.236628      0.385914   \n",
       "temperature_mavg60       0.179414         0.206461    0.135184      0.240559   \n",
       "temperature_mavg7        3.558182         3.466374    3.489681     18.744591   \n",
       "temperature_mavg90       0.176598         0.249971    0.254940           NaN   \n",
       "\n",
       "MODEL_NAME                                        \n",
       "FEATURE_TYPE        Enhanced_Signals Inc_Signals  \n",
       "FEATURE                                           \n",
       "clean_ao_value              0.495784    0.495784  \n",
       "clean_nao_value             0.362524    0.362524  \n",
       "clean_nino12_value               NaN         NaN  \n",
       "clean_nino34_value               NaN         NaN  \n",
       "clean_nino3_value                NaN         NaN  \n",
       "clean_nino4_value                NaN         NaN  \n",
       "temperature_lag1           75.992544   75.992544  \n",
       "temperature_lag2            1.242860    1.242860  \n",
       "temperature_lag30           0.329091    0.329091  \n",
       "temperature_lag365          0.707942    0.707942  \n",
       "temperature_lag7            0.483584    0.483584  \n",
       "temperature_lag90           0.429263    0.429263  \n",
       "temperature_mavg180              NaN         NaN  \n",
       "temperature_mavg30          0.316122    0.316122  \n",
       "temperature_mavg60               NaN         NaN  \n",
       "temperature_mavg7          18.520411   18.520411  \n",
       "temperature_mavg90               NaN         NaN  "
      ]
     },
     "execution_count": 13,
     "metadata": {},
     "output_type": "execute_result"
    }
   ],
   "source": [
    "features_df = get_feature_importances(results_top_10)\n",
    "features_df.pivot_table(index=['FEATURE'], columns=['MODEL_NAME','FEATURE_TYPE'], values=\"IMPORTANCE\")"
   ]
  },
  {
   "cell_type": "markdown",
   "metadata": {},
   "source": [
    "Lets look a boxplot of this data to see how the distributions look across our experiments for this location."
   ]
  },
  {
   "cell_type": "code",
   "execution_count": 14,
   "metadata": {},
   "outputs": [
    {
     "data": {
      "application/vnd.plotly.v1+json": {
       "data": [
        {
         "name": "temperature_lag1",
         "type": "box",
         "uid": "7c485a4a-a053-11e8-9038-00215cc353c9",
         "y": [
          75.99254379811438,
          75.99254379811438,
          76.21927492169603,
          92.27557861790376,
          92.08642723939802,
          92.09258702609444
         ]
        },
        {
         "name": "temperature_mavg7",
         "type": "box",
         "uid": "7c485a4b-a053-11e8-a253-00215cc353c9",
         "y": [
          18.520410516822487,
          18.520410516822487,
          18.744590502972244,
          3.5581824122840287,
          3.489681430591665,
          3.466373773678811
         ]
        },
        {
         "name": "temperature_lag2",
         "type": "box",
         "uid": "7c485a4c-a053-11e8-8ce4-00215cc353c9",
         "y": [
          1.2428602738007393,
          1.2428602738007393,
          1.4442937816512045,
          1.5095271716054544,
          1.4344365170197901,
          1.4521814822492067
         ]
        },
        {
         "name": "temperature_lag365",
         "type": "box",
         "uid": "7c485a4d-a053-11e8-b8ba-00215cc353c9",
         "y": [
          0.7079416173188114,
          0.7079416173188114,
          0.8406677215365279,
          0.5927701528702228,
          0.4111466928414201,
          0.433305759595419
         ]
        },
        {
         "name": "clean_ao_value",
         "type": "box",
         "uid": "7c485a4e-a053-11e8-b2a7-00215cc353c9",
         "y": [
          0.4957835948714703,
          0.4957835948714703,
          0.40579423830919215,
          0.3423213035267675
         ]
        },
        {
         "name": "temperature_lag7",
         "type": "box",
         "uid": "7c485a4f-a053-11e8-8c11-00215cc353c9",
         "y": [
          0.4835838145866369,
          0.4835838145866369,
          0.6344350919187876,
          0.5409863828198889,
          0.3268677253732943,
          0.3269279097464323
         ]
        },
        {
         "name": "temperature_lag90",
         "type": "box",
         "uid": "7c485a50-a053-11e8-8797-00215cc353c9",
         "y": [
          0.4292630960877129,
          0.4292630960877129,
          0.5071176175729237,
          0.3159429138378333,
          0.2197080035491958,
          0.2473363711494017
         ]
        },
        {
         "name": "clean_nao_value",
         "type": "box",
         "uid": "7c485a51-a053-11e8-9ff4-00215cc353c9",
         "y": [
          0.36252352234105056,
          0.36252352234105056,
          0.4092206139445783,
          0.4133800539013046
         ]
        },
        {
         "name": "temperature_lag30",
         "type": "box",
         "uid": "7c485a52-a053-11e8-82b1-00215cc353c9",
         "y": [
          0.3290907402222059,
          0.3290907402222059,
          0.4180343483393272,
          0.22259843760609588,
          0.21593279195700535,
          0.20908457572525535
         ]
        },
        {
         "name": "temperature_mavg30",
         "type": "box",
         "uid": "7c485a53-a053-11e8-bd7e-00215cc353c9",
         "y": [
          0.31612192433521996,
          0.31612192433521996,
          0.38591371750306025,
          0.3763347815692637,
          0.23662787326196846,
          0.23455776759486324
         ]
        },
        {
         "name": "temperature_mavg180",
         "type": "box",
         "uid": "7c485a54-a053-11e8-9c1a-00215cc353c9",
         "y": [
          0.3452525412658484,
          0.2520665616242036,
          0.2400378989456764,
          0.19770623806737814
         ]
        },
        {
         "name": "temperature_mavg60",
         "type": "box",
         "uid": "7c485a55-a053-11e8-8d74-00215cc353c9",
         "y": [
          0.24055866672009005,
          0.1794143535987811,
          0.13518393654153885,
          0.20646116354197133
         ]
        },
        {
         "name": "temperature_mavg90",
         "type": "box",
         "uid": "7c485a56-a053-11e8-9b90-00215cc353c9",
         "y": [
          0.17659821428048025,
          0.25494030713644256,
          0.24997051241464324
         ]
        },
        {
         "name": "clean_nino3_value",
         "type": "box",
         "uid": "7c485a57-a053-11e8-a346-00215cc353c9",
         "y": [
          0.06745036314134017,
          0.06689022191494086
         ]
        },
        {
         "name": "clean_nino4_value",
         "type": "box",
         "uid": "7c485a58-a053-11e8-8981-00215cc353c9",
         "y": [
          0.062396493452294324,
          0.03974496672369323
         ]
        },
        {
         "name": "clean_nino34_value",
         "type": "box",
         "uid": "7c485a59-a053-11e8-89ca-00215cc353c9",
         "y": [
          0.004147874536585315,
          0.01690489639553075
         ]
        },
        {
         "name": "clean_nino12_value",
         "type": "box",
         "uid": "7c485a5a-a053-11e8-91fd-00215cc353c9",
         "y": [
          0,
          0.004265977679922563
         ]
        }
       ],
       "layout": {}
      },
      "text/html": [
       "<div id=\"23440f1b-2ef5-4fec-b9df-9786bd0fa796\" style=\"height: 525px; width: 100%;\" class=\"plotly-graph-div\"></div><script type=\"text/javascript\">require([\"plotly\"], function(Plotly) { window.PLOTLYENV=window.PLOTLYENV || {};window.PLOTLYENV.BASE_URL=\"https://plot.ly\";Plotly.newPlot(\"23440f1b-2ef5-4fec-b9df-9786bd0fa796\", [{\"name\": \"temperature_lag1\", \"y\": [75.99254379811438, 75.99254379811438, 76.21927492169603, 92.27557861790376, 92.08642723939802, 92.09258702609444], \"type\": \"box\", \"uid\": \"7c54b63a-a053-11e8-838f-00215cc353c9\"}, {\"name\": \"temperature_mavg7\", \"y\": [18.520410516822487, 18.520410516822487, 18.744590502972244, 3.5581824122840287, 3.489681430591665, 3.466373773678811], \"type\": \"box\", \"uid\": \"7c54b63b-a053-11e8-9550-00215cc353c9\"}, {\"name\": \"temperature_lag2\", \"y\": [1.2428602738007393, 1.2428602738007393, 1.4442937816512045, 1.5095271716054544, 1.4344365170197901, 1.4521814822492067], \"type\": \"box\", \"uid\": \"7c54b63c-a053-11e8-a8fb-00215cc353c9\"}, {\"name\": \"temperature_lag365\", \"y\": [0.7079416173188114, 0.7079416173188114, 0.8406677215365279, 0.5927701528702228, 0.4111466928414201, 0.433305759595419], \"type\": \"box\", \"uid\": \"7c54b63d-a053-11e8-b601-00215cc353c9\"}, {\"name\": \"clean_ao_value\", \"y\": [0.4957835948714703, 0.4957835948714703, 0.40579423830919215, 0.3423213035267675], \"type\": \"box\", \"uid\": \"7c54b63e-a053-11e8-b704-00215cc353c9\"}, {\"name\": \"temperature_lag7\", \"y\": [0.4835838145866369, 0.4835838145866369, 0.6344350919187876, 0.5409863828198889, 0.3268677253732943, 0.3269279097464323], \"type\": \"box\", \"uid\": \"7c54b63f-a053-11e8-b90f-00215cc353c9\"}, {\"name\": \"temperature_lag90\", \"y\": [0.4292630960877129, 0.4292630960877129, 0.5071176175729237, 0.3159429138378333, 0.2197080035491958, 0.2473363711494017], \"type\": \"box\", \"uid\": \"7c54b640-a053-11e8-8d61-00215cc353c9\"}, {\"name\": \"clean_nao_value\", \"y\": [0.36252352234105056, 0.36252352234105056, 0.4092206139445783, 0.4133800539013046], \"type\": \"box\", \"uid\": \"7c54b641-a053-11e8-94fc-00215cc353c9\"}, {\"name\": \"temperature_lag30\", \"y\": [0.3290907402222059, 0.3290907402222059, 0.4180343483393272, 0.22259843760609588, 0.21593279195700535, 0.20908457572525535], \"type\": \"box\", \"uid\": \"7c54b642-a053-11e8-aec6-00215cc353c9\"}, {\"name\": \"temperature_mavg30\", \"y\": [0.31612192433521996, 0.31612192433521996, 0.38591371750306025, 0.3763347815692637, 0.23662787326196846, 0.23455776759486324], \"type\": \"box\", \"uid\": \"7c54b643-a053-11e8-9f74-00215cc353c9\"}, {\"name\": \"temperature_mavg180\", \"y\": [0.3452525412658484, 0.2520665616242036, 0.2400378989456764, 0.19770623806737814], \"type\": \"box\", \"uid\": \"7c54b644-a053-11e8-9ca7-00215cc353c9\"}, {\"name\": \"temperature_mavg60\", \"y\": [0.24055866672009005, 0.1794143535987811, 0.13518393654153885, 0.20646116354197133], \"type\": \"box\", \"uid\": \"7c54b645-a053-11e8-afed-00215cc353c9\"}, {\"name\": \"temperature_mavg90\", \"y\": [0.17659821428048025, 0.25494030713644256, 0.24997051241464324], \"type\": \"box\", \"uid\": \"7c54dd2e-a053-11e8-9528-00215cc353c9\"}, {\"name\": \"clean_nino3_value\", \"y\": [0.06745036314134017, 0.06689022191494086], \"type\": \"box\", \"uid\": \"7c54dd2f-a053-11e8-baa8-00215cc353c9\"}, {\"name\": \"clean_nino4_value\", \"y\": [0.062396493452294324, 0.03974496672369323], \"type\": \"box\", \"uid\": \"7c54dd30-a053-11e8-af1a-00215cc353c9\"}, {\"name\": \"clean_nino34_value\", \"y\": [0.004147874536585315, 0.01690489639553075], \"type\": \"box\", \"uid\": \"7c54dd31-a053-11e8-9b33-00215cc353c9\"}, {\"name\": \"clean_nino12_value\", \"y\": [0.0, 0.004265977679922563], \"type\": \"box\", \"uid\": \"7c54dd32-a053-11e8-bc7e-00215cc353c9\"}], {}, {\"showLink\": true, \"linkText\": \"Export to plot.ly\"})});</script>"
      ],
      "text/vnd.plotly.v1+html": [
       "<div id=\"23440f1b-2ef5-4fec-b9df-9786bd0fa796\" style=\"height: 525px; width: 100%;\" class=\"plotly-graph-div\"></div><script type=\"text/javascript\">require([\"plotly\"], function(Plotly) { window.PLOTLYENV=window.PLOTLYENV || {};window.PLOTLYENV.BASE_URL=\"https://plot.ly\";Plotly.newPlot(\"23440f1b-2ef5-4fec-b9df-9786bd0fa796\", [{\"name\": \"temperature_lag1\", \"y\": [75.99254379811438, 75.99254379811438, 76.21927492169603, 92.27557861790376, 92.08642723939802, 92.09258702609444], \"type\": \"box\", \"uid\": \"7c54b63a-a053-11e8-838f-00215cc353c9\"}, {\"name\": \"temperature_mavg7\", \"y\": [18.520410516822487, 18.520410516822487, 18.744590502972244, 3.5581824122840287, 3.489681430591665, 3.466373773678811], \"type\": \"box\", \"uid\": \"7c54b63b-a053-11e8-9550-00215cc353c9\"}, {\"name\": \"temperature_lag2\", \"y\": [1.2428602738007393, 1.2428602738007393, 1.4442937816512045, 1.5095271716054544, 1.4344365170197901, 1.4521814822492067], \"type\": \"box\", \"uid\": \"7c54b63c-a053-11e8-a8fb-00215cc353c9\"}, {\"name\": \"temperature_lag365\", \"y\": [0.7079416173188114, 0.7079416173188114, 0.8406677215365279, 0.5927701528702228, 0.4111466928414201, 0.433305759595419], \"type\": \"box\", \"uid\": \"7c54b63d-a053-11e8-b601-00215cc353c9\"}, {\"name\": \"clean_ao_value\", \"y\": [0.4957835948714703, 0.4957835948714703, 0.40579423830919215, 0.3423213035267675], \"type\": \"box\", \"uid\": \"7c54b63e-a053-11e8-b704-00215cc353c9\"}, {\"name\": \"temperature_lag7\", \"y\": [0.4835838145866369, 0.4835838145866369, 0.6344350919187876, 0.5409863828198889, 0.3268677253732943, 0.3269279097464323], \"type\": \"box\", \"uid\": \"7c54b63f-a053-11e8-b90f-00215cc353c9\"}, {\"name\": \"temperature_lag90\", \"y\": [0.4292630960877129, 0.4292630960877129, 0.5071176175729237, 0.3159429138378333, 0.2197080035491958, 0.2473363711494017], \"type\": \"box\", \"uid\": \"7c54b640-a053-11e8-8d61-00215cc353c9\"}, {\"name\": \"clean_nao_value\", \"y\": [0.36252352234105056, 0.36252352234105056, 0.4092206139445783, 0.4133800539013046], \"type\": \"box\", \"uid\": \"7c54b641-a053-11e8-94fc-00215cc353c9\"}, {\"name\": \"temperature_lag30\", \"y\": [0.3290907402222059, 0.3290907402222059, 0.4180343483393272, 0.22259843760609588, 0.21593279195700535, 0.20908457572525535], \"type\": \"box\", \"uid\": \"7c54b642-a053-11e8-aec6-00215cc353c9\"}, {\"name\": \"temperature_mavg30\", \"y\": [0.31612192433521996, 0.31612192433521996, 0.38591371750306025, 0.3763347815692637, 0.23662787326196846, 0.23455776759486324], \"type\": \"box\", \"uid\": \"7c54b643-a053-11e8-9f74-00215cc353c9\"}, {\"name\": \"temperature_mavg180\", \"y\": [0.3452525412658484, 0.2520665616242036, 0.2400378989456764, 0.19770623806737814], \"type\": \"box\", \"uid\": \"7c54b644-a053-11e8-9ca7-00215cc353c9\"}, {\"name\": \"temperature_mavg60\", \"y\": [0.24055866672009005, 0.1794143535987811, 0.13518393654153885, 0.20646116354197133], \"type\": \"box\", \"uid\": \"7c54b645-a053-11e8-afed-00215cc353c9\"}, {\"name\": \"temperature_mavg90\", \"y\": [0.17659821428048025, 0.25494030713644256, 0.24997051241464324], \"type\": \"box\", \"uid\": \"7c54dd2e-a053-11e8-9528-00215cc353c9\"}, {\"name\": \"clean_nino3_value\", \"y\": [0.06745036314134017, 0.06689022191494086], \"type\": \"box\", \"uid\": \"7c54dd2f-a053-11e8-baa8-00215cc353c9\"}, {\"name\": \"clean_nino4_value\", \"y\": [0.062396493452294324, 0.03974496672369323], \"type\": \"box\", \"uid\": \"7c54dd30-a053-11e8-af1a-00215cc353c9\"}, {\"name\": \"clean_nino34_value\", \"y\": [0.004147874536585315, 0.01690489639553075], \"type\": \"box\", \"uid\": \"7c54dd31-a053-11e8-9b33-00215cc353c9\"}, {\"name\": \"clean_nino12_value\", \"y\": [0.0, 0.004265977679922563], \"type\": \"box\", \"uid\": \"7c54dd32-a053-11e8-bc7e-00215cc353c9\"}], {}, {\"showLink\": true, \"linkText\": \"Export to plot.ly\"})});</script>"
      ]
     },
     "metadata": {},
     "output_type": "display_data"
    }
   ],
   "source": [
    "traces = create_boxplot_traces_for_features(features_df)\n",
    "iplot(traces)"
   ]
  },
  {
   "cell_type": "markdown",
   "metadata": {},
   "source": [
    "Lets review the means for the features"
   ]
  },
  {
   "cell_type": "code",
   "execution_count": 15,
   "metadata": {},
   "outputs": [
    {
     "data": {
      "text/html": [
       "<div>\n",
       "<style scoped>\n",
       "    .dataframe tbody tr th:only-of-type {\n",
       "        vertical-align: middle;\n",
       "    }\n",
       "\n",
       "    .dataframe tbody tr th {\n",
       "        vertical-align: top;\n",
       "    }\n",
       "\n",
       "    .dataframe thead tr th {\n",
       "        text-align: left;\n",
       "    }\n",
       "\n",
       "    .dataframe thead tr:last-of-type th {\n",
       "        text-align: right;\n",
       "    }\n",
       "</style>\n",
       "<table border=\"1\" class=\"dataframe\">\n",
       "  <thead>\n",
       "    <tr>\n",
       "      <th></th>\n",
       "      <th>mean</th>\n",
       "    </tr>\n",
       "    <tr>\n",
       "      <th></th>\n",
       "      <th>IMPORTANCE</th>\n",
       "    </tr>\n",
       "    <tr>\n",
       "      <th>FEATURE</th>\n",
       "      <th></th>\n",
       "    </tr>\n",
       "  </thead>\n",
       "  <tbody>\n",
       "    <tr>\n",
       "      <th>clean_ao_value</th>\n",
       "      <td>0.434921</td>\n",
       "    </tr>\n",
       "    <tr>\n",
       "      <th>clean_nao_value</th>\n",
       "      <td>0.386912</td>\n",
       "    </tr>\n",
       "    <tr>\n",
       "      <th>clean_nino12_value</th>\n",
       "      <td>0.002133</td>\n",
       "    </tr>\n",
       "    <tr>\n",
       "      <th>clean_nino34_value</th>\n",
       "      <td>0.010526</td>\n",
       "    </tr>\n",
       "    <tr>\n",
       "      <th>clean_nino3_value</th>\n",
       "      <td>0.067170</td>\n",
       "    </tr>\n",
       "    <tr>\n",
       "      <th>clean_nino4_value</th>\n",
       "      <td>0.051071</td>\n",
       "    </tr>\n",
       "    <tr>\n",
       "      <th>temperature_lag1</th>\n",
       "      <td>84.109826</td>\n",
       "    </tr>\n",
       "    <tr>\n",
       "      <th>temperature_lag2</th>\n",
       "      <td>1.387693</td>\n",
       "    </tr>\n",
       "    <tr>\n",
       "      <th>temperature_lag30</th>\n",
       "      <td>0.287305</td>\n",
       "    </tr>\n",
       "    <tr>\n",
       "      <th>temperature_lag365</th>\n",
       "      <td>0.615629</td>\n",
       "    </tr>\n",
       "    <tr>\n",
       "      <th>temperature_lag7</th>\n",
       "      <td>0.466064</td>\n",
       "    </tr>\n",
       "    <tr>\n",
       "      <th>temperature_lag90</th>\n",
       "      <td>0.358105</td>\n",
       "    </tr>\n",
       "    <tr>\n",
       "      <th>temperature_mavg180</th>\n",
       "      <td>0.258766</td>\n",
       "    </tr>\n",
       "    <tr>\n",
       "      <th>temperature_mavg30</th>\n",
       "      <td>0.310946</td>\n",
       "    </tr>\n",
       "    <tr>\n",
       "      <th>temperature_mavg60</th>\n",
       "      <td>0.190405</td>\n",
       "    </tr>\n",
       "    <tr>\n",
       "      <th>temperature_mavg7</th>\n",
       "      <td>11.049942</td>\n",
       "    </tr>\n",
       "    <tr>\n",
       "      <th>temperature_mavg90</th>\n",
       "      <td>0.227170</td>\n",
       "    </tr>\n",
       "  </tbody>\n",
       "</table>\n",
       "</div>"
      ],
      "text/plain": [
       "                          mean\n",
       "                    IMPORTANCE\n",
       "FEATURE                       \n",
       "clean_ao_value        0.434921\n",
       "clean_nao_value       0.386912\n",
       "clean_nino12_value    0.002133\n",
       "clean_nino34_value    0.010526\n",
       "clean_nino3_value     0.067170\n",
       "clean_nino4_value     0.051071\n",
       "temperature_lag1     84.109826\n",
       "temperature_lag2      1.387693\n",
       "temperature_lag30     0.287305\n",
       "temperature_lag365    0.615629\n",
       "temperature_lag7      0.466064\n",
       "temperature_lag90     0.358105\n",
       "temperature_mavg180   0.258766\n",
       "temperature_mavg30    0.310946\n",
       "temperature_mavg60    0.190405\n",
       "temperature_mavg7    11.049942\n",
       "temperature_mavg90    0.227170"
      ]
     },
     "execution_count": 15,
     "metadata": {},
     "output_type": "execute_result"
    }
   ],
   "source": [
    "features_df = get_feature_importances(results_top_10)\n",
    "pivot_df = features_df.pivot_table(index=['FEATURE'], columns=[], values=\"IMPORTANCE\", aggfunc= [np.mean])\n",
    "pivot_df"
   ]
  },
  {
   "cell_type": "markdown",
   "metadata": {},
   "source": [
    "Now lets review the top 5 only"
   ]
  },
  {
   "cell_type": "code",
   "execution_count": 16,
   "metadata": {},
   "outputs": [
    {
     "data": {
      "text/html": [
       "<div>\n",
       "<style scoped>\n",
       "    .dataframe tbody tr th:only-of-type {\n",
       "        vertical-align: middle;\n",
       "    }\n",
       "\n",
       "    .dataframe tbody tr th {\n",
       "        vertical-align: top;\n",
       "    }\n",
       "\n",
       "    .dataframe thead th {\n",
       "        text-align: right;\n",
       "    }\n",
       "</style>\n",
       "<table border=\"1\" class=\"dataframe\">\n",
       "  <thead>\n",
       "    <tr style=\"text-align: right;\">\n",
       "      <th></th>\n",
       "      <th>mean</th>\n",
       "    </tr>\n",
       "    <tr>\n",
       "      <th>FEATURE</th>\n",
       "      <th></th>\n",
       "    </tr>\n",
       "  </thead>\n",
       "  <tbody>\n",
       "    <tr>\n",
       "      <th>temperature_lag1</th>\n",
       "      <td>84.109826</td>\n",
       "    </tr>\n",
       "    <tr>\n",
       "      <th>temperature_mavg7</th>\n",
       "      <td>11.049942</td>\n",
       "    </tr>\n",
       "    <tr>\n",
       "      <th>temperature_lag2</th>\n",
       "      <td>1.387693</td>\n",
       "    </tr>\n",
       "    <tr>\n",
       "      <th>temperature_lag365</th>\n",
       "      <td>0.615629</td>\n",
       "    </tr>\n",
       "    <tr>\n",
       "      <th>temperature_lag7</th>\n",
       "      <td>0.466064</td>\n",
       "    </tr>\n",
       "  </tbody>\n",
       "</table>\n",
       "</div>"
      ],
      "text/plain": [
       "                         mean\n",
       "FEATURE                      \n",
       "temperature_lag1    84.109826\n",
       "temperature_mavg7   11.049942\n",
       "temperature_lag2     1.387693\n",
       "temperature_lag365   0.615629\n",
       "temperature_lag7     0.466064"
      ]
     },
     "execution_count": 16,
     "metadata": {},
     "output_type": "execute_result"
    }
   ],
   "source": [
    "pivot_df.columns = pivot_df.columns.get_level_values(0)\n",
    "pivot_df.sort_values(['mean'], ascending=False).head(5)"
   ]
  },
  {
   "cell_type": "markdown",
   "metadata": {},
   "source": [
    "This is again totally different than all the prior cases as the prior day temperature is the significant factor in the prediction of the temperature."
   ]
  },
  {
   "cell_type": "code",
   "execution_count": null,
   "metadata": {},
   "outputs": [],
   "source": []
  }
 ],
 "metadata": {
  "kernelspec": {
   "display_name": "Python 3",
   "language": "python",
   "name": "python3"
  },
  "language_info": {
   "codemirror_mode": {
    "name": "ipython",
    "version": 3
   },
   "file_extension": ".py",
   "mimetype": "text/x-python",
   "name": "python",
   "nbconvert_exporter": "python",
   "pygments_lexer": "ipython3",
   "version": "3.6.4"
  }
 },
 "nbformat": 4,
 "nbformat_minor": 2
}
