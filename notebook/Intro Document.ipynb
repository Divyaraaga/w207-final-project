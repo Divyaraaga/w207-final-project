{
 "cells": [
  {
   "cell_type": "markdown",
   "metadata": {},
   "source": [
    "![](../Images/INTRO/Head.png)"
   ]
  },
  {
   "cell_type": "markdown",
   "metadata": {},
   "source": [
    "Github link : https://github.com/sstorey-nephila/w207_final_project/tree/master"
   ]
  },
  {
   "cell_type": "markdown",
   "metadata": {},
   "source": [
    "# Temperature Prediction Using Multivariate Time Series Analysis"
   ]
  },
  {
   "cell_type": "markdown",
   "metadata": {},
   "source": [
    "The objective of this paper is to explain our methodology used to predict the temperature for a range of locations along the coast of mainland USA by applying machine learning with time series analysis. We begin by explaining the different features used today to identify temporal trends and patterns based on data from the “National Oceanic and Atmospheric Administration” (NOAA). We then move on to  identify correlations across multiple time series that will be used to generate predicted values (weather forecast). We will explore the stack used to run our solution. Finally, we will implement a number of supervised methods and compare them to traditional techniques using “Autoregressive Integrated Moving Average Models” (ARIMA).\n"
   ]
  },
  {
   "cell_type": "markdown",
   "metadata": {},
   "source": [
    "### National Oceanic and Atmospheric Administration\n",
    "“NOAA's National Centers for Environmental Information (NCEI) is responsible for preserving, monitoring, assessing, and providing public access to the Nation's treasure of climate and historical weather data and information” across the United States. it “hosts and provides access to one of the most significant archives on earth, with comprehensive oceanic, atmospheric, and geophysical data. From the depths of the ocean to the surface of the sun and from million-year-old ice core records to near-real-time satellite images, NCEI is the Nation’s leading authority for environmental information.”"
   ]
  },
  {
   "cell_type": "markdown",
   "metadata": {},
   "source": [
    "### Goals of this project\n",
    "We will be attempting to \n",
    "* Use teleconnections to help improve our temperature predictions across various locations in the USA \n",
    "* Use feature engineering to extract key signals for our predictions\n",
    "* Use a variety of machine learning techniques\n",
    "* Automatically capture and log data about our experiments to aid repeatibility\n",
    "\n",
    "### Background\n",
    "\n",
    "Teleconnections in atmospheric science refer to climate anomalies that are related to each other at large distances (typically thousands of kilometers).\n",
    "\n",
    "A prominent aspect of our weather and climate is its variability. This variability ranges over many time and space scales such as localized thunderstorms and tornadoes, to larger-scale storms, to droughts, to multi-year, multi-decade and even multi-century time scales.\n",
    "\n",
    "![](../Images/INTRO/El_Nino.png)\n",
    "\n",
    "This diagram shows the 4 key zones associated with the determination of if we are in an El Niño or La Nina phase \n",
    "\n",
    "Some examples of this longer time-scale variability might include a series of abnormally mild or exceptionally severe winters, and even a mild winter followed by a severe winter. Such year-to-year variations in the weather patterns are often associated with changes in the wind, air pressure, storm tracks, and jet streams that encompass areas far larger than that of your particular region. At times, the year-to-year changes in weather patterns are linked to specific weather, temperature and rainfall patterns occurring throughout the world due to the naturally occurring phenomena known as El Niño."
   ]
  },
  {
   "cell_type": "markdown",
   "metadata": {},
   "source": [
    "### Teleconnections & Weather Prediction\n",
    "Teleconnection patterns are large-scale changes due to atmospheric waves that influence weather and temperatures as explained in the section above.\n",
    "In our project, we will be using sea surface temperature and 4 main teleconnection patterns from ENSO; AO (Arctic Oscillation), NAO (North Atlantic Oscillation), PNA (Pacific-North American Pattern), AAO (Antarctic Oscillation).\n"
   ]
  },
  {
   "cell_type": "markdown",
   "metadata": {},
   "source": [
    "### Data Sources \n",
    "\n",
    "NOAA download tool\n",
    "https://www.ncdc.noaa.gov/cdo-web/datatools\n",
    "https://www.ncdc.noaa.gov/cdo-web/datasets\n",
    "\n",
    "Data from 2000(by hour)\n",
    "https://www.ncdc.noaa.gov/crn/qcdatasets.html\n",
    "ftp://ftp.ncdc.noaa.gov/pub/data/uscrn/products/hourly02\n",
    "\n",
    "Daily from 1750(by day)\n",
    "ftp://ftp.ncdc.noaa.gov/pub/data/ghcn/daily/readme.txt\n",
    "ftp://ftp.ncdc.noaa.gov/pub/data/ghcn/daily/by_year/\n",
    "ftp://ftp.cpc.ncep.noaa.gov/cwlinks/\n",
    "ftp://ftp.ncdc.noaa.gov/pub/data/normals/1981-2010/source-datasets/\n",
    "\n",
    "Weather station index\n",
    "ftp://ftp.ncdc.noaa.gov/pub/data/noaa/isd-inventory.txt\n",
    "https://www1.ncdc.noaa.gov/pub/data/ish/country-list.txt\n",
    "\n",
    "Google BigQuery\n",
    "https://cloud.google.com/bigquery/public-data/noaa-ghcn\n",
    "\n",
    "Hourly data \n",
    "ftp://ftp.ncdc.noaa.gov/pub/data/noaa/isd-lite\n",
    "\n",
    "Monthly sst for el nino\n",
    "https://www.esrl.noaa.gov/psd/gcos_wgsp/Timeseries/Nino12/\n",
    "\n",
    "AMO\n",
    "https://www.esrl.noaa.gov/psd/data/timeseries/AMO/\n",
    "\n",
    "NINA34 - Anomaly from 1981-2010\n",
    "https://www.esrl.noaa.gov/psd/gcos_wgsp/Timeseries/Nino34/\n",
    "\n",
    "\n",
    "### References used\n",
    "\n",
    "Information on teleconnections\n",
    "http://www.cpc.ncep.noaa.gov/products/precip/CWlink/daily_ao_index/teleconnections.shtml\n",
    "\n",
    "Trick to use cosine/sine to encode seasonal components\n",
    "https://www.kaggle.com/avanwyk/encoding-cyclical-features-for-deep-learning\n",
    "\n",
    "Example using gated neural net\n",
    "https://github.com/Hvass-Labs/TensorFlow-Tutorials/blob/master/23_Time-Series-Prediction.ipynb\n",
    "\n",
    "Feature engineering for time series\n",
    "https://machinelearningmastery.com/basic-feature-engineering-time-series-data-python/\n",
    "\n"
   ]
  },
  {
   "cell_type": "code",
   "execution_count": 2,
   "metadata": {},
   "outputs": [],
   "source": [
    "import nbconvert"
   ]
  }
 ],
 "metadata": {
  "kernelspec": {
   "display_name": "Python 3",
   "language": "python",
   "name": "python3"
  },
  "language_info": {
   "codemirror_mode": {
    "name": "ipython",
    "version": 3
   },
   "file_extension": ".py",
   "mimetype": "text/x-python",
   "name": "python",
   "nbconvert_exporter": "python",
   "pygments_lexer": "ipython3",
   "version": "3.6.4"
  }
 },
 "nbformat": 4,
 "nbformat_minor": 2
}
