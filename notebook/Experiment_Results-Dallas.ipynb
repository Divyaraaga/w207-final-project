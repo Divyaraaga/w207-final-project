{
 "cells": [
  {
   "cell_type": "markdown",
   "metadata": {},
   "source": [
    "# Experiment Results"
   ]
  },
  {
   "cell_type": "markdown",
   "metadata": {},
   "source": [
    "## Results for Dallas"
   ]
  },
  {
   "cell_type": "code",
   "execution_count": 8,
   "metadata": {},
   "outputs": [
    {
     "data": {
      "text/html": [
       "<script>requirejs.config({paths: { 'plotly': ['https://cdn.plot.ly/plotly-latest.min']},});if(!window.Plotly) {{require(['plotly'],function(plotly) {window.Plotly=plotly;});}}</script>"
      ],
      "text/vnd.plotly.v1+html": [
       "<script>requirejs.config({paths: { 'plotly': ['https://cdn.plot.ly/plotly-latest.min']},});if(!window.Plotly) {{require(['plotly'],function(plotly) {window.Plotly=plotly;});}}</script>"
      ]
     },
     "metadata": {},
     "output_type": "display_data"
    }
   ],
   "source": [
    "import warnings\n",
    "warnings.filterwarnings('ignore')\n",
    "\n",
    "%run helper_functions.py\n",
    "%matplotlib inline"
   ]
  },
  {
   "cell_type": "markdown",
   "metadata": {},
   "source": [
    "Lets review the top 10 results, ordered by Mean Square Error (ascending)"
   ]
  },
  {
   "cell_type": "code",
   "execution_count": 2,
   "metadata": {},
   "outputs": [
    {
     "data": {
      "text/html": [
       "<div>\n",
       "<style scoped>\n",
       "    .dataframe tbody tr th:only-of-type {\n",
       "        vertical-align: middle;\n",
       "    }\n",
       "\n",
       "    .dataframe tbody tr th {\n",
       "        vertical-align: top;\n",
       "    }\n",
       "\n",
       "    .dataframe thead th {\n",
       "        text-align: right;\n",
       "    }\n",
       "</style>\n",
       "<table border=\"1\" class=\"dataframe\">\n",
       "  <thead>\n",
       "    <tr style=\"text-align: right;\">\n",
       "      <th></th>\n",
       "      <th>RUN_ID</th>\n",
       "      <th>DATETIME</th>\n",
       "      <th>MODEL_NAME</th>\n",
       "      <th>CITY</th>\n",
       "      <th>FEATURE_TYPE</th>\n",
       "      <th>HOST_MACHINE</th>\n",
       "      <th>MODEL_PARAMETERS</th>\n",
       "      <th>MODEL_RESULTS</th>\n",
       "      <th>MEAN_SQUARED_ERROR</th>\n",
       "    </tr>\n",
       "  </thead>\n",
       "  <tbody>\n",
       "    <tr>\n",
       "      <th>1</th>\n",
       "      <td>46</td>\n",
       "      <td>2018-08-14 20:37:30.002193</td>\n",
       "      <td>RNN</td>\n",
       "      <td>Dallas</td>\n",
       "      <td>Inc_Signals</td>\n",
       "      <td>DESKTOP-KN40C32</td>\n",
       "      <td>{'epochs': 50, 'Info': {'feature_set_type': 'I...</td>\n",
       "      <td>{'features': ['temperature_lag1', 'temperature...</td>\n",
       "      <td>8.336575</td>\n",
       "    </tr>\n",
       "    <tr>\n",
       "      <th>2</th>\n",
       "      <td>40</td>\n",
       "      <td>2018-08-14 20:34:55.307517</td>\n",
       "      <td>RNN</td>\n",
       "      <td>Dallas</td>\n",
       "      <td>Basic</td>\n",
       "      <td>DESKTOP-KN40C32</td>\n",
       "      <td>{'epochs': 50, 'Info': {'feature_set_type': 'B...</td>\n",
       "      <td>{'features': ['temperature_lag1', 'temperature...</td>\n",
       "      <td>8.563057</td>\n",
       "    </tr>\n",
       "    <tr>\n",
       "      <th>3</th>\n",
       "      <td>52</td>\n",
       "      <td>2018-08-14 20:40:06.720627</td>\n",
       "      <td>RNN</td>\n",
       "      <td>Dallas</td>\n",
       "      <td>Enhanced_Signals</td>\n",
       "      <td>DESKTOP-KN40C32</td>\n",
       "      <td>{'epochs': 50, 'Info': {'feature_set_type': 'E...</td>\n",
       "      <td>{'features': ['temperature_lag1', 'temperature...</td>\n",
       "      <td>8.632428</td>\n",
       "    </tr>\n",
       "    <tr>\n",
       "      <th>4</th>\n",
       "      <td>22</td>\n",
       "      <td>2018-08-14 19:54:57.660172</td>\n",
       "      <td>RANDOM FOREST</td>\n",
       "      <td>Dallas</td>\n",
       "      <td>Basic</td>\n",
       "      <td>DESKTOP-KN40C32</td>\n",
       "      <td>{'max_depth': 8, 'n_estimators': 50, 'Info': {...</td>\n",
       "      <td>{'features': ['temperature_lag1', 'temperature...</td>\n",
       "      <td>8.983822</td>\n",
       "    </tr>\n",
       "    <tr>\n",
       "      <th>5</th>\n",
       "      <td>28</td>\n",
       "      <td>2018-08-14 19:55:47.002009</td>\n",
       "      <td>RANDOM FOREST</td>\n",
       "      <td>Dallas</td>\n",
       "      <td>Inc_Signals</td>\n",
       "      <td>DESKTOP-KN40C32</td>\n",
       "      <td>{'max_depth': 8, 'n_estimators': 50, 'Info': {...</td>\n",
       "      <td>{'features': ['temperature_lag1', 'temperature...</td>\n",
       "      <td>9.260334</td>\n",
       "    </tr>\n",
       "    <tr>\n",
       "      <th>6</th>\n",
       "      <td>34</td>\n",
       "      <td>2018-08-14 19:56:37.269205</td>\n",
       "      <td>RANDOM FOREST</td>\n",
       "      <td>Dallas</td>\n",
       "      <td>Enhanced_Signals</td>\n",
       "      <td>DESKTOP-KN40C32</td>\n",
       "      <td>{'max_depth': 8, 'n_estimators': 50, 'Info': {...</td>\n",
       "      <td>{'features': ['temperature_lag1', 'temperature...</td>\n",
       "      <td>9.260334</td>\n",
       "    </tr>\n",
       "    <tr>\n",
       "      <th>7</th>\n",
       "      <td>4</td>\n",
       "      <td>2018-08-14 19:42:30.715058</td>\n",
       "      <td>DECISION TREE</td>\n",
       "      <td>Dallas</td>\n",
       "      <td>Basic</td>\n",
       "      <td>DESKTOP-KN40C32</td>\n",
       "      <td>{'max_depth': 8, 'Info': {'feature_set_type': ...</td>\n",
       "      <td>{'features': ['temperature_lag1', 'temperature...</td>\n",
       "      <td>12.523335</td>\n",
       "    </tr>\n",
       "    <tr>\n",
       "      <th>8</th>\n",
       "      <td>10</td>\n",
       "      <td>2018-08-14 19:43:32.825549</td>\n",
       "      <td>DECISION TREE</td>\n",
       "      <td>Dallas</td>\n",
       "      <td>Inc_Signals</td>\n",
       "      <td>DESKTOP-KN40C32</td>\n",
       "      <td>{'max_depth': 8, 'Info': {'feature_set_type': ...</td>\n",
       "      <td>{'features': ['temperature_lag1', 'temperature...</td>\n",
       "      <td>14.223161</td>\n",
       "    </tr>\n",
       "    <tr>\n",
       "      <th>9</th>\n",
       "      <td>16</td>\n",
       "      <td>2018-08-14 19:44:20.754761</td>\n",
       "      <td>DECISION TREE</td>\n",
       "      <td>Dallas</td>\n",
       "      <td>Enhanced_Signals</td>\n",
       "      <td>DESKTOP-KN40C32</td>\n",
       "      <td>{'max_depth': 8, 'Info': {'feature_set_type': ...</td>\n",
       "      <td>{'features': ['temperature_lag1', 'temperature...</td>\n",
       "      <td>15.432839</td>\n",
       "    </tr>\n",
       "  </tbody>\n",
       "</table>\n",
       "</div>"
      ],
      "text/plain": [
       "  RUN_ID                   DATETIME     MODEL_NAME    CITY      FEATURE_TYPE  \\\n",
       "1     46 2018-08-14 20:37:30.002193            RNN  Dallas       Inc_Signals   \n",
       "2     40 2018-08-14 20:34:55.307517            RNN  Dallas             Basic   \n",
       "3     52 2018-08-14 20:40:06.720627            RNN  Dallas  Enhanced_Signals   \n",
       "4     22 2018-08-14 19:54:57.660172  RANDOM FOREST  Dallas             Basic   \n",
       "5     28 2018-08-14 19:55:47.002009  RANDOM FOREST  Dallas       Inc_Signals   \n",
       "6     34 2018-08-14 19:56:37.269205  RANDOM FOREST  Dallas  Enhanced_Signals   \n",
       "7      4 2018-08-14 19:42:30.715058  DECISION TREE  Dallas             Basic   \n",
       "8     10 2018-08-14 19:43:32.825549  DECISION TREE  Dallas       Inc_Signals   \n",
       "9     16 2018-08-14 19:44:20.754761  DECISION TREE  Dallas  Enhanced_Signals   \n",
       "\n",
       "      HOST_MACHINE                                   MODEL_PARAMETERS  \\\n",
       "1  DESKTOP-KN40C32  {'epochs': 50, 'Info': {'feature_set_type': 'I...   \n",
       "2  DESKTOP-KN40C32  {'epochs': 50, 'Info': {'feature_set_type': 'B...   \n",
       "3  DESKTOP-KN40C32  {'epochs': 50, 'Info': {'feature_set_type': 'E...   \n",
       "4  DESKTOP-KN40C32  {'max_depth': 8, 'n_estimators': 50, 'Info': {...   \n",
       "5  DESKTOP-KN40C32  {'max_depth': 8, 'n_estimators': 50, 'Info': {...   \n",
       "6  DESKTOP-KN40C32  {'max_depth': 8, 'n_estimators': 50, 'Info': {...   \n",
       "7  DESKTOP-KN40C32  {'max_depth': 8, 'Info': {'feature_set_type': ...   \n",
       "8  DESKTOP-KN40C32  {'max_depth': 8, 'Info': {'feature_set_type': ...   \n",
       "9  DESKTOP-KN40C32  {'max_depth': 8, 'Info': {'feature_set_type': ...   \n",
       "\n",
       "                                       MODEL_RESULTS  MEAN_SQUARED_ERROR  \n",
       "1  {'features': ['temperature_lag1', 'temperature...            8.336575  \n",
       "2  {'features': ['temperature_lag1', 'temperature...            8.563057  \n",
       "3  {'features': ['temperature_lag1', 'temperature...            8.632428  \n",
       "4  {'features': ['temperature_lag1', 'temperature...            8.983822  \n",
       "5  {'features': ['temperature_lag1', 'temperature...            9.260334  \n",
       "6  {'features': ['temperature_lag1', 'temperature...            9.260334  \n",
       "7  {'features': ['temperature_lag1', 'temperature...           12.523335  \n",
       "8  {'features': ['temperature_lag1', 'temperature...           14.223161  \n",
       "9  {'features': ['temperature_lag1', 'temperature...           15.432839  "
      ]
     },
     "execution_count": 2,
     "metadata": {},
     "output_type": "execute_result"
    }
   ],
   "source": [
    "city='Dallas'\n",
    "results_top_10 = get_results(city=city, top_hm_results=10)\n",
    "results_top_10"
   ]
  },
  {
   "cell_type": "markdown",
   "metadata": {},
   "source": [
    "RNN has done better than Random forest but the results are close so there is no clear winner, lets take a look at that chart."
   ]
  },
  {
   "cell_type": "code",
   "execution_count": 3,
   "metadata": {},
   "outputs": [
    {
     "data": {
      "text/markdown": [
       "### Experiment #46 - run by DESKTOP-KN40C32 on 2018-08-14 20:37:30.002193"
      ],
      "text/plain": [
       "<IPython.core.display.Markdown object>"
      ]
     },
     "metadata": {},
     "output_type": "display_data"
    },
    {
     "data": {
      "text/markdown": [
       "![](../experiment_results/RUN-46/Daily_predict.png)"
      ],
      "text/plain": [
       "<IPython.core.display.Markdown object>"
      ]
     },
     "metadata": {},
     "output_type": "display_data"
    }
   ],
   "source": [
    "display_results(results_top_10.head(1), chart_type='predict')"
   ]
  },
  {
   "cell_type": "markdown",
   "metadata": {},
   "source": [
    "We can see the forecast follows the trend and it does a better job but like the prior example of Miami it has some difficulty following the peaks and troughs of the actual temperature pattern experiences. \n",
    "\n",
    "Lets examine the top 10 features across the model runs for this location in a pivot table form."
   ]
  },
  {
   "cell_type": "code",
   "execution_count": 4,
   "metadata": {},
   "outputs": [
    {
     "data": {
      "text/html": [
       "<div>\n",
       "<style scoped>\n",
       "    .dataframe tbody tr th:only-of-type {\n",
       "        vertical-align: middle;\n",
       "    }\n",
       "\n",
       "    .dataframe tbody tr th {\n",
       "        vertical-align: top;\n",
       "    }\n",
       "\n",
       "    .dataframe thead tr th {\n",
       "        text-align: left;\n",
       "    }\n",
       "\n",
       "    .dataframe thead tr:last-of-type th {\n",
       "        text-align: right;\n",
       "    }\n",
       "</style>\n",
       "<table border=\"1\" class=\"dataframe\">\n",
       "  <thead>\n",
       "    <tr>\n",
       "      <th>MODEL_NAME</th>\n",
       "      <th colspan=\"3\" halign=\"left\">DECISION TREE</th>\n",
       "      <th colspan=\"3\" halign=\"left\">RANDOM FOREST</th>\n",
       "    </tr>\n",
       "    <tr>\n",
       "      <th>FEATURE_TYPE</th>\n",
       "      <th>Basic</th>\n",
       "      <th>Enhanced_Signals</th>\n",
       "      <th>Inc_Signals</th>\n",
       "      <th>Basic</th>\n",
       "      <th>Enhanced_Signals</th>\n",
       "      <th>Inc_Signals</th>\n",
       "    </tr>\n",
       "    <tr>\n",
       "      <th>FEATURE</th>\n",
       "      <th></th>\n",
       "      <th></th>\n",
       "      <th></th>\n",
       "      <th></th>\n",
       "      <th></th>\n",
       "      <th></th>\n",
       "    </tr>\n",
       "  </thead>\n",
       "  <tbody>\n",
       "    <tr>\n",
       "      <th>clean_ao_value</th>\n",
       "      <td>NaN</td>\n",
       "      <td>0.651503</td>\n",
       "      <td>0.656238</td>\n",
       "      <td>NaN</td>\n",
       "      <td>0.658562</td>\n",
       "      <td>0.658562</td>\n",
       "    </tr>\n",
       "    <tr>\n",
       "      <th>clean_nao_value</th>\n",
       "      <td>NaN</td>\n",
       "      <td>0.226906</td>\n",
       "      <td>0.249332</td>\n",
       "      <td>NaN</td>\n",
       "      <td>0.499492</td>\n",
       "      <td>0.499492</td>\n",
       "    </tr>\n",
       "    <tr>\n",
       "      <th>clean_nino12_value</th>\n",
       "      <td>NaN</td>\n",
       "      <td>0.215984</td>\n",
       "      <td>0.212701</td>\n",
       "      <td>NaN</td>\n",
       "      <td>NaN</td>\n",
       "      <td>NaN</td>\n",
       "    </tr>\n",
       "    <tr>\n",
       "      <th>clean_nino34_value</th>\n",
       "      <td>NaN</td>\n",
       "      <td>0.006323</td>\n",
       "      <td>0.095549</td>\n",
       "      <td>NaN</td>\n",
       "      <td>NaN</td>\n",
       "      <td>NaN</td>\n",
       "    </tr>\n",
       "    <tr>\n",
       "      <th>clean_nino3_value</th>\n",
       "      <td>NaN</td>\n",
       "      <td>0.257658</td>\n",
       "      <td>0.133802</td>\n",
       "      <td>NaN</td>\n",
       "      <td>NaN</td>\n",
       "      <td>NaN</td>\n",
       "    </tr>\n",
       "    <tr>\n",
       "      <th>clean_nino4_value</th>\n",
       "      <td>NaN</td>\n",
       "      <td>0.125707</td>\n",
       "      <td>0.157822</td>\n",
       "      <td>NaN</td>\n",
       "      <td>NaN</td>\n",
       "      <td>NaN</td>\n",
       "    </tr>\n",
       "    <tr>\n",
       "      <th>temperature_lag1</th>\n",
       "      <td>27.909283</td>\n",
       "      <td>27.582810</td>\n",
       "      <td>27.584224</td>\n",
       "      <td>55.826530</td>\n",
       "      <td>55.508373</td>\n",
       "      <td>55.508373</td>\n",
       "    </tr>\n",
       "    <tr>\n",
       "      <th>temperature_lag2</th>\n",
       "      <td>1.816951</td>\n",
       "      <td>1.397116</td>\n",
       "      <td>1.382537</td>\n",
       "      <td>1.875478</td>\n",
       "      <td>1.629844</td>\n",
       "      <td>1.629844</td>\n",
       "    </tr>\n",
       "    <tr>\n",
       "      <th>temperature_lag30</th>\n",
       "      <td>0.497862</td>\n",
       "      <td>0.437565</td>\n",
       "      <td>0.403289</td>\n",
       "      <td>0.583795</td>\n",
       "      <td>0.477568</td>\n",
       "      <td>0.477568</td>\n",
       "    </tr>\n",
       "    <tr>\n",
       "      <th>temperature_lag365</th>\n",
       "      <td>0.516834</td>\n",
       "      <td>0.400962</td>\n",
       "      <td>0.375246</td>\n",
       "      <td>0.728918</td>\n",
       "      <td>0.538135</td>\n",
       "      <td>0.538135</td>\n",
       "    </tr>\n",
       "    <tr>\n",
       "      <th>temperature_lag7</th>\n",
       "      <td>0.503527</td>\n",
       "      <td>0.638941</td>\n",
       "      <td>0.711708</td>\n",
       "      <td>0.814543</td>\n",
       "      <td>0.634003</td>\n",
       "      <td>0.634003</td>\n",
       "    </tr>\n",
       "    <tr>\n",
       "      <th>temperature_lag90</th>\n",
       "      <td>0.530253</td>\n",
       "      <td>0.401933</td>\n",
       "      <td>0.383665</td>\n",
       "      <td>0.635825</td>\n",
       "      <td>0.522790</td>\n",
       "      <td>0.522790</td>\n",
       "    </tr>\n",
       "    <tr>\n",
       "      <th>temperature_mavg180</th>\n",
       "      <td>0.453587</td>\n",
       "      <td>0.378973</td>\n",
       "      <td>0.344204</td>\n",
       "      <td>0.405867</td>\n",
       "      <td>NaN</td>\n",
       "      <td>NaN</td>\n",
       "    </tr>\n",
       "    <tr>\n",
       "      <th>temperature_mavg30</th>\n",
       "      <td>0.486033</td>\n",
       "      <td>0.516936</td>\n",
       "      <td>0.514952</td>\n",
       "      <td>0.526882</td>\n",
       "      <td>0.447634</td>\n",
       "      <td>0.447634</td>\n",
       "    </tr>\n",
       "    <tr>\n",
       "      <th>temperature_mavg60</th>\n",
       "      <td>0.181417</td>\n",
       "      <td>0.044381</td>\n",
       "      <td>0.043627</td>\n",
       "      <td>0.373975</td>\n",
       "      <td>NaN</td>\n",
       "      <td>NaN</td>\n",
       "    </tr>\n",
       "    <tr>\n",
       "      <th>temperature_mavg7</th>\n",
       "      <td>67.048224</td>\n",
       "      <td>66.559364</td>\n",
       "      <td>66.600341</td>\n",
       "      <td>38.009765</td>\n",
       "      <td>37.689387</td>\n",
       "      <td>37.689387</td>\n",
       "    </tr>\n",
       "    <tr>\n",
       "      <th>temperature_mavg90</th>\n",
       "      <td>0.056029</td>\n",
       "      <td>0.156939</td>\n",
       "      <td>0.150763</td>\n",
       "      <td>NaN</td>\n",
       "      <td>NaN</td>\n",
       "      <td>NaN</td>\n",
       "    </tr>\n",
       "  </tbody>\n",
       "</table>\n",
       "</div>"
      ],
      "text/plain": [
       "MODEL_NAME          DECISION TREE                              RANDOM FOREST  \\\n",
       "FEATURE_TYPE                Basic Enhanced_Signals Inc_Signals         Basic   \n",
       "FEATURE                                                                        \n",
       "clean_ao_value                NaN         0.651503    0.656238           NaN   \n",
       "clean_nao_value               NaN         0.226906    0.249332           NaN   \n",
       "clean_nino12_value            NaN         0.215984    0.212701           NaN   \n",
       "clean_nino34_value            NaN         0.006323    0.095549           NaN   \n",
       "clean_nino3_value             NaN         0.257658    0.133802           NaN   \n",
       "clean_nino4_value             NaN         0.125707    0.157822           NaN   \n",
       "temperature_lag1        27.909283        27.582810   27.584224     55.826530   \n",
       "temperature_lag2         1.816951         1.397116    1.382537      1.875478   \n",
       "temperature_lag30        0.497862         0.437565    0.403289      0.583795   \n",
       "temperature_lag365       0.516834         0.400962    0.375246      0.728918   \n",
       "temperature_lag7         0.503527         0.638941    0.711708      0.814543   \n",
       "temperature_lag90        0.530253         0.401933    0.383665      0.635825   \n",
       "temperature_mavg180      0.453587         0.378973    0.344204      0.405867   \n",
       "temperature_mavg30       0.486033         0.516936    0.514952      0.526882   \n",
       "temperature_mavg60       0.181417         0.044381    0.043627      0.373975   \n",
       "temperature_mavg7       67.048224        66.559364   66.600341     38.009765   \n",
       "temperature_mavg90       0.056029         0.156939    0.150763           NaN   \n",
       "\n",
       "MODEL_NAME                                        \n",
       "FEATURE_TYPE        Enhanced_Signals Inc_Signals  \n",
       "FEATURE                                           \n",
       "clean_ao_value              0.658562    0.658562  \n",
       "clean_nao_value             0.499492    0.499492  \n",
       "clean_nino12_value               NaN         NaN  \n",
       "clean_nino34_value               NaN         NaN  \n",
       "clean_nino3_value                NaN         NaN  \n",
       "clean_nino4_value                NaN         NaN  \n",
       "temperature_lag1           55.508373   55.508373  \n",
       "temperature_lag2            1.629844    1.629844  \n",
       "temperature_lag30           0.477568    0.477568  \n",
       "temperature_lag365          0.538135    0.538135  \n",
       "temperature_lag7            0.634003    0.634003  \n",
       "temperature_lag90           0.522790    0.522790  \n",
       "temperature_mavg180              NaN         NaN  \n",
       "temperature_mavg30          0.447634    0.447634  \n",
       "temperature_mavg60               NaN         NaN  \n",
       "temperature_mavg7          37.689387   37.689387  \n",
       "temperature_mavg90               NaN         NaN  "
      ]
     },
     "execution_count": 4,
     "metadata": {},
     "output_type": "execute_result"
    }
   ],
   "source": [
    "features_df = get_feature_importances(results_top_10)\n",
    "features_df.pivot_table(index=['FEATURE'], columns=['MODEL_NAME','FEATURE_TYPE'], values=\"IMPORTANCE\")"
   ]
  },
  {
   "cell_type": "markdown",
   "metadata": {},
   "source": [
    "Lets look a boxplot of this data to see how the distributions look across our experiments for this location."
   ]
  },
  {
   "cell_type": "code",
   "execution_count": 9,
   "metadata": {},
   "outputs": [
    {
     "data": {
      "application/vnd.plotly.v1+json": {
       "data": [
        {
         "name": "temperature_lag1",
         "type": "box",
         "uid": "5cd3ce58-a052-11e8-b42a-00215cc353c9",
         "y": [
          55.82653021248577,
          55.50837293468546,
          55.50837293468546,
          27.909282786861944,
          27.584223722001628,
          27.582810385530482
         ]
        },
        {
         "name": "temperature_mavg7",
         "type": "box",
         "uid": "5cd3ce59-a052-11e8-ba0f-00215cc353c9",
         "y": [
          38.009765018543504,
          37.68938719256682,
          37.68938719256682,
          67.04822385420249,
          66.60034130602772,
          66.55936369185257
         ]
        },
        {
         "name": "temperature_lag2",
         "type": "box",
         "uid": "5cd3ce5a-a052-11e8-9733-00215cc353c9",
         "y": [
          1.8754777574143853,
          1.6298444163911912,
          1.6298444163911912,
          1.8169508247499315,
          1.3825374308579694,
          1.397116213341108
         ]
        },
        {
         "name": "temperature_lag7",
         "type": "box",
         "uid": "5cd3ce5b-a052-11e8-bbc3-00215cc353c9",
         "y": [
          0.8145431407638374,
          0.6340031462815884,
          0.6340031462815884,
          0.5035269223305254,
          0.711707933775043,
          0.6389411221727712
         ]
        },
        {
         "name": "temperature_lag365",
         "type": "box",
         "uid": "5cd3ce5c-a052-11e8-a930-00215cc353c9",
         "y": [
          0.7289178525293517,
          0.5381346396222915,
          0.5381346396222915,
          0.5168342852785294,
          0.3752456414200669,
          0.4009618611555419
         ]
        },
        {
         "name": "temperature_lag90",
         "type": "box",
         "uid": "5cd3ce5d-a052-11e8-a656-00215cc353c9",
         "y": [
          0.6358251936948838,
          0.5227899011742289,
          0.5227899011742289,
          0.5302526176732878,
          0.3836653145832924,
          0.4019333193612979
         ]
        },
        {
         "name": "temperature_lag30",
         "type": "box",
         "uid": "5cd3ce5e-a052-11e8-a99e-00215cc353c9",
         "y": [
          0.5837946981847192,
          0.4775684053669938,
          0.4775684053669938,
          0.4978617126625615,
          0.4032888755977119,
          0.4375652436089227
         ]
        },
        {
         "name": "temperature_mavg30",
         "type": "box",
         "uid": "5cd3ce5f-a052-11e8-bfc8-00215cc353c9",
         "y": [
          0.5268819210908786,
          0.4476343460408906,
          0.4476343460408906,
          0.4860332180791155,
          0.5149516364559368,
          0.5169358696198054
         ]
        },
        {
         "name": "temperature_mavg180",
         "type": "box",
         "uid": "5cd3ce60-a052-11e8-b473-00215cc353c9",
         "y": [
          0.40586738922200816,
          0.4535871527428521,
          0.3442042679789959,
          0.3789732212491017
         ]
        },
        {
         "name": "temperature_mavg60",
         "type": "box",
         "uid": "5cd3ce61-a052-11e8-a929-00215cc353c9",
         "y": [
          0.3739746359392888,
          0.18141733668784,
          0.04362734033372047,
          0.04438081589763519
         ]
        },
        {
         "name": "clean_ao_value",
         "type": "box",
         "uid": "5cd3ce62-a052-11e8-a229-00215cc353c9",
         "y": [
          0.6585622345653466,
          0.6585622345653466,
          0.6562377366802559,
          0.6515029538206546
         ]
        },
        {
         "name": "clean_nao_value",
         "type": "box",
         "uid": "5cd3ce63-a052-11e8-b188-00215cc353c9",
         "y": [
          0.4994916249977155,
          0.4994916249977155,
          0.24933161257173656,
          0.22690585110810246
         ]
        },
        {
         "name": "temperature_mavg90",
         "type": "box",
         "uid": "5cd3ce64-a052-11e8-bb6c-00215cc353c9",
         "y": [
          0.05602928873091907,
          0.1507633576520808,
          0.1569385866784372
         ]
        },
        {
         "name": "clean_nino12_value",
         "type": "box",
         "uid": "5cd3ce65-a052-11e8-964b-00215cc353c9",
         "y": [
          0.2127009049461134,
          0.215983661445066
         ]
        },
        {
         "name": "clean_nino4_value",
         "type": "box",
         "uid": "5cd3ce66-a052-11e8-88c6-00215cc353c9",
         "y": [
          0.15782234632892056,
          0.1257066870643103
         ]
        },
        {
         "name": "clean_nino3_value",
         "type": "box",
         "uid": "5cd3ce67-a052-11e8-99ec-00215cc353c9",
         "y": [
          0.13380186987703216,
          0.25765765572691396
         ]
        },
        {
         "name": "clean_nino34_value",
         "type": "box",
         "uid": "5cd3ce68-a052-11e8-8b99-00215cc353c9",
         "y": [
          0.0955487029117672,
          0.006322860367287743
         ]
        }
       ],
       "layout": {}
      },
      "text/html": [
       "<div id=\"158f2610-faa2-432d-a522-154300f4a6eb\" style=\"height: 525px; width: 100%;\" class=\"plotly-graph-div\"></div><script type=\"text/javascript\">require([\"plotly\"], function(Plotly) { window.PLOTLYENV=window.PLOTLYENV || {};window.PLOTLYENV.BASE_URL=\"https://plot.ly\";Plotly.newPlot(\"158f2610-faa2-432d-a522-154300f4a6eb\", [{\"name\": \"temperature_lag1\", \"y\": [55.82653021248577, 55.50837293468546, 55.50837293468546, 27.909282786861944, 27.584223722001628, 27.582810385530482], \"type\": \"box\", \"uid\": \"5ceb2610-a052-11e8-9330-00215cc353c9\"}, {\"name\": \"temperature_mavg7\", \"y\": [38.009765018543504, 37.68938719256682, 37.68938719256682, 67.04822385420249, 66.60034130602772, 66.55936369185257], \"type\": \"box\", \"uid\": \"5ceb2611-a052-11e8-b350-00215cc353c9\"}, {\"name\": \"temperature_lag2\", \"y\": [1.8754777574143853, 1.6298444163911912, 1.6298444163911912, 1.8169508247499315, 1.3825374308579694, 1.397116213341108], \"type\": \"box\", \"uid\": \"5ceb2612-a052-11e8-a2be-00215cc353c9\"}, {\"name\": \"temperature_lag7\", \"y\": [0.8145431407638374, 0.6340031462815884, 0.6340031462815884, 0.5035269223305254, 0.711707933775043, 0.6389411221727712], \"type\": \"box\", \"uid\": \"5ceb2613-a052-11e8-b5a6-00215cc353c9\"}, {\"name\": \"temperature_lag365\", \"y\": [0.7289178525293517, 0.5381346396222915, 0.5381346396222915, 0.5168342852785294, 0.3752456414200669, 0.4009618611555419], \"type\": \"box\", \"uid\": \"5ceb4d2c-a052-11e8-8972-00215cc353c9\"}, {\"name\": \"temperature_lag90\", \"y\": [0.6358251936948838, 0.5227899011742289, 0.5227899011742289, 0.5302526176732878, 0.3836653145832924, 0.4019333193612979], \"type\": \"box\", \"uid\": \"5ceb4d2d-a052-11e8-811d-00215cc353c9\"}, {\"name\": \"temperature_lag30\", \"y\": [0.5837946981847192, 0.4775684053669938, 0.4775684053669938, 0.4978617126625615, 0.4032888755977119, 0.4375652436089227], \"type\": \"box\", \"uid\": \"5ceb4d2e-a052-11e8-948c-00215cc353c9\"}, {\"name\": \"temperature_mavg30\", \"y\": [0.5268819210908786, 0.4476343460408906, 0.4476343460408906, 0.4860332180791155, 0.5149516364559368, 0.5169358696198054], \"type\": \"box\", \"uid\": \"5ceb4d2f-a052-11e8-b512-00215cc353c9\"}, {\"name\": \"temperature_mavg180\", \"y\": [0.40586738922200816, 0.4535871527428521, 0.3442042679789959, 0.3789732212491017], \"type\": \"box\", \"uid\": \"5ceb4d30-a052-11e8-b975-00215cc353c9\"}, {\"name\": \"temperature_mavg60\", \"y\": [0.3739746359392888, 0.18141733668784, 0.04362734033372047, 0.04438081589763519], \"type\": \"box\", \"uid\": \"5ceb4d31-a052-11e8-ad1a-00215cc353c9\"}, {\"name\": \"clean_ao_value\", \"y\": [0.6585622345653466, 0.6585622345653466, 0.6562377366802559, 0.6515029538206546], \"type\": \"box\", \"uid\": \"5ceb4d32-a052-11e8-9aac-00215cc353c9\"}, {\"name\": \"clean_nao_value\", \"y\": [0.4994916249977155, 0.4994916249977155, 0.24933161257173656, 0.22690585110810246], \"type\": \"box\", \"uid\": \"5ceb4d33-a052-11e8-9a81-00215cc353c9\"}, {\"name\": \"temperature_mavg90\", \"y\": [0.05602928873091907, 0.1507633576520808, 0.1569385866784372], \"type\": \"box\", \"uid\": \"5ceb4d34-a052-11e8-91de-00215cc353c9\"}, {\"name\": \"clean_nino12_value\", \"y\": [0.2127009049461134, 0.215983661445066], \"type\": \"box\", \"uid\": \"5ceb4d35-a052-11e8-9061-00215cc353c9\"}, {\"name\": \"clean_nino4_value\", \"y\": [0.15782234632892056, 0.1257066870643103], \"type\": \"box\", \"uid\": \"5ceb4d36-a052-11e8-bef0-00215cc353c9\"}, {\"name\": \"clean_nino3_value\", \"y\": [0.13380186987703216, 0.25765765572691396], \"type\": \"box\", \"uid\": \"5ceb4d37-a052-11e8-8a2a-00215cc353c9\"}, {\"name\": \"clean_nino34_value\", \"y\": [0.0955487029117672, 0.006322860367287743], \"type\": \"box\", \"uid\": \"5ceb4d38-a052-11e8-ab0f-00215cc353c9\"}], {}, {\"showLink\": true, \"linkText\": \"Export to plot.ly\"})});</script>"
      ],
      "text/vnd.plotly.v1+html": [
       "<div id=\"158f2610-faa2-432d-a522-154300f4a6eb\" style=\"height: 525px; width: 100%;\" class=\"plotly-graph-div\"></div><script type=\"text/javascript\">require([\"plotly\"], function(Plotly) { window.PLOTLYENV=window.PLOTLYENV || {};window.PLOTLYENV.BASE_URL=\"https://plot.ly\";Plotly.newPlot(\"158f2610-faa2-432d-a522-154300f4a6eb\", [{\"name\": \"temperature_lag1\", \"y\": [55.82653021248577, 55.50837293468546, 55.50837293468546, 27.909282786861944, 27.584223722001628, 27.582810385530482], \"type\": \"box\", \"uid\": \"5ceb2610-a052-11e8-9330-00215cc353c9\"}, {\"name\": \"temperature_mavg7\", \"y\": [38.009765018543504, 37.68938719256682, 37.68938719256682, 67.04822385420249, 66.60034130602772, 66.55936369185257], \"type\": \"box\", \"uid\": \"5ceb2611-a052-11e8-b350-00215cc353c9\"}, {\"name\": \"temperature_lag2\", \"y\": [1.8754777574143853, 1.6298444163911912, 1.6298444163911912, 1.8169508247499315, 1.3825374308579694, 1.397116213341108], \"type\": \"box\", \"uid\": \"5ceb2612-a052-11e8-a2be-00215cc353c9\"}, {\"name\": \"temperature_lag7\", \"y\": [0.8145431407638374, 0.6340031462815884, 0.6340031462815884, 0.5035269223305254, 0.711707933775043, 0.6389411221727712], \"type\": \"box\", \"uid\": \"5ceb2613-a052-11e8-b5a6-00215cc353c9\"}, {\"name\": \"temperature_lag365\", \"y\": [0.7289178525293517, 0.5381346396222915, 0.5381346396222915, 0.5168342852785294, 0.3752456414200669, 0.4009618611555419], \"type\": \"box\", \"uid\": \"5ceb4d2c-a052-11e8-8972-00215cc353c9\"}, {\"name\": \"temperature_lag90\", \"y\": [0.6358251936948838, 0.5227899011742289, 0.5227899011742289, 0.5302526176732878, 0.3836653145832924, 0.4019333193612979], \"type\": \"box\", \"uid\": \"5ceb4d2d-a052-11e8-811d-00215cc353c9\"}, {\"name\": \"temperature_lag30\", \"y\": [0.5837946981847192, 0.4775684053669938, 0.4775684053669938, 0.4978617126625615, 0.4032888755977119, 0.4375652436089227], \"type\": \"box\", \"uid\": \"5ceb4d2e-a052-11e8-948c-00215cc353c9\"}, {\"name\": \"temperature_mavg30\", \"y\": [0.5268819210908786, 0.4476343460408906, 0.4476343460408906, 0.4860332180791155, 0.5149516364559368, 0.5169358696198054], \"type\": \"box\", \"uid\": \"5ceb4d2f-a052-11e8-b512-00215cc353c9\"}, {\"name\": \"temperature_mavg180\", \"y\": [0.40586738922200816, 0.4535871527428521, 0.3442042679789959, 0.3789732212491017], \"type\": \"box\", \"uid\": \"5ceb4d30-a052-11e8-b975-00215cc353c9\"}, {\"name\": \"temperature_mavg60\", \"y\": [0.3739746359392888, 0.18141733668784, 0.04362734033372047, 0.04438081589763519], \"type\": \"box\", \"uid\": \"5ceb4d31-a052-11e8-ad1a-00215cc353c9\"}, {\"name\": \"clean_ao_value\", \"y\": [0.6585622345653466, 0.6585622345653466, 0.6562377366802559, 0.6515029538206546], \"type\": \"box\", \"uid\": \"5ceb4d32-a052-11e8-9aac-00215cc353c9\"}, {\"name\": \"clean_nao_value\", \"y\": [0.4994916249977155, 0.4994916249977155, 0.24933161257173656, 0.22690585110810246], \"type\": \"box\", \"uid\": \"5ceb4d33-a052-11e8-9a81-00215cc353c9\"}, {\"name\": \"temperature_mavg90\", \"y\": [0.05602928873091907, 0.1507633576520808, 0.1569385866784372], \"type\": \"box\", \"uid\": \"5ceb4d34-a052-11e8-91de-00215cc353c9\"}, {\"name\": \"clean_nino12_value\", \"y\": [0.2127009049461134, 0.215983661445066], \"type\": \"box\", \"uid\": \"5ceb4d35-a052-11e8-9061-00215cc353c9\"}, {\"name\": \"clean_nino4_value\", \"y\": [0.15782234632892056, 0.1257066870643103], \"type\": \"box\", \"uid\": \"5ceb4d36-a052-11e8-bef0-00215cc353c9\"}, {\"name\": \"clean_nino3_value\", \"y\": [0.13380186987703216, 0.25765765572691396], \"type\": \"box\", \"uid\": \"5ceb4d37-a052-11e8-8a2a-00215cc353c9\"}, {\"name\": \"clean_nino34_value\", \"y\": [0.0955487029117672, 0.006322860367287743], \"type\": \"box\", \"uid\": \"5ceb4d38-a052-11e8-ab0f-00215cc353c9\"}], {}, {\"showLink\": true, \"linkText\": \"Export to plot.ly\"})});</script>"
      ]
     },
     "metadata": {},
     "output_type": "display_data"
    }
   ],
   "source": [
    "traces = create_boxplot_traces_for_features(features_df)\n",
    "iplot(traces)"
   ]
  },
  {
   "cell_type": "markdown",
   "metadata": {},
   "source": [
    "Lets review the means for the features"
   ]
  },
  {
   "cell_type": "code",
   "execution_count": 6,
   "metadata": {},
   "outputs": [
    {
     "data": {
      "text/html": [
       "<div>\n",
       "<style scoped>\n",
       "    .dataframe tbody tr th:only-of-type {\n",
       "        vertical-align: middle;\n",
       "    }\n",
       "\n",
       "    .dataframe tbody tr th {\n",
       "        vertical-align: top;\n",
       "    }\n",
       "\n",
       "    .dataframe thead tr th {\n",
       "        text-align: left;\n",
       "    }\n",
       "\n",
       "    .dataframe thead tr:last-of-type th {\n",
       "        text-align: right;\n",
       "    }\n",
       "</style>\n",
       "<table border=\"1\" class=\"dataframe\">\n",
       "  <thead>\n",
       "    <tr>\n",
       "      <th></th>\n",
       "      <th>mean</th>\n",
       "    </tr>\n",
       "    <tr>\n",
       "      <th></th>\n",
       "      <th>IMPORTANCE</th>\n",
       "    </tr>\n",
       "    <tr>\n",
       "      <th>FEATURE</th>\n",
       "      <th></th>\n",
       "    </tr>\n",
       "  </thead>\n",
       "  <tbody>\n",
       "    <tr>\n",
       "      <th>clean_ao_value</th>\n",
       "      <td>0.656216</td>\n",
       "    </tr>\n",
       "    <tr>\n",
       "      <th>clean_nao_value</th>\n",
       "      <td>0.368805</td>\n",
       "    </tr>\n",
       "    <tr>\n",
       "      <th>clean_nino12_value</th>\n",
       "      <td>0.214342</td>\n",
       "    </tr>\n",
       "    <tr>\n",
       "      <th>clean_nino34_value</th>\n",
       "      <td>0.050936</td>\n",
       "    </tr>\n",
       "    <tr>\n",
       "      <th>clean_nino3_value</th>\n",
       "      <td>0.195730</td>\n",
       "    </tr>\n",
       "    <tr>\n",
       "      <th>clean_nino4_value</th>\n",
       "      <td>0.141765</td>\n",
       "    </tr>\n",
       "    <tr>\n",
       "      <th>temperature_lag1</th>\n",
       "      <td>41.653265</td>\n",
       "    </tr>\n",
       "    <tr>\n",
       "      <th>temperature_lag2</th>\n",
       "      <td>1.621962</td>\n",
       "    </tr>\n",
       "    <tr>\n",
       "      <th>temperature_lag30</th>\n",
       "      <td>0.479608</td>\n",
       "    </tr>\n",
       "    <tr>\n",
       "      <th>temperature_lag365</th>\n",
       "      <td>0.516371</td>\n",
       "    </tr>\n",
       "    <tr>\n",
       "      <th>temperature_lag7</th>\n",
       "      <td>0.656121</td>\n",
       "    </tr>\n",
       "    <tr>\n",
       "      <th>temperature_lag90</th>\n",
       "      <td>0.499543</td>\n",
       "    </tr>\n",
       "    <tr>\n",
       "      <th>temperature_mavg180</th>\n",
       "      <td>0.395658</td>\n",
       "    </tr>\n",
       "    <tr>\n",
       "      <th>temperature_mavg30</th>\n",
       "      <td>0.490012</td>\n",
       "    </tr>\n",
       "    <tr>\n",
       "      <th>temperature_mavg60</th>\n",
       "      <td>0.160850</td>\n",
       "    </tr>\n",
       "    <tr>\n",
       "      <th>temperature_mavg7</th>\n",
       "      <td>52.266078</td>\n",
       "    </tr>\n",
       "    <tr>\n",
       "      <th>temperature_mavg90</th>\n",
       "      <td>0.121244</td>\n",
       "    </tr>\n",
       "  </tbody>\n",
       "</table>\n",
       "</div>"
      ],
      "text/plain": [
       "                          mean\n",
       "                    IMPORTANCE\n",
       "FEATURE                       \n",
       "clean_ao_value        0.656216\n",
       "clean_nao_value       0.368805\n",
       "clean_nino12_value    0.214342\n",
       "clean_nino34_value    0.050936\n",
       "clean_nino3_value     0.195730\n",
       "clean_nino4_value     0.141765\n",
       "temperature_lag1     41.653265\n",
       "temperature_lag2      1.621962\n",
       "temperature_lag30     0.479608\n",
       "temperature_lag365    0.516371\n",
       "temperature_lag7      0.656121\n",
       "temperature_lag90     0.499543\n",
       "temperature_mavg180   0.395658\n",
       "temperature_mavg30    0.490012\n",
       "temperature_mavg60    0.160850\n",
       "temperature_mavg7    52.266078\n",
       "temperature_mavg90    0.121244"
      ]
     },
     "execution_count": 6,
     "metadata": {},
     "output_type": "execute_result"
    }
   ],
   "source": [
    "features_df = get_feature_importances(results_top_10)\n",
    "pivot_df = features_df.pivot_table(index=['FEATURE'], columns=[], values=\"IMPORTANCE\", aggfunc= [np.mean])\n",
    "pivot_df"
   ]
  },
  {
   "cell_type": "markdown",
   "metadata": {},
   "source": [
    "Now lets review the top 5 only"
   ]
  },
  {
   "cell_type": "code",
   "execution_count": 7,
   "metadata": {},
   "outputs": [
    {
     "data": {
      "text/html": [
       "<div>\n",
       "<style scoped>\n",
       "    .dataframe tbody tr th:only-of-type {\n",
       "        vertical-align: middle;\n",
       "    }\n",
       "\n",
       "    .dataframe tbody tr th {\n",
       "        vertical-align: top;\n",
       "    }\n",
       "\n",
       "    .dataframe thead th {\n",
       "        text-align: right;\n",
       "    }\n",
       "</style>\n",
       "<table border=\"1\" class=\"dataframe\">\n",
       "  <thead>\n",
       "    <tr style=\"text-align: right;\">\n",
       "      <th></th>\n",
       "      <th>mean</th>\n",
       "    </tr>\n",
       "    <tr>\n",
       "      <th>FEATURE</th>\n",
       "      <th></th>\n",
       "    </tr>\n",
       "  </thead>\n",
       "  <tbody>\n",
       "    <tr>\n",
       "      <th>temperature_mavg7</th>\n",
       "      <td>52.266078</td>\n",
       "    </tr>\n",
       "    <tr>\n",
       "      <th>temperature_lag1</th>\n",
       "      <td>41.653265</td>\n",
       "    </tr>\n",
       "    <tr>\n",
       "      <th>temperature_lag2</th>\n",
       "      <td>1.621962</td>\n",
       "    </tr>\n",
       "    <tr>\n",
       "      <th>clean_ao_value</th>\n",
       "      <td>0.656216</td>\n",
       "    </tr>\n",
       "    <tr>\n",
       "      <th>temperature_lag7</th>\n",
       "      <td>0.656121</td>\n",
       "    </tr>\n",
       "  </tbody>\n",
       "</table>\n",
       "</div>"
      ],
      "text/plain": [
       "                        mean\n",
       "FEATURE                     \n",
       "temperature_mavg7  52.266078\n",
       "temperature_lag1   41.653265\n",
       "temperature_lag2    1.621962\n",
       "clean_ao_value      0.656216\n",
       "temperature_lag7    0.656121"
      ]
     },
     "execution_count": 7,
     "metadata": {},
     "output_type": "execute_result"
    }
   ],
   "source": [
    "pivot_df.columns = pivot_df.columns.get_level_values(0)\n",
    "pivot_df.sort_values(['mean'], ascending=False).head(5)"
   ]
  },
  {
   "cell_type": "markdown",
   "metadata": {},
   "source": [
    "This is different than the prior cases as we see the moving average taking the lead in the predictions."
   ]
  },
  {
   "cell_type": "code",
   "execution_count": null,
   "metadata": {},
   "outputs": [],
   "source": []
  }
 ],
 "metadata": {
  "kernelspec": {
   "display_name": "Python 3",
   "language": "python",
   "name": "python3"
  },
  "language_info": {
   "codemirror_mode": {
    "name": "ipython",
    "version": 3
   },
   "file_extension": ".py",
   "mimetype": "text/x-python",
   "name": "python",
   "nbconvert_exporter": "python",
   "pygments_lexer": "ipython3",
   "version": "3.6.4"
  }
 },
 "nbformat": 4,
 "nbformat_minor": 2
}
