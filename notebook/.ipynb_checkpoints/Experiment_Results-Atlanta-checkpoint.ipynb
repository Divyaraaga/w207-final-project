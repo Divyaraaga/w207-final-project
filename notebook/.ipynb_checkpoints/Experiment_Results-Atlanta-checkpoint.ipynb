{
 "cells": [
  {
   "cell_type": "markdown",
   "metadata": {},
   "source": [
    "# Experiment Results"
   ]
  },
  {
   "cell_type": "markdown",
   "metadata": {},
   "source": [
    "## Results for Atlanta"
   ]
  },
  {
   "cell_type": "code",
   "execution_count": 17,
   "metadata": {},
   "outputs": [
    {
     "data": {
      "text/html": [
       "<script>requirejs.config({paths: { 'plotly': ['https://cdn.plot.ly/plotly-latest.min']},});if(!window.Plotly) {{require(['plotly'],function(plotly) {window.Plotly=plotly;});}}</script>"
      ],
      "text/vnd.plotly.v1+html": [
       "<script>requirejs.config({paths: { 'plotly': ['https://cdn.plot.ly/plotly-latest.min']},});if(!window.Plotly) {{require(['plotly'],function(plotly) {window.Plotly=plotly;});}}</script>"
      ]
     },
     "metadata": {},
     "output_type": "display_data"
    }
   ],
   "source": [
    "import warnings\n",
    "warnings.filterwarnings('ignore')\n",
    "\n",
    "%run helper_functions.py\n",
    "%matplotlib inline"
   ]
  },
  {
   "cell_type": "markdown",
   "metadata": {},
   "source": [
    "Lets review the top 10 results for Atlanta, ordered by Mean Square Error (ascending)"
   ]
  },
  {
   "cell_type": "code",
   "execution_count": 5,
   "metadata": {},
   "outputs": [
    {
     "data": {
      "text/html": [
       "<div>\n",
       "<style scoped>\n",
       "    .dataframe tbody tr th:only-of-type {\n",
       "        vertical-align: middle;\n",
       "    }\n",
       "\n",
       "    .dataframe tbody tr th {\n",
       "        vertical-align: top;\n",
       "    }\n",
       "\n",
       "    .dataframe thead th {\n",
       "        text-align: right;\n",
       "    }\n",
       "</style>\n",
       "<table border=\"1\" class=\"dataframe\">\n",
       "  <thead>\n",
       "    <tr style=\"text-align: right;\">\n",
       "      <th></th>\n",
       "      <th>RUN_ID</th>\n",
       "      <th>DATETIME</th>\n",
       "      <th>MODEL_NAME</th>\n",
       "      <th>CITY</th>\n",
       "      <th>FEATURE_TYPE</th>\n",
       "      <th>HOST_MACHINE</th>\n",
       "      <th>MODEL_PARAMETERS</th>\n",
       "      <th>MODEL_RESULTS</th>\n",
       "      <th>MEAN_SQUARED_ERROR</th>\n",
       "    </tr>\n",
       "  </thead>\n",
       "  <tbody>\n",
       "    <tr>\n",
       "      <th>1</th>\n",
       "      <td>50</td>\n",
       "      <td>2018-08-14 20:39:13.461675</td>\n",
       "      <td>RNN</td>\n",
       "      <td>Atlanta</td>\n",
       "      <td>Enhanced_Signals</td>\n",
       "      <td>DESKTOP-KN40C32</td>\n",
       "      <td>{'epochs': 50, 'Info': {'feature_set_type': 'E...</td>\n",
       "      <td>{'features': ['temperature_lag1', 'temperature...</td>\n",
       "      <td>4.966304</td>\n",
       "    </tr>\n",
       "    <tr>\n",
       "      <th>2</th>\n",
       "      <td>38</td>\n",
       "      <td>2018-08-14 20:34:21.973872</td>\n",
       "      <td>RNN</td>\n",
       "      <td>Atlanta</td>\n",
       "      <td>Basic</td>\n",
       "      <td>DESKTOP-KN40C32</td>\n",
       "      <td>{'epochs': 50, 'Info': {'feature_set_type': 'B...</td>\n",
       "      <td>{'features': ['temperature_lag1', 'temperature...</td>\n",
       "      <td>5.105819</td>\n",
       "    </tr>\n",
       "    <tr>\n",
       "      <th>3</th>\n",
       "      <td>26</td>\n",
       "      <td>2018-08-14 19:55:31.041998</td>\n",
       "      <td>RANDOM FOREST</td>\n",
       "      <td>Atlanta</td>\n",
       "      <td>Inc_Signals</td>\n",
       "      <td>DESKTOP-KN40C32</td>\n",
       "      <td>{'max_depth': 8, 'n_estimators': 50, 'Info': {...</td>\n",
       "      <td>{'features': ['temperature_lag1', 'temperature...</td>\n",
       "      <td>5.434763</td>\n",
       "    </tr>\n",
       "    <tr>\n",
       "      <th>4</th>\n",
       "      <td>32</td>\n",
       "      <td>2018-08-14 19:56:23.951216</td>\n",
       "      <td>RANDOM FOREST</td>\n",
       "      <td>Atlanta</td>\n",
       "      <td>Enhanced_Signals</td>\n",
       "      <td>DESKTOP-KN40C32</td>\n",
       "      <td>{'max_depth': 8, 'n_estimators': 50, 'Info': {...</td>\n",
       "      <td>{'features': ['temperature_lag1', 'temperature...</td>\n",
       "      <td>5.434763</td>\n",
       "    </tr>\n",
       "    <tr>\n",
       "      <th>5</th>\n",
       "      <td>20</td>\n",
       "      <td>2018-08-14 19:54:40.149363</td>\n",
       "      <td>RANDOM FOREST</td>\n",
       "      <td>Atlanta</td>\n",
       "      <td>Basic</td>\n",
       "      <td>DESKTOP-KN40C32</td>\n",
       "      <td>{'max_depth': 8, 'n_estimators': 50, 'Info': {...</td>\n",
       "      <td>{'features': ['temperature_lag1', 'temperature...</td>\n",
       "      <td>5.516615</td>\n",
       "    </tr>\n",
       "    <tr>\n",
       "      <th>6</th>\n",
       "      <td>44</td>\n",
       "      <td>2018-08-14 20:36:38.538124</td>\n",
       "      <td>RNN</td>\n",
       "      <td>Atlanta</td>\n",
       "      <td>Inc_Signals</td>\n",
       "      <td>DESKTOP-KN40C32</td>\n",
       "      <td>{'epochs': 50, 'Info': {'feature_set_type': 'I...</td>\n",
       "      <td>{'features': ['temperature_lag1', 'temperature...</td>\n",
       "      <td>5.628276</td>\n",
       "    </tr>\n",
       "    <tr>\n",
       "      <th>7</th>\n",
       "      <td>14</td>\n",
       "      <td>2018-08-14 19:44:07.609795</td>\n",
       "      <td>DECISION TREE</td>\n",
       "      <td>Atlanta</td>\n",
       "      <td>Enhanced_Signals</td>\n",
       "      <td>DESKTOP-KN40C32</td>\n",
       "      <td>{'max_depth': 8, 'Info': {'feature_set_type': ...</td>\n",
       "      <td>{'features': ['temperature_lag1', 'temperature...</td>\n",
       "      <td>7.783687</td>\n",
       "    </tr>\n",
       "    <tr>\n",
       "      <th>8</th>\n",
       "      <td>8</td>\n",
       "      <td>2018-08-14 19:43:12.930159</td>\n",
       "      <td>DECISION TREE</td>\n",
       "      <td>Atlanta</td>\n",
       "      <td>Inc_Signals</td>\n",
       "      <td>DESKTOP-KN40C32</td>\n",
       "      <td>{'max_depth': 8, 'Info': {'feature_set_type': ...</td>\n",
       "      <td>{'features': ['temperature_lag1', 'temperature...</td>\n",
       "      <td>7.992946</td>\n",
       "    </tr>\n",
       "    <tr>\n",
       "      <th>9</th>\n",
       "      <td>2</td>\n",
       "      <td>2018-08-14 19:42:13.654060</td>\n",
       "      <td>DECISION TREE</td>\n",
       "      <td>Atlanta</td>\n",
       "      <td>Basic</td>\n",
       "      <td>DESKTOP-KN40C32</td>\n",
       "      <td>{'max_depth': 8, 'Info': {'feature_set_type': ...</td>\n",
       "      <td>{'features': ['temperature_lag1', 'temperature...</td>\n",
       "      <td>8.436149</td>\n",
       "    </tr>\n",
       "  </tbody>\n",
       "</table>\n",
       "</div>"
      ],
      "text/plain": [
       "  RUN_ID                   DATETIME     MODEL_NAME     CITY      FEATURE_TYPE  \\\n",
       "1     50 2018-08-14 20:39:13.461675            RNN  Atlanta  Enhanced_Signals   \n",
       "2     38 2018-08-14 20:34:21.973872            RNN  Atlanta             Basic   \n",
       "3     26 2018-08-14 19:55:31.041998  RANDOM FOREST  Atlanta       Inc_Signals   \n",
       "4     32 2018-08-14 19:56:23.951216  RANDOM FOREST  Atlanta  Enhanced_Signals   \n",
       "5     20 2018-08-14 19:54:40.149363  RANDOM FOREST  Atlanta             Basic   \n",
       "6     44 2018-08-14 20:36:38.538124            RNN  Atlanta       Inc_Signals   \n",
       "7     14 2018-08-14 19:44:07.609795  DECISION TREE  Atlanta  Enhanced_Signals   \n",
       "8      8 2018-08-14 19:43:12.930159  DECISION TREE  Atlanta       Inc_Signals   \n",
       "9      2 2018-08-14 19:42:13.654060  DECISION TREE  Atlanta             Basic   \n",
       "\n",
       "      HOST_MACHINE                                   MODEL_PARAMETERS  \\\n",
       "1  DESKTOP-KN40C32  {'epochs': 50, 'Info': {'feature_set_type': 'E...   \n",
       "2  DESKTOP-KN40C32  {'epochs': 50, 'Info': {'feature_set_type': 'B...   \n",
       "3  DESKTOP-KN40C32  {'max_depth': 8, 'n_estimators': 50, 'Info': {...   \n",
       "4  DESKTOP-KN40C32  {'max_depth': 8, 'n_estimators': 50, 'Info': {...   \n",
       "5  DESKTOP-KN40C32  {'max_depth': 8, 'n_estimators': 50, 'Info': {...   \n",
       "6  DESKTOP-KN40C32  {'epochs': 50, 'Info': {'feature_set_type': 'I...   \n",
       "7  DESKTOP-KN40C32  {'max_depth': 8, 'Info': {'feature_set_type': ...   \n",
       "8  DESKTOP-KN40C32  {'max_depth': 8, 'Info': {'feature_set_type': ...   \n",
       "9  DESKTOP-KN40C32  {'max_depth': 8, 'Info': {'feature_set_type': ...   \n",
       "\n",
       "                                       MODEL_RESULTS  MEAN_SQUARED_ERROR  \n",
       "1  {'features': ['temperature_lag1', 'temperature...            4.966304  \n",
       "2  {'features': ['temperature_lag1', 'temperature...            5.105819  \n",
       "3  {'features': ['temperature_lag1', 'temperature...            5.434763  \n",
       "4  {'features': ['temperature_lag1', 'temperature...            5.434763  \n",
       "5  {'features': ['temperature_lag1', 'temperature...            5.516615  \n",
       "6  {'features': ['temperature_lag1', 'temperature...            5.628276  \n",
       "7  {'features': ['temperature_lag1', 'temperature...            7.783687  \n",
       "8  {'features': ['temperature_lag1', 'temperature...            7.992946  \n",
       "9  {'features': ['temperature_lag1', 'temperature...            8.436149  "
      ]
     },
     "execution_count": 5,
     "metadata": {},
     "output_type": "execute_result"
    }
   ],
   "source": [
    "city='Atlanta'\n",
    "results_top_10 = get_results(city=city, top_hm_results=10)\n",
    "results_top_10"
   ]
  },
  {
   "cell_type": "markdown",
   "metadata": {},
   "source": [
    "RNN has done better than Random forest but the results are close so there is no clear winner, lets take a look at that chart."
   ]
  },
  {
   "cell_type": "code",
   "execution_count": 6,
   "metadata": {},
   "outputs": [
    {
     "data": {
      "text/markdown": [
       "### Experiment #50 - run by DESKTOP-KN40C32 on 2018-08-14 20:39:13.461675"
      ],
      "text/plain": [
       "<IPython.core.display.Markdown object>"
      ]
     },
     "metadata": {},
     "output_type": "display_data"
    },
    {
     "data": {
      "text/markdown": [
       "![](../experiment_results/RUN-50/Daily_predict.png)"
      ],
      "text/plain": [
       "<IPython.core.display.Markdown object>"
      ]
     },
     "metadata": {},
     "output_type": "display_data"
    }
   ],
   "source": [
    "display_results(results_top_10.head(1), chart_type='predict')"
   ]
  },
  {
   "cell_type": "markdown",
   "metadata": {},
   "source": [
    "We can see the forecast follows the trend and it does a better job vs the prior example of Miami with respect to following the peaks and troughs of the actual temperature pattern experiences. \n",
    "\n",
    "Lets examine the top 10 features across the model runs for this location in a pivot table form."
   ]
  },
  {
   "cell_type": "code",
   "execution_count": 7,
   "metadata": {},
   "outputs": [
    {
     "data": {
      "text/html": [
       "<div>\n",
       "<style scoped>\n",
       "    .dataframe tbody tr th:only-of-type {\n",
       "        vertical-align: middle;\n",
       "    }\n",
       "\n",
       "    .dataframe tbody tr th {\n",
       "        vertical-align: top;\n",
       "    }\n",
       "\n",
       "    .dataframe thead tr th {\n",
       "        text-align: left;\n",
       "    }\n",
       "\n",
       "    .dataframe thead tr:last-of-type th {\n",
       "        text-align: right;\n",
       "    }\n",
       "</style>\n",
       "<table border=\"1\" class=\"dataframe\">\n",
       "  <thead>\n",
       "    <tr>\n",
       "      <th>MODEL_NAME</th>\n",
       "      <th colspan=\"3\" halign=\"left\">DECISION TREE</th>\n",
       "      <th colspan=\"3\" halign=\"left\">RANDOM FOREST</th>\n",
       "    </tr>\n",
       "    <tr>\n",
       "      <th>FEATURE_TYPE</th>\n",
       "      <th>Basic</th>\n",
       "      <th>Enhanced_Signals</th>\n",
       "      <th>Inc_Signals</th>\n",
       "      <th>Basic</th>\n",
       "      <th>Enhanced_Signals</th>\n",
       "      <th>Inc_Signals</th>\n",
       "    </tr>\n",
       "    <tr>\n",
       "      <th>FEATURE</th>\n",
       "      <th></th>\n",
       "      <th></th>\n",
       "      <th></th>\n",
       "      <th></th>\n",
       "      <th></th>\n",
       "      <th></th>\n",
       "    </tr>\n",
       "  </thead>\n",
       "  <tbody>\n",
       "    <tr>\n",
       "      <th>clean_ao_value</th>\n",
       "      <td>NaN</td>\n",
       "      <td>0.484511</td>\n",
       "      <td>0.586696</td>\n",
       "      <td>NaN</td>\n",
       "      <td>0.667402</td>\n",
       "      <td>0.667402</td>\n",
       "    </tr>\n",
       "    <tr>\n",
       "      <th>clean_nao_value</th>\n",
       "      <td>NaN</td>\n",
       "      <td>0.387084</td>\n",
       "      <td>0.319784</td>\n",
       "      <td>NaN</td>\n",
       "      <td>0.570843</td>\n",
       "      <td>0.570843</td>\n",
       "    </tr>\n",
       "    <tr>\n",
       "      <th>clean_nino12_value</th>\n",
       "      <td>NaN</td>\n",
       "      <td>0.176243</td>\n",
       "      <td>0.171550</td>\n",
       "      <td>NaN</td>\n",
       "      <td>NaN</td>\n",
       "      <td>NaN</td>\n",
       "    </tr>\n",
       "    <tr>\n",
       "      <th>clean_nino34_value</th>\n",
       "      <td>NaN</td>\n",
       "      <td>0.014362</td>\n",
       "      <td>0.075990</td>\n",
       "      <td>NaN</td>\n",
       "      <td>NaN</td>\n",
       "      <td>NaN</td>\n",
       "    </tr>\n",
       "    <tr>\n",
       "      <th>clean_nino3_value</th>\n",
       "      <td>NaN</td>\n",
       "      <td>0.155625</td>\n",
       "      <td>0.162820</td>\n",
       "      <td>NaN</td>\n",
       "      <td>NaN</td>\n",
       "      <td>NaN</td>\n",
       "    </tr>\n",
       "    <tr>\n",
       "      <th>clean_nino4_value</th>\n",
       "      <td>NaN</td>\n",
       "      <td>0.050394</td>\n",
       "      <td>0.000808</td>\n",
       "      <td>NaN</td>\n",
       "      <td>NaN</td>\n",
       "      <td>NaN</td>\n",
       "    </tr>\n",
       "    <tr>\n",
       "      <th>temperature_lag1</th>\n",
       "      <td>91.866531</td>\n",
       "      <td>91.563345</td>\n",
       "      <td>91.569282</td>\n",
       "      <td>85.242322</td>\n",
       "      <td>84.878510</td>\n",
       "      <td>84.878510</td>\n",
       "    </tr>\n",
       "    <tr>\n",
       "      <th>temperature_lag2</th>\n",
       "      <td>1.239663</td>\n",
       "      <td>1.220060</td>\n",
       "      <td>1.194826</td>\n",
       "      <td>1.553500</td>\n",
       "      <td>1.365561</td>\n",
       "      <td>1.365561</td>\n",
       "    </tr>\n",
       "    <tr>\n",
       "      <th>temperature_lag30</th>\n",
       "      <td>0.551914</td>\n",
       "      <td>0.641604</td>\n",
       "      <td>0.527405</td>\n",
       "      <td>0.532966</td>\n",
       "      <td>0.353330</td>\n",
       "      <td>0.353330</td>\n",
       "    </tr>\n",
       "    <tr>\n",
       "      <th>temperature_lag365</th>\n",
       "      <td>1.069122</td>\n",
       "      <td>0.947275</td>\n",
       "      <td>0.986347</td>\n",
       "      <td>1.080280</td>\n",
       "      <td>0.836627</td>\n",
       "      <td>0.836627</td>\n",
       "    </tr>\n",
       "    <tr>\n",
       "      <th>temperature_lag7</th>\n",
       "      <td>0.186437</td>\n",
       "      <td>0.173366</td>\n",
       "      <td>0.185205</td>\n",
       "      <td>0.730078</td>\n",
       "      <td>0.593266</td>\n",
       "      <td>0.593266</td>\n",
       "    </tr>\n",
       "    <tr>\n",
       "      <th>temperature_lag90</th>\n",
       "      <td>1.104324</td>\n",
       "      <td>0.751362</td>\n",
       "      <td>0.739947</td>\n",
       "      <td>0.587154</td>\n",
       "      <td>0.454484</td>\n",
       "      <td>0.454484</td>\n",
       "    </tr>\n",
       "    <tr>\n",
       "      <th>temperature_mavg180</th>\n",
       "      <td>0.570359</td>\n",
       "      <td>0.293828</td>\n",
       "      <td>0.448047</td>\n",
       "      <td>0.404703</td>\n",
       "      <td>NaN</td>\n",
       "      <td>NaN</td>\n",
       "    </tr>\n",
       "    <tr>\n",
       "      <th>temperature_mavg30</th>\n",
       "      <td>0.980080</td>\n",
       "      <td>0.966142</td>\n",
       "      <td>0.957687</td>\n",
       "      <td>0.671558</td>\n",
       "      <td>0.515406</td>\n",
       "      <td>0.515406</td>\n",
       "    </tr>\n",
       "    <tr>\n",
       "      <th>temperature_mavg60</th>\n",
       "      <td>0.107090</td>\n",
       "      <td>0.180291</td>\n",
       "      <td>0.096090</td>\n",
       "      <td>NaN</td>\n",
       "      <td>NaN</td>\n",
       "      <td>NaN</td>\n",
       "    </tr>\n",
       "    <tr>\n",
       "      <th>temperature_mavg7</th>\n",
       "      <td>1.944451</td>\n",
       "      <td>1.978938</td>\n",
       "      <td>1.905487</td>\n",
       "      <td>8.675354</td>\n",
       "      <td>8.460200</td>\n",
       "      <td>8.460200</td>\n",
       "    </tr>\n",
       "    <tr>\n",
       "      <th>temperature_mavg90</th>\n",
       "      <td>0.380028</td>\n",
       "      <td>0.015570</td>\n",
       "      <td>0.072030</td>\n",
       "      <td>0.274919</td>\n",
       "      <td>NaN</td>\n",
       "      <td>NaN</td>\n",
       "    </tr>\n",
       "  </tbody>\n",
       "</table>\n",
       "</div>"
      ],
      "text/plain": [
       "MODEL_NAME          DECISION TREE                              RANDOM FOREST  \\\n",
       "FEATURE_TYPE                Basic Enhanced_Signals Inc_Signals         Basic   \n",
       "FEATURE                                                                        \n",
       "clean_ao_value                NaN         0.484511    0.586696           NaN   \n",
       "clean_nao_value               NaN         0.387084    0.319784           NaN   \n",
       "clean_nino12_value            NaN         0.176243    0.171550           NaN   \n",
       "clean_nino34_value            NaN         0.014362    0.075990           NaN   \n",
       "clean_nino3_value             NaN         0.155625    0.162820           NaN   \n",
       "clean_nino4_value             NaN         0.050394    0.000808           NaN   \n",
       "temperature_lag1        91.866531        91.563345   91.569282     85.242322   \n",
       "temperature_lag2         1.239663         1.220060    1.194826      1.553500   \n",
       "temperature_lag30        0.551914         0.641604    0.527405      0.532966   \n",
       "temperature_lag365       1.069122         0.947275    0.986347      1.080280   \n",
       "temperature_lag7         0.186437         0.173366    0.185205      0.730078   \n",
       "temperature_lag90        1.104324         0.751362    0.739947      0.587154   \n",
       "temperature_mavg180      0.570359         0.293828    0.448047      0.404703   \n",
       "temperature_mavg30       0.980080         0.966142    0.957687      0.671558   \n",
       "temperature_mavg60       0.107090         0.180291    0.096090           NaN   \n",
       "temperature_mavg7        1.944451         1.978938    1.905487      8.675354   \n",
       "temperature_mavg90       0.380028         0.015570    0.072030      0.274919   \n",
       "\n",
       "MODEL_NAME                                        \n",
       "FEATURE_TYPE        Enhanced_Signals Inc_Signals  \n",
       "FEATURE                                           \n",
       "clean_ao_value              0.667402    0.667402  \n",
       "clean_nao_value             0.570843    0.570843  \n",
       "clean_nino12_value               NaN         NaN  \n",
       "clean_nino34_value               NaN         NaN  \n",
       "clean_nino3_value                NaN         NaN  \n",
       "clean_nino4_value                NaN         NaN  \n",
       "temperature_lag1           84.878510   84.878510  \n",
       "temperature_lag2            1.365561    1.365561  \n",
       "temperature_lag30           0.353330    0.353330  \n",
       "temperature_lag365          0.836627    0.836627  \n",
       "temperature_lag7            0.593266    0.593266  \n",
       "temperature_lag90           0.454484    0.454484  \n",
       "temperature_mavg180              NaN         NaN  \n",
       "temperature_mavg30          0.515406    0.515406  \n",
       "temperature_mavg60               NaN         NaN  \n",
       "temperature_mavg7           8.460200    8.460200  \n",
       "temperature_mavg90               NaN         NaN  "
      ]
     },
     "execution_count": 7,
     "metadata": {},
     "output_type": "execute_result"
    }
   ],
   "source": [
    "features_df = get_feature_importances(results_top_10)\n",
    "features_df.pivot_table(index=['FEATURE'], columns=['MODEL_NAME','FEATURE_TYPE'], values=\"IMPORTANCE\")"
   ]
  },
  {
   "cell_type": "markdown",
   "metadata": {},
   "source": [
    "Lets look a boxplot of this data to see how the distributions look across our experiments for this location."
   ]
  },
  {
   "cell_type": "code",
   "execution_count": 19,
   "metadata": {},
   "outputs": [
    {
     "data": {
      "application/vnd.plotly.v1+json": {
       "data": [
        {
         "name": "temperature_lag1",
         "type": "box",
         "uid": "e5d28848-a050-11e8-9c81-00215cc353c9",
         "y": [
          84.87851038013636,
          84.87851038013636,
          85.24232175136999,
          91.56334543446482,
          91.56928205639656,
          91.86653104377045
         ]
        },
        {
         "name": "temperature_mavg7",
         "type": "box",
         "uid": "e5d28849-a050-11e8-aa0a-00215cc353c9",
         "y": [
          8.460200262214428,
          8.460200262214428,
          8.675354088929398,
          1.9789375500853157,
          1.9054874538044264,
          1.944450930927755
         ]
        },
        {
         "name": "temperature_lag2",
         "type": "box",
         "uid": "e5d2884a-a050-11e8-8448-00215cc353c9",
         "y": [
          1.365560837261902,
          1.365560837261902,
          1.5535004459848545,
          1.220060457784412,
          1.1948264002460662,
          1.2396629248843036
         ]
        },
        {
         "name": "temperature_lag365",
         "type": "box",
         "uid": "e5d2884b-a050-11e8-ba39-00215cc353c9",
         "y": [
          0.8366271607368303,
          0.8366271607368303,
          1.0802800198056166,
          0.9472748777912836,
          0.986346810483104,
          1.0691223688841864
         ]
        },
        {
         "name": "clean_ao_value",
         "type": "box",
         "uid": "e5d2884c-a050-11e8-90ce-00215cc353c9",
         "y": [
          0.6674022801295504,
          0.6674022801295504,
          0.4845107776137746,
          0.5866964717090439
         ]
        },
        {
         "name": "temperature_lag7",
         "type": "box",
         "uid": "e5d2884d-a050-11e8-9bbf-00215cc353c9",
         "y": [
          0.5932655942631743,
          0.5932655942631743,
          0.7300779153307547,
          0.1733662145756752,
          0.1852049718492179,
          0.1864368894793223
         ]
        },
        {
         "name": "clean_nao_value",
         "type": "box",
         "uid": "e5d2884e-a050-11e8-a86c-00215cc353c9",
         "y": [
          0.5708434161352269,
          0.5708434161352269,
          0.3870844241588998,
          0.31978432759102754
         ]
        },
        {
         "name": "temperature_mavg30",
         "type": "box",
         "uid": "e5d2884f-a050-11e8-97d1-00215cc353c9",
         "y": [
          0.5154055615849903,
          0.5154055615849903,
          0.6715577300103919,
          0.9661419351156232,
          0.9576866063085864,
          0.9800802487787336
         ]
        },
        {
         "name": "temperature_lag90",
         "type": "box",
         "uid": "e5d28850-a050-11e8-9f6a-00215cc353c9",
         "y": [
          0.45448438368638794,
          0.45448438368638794,
          0.5871542987567357,
          0.7513619879589208,
          0.7399466964587965,
          1.1043242912210338
         ]
        },
        {
         "name": "temperature_lag30",
         "type": "box",
         "uid": "e5d28851-a050-11e8-a084-00215cc353c9",
         "y": [
          0.3533302641756161,
          0.3533302641756161,
          0.5329660110188021,
          0.6416044330568579,
          0.527405244548058,
          0.5519144879594257
         ]
        },
        {
         "name": "temperature_mavg180",
         "type": "box",
         "uid": "e5d28852-a050-11e8-8d5c-00215cc353c9",
         "y": [
          0.4047033534424993,
          0.2938276216568905,
          0.4480466602075071,
          0.5703589166942953
         ]
        },
        {
         "name": "temperature_mavg90",
         "type": "box",
         "uid": "e5d28853-a050-11e8-9675-00215cc353c9",
         "y": [
          0.27491938115927006,
          0.0155699822189872,
          0.07203004000338573,
          0.3800279989793861
         ]
        },
        {
         "name": "temperature_mavg60",
         "type": "box",
         "uid": "e5d28854-a050-11e8-9f98-00215cc353c9",
         "y": [
          0.18029052831328152,
          0.09608961845904623,
          0.10708989842108613
         ]
        },
        {
         "name": "clean_nino12_value",
         "type": "box",
         "uid": "e5d28855-a050-11e8-93d6-00215cc353c9",
         "y": [
          0.17624264274697582,
          0.17154982708236546
         ]
        },
        {
         "name": "clean_nino3_value",
         "type": "box",
         "uid": "e5d28856-a050-11e8-85e8-00215cc353c9",
         "y": [
          0.1556251902298995,
          0.16281970626306036
         ]
        },
        {
         "name": "clean_nino4_value",
         "type": "box",
         "uid": "e5d28857-a050-11e8-8dcc-00215cc353c9",
         "y": [
          0.050393591129423085,
          0.0008075588053656634
         ]
        },
        {
         "name": "clean_nino34_value",
         "type": "box",
         "uid": "e5d28858-a050-11e8-a5f0-00215cc353c9",
         "y": [
          0.014362351098961978,
          0.07598954978439587
         ]
        }
       ],
       "layout": {}
      },
      "text/html": [
       "<div id=\"6f4a14b6-4f58-4687-a933-b640e9176153\" style=\"height: 525px; width: 100%;\" class=\"plotly-graph-div\"></div><script type=\"text/javascript\">require([\"plotly\"], function(Plotly) { window.PLOTLYENV=window.PLOTLYENV || {};window.PLOTLYENV.BASE_URL=\"https://plot.ly\";Plotly.newPlot(\"6f4a14b6-4f58-4687-a933-b640e9176153\", [{\"name\": \"temperature_lag1\", \"y\": [84.87851038013636, 84.87851038013636, 85.24232175136999, 91.56334543446482, 91.56928205639656, 91.86653104377045], \"type\": \"box\", \"uid\": \"e5db13c0-a050-11e8-ba04-00215cc353c9\"}, {\"name\": \"temperature_mavg7\", \"y\": [8.460200262214428, 8.460200262214428, 8.675354088929398, 1.9789375500853157, 1.9054874538044264, 1.944450930927755], \"type\": \"box\", \"uid\": \"e5db13c1-a050-11e8-955b-00215cc353c9\"}, {\"name\": \"temperature_lag2\", \"y\": [1.365560837261902, 1.365560837261902, 1.5535004459848545, 1.220060457784412, 1.1948264002460662, 1.2396629248843036], \"type\": \"box\", \"uid\": \"e5db13c2-a050-11e8-9004-00215cc353c9\"}, {\"name\": \"temperature_lag365\", \"y\": [0.8366271607368303, 0.8366271607368303, 1.0802800198056166, 0.9472748777912836, 0.986346810483104, 1.0691223688841864], \"type\": \"box\", \"uid\": \"e5db13c3-a050-11e8-b8ff-00215cc353c9\"}, {\"name\": \"clean_ao_value\", \"y\": [0.6674022801295504, 0.6674022801295504, 0.4845107776137746, 0.5866964717090439], \"type\": \"box\", \"uid\": \"e5db13c4-a050-11e8-bf49-00215cc353c9\"}, {\"name\": \"temperature_lag7\", \"y\": [0.5932655942631743, 0.5932655942631743, 0.7300779153307547, 0.1733662145756752, 0.1852049718492179, 0.1864368894793223], \"type\": \"box\", \"uid\": \"e5db13c5-a050-11e8-b311-00215cc353c9\"}, {\"name\": \"clean_nao_value\", \"y\": [0.5708434161352269, 0.5708434161352269, 0.3870844241588998, 0.31978432759102754], \"type\": \"box\", \"uid\": \"e5db13c6-a050-11e8-aead-00215cc353c9\"}, {\"name\": \"temperature_mavg30\", \"y\": [0.5154055615849903, 0.5154055615849903, 0.6715577300103919, 0.9661419351156232, 0.9576866063085864, 0.9800802487787336], \"type\": \"box\", \"uid\": \"e5db13c7-a050-11e8-8841-00215cc353c9\"}, {\"name\": \"temperature_lag90\", \"y\": [0.45448438368638794, 0.45448438368638794, 0.5871542987567357, 0.7513619879589208, 0.7399466964587965, 1.1043242912210338], \"type\": \"box\", \"uid\": \"e5db13c8-a050-11e8-b0a6-00215cc353c9\"}, {\"name\": \"temperature_lag30\", \"y\": [0.3533302641756161, 0.3533302641756161, 0.5329660110188021, 0.6416044330568579, 0.527405244548058, 0.5519144879594257], \"type\": \"box\", \"uid\": \"e5db13c9-a050-11e8-b4a7-00215cc353c9\"}, {\"name\": \"temperature_mavg180\", \"y\": [0.4047033534424993, 0.2938276216568905, 0.4480466602075071, 0.5703589166942953], \"type\": \"box\", \"uid\": \"e5db13ca-a050-11e8-8b3d-00215cc353c9\"}, {\"name\": \"temperature_mavg90\", \"y\": [0.27491938115927006, 0.0155699822189872, 0.07203004000338573, 0.3800279989793861], \"type\": \"box\", \"uid\": \"e5db13cb-a050-11e8-98e4-00215cc353c9\"}, {\"name\": \"temperature_mavg60\", \"y\": [0.18029052831328152, 0.09608961845904623, 0.10708989842108613], \"type\": \"box\", \"uid\": \"e5db13cc-a050-11e8-9bcd-00215cc353c9\"}, {\"name\": \"clean_nino12_value\", \"y\": [0.17624264274697582, 0.17154982708236546], \"type\": \"box\", \"uid\": \"e5db13cd-a050-11e8-a99c-00215cc353c9\"}, {\"name\": \"clean_nino3_value\", \"y\": [0.1556251902298995, 0.16281970626306036], \"type\": \"box\", \"uid\": \"e5db13ce-a050-11e8-8527-00215cc353c9\"}, {\"name\": \"clean_nino4_value\", \"y\": [0.050393591129423085, 0.0008075588053656634], \"type\": \"box\", \"uid\": \"e5db13cf-a050-11e8-8895-00215cc353c9\"}, {\"name\": \"clean_nino34_value\", \"y\": [0.014362351098961978, 0.07598954978439587], \"type\": \"box\", \"uid\": \"e5db13d0-a050-11e8-ae27-00215cc353c9\"}], {}, {\"showLink\": true, \"linkText\": \"Export to plot.ly\"})});</script>"
      ],
      "text/vnd.plotly.v1+html": [
       "<div id=\"6f4a14b6-4f58-4687-a933-b640e9176153\" style=\"height: 525px; width: 100%;\" class=\"plotly-graph-div\"></div><script type=\"text/javascript\">require([\"plotly\"], function(Plotly) { window.PLOTLYENV=window.PLOTLYENV || {};window.PLOTLYENV.BASE_URL=\"https://plot.ly\";Plotly.newPlot(\"6f4a14b6-4f58-4687-a933-b640e9176153\", [{\"name\": \"temperature_lag1\", \"y\": [84.87851038013636, 84.87851038013636, 85.24232175136999, 91.56334543446482, 91.56928205639656, 91.86653104377045], \"type\": \"box\", \"uid\": \"e5db13c0-a050-11e8-ba04-00215cc353c9\"}, {\"name\": \"temperature_mavg7\", \"y\": [8.460200262214428, 8.460200262214428, 8.675354088929398, 1.9789375500853157, 1.9054874538044264, 1.944450930927755], \"type\": \"box\", \"uid\": \"e5db13c1-a050-11e8-955b-00215cc353c9\"}, {\"name\": \"temperature_lag2\", \"y\": [1.365560837261902, 1.365560837261902, 1.5535004459848545, 1.220060457784412, 1.1948264002460662, 1.2396629248843036], \"type\": \"box\", \"uid\": \"e5db13c2-a050-11e8-9004-00215cc353c9\"}, {\"name\": \"temperature_lag365\", \"y\": [0.8366271607368303, 0.8366271607368303, 1.0802800198056166, 0.9472748777912836, 0.986346810483104, 1.0691223688841864], \"type\": \"box\", \"uid\": \"e5db13c3-a050-11e8-b8ff-00215cc353c9\"}, {\"name\": \"clean_ao_value\", \"y\": [0.6674022801295504, 0.6674022801295504, 0.4845107776137746, 0.5866964717090439], \"type\": \"box\", \"uid\": \"e5db13c4-a050-11e8-bf49-00215cc353c9\"}, {\"name\": \"temperature_lag7\", \"y\": [0.5932655942631743, 0.5932655942631743, 0.7300779153307547, 0.1733662145756752, 0.1852049718492179, 0.1864368894793223], \"type\": \"box\", \"uid\": \"e5db13c5-a050-11e8-b311-00215cc353c9\"}, {\"name\": \"clean_nao_value\", \"y\": [0.5708434161352269, 0.5708434161352269, 0.3870844241588998, 0.31978432759102754], \"type\": \"box\", \"uid\": \"e5db13c6-a050-11e8-aead-00215cc353c9\"}, {\"name\": \"temperature_mavg30\", \"y\": [0.5154055615849903, 0.5154055615849903, 0.6715577300103919, 0.9661419351156232, 0.9576866063085864, 0.9800802487787336], \"type\": \"box\", \"uid\": \"e5db13c7-a050-11e8-8841-00215cc353c9\"}, {\"name\": \"temperature_lag90\", \"y\": [0.45448438368638794, 0.45448438368638794, 0.5871542987567357, 0.7513619879589208, 0.7399466964587965, 1.1043242912210338], \"type\": \"box\", \"uid\": \"e5db13c8-a050-11e8-b0a6-00215cc353c9\"}, {\"name\": \"temperature_lag30\", \"y\": [0.3533302641756161, 0.3533302641756161, 0.5329660110188021, 0.6416044330568579, 0.527405244548058, 0.5519144879594257], \"type\": \"box\", \"uid\": \"e5db13c9-a050-11e8-b4a7-00215cc353c9\"}, {\"name\": \"temperature_mavg180\", \"y\": [0.4047033534424993, 0.2938276216568905, 0.4480466602075071, 0.5703589166942953], \"type\": \"box\", \"uid\": \"e5db13ca-a050-11e8-8b3d-00215cc353c9\"}, {\"name\": \"temperature_mavg90\", \"y\": [0.27491938115927006, 0.0155699822189872, 0.07203004000338573, 0.3800279989793861], \"type\": \"box\", \"uid\": \"e5db13cb-a050-11e8-98e4-00215cc353c9\"}, {\"name\": \"temperature_mavg60\", \"y\": [0.18029052831328152, 0.09608961845904623, 0.10708989842108613], \"type\": \"box\", \"uid\": \"e5db13cc-a050-11e8-9bcd-00215cc353c9\"}, {\"name\": \"clean_nino12_value\", \"y\": [0.17624264274697582, 0.17154982708236546], \"type\": \"box\", \"uid\": \"e5db13cd-a050-11e8-a99c-00215cc353c9\"}, {\"name\": \"clean_nino3_value\", \"y\": [0.1556251902298995, 0.16281970626306036], \"type\": \"box\", \"uid\": \"e5db13ce-a050-11e8-8527-00215cc353c9\"}, {\"name\": \"clean_nino4_value\", \"y\": [0.050393591129423085, 0.0008075588053656634], \"type\": \"box\", \"uid\": \"e5db13cf-a050-11e8-8895-00215cc353c9\"}, {\"name\": \"clean_nino34_value\", \"y\": [0.014362351098961978, 0.07598954978439587], \"type\": \"box\", \"uid\": \"e5db13d0-a050-11e8-ae27-00215cc353c9\"}], {}, {\"showLink\": true, \"linkText\": \"Export to plot.ly\"})});</script>"
      ]
     },
     "metadata": {},
     "output_type": "display_data"
    }
   ],
   "source": [
    "traces = create_boxplot_traces_for_features(features_df)\n",
    "iplot(traces)"
   ]
  },
  {
   "cell_type": "markdown",
   "metadata": {},
   "source": [
    "Lets review the means for the features"
   ]
  },
  {
   "cell_type": "code",
   "execution_count": 10,
   "metadata": {},
   "outputs": [
    {
     "data": {
      "text/html": [
       "<div>\n",
       "<style scoped>\n",
       "    .dataframe tbody tr th:only-of-type {\n",
       "        vertical-align: middle;\n",
       "    }\n",
       "\n",
       "    .dataframe tbody tr th {\n",
       "        vertical-align: top;\n",
       "    }\n",
       "\n",
       "    .dataframe thead tr th {\n",
       "        text-align: left;\n",
       "    }\n",
       "\n",
       "    .dataframe thead tr:last-of-type th {\n",
       "        text-align: right;\n",
       "    }\n",
       "</style>\n",
       "<table border=\"1\" class=\"dataframe\">\n",
       "  <thead>\n",
       "    <tr>\n",
       "      <th></th>\n",
       "      <th>mean</th>\n",
       "    </tr>\n",
       "    <tr>\n",
       "      <th></th>\n",
       "      <th>IMPORTANCE</th>\n",
       "    </tr>\n",
       "    <tr>\n",
       "      <th>FEATURE</th>\n",
       "      <th></th>\n",
       "    </tr>\n",
       "  </thead>\n",
       "  <tbody>\n",
       "    <tr>\n",
       "      <th>clean_ao_value</th>\n",
       "      <td>0.601503</td>\n",
       "    </tr>\n",
       "    <tr>\n",
       "      <th>clean_nao_value</th>\n",
       "      <td>0.462139</td>\n",
       "    </tr>\n",
       "    <tr>\n",
       "      <th>clean_nino12_value</th>\n",
       "      <td>0.173896</td>\n",
       "    </tr>\n",
       "    <tr>\n",
       "      <th>clean_nino34_value</th>\n",
       "      <td>0.045176</td>\n",
       "    </tr>\n",
       "    <tr>\n",
       "      <th>clean_nino3_value</th>\n",
       "      <td>0.159222</td>\n",
       "    </tr>\n",
       "    <tr>\n",
       "      <th>clean_nino4_value</th>\n",
       "      <td>0.025601</td>\n",
       "    </tr>\n",
       "    <tr>\n",
       "      <th>temperature_lag1</th>\n",
       "      <td>88.333084</td>\n",
       "    </tr>\n",
       "    <tr>\n",
       "      <th>temperature_lag2</th>\n",
       "      <td>1.323195</td>\n",
       "    </tr>\n",
       "    <tr>\n",
       "      <th>temperature_lag30</th>\n",
       "      <td>0.493425</td>\n",
       "    </tr>\n",
       "    <tr>\n",
       "      <th>temperature_lag365</th>\n",
       "      <td>0.959380</td>\n",
       "    </tr>\n",
       "    <tr>\n",
       "      <th>temperature_lag7</th>\n",
       "      <td>0.410270</td>\n",
       "    </tr>\n",
       "    <tr>\n",
       "      <th>temperature_lag90</th>\n",
       "      <td>0.681959</td>\n",
       "    </tr>\n",
       "    <tr>\n",
       "      <th>temperature_mavg180</th>\n",
       "      <td>0.429234</td>\n",
       "    </tr>\n",
       "    <tr>\n",
       "      <th>temperature_mavg30</th>\n",
       "      <td>0.767713</td>\n",
       "    </tr>\n",
       "    <tr>\n",
       "      <th>temperature_mavg60</th>\n",
       "      <td>0.127823</td>\n",
       "    </tr>\n",
       "    <tr>\n",
       "      <th>temperature_mavg7</th>\n",
       "      <td>5.237438</td>\n",
       "    </tr>\n",
       "    <tr>\n",
       "      <th>temperature_mavg90</th>\n",
       "      <td>0.185637</td>\n",
       "    </tr>\n",
       "  </tbody>\n",
       "</table>\n",
       "</div>"
      ],
      "text/plain": [
       "                          mean\n",
       "                    IMPORTANCE\n",
       "FEATURE                       \n",
       "clean_ao_value        0.601503\n",
       "clean_nao_value       0.462139\n",
       "clean_nino12_value    0.173896\n",
       "clean_nino34_value    0.045176\n",
       "clean_nino3_value     0.159222\n",
       "clean_nino4_value     0.025601\n",
       "temperature_lag1     88.333084\n",
       "temperature_lag2      1.323195\n",
       "temperature_lag30     0.493425\n",
       "temperature_lag365    0.959380\n",
       "temperature_lag7      0.410270\n",
       "temperature_lag90     0.681959\n",
       "temperature_mavg180   0.429234\n",
       "temperature_mavg30    0.767713\n",
       "temperature_mavg60    0.127823\n",
       "temperature_mavg7     5.237438\n",
       "temperature_mavg90    0.185637"
      ]
     },
     "execution_count": 10,
     "metadata": {},
     "output_type": "execute_result"
    }
   ],
   "source": [
    "features_df = get_feature_importances(results_top_10)\n",
    "pivot_df = features_df.pivot_table(index=['FEATURE'], columns=[], values=\"IMPORTANCE\", aggfunc= [np.mean])\n",
    "pivot_df"
   ]
  },
  {
   "cell_type": "markdown",
   "metadata": {},
   "source": [
    "Now lets review the top 5 only"
   ]
  },
  {
   "cell_type": "code",
   "execution_count": 11,
   "metadata": {},
   "outputs": [
    {
     "data": {
      "text/html": [
       "<div>\n",
       "<style scoped>\n",
       "    .dataframe tbody tr th:only-of-type {\n",
       "        vertical-align: middle;\n",
       "    }\n",
       "\n",
       "    .dataframe tbody tr th {\n",
       "        vertical-align: top;\n",
       "    }\n",
       "\n",
       "    .dataframe thead th {\n",
       "        text-align: right;\n",
       "    }\n",
       "</style>\n",
       "<table border=\"1\" class=\"dataframe\">\n",
       "  <thead>\n",
       "    <tr style=\"text-align: right;\">\n",
       "      <th></th>\n",
       "      <th>mean</th>\n",
       "    </tr>\n",
       "    <tr>\n",
       "      <th>FEATURE</th>\n",
       "      <th></th>\n",
       "    </tr>\n",
       "  </thead>\n",
       "  <tbody>\n",
       "    <tr>\n",
       "      <th>temperature_lag1</th>\n",
       "      <td>88.333084</td>\n",
       "    </tr>\n",
       "    <tr>\n",
       "      <th>temperature_mavg7</th>\n",
       "      <td>5.237438</td>\n",
       "    </tr>\n",
       "    <tr>\n",
       "      <th>temperature_lag2</th>\n",
       "      <td>1.323195</td>\n",
       "    </tr>\n",
       "    <tr>\n",
       "      <th>temperature_lag365</th>\n",
       "      <td>0.959380</td>\n",
       "    </tr>\n",
       "    <tr>\n",
       "      <th>temperature_mavg30</th>\n",
       "      <td>0.767713</td>\n",
       "    </tr>\n",
       "  </tbody>\n",
       "</table>\n",
       "</div>"
      ],
      "text/plain": [
       "                         mean\n",
       "FEATURE                      \n",
       "temperature_lag1    88.333084\n",
       "temperature_mavg7    5.237438\n",
       "temperature_lag2     1.323195\n",
       "temperature_lag365   0.959380\n",
       "temperature_mavg30   0.767713"
      ]
     },
     "execution_count": 11,
     "metadata": {},
     "output_type": "execute_result"
    }
   ],
   "source": [
    "pivot_df.columns = pivot_df.columns.get_level_values(0)\n",
    "pivot_df.sort_values(['mean'], ascending=False).head(5)"
   ]
  },
  {
   "cell_type": "code",
   "execution_count": null,
   "metadata": {
    "collapsed": true
   },
   "outputs": [],
   "source": []
  }
 ],
 "metadata": {
  "kernelspec": {
   "display_name": "Python 3",
   "language": "python",
   "name": "python3"
  },
  "language_info": {
   "codemirror_mode": {
    "name": "ipython",
    "version": 3
   },
   "file_extension": ".py",
   "mimetype": "text/x-python",
   "name": "python",
   "nbconvert_exporter": "python",
   "pygments_lexer": "ipython3",
   "version": "3.6.3"
  }
 },
 "nbformat": 4,
 "nbformat_minor": 2
}
