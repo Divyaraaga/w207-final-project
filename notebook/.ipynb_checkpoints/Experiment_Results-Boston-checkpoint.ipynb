{
 "cells": [
  {
   "cell_type": "markdown",
   "metadata": {},
   "source": [
    "# Experiment Results"
   ]
  },
  {
   "cell_type": "markdown",
   "metadata": {},
   "source": [
    "## Results for Boston"
   ]
  },
  {
   "cell_type": "code",
   "execution_count": 2,
   "metadata": {},
   "outputs": [
    {
     "data": {
      "text/html": [
       "<script>requirejs.config({paths: { 'plotly': ['https://cdn.plot.ly/plotly-latest.min']},});if(!window.Plotly) {{require(['plotly'],function(plotly) {window.Plotly=plotly;});}}</script>"
      ],
      "text/vnd.plotly.v1+html": [
       "<script>requirejs.config({paths: { 'plotly': ['https://cdn.plot.ly/plotly-latest.min']},});if(!window.Plotly) {{require(['plotly'],function(plotly) {window.Plotly=plotly;});}}</script>"
      ]
     },
     "metadata": {},
     "output_type": "display_data"
    }
   ],
   "source": [
    "import warnings\n",
    "warnings.filterwarnings('ignore')\n",
    "\n",
    "%run helper_functions.py\n",
    "%matplotlib inline"
   ]
  },
  {
   "cell_type": "markdown",
   "metadata": {},
   "source": [
    "Lets review the top 10 results, ordered by Mean Square Error (ascending)"
   ]
  },
  {
   "cell_type": "code",
   "execution_count": 3,
   "metadata": {},
   "outputs": [
    {
     "data": {
      "text/html": [
       "<div>\n",
       "<style scoped>\n",
       "    .dataframe tbody tr th:only-of-type {\n",
       "        vertical-align: middle;\n",
       "    }\n",
       "\n",
       "    .dataframe tbody tr th {\n",
       "        vertical-align: top;\n",
       "    }\n",
       "\n",
       "    .dataframe thead th {\n",
       "        text-align: right;\n",
       "    }\n",
       "</style>\n",
       "<table border=\"1\" class=\"dataframe\">\n",
       "  <thead>\n",
       "    <tr style=\"text-align: right;\">\n",
       "      <th></th>\n",
       "      <th>RUN_ID</th>\n",
       "      <th>DATETIME</th>\n",
       "      <th>MODEL_NAME</th>\n",
       "      <th>CITY</th>\n",
       "      <th>FEATURE_TYPE</th>\n",
       "      <th>HOST_MACHINE</th>\n",
       "      <th>MODEL_PARAMETERS</th>\n",
       "      <th>MODEL_RESULTS</th>\n",
       "      <th>MEAN_SQUARED_ERROR</th>\n",
       "    </tr>\n",
       "  </thead>\n",
       "  <tbody>\n",
       "    <tr>\n",
       "      <th>1</th>\n",
       "      <td>51</td>\n",
       "      <td>2018-08-14 20:39:52.178626</td>\n",
       "      <td>RNN</td>\n",
       "      <td>Boston</td>\n",
       "      <td>Enhanced_Signals</td>\n",
       "      <td>DESKTOP-KN40C32</td>\n",
       "      <td>{'epochs': 50, 'Info': {'feature_set_type': 'E...</td>\n",
       "      <td>{'features': ['temperature_lag1', 'temperature...</td>\n",
       "      <td>11.645510</td>\n",
       "    </tr>\n",
       "    <tr>\n",
       "      <th>2</th>\n",
       "      <td>45</td>\n",
       "      <td>2018-08-14 20:37:08.003250</td>\n",
       "      <td>RNN</td>\n",
       "      <td>Boston</td>\n",
       "      <td>Inc_Signals</td>\n",
       "      <td>DESKTOP-KN40C32</td>\n",
       "      <td>{'epochs': 50, 'Info': {'feature_set_type': 'I...</td>\n",
       "      <td>{'features': ['temperature_lag1', 'temperature...</td>\n",
       "      <td>11.682041</td>\n",
       "    </tr>\n",
       "    <tr>\n",
       "      <th>3</th>\n",
       "      <td>39</td>\n",
       "      <td>2018-08-14 20:34:39.550435</td>\n",
       "      <td>RNN</td>\n",
       "      <td>Boston</td>\n",
       "      <td>Basic</td>\n",
       "      <td>DESKTOP-KN40C32</td>\n",
       "      <td>{'epochs': 50, 'Info': {'feature_set_type': 'B...</td>\n",
       "      <td>{'features': ['temperature_lag1', 'temperature...</td>\n",
       "      <td>11.869203</td>\n",
       "    </tr>\n",
       "    <tr>\n",
       "      <th>4</th>\n",
       "      <td>21</td>\n",
       "      <td>2018-08-14 19:54:48.599391</td>\n",
       "      <td>RANDOM FOREST</td>\n",
       "      <td>Boston</td>\n",
       "      <td>Basic</td>\n",
       "      <td>DESKTOP-KN40C32</td>\n",
       "      <td>{'max_depth': 8, 'n_estimators': 50, 'Info': {...</td>\n",
       "      <td>{'features': ['temperature_lag1', 'temperature...</td>\n",
       "      <td>11.877780</td>\n",
       "    </tr>\n",
       "    <tr>\n",
       "      <th>5</th>\n",
       "      <td>27</td>\n",
       "      <td>2018-08-14 19:55:39.652542</td>\n",
       "      <td>RANDOM FOREST</td>\n",
       "      <td>Boston</td>\n",
       "      <td>Inc_Signals</td>\n",
       "      <td>DESKTOP-KN40C32</td>\n",
       "      <td>{'max_depth': 8, 'n_estimators': 50, 'Info': {...</td>\n",
       "      <td>{'features': ['temperature_lag1', 'temperature...</td>\n",
       "      <td>12.735153</td>\n",
       "    </tr>\n",
       "    <tr>\n",
       "      <th>6</th>\n",
       "      <td>33</td>\n",
       "      <td>2018-08-14 19:56:30.584670</td>\n",
       "      <td>RANDOM FOREST</td>\n",
       "      <td>Boston</td>\n",
       "      <td>Enhanced_Signals</td>\n",
       "      <td>DESKTOP-KN40C32</td>\n",
       "      <td>{'max_depth': 8, 'n_estimators': 50, 'Info': {...</td>\n",
       "      <td>{'features': ['temperature_lag1', 'temperature...</td>\n",
       "      <td>12.735153</td>\n",
       "    </tr>\n",
       "    <tr>\n",
       "      <th>7</th>\n",
       "      <td>3</td>\n",
       "      <td>2018-08-14 19:42:23.328525</td>\n",
       "      <td>DECISION TREE</td>\n",
       "      <td>Boston</td>\n",
       "      <td>Basic</td>\n",
       "      <td>DESKTOP-KN40C32</td>\n",
       "      <td>{'max_depth': 8, 'Info': {'feature_set_type': ...</td>\n",
       "      <td>{'features': ['temperature_lag1', 'temperature...</td>\n",
       "      <td>16.504857</td>\n",
       "    </tr>\n",
       "    <tr>\n",
       "      <th>8</th>\n",
       "      <td>9</td>\n",
       "      <td>2018-08-14 19:43:20.383683</td>\n",
       "      <td>DECISION TREE</td>\n",
       "      <td>Boston</td>\n",
       "      <td>Inc_Signals</td>\n",
       "      <td>DESKTOP-KN40C32</td>\n",
       "      <td>{'max_depth': 8, 'Info': {'feature_set_type': ...</td>\n",
       "      <td>{'features': ['temperature_lag1', 'temperature...</td>\n",
       "      <td>22.967065</td>\n",
       "    </tr>\n",
       "    <tr>\n",
       "      <th>9</th>\n",
       "      <td>15</td>\n",
       "      <td>2018-08-14 19:44:14.731752</td>\n",
       "      <td>DECISION TREE</td>\n",
       "      <td>Boston</td>\n",
       "      <td>Enhanced_Signals</td>\n",
       "      <td>DESKTOP-KN40C32</td>\n",
       "      <td>{'max_depth': 8, 'Info': {'feature_set_type': ...</td>\n",
       "      <td>{'features': ['temperature_lag1', 'temperature...</td>\n",
       "      <td>25.109055</td>\n",
       "    </tr>\n",
       "  </tbody>\n",
       "</table>\n",
       "</div>"
      ],
      "text/plain": [
       "  RUN_ID                   DATETIME     MODEL_NAME    CITY      FEATURE_TYPE  \\\n",
       "1     51 2018-08-14 20:39:52.178626            RNN  Boston  Enhanced_Signals   \n",
       "2     45 2018-08-14 20:37:08.003250            RNN  Boston       Inc_Signals   \n",
       "3     39 2018-08-14 20:34:39.550435            RNN  Boston             Basic   \n",
       "4     21 2018-08-14 19:54:48.599391  RANDOM FOREST  Boston             Basic   \n",
       "5     27 2018-08-14 19:55:39.652542  RANDOM FOREST  Boston       Inc_Signals   \n",
       "6     33 2018-08-14 19:56:30.584670  RANDOM FOREST  Boston  Enhanced_Signals   \n",
       "7      3 2018-08-14 19:42:23.328525  DECISION TREE  Boston             Basic   \n",
       "8      9 2018-08-14 19:43:20.383683  DECISION TREE  Boston       Inc_Signals   \n",
       "9     15 2018-08-14 19:44:14.731752  DECISION TREE  Boston  Enhanced_Signals   \n",
       "\n",
       "      HOST_MACHINE                                   MODEL_PARAMETERS  \\\n",
       "1  DESKTOP-KN40C32  {'epochs': 50, 'Info': {'feature_set_type': 'E...   \n",
       "2  DESKTOP-KN40C32  {'epochs': 50, 'Info': {'feature_set_type': 'I...   \n",
       "3  DESKTOP-KN40C32  {'epochs': 50, 'Info': {'feature_set_type': 'B...   \n",
       "4  DESKTOP-KN40C32  {'max_depth': 8, 'n_estimators': 50, 'Info': {...   \n",
       "5  DESKTOP-KN40C32  {'max_depth': 8, 'n_estimators': 50, 'Info': {...   \n",
       "6  DESKTOP-KN40C32  {'max_depth': 8, 'n_estimators': 50, 'Info': {...   \n",
       "7  DESKTOP-KN40C32  {'max_depth': 8, 'Info': {'feature_set_type': ...   \n",
       "8  DESKTOP-KN40C32  {'max_depth': 8, 'Info': {'feature_set_type': ...   \n",
       "9  DESKTOP-KN40C32  {'max_depth': 8, 'Info': {'feature_set_type': ...   \n",
       "\n",
       "                                       MODEL_RESULTS  MEAN_SQUARED_ERROR  \n",
       "1  {'features': ['temperature_lag1', 'temperature...           11.645510  \n",
       "2  {'features': ['temperature_lag1', 'temperature...           11.682041  \n",
       "3  {'features': ['temperature_lag1', 'temperature...           11.869203  \n",
       "4  {'features': ['temperature_lag1', 'temperature...           11.877780  \n",
       "5  {'features': ['temperature_lag1', 'temperature...           12.735153  \n",
       "6  {'features': ['temperature_lag1', 'temperature...           12.735153  \n",
       "7  {'features': ['temperature_lag1', 'temperature...           16.504857  \n",
       "8  {'features': ['temperature_lag1', 'temperature...           22.967065  \n",
       "9  {'features': ['temperature_lag1', 'temperature...           25.109055  "
      ]
     },
     "execution_count": 3,
     "metadata": {},
     "output_type": "execute_result"
    }
   ],
   "source": [
    "city='Boston'\n",
    "results_top_10 = get_results(city=city, top_hm_results=10)\n",
    "results_top_10"
   ]
  },
  {
   "cell_type": "markdown",
   "metadata": {},
   "source": [
    "RNN has done better than Random forest but the results are close so there is no clear winner, lets take a look at that chart."
   ]
  },
  {
   "cell_type": "code",
   "execution_count": 4,
   "metadata": {},
   "outputs": [
    {
     "data": {
      "text/markdown": [
       "### Experiment #51 - run by DESKTOP-KN40C32 on 2018-08-14 20:39:52.178626"
      ],
      "text/plain": [
       "<IPython.core.display.Markdown object>"
      ]
     },
     "metadata": {},
     "output_type": "display_data"
    },
    {
     "data": {
      "text/markdown": [
       "![](../experiment_results/RUN-51/Daily_predict.png)"
      ],
      "text/plain": [
       "<IPython.core.display.Markdown object>"
      ]
     },
     "metadata": {},
     "output_type": "display_data"
    }
   ],
   "source": [
    "display_results(results_top_10.head(1), chart_type='predict')"
   ]
  },
  {
   "cell_type": "markdown",
   "metadata": {},
   "source": [
    "We can see the forecast follows the trend and it does a better job but like the prior example of Miami it has some difficulty following the peaks and troughs of the actual temperature pattern experiences. \n",
    "\n",
    "Lets examine the top 10 features across the model runs for this location in a pivot table form."
   ]
  },
  {
   "cell_type": "code",
   "execution_count": 5,
   "metadata": {},
   "outputs": [
    {
     "data": {
      "text/html": [
       "<div>\n",
       "<style scoped>\n",
       "    .dataframe tbody tr th:only-of-type {\n",
       "        vertical-align: middle;\n",
       "    }\n",
       "\n",
       "    .dataframe tbody tr th {\n",
       "        vertical-align: top;\n",
       "    }\n",
       "\n",
       "    .dataframe thead tr th {\n",
       "        text-align: left;\n",
       "    }\n",
       "\n",
       "    .dataframe thead tr:last-of-type th {\n",
       "        text-align: right;\n",
       "    }\n",
       "</style>\n",
       "<table border=\"1\" class=\"dataframe\">\n",
       "  <thead>\n",
       "    <tr>\n",
       "      <th>MODEL_NAME</th>\n",
       "      <th colspan=\"3\" halign=\"left\">DECISION TREE</th>\n",
       "      <th colspan=\"3\" halign=\"left\">RANDOM FOREST</th>\n",
       "    </tr>\n",
       "    <tr>\n",
       "      <th>FEATURE_TYPE</th>\n",
       "      <th>Basic</th>\n",
       "      <th>Enhanced_Signals</th>\n",
       "      <th>Inc_Signals</th>\n",
       "      <th>Basic</th>\n",
       "      <th>Enhanced_Signals</th>\n",
       "      <th>Inc_Signals</th>\n",
       "    </tr>\n",
       "    <tr>\n",
       "      <th>FEATURE</th>\n",
       "      <th></th>\n",
       "      <th></th>\n",
       "      <th></th>\n",
       "      <th></th>\n",
       "      <th></th>\n",
       "      <th></th>\n",
       "    </tr>\n",
       "  </thead>\n",
       "  <tbody>\n",
       "    <tr>\n",
       "      <th>clean_ao_value</th>\n",
       "      <td>NaN</td>\n",
       "      <td>0.494070</td>\n",
       "      <td>0.547344</td>\n",
       "      <td>NaN</td>\n",
       "      <td>0.519692</td>\n",
       "      <td>0.519692</td>\n",
       "    </tr>\n",
       "    <tr>\n",
       "      <th>clean_nao_value</th>\n",
       "      <td>NaN</td>\n",
       "      <td>0.365090</td>\n",
       "      <td>0.362958</td>\n",
       "      <td>NaN</td>\n",
       "      <td>0.509393</td>\n",
       "      <td>0.509393</td>\n",
       "    </tr>\n",
       "    <tr>\n",
       "      <th>clean_nino12_value</th>\n",
       "      <td>NaN</td>\n",
       "      <td>0.287805</td>\n",
       "      <td>0.302207</td>\n",
       "      <td>NaN</td>\n",
       "      <td>NaN</td>\n",
       "      <td>NaN</td>\n",
       "    </tr>\n",
       "    <tr>\n",
       "      <th>clean_nino34_value</th>\n",
       "      <td>NaN</td>\n",
       "      <td>0.021185</td>\n",
       "      <td>0.006980</td>\n",
       "      <td>NaN</td>\n",
       "      <td>NaN</td>\n",
       "      <td>NaN</td>\n",
       "    </tr>\n",
       "    <tr>\n",
       "      <th>clean_nino3_value</th>\n",
       "      <td>NaN</td>\n",
       "      <td>0.012564</td>\n",
       "      <td>0.012307</td>\n",
       "      <td>NaN</td>\n",
       "      <td>NaN</td>\n",
       "      <td>NaN</td>\n",
       "    </tr>\n",
       "    <tr>\n",
       "      <th>clean_nino4_value</th>\n",
       "      <td>NaN</td>\n",
       "      <td>0.146795</td>\n",
       "      <td>0.132922</td>\n",
       "      <td>NaN</td>\n",
       "      <td>NaN</td>\n",
       "      <td>NaN</td>\n",
       "    </tr>\n",
       "    <tr>\n",
       "      <th>temperature_lag1</th>\n",
       "      <td>22.853599</td>\n",
       "      <td>22.547786</td>\n",
       "      <td>22.555122</td>\n",
       "      <td>39.903638</td>\n",
       "      <td>39.676008</td>\n",
       "      <td>39.676008</td>\n",
       "    </tr>\n",
       "    <tr>\n",
       "      <th>temperature_lag2</th>\n",
       "      <td>1.512019</td>\n",
       "      <td>1.278805</td>\n",
       "      <td>1.293871</td>\n",
       "      <td>1.508032</td>\n",
       "      <td>1.242142</td>\n",
       "      <td>1.242142</td>\n",
       "    </tr>\n",
       "    <tr>\n",
       "      <th>temperature_lag30</th>\n",
       "      <td>0.261568</td>\n",
       "      <td>0.202941</td>\n",
       "      <td>0.197705</td>\n",
       "      <td>0.572096</td>\n",
       "      <td>0.415173</td>\n",
       "      <td>0.415173</td>\n",
       "    </tr>\n",
       "    <tr>\n",
       "      <th>temperature_lag365</th>\n",
       "      <td>0.821443</td>\n",
       "      <td>0.820219</td>\n",
       "      <td>0.772308</td>\n",
       "      <td>0.938950</td>\n",
       "      <td>0.762632</td>\n",
       "      <td>0.762632</td>\n",
       "    </tr>\n",
       "    <tr>\n",
       "      <th>temperature_lag7</th>\n",
       "      <td>0.475197</td>\n",
       "      <td>0.497790</td>\n",
       "      <td>0.543488</td>\n",
       "      <td>0.657224</td>\n",
       "      <td>0.573611</td>\n",
       "      <td>0.573611</td>\n",
       "    </tr>\n",
       "    <tr>\n",
       "      <th>temperature_lag90</th>\n",
       "      <td>0.296958</td>\n",
       "      <td>0.351368</td>\n",
       "      <td>0.361960</td>\n",
       "      <td>0.514342</td>\n",
       "      <td>0.442467</td>\n",
       "      <td>0.442467</td>\n",
       "    </tr>\n",
       "    <tr>\n",
       "      <th>temperature_mavg180</th>\n",
       "      <td>0.472520</td>\n",
       "      <td>0.218633</td>\n",
       "      <td>0.242651</td>\n",
       "      <td>0.417609</td>\n",
       "      <td>NaN</td>\n",
       "      <td>NaN</td>\n",
       "    </tr>\n",
       "    <tr>\n",
       "      <th>temperature_mavg30</th>\n",
       "      <td>0.255383</td>\n",
       "      <td>0.256516</td>\n",
       "      <td>0.265126</td>\n",
       "      <td>0.472850</td>\n",
       "      <td>0.361452</td>\n",
       "      <td>0.361452</td>\n",
       "    </tr>\n",
       "    <tr>\n",
       "      <th>temperature_mavg60</th>\n",
       "      <td>0.291385</td>\n",
       "      <td>0.051112</td>\n",
       "      <td>0.079570</td>\n",
       "      <td>NaN</td>\n",
       "      <td>NaN</td>\n",
       "      <td>NaN</td>\n",
       "    </tr>\n",
       "    <tr>\n",
       "      <th>temperature_mavg7</th>\n",
       "      <td>72.406163</td>\n",
       "      <td>71.954276</td>\n",
       "      <td>71.946289</td>\n",
       "      <td>54.442588</td>\n",
       "      <td>54.181522</td>\n",
       "      <td>54.181522</td>\n",
       "    </tr>\n",
       "    <tr>\n",
       "      <th>temperature_mavg90</th>\n",
       "      <td>0.353767</td>\n",
       "      <td>0.493047</td>\n",
       "      <td>0.377192</td>\n",
       "      <td>0.295478</td>\n",
       "      <td>NaN</td>\n",
       "      <td>NaN</td>\n",
       "    </tr>\n",
       "  </tbody>\n",
       "</table>\n",
       "</div>"
      ],
      "text/plain": [
       "MODEL_NAME          DECISION TREE                              RANDOM FOREST  \\\n",
       "FEATURE_TYPE                Basic Enhanced_Signals Inc_Signals         Basic   \n",
       "FEATURE                                                                        \n",
       "clean_ao_value                NaN         0.494070    0.547344           NaN   \n",
       "clean_nao_value               NaN         0.365090    0.362958           NaN   \n",
       "clean_nino12_value            NaN         0.287805    0.302207           NaN   \n",
       "clean_nino34_value            NaN         0.021185    0.006980           NaN   \n",
       "clean_nino3_value             NaN         0.012564    0.012307           NaN   \n",
       "clean_nino4_value             NaN         0.146795    0.132922           NaN   \n",
       "temperature_lag1        22.853599        22.547786   22.555122     39.903638   \n",
       "temperature_lag2         1.512019         1.278805    1.293871      1.508032   \n",
       "temperature_lag30        0.261568         0.202941    0.197705      0.572096   \n",
       "temperature_lag365       0.821443         0.820219    0.772308      0.938950   \n",
       "temperature_lag7         0.475197         0.497790    0.543488      0.657224   \n",
       "temperature_lag90        0.296958         0.351368    0.361960      0.514342   \n",
       "temperature_mavg180      0.472520         0.218633    0.242651      0.417609   \n",
       "temperature_mavg30       0.255383         0.256516    0.265126      0.472850   \n",
       "temperature_mavg60       0.291385         0.051112    0.079570           NaN   \n",
       "temperature_mavg7       72.406163        71.954276   71.946289     54.442588   \n",
       "temperature_mavg90       0.353767         0.493047    0.377192      0.295478   \n",
       "\n",
       "MODEL_NAME                                        \n",
       "FEATURE_TYPE        Enhanced_Signals Inc_Signals  \n",
       "FEATURE                                           \n",
       "clean_ao_value              0.519692    0.519692  \n",
       "clean_nao_value             0.509393    0.509393  \n",
       "clean_nino12_value               NaN         NaN  \n",
       "clean_nino34_value               NaN         NaN  \n",
       "clean_nino3_value                NaN         NaN  \n",
       "clean_nino4_value                NaN         NaN  \n",
       "temperature_lag1           39.676008   39.676008  \n",
       "temperature_lag2            1.242142    1.242142  \n",
       "temperature_lag30           0.415173    0.415173  \n",
       "temperature_lag365          0.762632    0.762632  \n",
       "temperature_lag7            0.573611    0.573611  \n",
       "temperature_lag90           0.442467    0.442467  \n",
       "temperature_mavg180              NaN         NaN  \n",
       "temperature_mavg30          0.361452    0.361452  \n",
       "temperature_mavg60               NaN         NaN  \n",
       "temperature_mavg7          54.181522   54.181522  \n",
       "temperature_mavg90               NaN         NaN  "
      ]
     },
     "execution_count": 5,
     "metadata": {},
     "output_type": "execute_result"
    }
   ],
   "source": [
    "features_df = get_feature_importances(results_top_10)\n",
    "features_df.pivot_table(index=['FEATURE'], columns=['MODEL_NAME','FEATURE_TYPE'], values=\"IMPORTANCE\")"
   ]
  },
  {
   "cell_type": "markdown",
   "metadata": {},
   "source": [
    "Lets look a boxplot of this data to see how the distributions look across our experiments for this location."
   ]
  },
  {
   "cell_type": "code",
   "execution_count": 6,
   "metadata": {},
   "outputs": [
    {
     "data": {
      "application/vnd.plotly.v1+json": {
       "data": [
        {
         "name": "temperature_mavg7",
         "type": "box",
         "uid": "a7601c02-a051-11e8-a757-00215cc353c9",
         "y": [
          54.44258811286502,
          54.18152193219796,
          54.18152193219796,
          72.40616278008353,
          71.94628883906756,
          71.95427568904037
         ]
        },
        {
         "name": "temperature_lag1",
         "type": "box",
         "uid": "a7601c03-a051-11e8-b993-00215cc353c9",
         "y": [
          39.90363806860511,
          39.67600767826004,
          39.67600767826004,
          22.85359912647269,
          22.55512227367858,
          22.54778616411038
         ]
        },
        {
         "name": "temperature_lag2",
         "type": "box",
         "uid": "a7601c04-a051-11e8-97ec-00215cc353c9",
         "y": [
          1.5080319919876544,
          1.2421422423871709,
          1.2421422423871709,
          1.5120187092917208,
          1.2938709788435336,
          1.2788046308255814
         ]
        },
        {
         "name": "temperature_lag365",
         "type": "box",
         "uid": "a7601c05-a051-11e8-a869-00215cc353c9",
         "y": [
          0.9389500701109851,
          0.7626322412867821,
          0.7626322412867821,
          0.8214426242096559,
          0.7723078204736172,
          0.8202185838473004
         ]
        },
        {
         "name": "temperature_lag7",
         "type": "box",
         "uid": "a7601c06-a051-11e8-817b-00215cc353c9",
         "y": [
          0.6572237392846044,
          0.5736105722417697,
          0.5736105722417697,
          0.4751974927611304,
          0.543487514125178,
          0.4977900330881353
         ]
        },
        {
         "name": "temperature_lag30",
         "type": "box",
         "uid": "a7601c07-a051-11e8-b128-00215cc353c9",
         "y": [
          0.5720962761395487,
          0.4151727719445389,
          0.4151727719445389,
          0.2615675605446975,
          0.19770520786135426,
          0.2029413547781164
         ]
        },
        {
         "name": "temperature_lag90",
         "type": "box",
         "uid": "a7601c08-a051-11e8-bfac-00215cc353c9",
         "y": [
          0.5143421626677596,
          0.4424674166210029,
          0.4424674166210029,
          0.2969575620664183,
          0.3619601636890524,
          0.3513677867895627
         ]
        },
        {
         "name": "temperature_mavg30",
         "type": "box",
         "uid": "a7601c09-a051-11e8-bc81-00215cc353c9",
         "y": [
          0.47285041212525897,
          0.3614521794957148,
          0.3614521794957148,
          0.2553828022378814,
          0.265126045853828,
          0.2565157866953106
         ]
        },
        {
         "name": "temperature_mavg180",
         "type": "box",
         "uid": "a7601c0a-a051-11e8-8695-00215cc353c9",
         "y": [
          0.4176085430305354,
          0.4725201471566141,
          0.24265105271927306,
          0.21863273947416254
         ]
        },
        {
         "name": "temperature_mavg90",
         "type": "box",
         "uid": "a7601c0b-a051-11e8-b639-00215cc353c9",
         "y": [
          0.2954780010582147,
          0.35376650099224555,
          0.3771924323933992,
          0.4930468601975056
         ]
        },
        {
         "name": "clean_ao_value",
         "type": "box",
         "uid": "a7601c0c-a051-11e8-a855-00215cc353c9",
         "y": [
          0.5196921592106337,
          0.5196921592106337,
          0.5473439617836742,
          0.4940696196642476
         ]
        },
        {
         "name": "clean_nao_value",
         "type": "box",
         "uid": "a7601c0d-a051-11e8-b58a-00215cc353c9",
         "y": [
          0.5093933756057148,
          0.5093933756057148,
          0.3629576573205747,
          0.3650901929352501
         ]
        },
        {
         "name": "temperature_mavg60",
         "type": "box",
         "uid": "a7601c0e-a051-11e8-ab99-00215cc353c9",
         "y": [
          0.29138469418343643,
          0.07956988935202015,
          0.051111618782504885
         ]
        },
        {
         "name": "clean_nino12_value",
         "type": "box",
         "uid": "a7601c0f-a051-11e8-beed-00215cc353c9",
         "y": [
          0.3022068508721808,
          0.28780485079220897
         ]
        },
        {
         "name": "clean_nino4_value",
         "type": "box",
         "uid": "a7601c10-a051-11e8-bc58-00215cc353c9",
         "y": [
          0.13292214890773926,
          0.14679476915696724
         ]
        },
        {
         "name": "clean_nino3_value",
         "type": "box",
         "uid": "a7601c11-a051-11e8-b08b-00215cc353c9",
         "y": [
          0.012307150061452124,
          0.012564210546541249
         ]
        },
        {
         "name": "clean_nino34_value",
         "type": "box",
         "uid": "a7601c12-a051-11e8-b4d2-00215cc353c9",
         "y": [
          0.0069800129969783435,
          0.02118510927584955
         ]
        }
       ],
       "layout": {}
      },
      "text/html": [
       "<div id=\"a8a0148a-a286-4472-83f9-caadd591e435\" style=\"height: 525px; width: 100%;\" class=\"plotly-graph-div\"></div><script type=\"text/javascript\">require([\"plotly\"], function(Plotly) { window.PLOTLYENV=window.PLOTLYENV || {};window.PLOTLYENV.BASE_URL=\"https://plot.ly\";Plotly.newPlot(\"a8a0148a-a286-4472-83f9-caadd591e435\", [{\"name\": \"temperature_mavg7\", \"y\": [54.44258811286502, 54.18152193219796, 54.18152193219796, 72.40616278008353, 71.94628883906756, 71.95427568904037], \"type\": \"box\", \"uid\": \"a7d3ecba-a051-11e8-b356-00215cc353c9\"}, {\"name\": \"temperature_lag1\", \"y\": [39.90363806860511, 39.67600767826004, 39.67600767826004, 22.85359912647269, 22.55512227367858, 22.54778616411038], \"type\": \"box\", \"uid\": \"a7d3ecbb-a051-11e8-955d-00215cc353c9\"}, {\"name\": \"temperature_lag2\", \"y\": [1.5080319919876544, 1.2421422423871709, 1.2421422423871709, 1.5120187092917208, 1.2938709788435336, 1.2788046308255814], \"type\": \"box\", \"uid\": \"a7d3ecbc-a051-11e8-a647-00215cc353c9\"}, {\"name\": \"temperature_lag365\", \"y\": [0.9389500701109851, 0.7626322412867821, 0.7626322412867821, 0.8214426242096559, 0.7723078204736172, 0.8202185838473004], \"type\": \"box\", \"uid\": \"a7d3ecbd-a051-11e8-aebb-00215cc353c9\"}, {\"name\": \"temperature_lag7\", \"y\": [0.6572237392846044, 0.5736105722417697, 0.5736105722417697, 0.4751974927611304, 0.543487514125178, 0.4977900330881353], \"type\": \"box\", \"uid\": \"a7d3ecbe-a051-11e8-9606-00215cc353c9\"}, {\"name\": \"temperature_lag30\", \"y\": [0.5720962761395487, 0.4151727719445389, 0.4151727719445389, 0.2615675605446975, 0.19770520786135426, 0.2029413547781164], \"type\": \"box\", \"uid\": \"a7d3ecbf-a051-11e8-8fb4-00215cc353c9\"}, {\"name\": \"temperature_lag90\", \"y\": [0.5143421626677596, 0.4424674166210029, 0.4424674166210029, 0.2969575620664183, 0.3619601636890524, 0.3513677867895627], \"type\": \"box\", \"uid\": \"a7d3ecc0-a051-11e8-ae46-00215cc353c9\"}, {\"name\": \"temperature_mavg30\", \"y\": [0.47285041212525897, 0.3614521794957148, 0.3614521794957148, 0.2553828022378814, 0.265126045853828, 0.2565157866953106], \"type\": \"box\", \"uid\": \"a7d3ecc1-a051-11e8-ba52-00215cc353c9\"}, {\"name\": \"temperature_mavg180\", \"y\": [0.4176085430305354, 0.4725201471566141, 0.24265105271927306, 0.21863273947416254], \"type\": \"box\", \"uid\": \"a7d41392-a051-11e8-ba16-00215cc353c9\"}, {\"name\": \"temperature_mavg90\", \"y\": [0.2954780010582147, 0.35376650099224555, 0.3771924323933992, 0.4930468601975056], \"type\": \"box\", \"uid\": \"a7d41393-a051-11e8-b2c5-00215cc353c9\"}, {\"name\": \"clean_ao_value\", \"y\": [0.5196921592106337, 0.5196921592106337, 0.5473439617836742, 0.4940696196642476], \"type\": \"box\", \"uid\": \"a7d41394-a051-11e8-889e-00215cc353c9\"}, {\"name\": \"clean_nao_value\", \"y\": [0.5093933756057148, 0.5093933756057148, 0.3629576573205747, 0.3650901929352501], \"type\": \"box\", \"uid\": \"a7d41395-a051-11e8-b7f1-00215cc353c9\"}, {\"name\": \"temperature_mavg60\", \"y\": [0.29138469418343643, 0.07956988935202015, 0.051111618782504885], \"type\": \"box\", \"uid\": \"a7d41396-a051-11e8-9bed-00215cc353c9\"}, {\"name\": \"clean_nino12_value\", \"y\": [0.3022068508721808, 0.28780485079220897], \"type\": \"box\", \"uid\": \"a7d41397-a051-11e8-bed0-00215cc353c9\"}, {\"name\": \"clean_nino4_value\", \"y\": [0.13292214890773926, 0.14679476915696724], \"type\": \"box\", \"uid\": \"a7d41398-a051-11e8-b03b-00215cc353c9\"}, {\"name\": \"clean_nino3_value\", \"y\": [0.012307150061452124, 0.012564210546541249], \"type\": \"box\", \"uid\": \"a7d41399-a051-11e8-bfde-00215cc353c9\"}, {\"name\": \"clean_nino34_value\", \"y\": [0.0069800129969783435, 0.02118510927584955], \"type\": \"box\", \"uid\": \"a7d4139a-a051-11e8-82cb-00215cc353c9\"}], {}, {\"showLink\": true, \"linkText\": \"Export to plot.ly\"})});</script>"
      ],
      "text/vnd.plotly.v1+html": [
       "<div id=\"a8a0148a-a286-4472-83f9-caadd591e435\" style=\"height: 525px; width: 100%;\" class=\"plotly-graph-div\"></div><script type=\"text/javascript\">require([\"plotly\"], function(Plotly) { window.PLOTLYENV=window.PLOTLYENV || {};window.PLOTLYENV.BASE_URL=\"https://plot.ly\";Plotly.newPlot(\"a8a0148a-a286-4472-83f9-caadd591e435\", [{\"name\": \"temperature_mavg7\", \"y\": [54.44258811286502, 54.18152193219796, 54.18152193219796, 72.40616278008353, 71.94628883906756, 71.95427568904037], \"type\": \"box\", \"uid\": \"a7d3ecba-a051-11e8-b356-00215cc353c9\"}, {\"name\": \"temperature_lag1\", \"y\": [39.90363806860511, 39.67600767826004, 39.67600767826004, 22.85359912647269, 22.55512227367858, 22.54778616411038], \"type\": \"box\", \"uid\": \"a7d3ecbb-a051-11e8-955d-00215cc353c9\"}, {\"name\": \"temperature_lag2\", \"y\": [1.5080319919876544, 1.2421422423871709, 1.2421422423871709, 1.5120187092917208, 1.2938709788435336, 1.2788046308255814], \"type\": \"box\", \"uid\": \"a7d3ecbc-a051-11e8-a647-00215cc353c9\"}, {\"name\": \"temperature_lag365\", \"y\": [0.9389500701109851, 0.7626322412867821, 0.7626322412867821, 0.8214426242096559, 0.7723078204736172, 0.8202185838473004], \"type\": \"box\", \"uid\": \"a7d3ecbd-a051-11e8-aebb-00215cc353c9\"}, {\"name\": \"temperature_lag7\", \"y\": [0.6572237392846044, 0.5736105722417697, 0.5736105722417697, 0.4751974927611304, 0.543487514125178, 0.4977900330881353], \"type\": \"box\", \"uid\": \"a7d3ecbe-a051-11e8-9606-00215cc353c9\"}, {\"name\": \"temperature_lag30\", \"y\": [0.5720962761395487, 0.4151727719445389, 0.4151727719445389, 0.2615675605446975, 0.19770520786135426, 0.2029413547781164], \"type\": \"box\", \"uid\": \"a7d3ecbf-a051-11e8-8fb4-00215cc353c9\"}, {\"name\": \"temperature_lag90\", \"y\": [0.5143421626677596, 0.4424674166210029, 0.4424674166210029, 0.2969575620664183, 0.3619601636890524, 0.3513677867895627], \"type\": \"box\", \"uid\": \"a7d3ecc0-a051-11e8-ae46-00215cc353c9\"}, {\"name\": \"temperature_mavg30\", \"y\": [0.47285041212525897, 0.3614521794957148, 0.3614521794957148, 0.2553828022378814, 0.265126045853828, 0.2565157866953106], \"type\": \"box\", \"uid\": \"a7d3ecc1-a051-11e8-ba52-00215cc353c9\"}, {\"name\": \"temperature_mavg180\", \"y\": [0.4176085430305354, 0.4725201471566141, 0.24265105271927306, 0.21863273947416254], \"type\": \"box\", \"uid\": \"a7d41392-a051-11e8-ba16-00215cc353c9\"}, {\"name\": \"temperature_mavg90\", \"y\": [0.2954780010582147, 0.35376650099224555, 0.3771924323933992, 0.4930468601975056], \"type\": \"box\", \"uid\": \"a7d41393-a051-11e8-b2c5-00215cc353c9\"}, {\"name\": \"clean_ao_value\", \"y\": [0.5196921592106337, 0.5196921592106337, 0.5473439617836742, 0.4940696196642476], \"type\": \"box\", \"uid\": \"a7d41394-a051-11e8-889e-00215cc353c9\"}, {\"name\": \"clean_nao_value\", \"y\": [0.5093933756057148, 0.5093933756057148, 0.3629576573205747, 0.3650901929352501], \"type\": \"box\", \"uid\": \"a7d41395-a051-11e8-b7f1-00215cc353c9\"}, {\"name\": \"temperature_mavg60\", \"y\": [0.29138469418343643, 0.07956988935202015, 0.051111618782504885], \"type\": \"box\", \"uid\": \"a7d41396-a051-11e8-9bed-00215cc353c9\"}, {\"name\": \"clean_nino12_value\", \"y\": [0.3022068508721808, 0.28780485079220897], \"type\": \"box\", \"uid\": \"a7d41397-a051-11e8-bed0-00215cc353c9\"}, {\"name\": \"clean_nino4_value\", \"y\": [0.13292214890773926, 0.14679476915696724], \"type\": \"box\", \"uid\": \"a7d41398-a051-11e8-b03b-00215cc353c9\"}, {\"name\": \"clean_nino3_value\", \"y\": [0.012307150061452124, 0.012564210546541249], \"type\": \"box\", \"uid\": \"a7d41399-a051-11e8-bfde-00215cc353c9\"}, {\"name\": \"clean_nino34_value\", \"y\": [0.0069800129969783435, 0.02118510927584955], \"type\": \"box\", \"uid\": \"a7d4139a-a051-11e8-82cb-00215cc353c9\"}], {}, {\"showLink\": true, \"linkText\": \"Export to plot.ly\"})});</script>"
      ]
     },
     "metadata": {},
     "output_type": "display_data"
    }
   ],
   "source": [
    "traces = create_boxplot_traces_for_features(features_df)\n",
    "iplot(traces)"
   ]
  },
  {
   "cell_type": "markdown",
   "metadata": {},
   "source": [
    "Lets review the means for the features"
   ]
  },
  {
   "cell_type": "code",
   "execution_count": 7,
   "metadata": {},
   "outputs": [
    {
     "data": {
      "text/html": [
       "<div>\n",
       "<style scoped>\n",
       "    .dataframe tbody tr th:only-of-type {\n",
       "        vertical-align: middle;\n",
       "    }\n",
       "\n",
       "    .dataframe tbody tr th {\n",
       "        vertical-align: top;\n",
       "    }\n",
       "\n",
       "    .dataframe thead tr th {\n",
       "        text-align: left;\n",
       "    }\n",
       "\n",
       "    .dataframe thead tr:last-of-type th {\n",
       "        text-align: right;\n",
       "    }\n",
       "</style>\n",
       "<table border=\"1\" class=\"dataframe\">\n",
       "  <thead>\n",
       "    <tr>\n",
       "      <th></th>\n",
       "      <th>mean</th>\n",
       "    </tr>\n",
       "    <tr>\n",
       "      <th></th>\n",
       "      <th>IMPORTANCE</th>\n",
       "    </tr>\n",
       "    <tr>\n",
       "      <th>FEATURE</th>\n",
       "      <th></th>\n",
       "    </tr>\n",
       "  </thead>\n",
       "  <tbody>\n",
       "    <tr>\n",
       "      <th>clean_ao_value</th>\n",
       "      <td>0.520199</td>\n",
       "    </tr>\n",
       "    <tr>\n",
       "      <th>clean_nao_value</th>\n",
       "      <td>0.436709</td>\n",
       "    </tr>\n",
       "    <tr>\n",
       "      <th>clean_nino12_value</th>\n",
       "      <td>0.295006</td>\n",
       "    </tr>\n",
       "    <tr>\n",
       "      <th>clean_nino34_value</th>\n",
       "      <td>0.014083</td>\n",
       "    </tr>\n",
       "    <tr>\n",
       "      <th>clean_nino3_value</th>\n",
       "      <td>0.012436</td>\n",
       "    </tr>\n",
       "    <tr>\n",
       "      <th>clean_nino4_value</th>\n",
       "      <td>0.139858</td>\n",
       "    </tr>\n",
       "    <tr>\n",
       "      <th>temperature_lag1</th>\n",
       "      <td>31.202027</td>\n",
       "    </tr>\n",
       "    <tr>\n",
       "      <th>temperature_lag2</th>\n",
       "      <td>1.346168</td>\n",
       "    </tr>\n",
       "    <tr>\n",
       "      <th>temperature_lag30</th>\n",
       "      <td>0.344109</td>\n",
       "    </tr>\n",
       "    <tr>\n",
       "      <th>temperature_lag365</th>\n",
       "      <td>0.813031</td>\n",
       "    </tr>\n",
       "    <tr>\n",
       "      <th>temperature_lag7</th>\n",
       "      <td>0.553487</td>\n",
       "    </tr>\n",
       "    <tr>\n",
       "      <th>temperature_lag90</th>\n",
       "      <td>0.401594</td>\n",
       "    </tr>\n",
       "    <tr>\n",
       "      <th>temperature_mavg180</th>\n",
       "      <td>0.337853</td>\n",
       "    </tr>\n",
       "    <tr>\n",
       "      <th>temperature_mavg30</th>\n",
       "      <td>0.328797</td>\n",
       "    </tr>\n",
       "    <tr>\n",
       "      <th>temperature_mavg60</th>\n",
       "      <td>0.140689</td>\n",
       "    </tr>\n",
       "    <tr>\n",
       "      <th>temperature_mavg7</th>\n",
       "      <td>63.185393</td>\n",
       "    </tr>\n",
       "    <tr>\n",
       "      <th>temperature_mavg90</th>\n",
       "      <td>0.379871</td>\n",
       "    </tr>\n",
       "  </tbody>\n",
       "</table>\n",
       "</div>"
      ],
      "text/plain": [
       "                          mean\n",
       "                    IMPORTANCE\n",
       "FEATURE                       \n",
       "clean_ao_value        0.520199\n",
       "clean_nao_value       0.436709\n",
       "clean_nino12_value    0.295006\n",
       "clean_nino34_value    0.014083\n",
       "clean_nino3_value     0.012436\n",
       "clean_nino4_value     0.139858\n",
       "temperature_lag1     31.202027\n",
       "temperature_lag2      1.346168\n",
       "temperature_lag30     0.344109\n",
       "temperature_lag365    0.813031\n",
       "temperature_lag7      0.553487\n",
       "temperature_lag90     0.401594\n",
       "temperature_mavg180   0.337853\n",
       "temperature_mavg30    0.328797\n",
       "temperature_mavg60    0.140689\n",
       "temperature_mavg7    63.185393\n",
       "temperature_mavg90    0.379871"
      ]
     },
     "execution_count": 7,
     "metadata": {},
     "output_type": "execute_result"
    }
   ],
   "source": [
    "features_df = get_feature_importances(results_top_10)\n",
    "pivot_df = features_df.pivot_table(index=['FEATURE'], columns=[], values=\"IMPORTANCE\", aggfunc= [np.mean])\n",
    "pivot_df"
   ]
  },
  {
   "cell_type": "markdown",
   "metadata": {},
   "source": [
    "Now lets review the top 5 only"
   ]
  },
  {
   "cell_type": "code",
   "execution_count": 8,
   "metadata": {},
   "outputs": [
    {
     "data": {
      "text/html": [
       "<div>\n",
       "<style scoped>\n",
       "    .dataframe tbody tr th:only-of-type {\n",
       "        vertical-align: middle;\n",
       "    }\n",
       "\n",
       "    .dataframe tbody tr th {\n",
       "        vertical-align: top;\n",
       "    }\n",
       "\n",
       "    .dataframe thead th {\n",
       "        text-align: right;\n",
       "    }\n",
       "</style>\n",
       "<table border=\"1\" class=\"dataframe\">\n",
       "  <thead>\n",
       "    <tr style=\"text-align: right;\">\n",
       "      <th></th>\n",
       "      <th>mean</th>\n",
       "    </tr>\n",
       "    <tr>\n",
       "      <th>FEATURE</th>\n",
       "      <th></th>\n",
       "    </tr>\n",
       "  </thead>\n",
       "  <tbody>\n",
       "    <tr>\n",
       "      <th>temperature_mavg7</th>\n",
       "      <td>63.185393</td>\n",
       "    </tr>\n",
       "    <tr>\n",
       "      <th>temperature_lag1</th>\n",
       "      <td>31.202027</td>\n",
       "    </tr>\n",
       "    <tr>\n",
       "      <th>temperature_lag2</th>\n",
       "      <td>1.346168</td>\n",
       "    </tr>\n",
       "    <tr>\n",
       "      <th>temperature_lag365</th>\n",
       "      <td>0.813031</td>\n",
       "    </tr>\n",
       "    <tr>\n",
       "      <th>temperature_lag7</th>\n",
       "      <td>0.553487</td>\n",
       "    </tr>\n",
       "  </tbody>\n",
       "</table>\n",
       "</div>"
      ],
      "text/plain": [
       "                         mean\n",
       "FEATURE                      \n",
       "temperature_mavg7   63.185393\n",
       "temperature_lag1    31.202027\n",
       "temperature_lag2     1.346168\n",
       "temperature_lag365   0.813031\n",
       "temperature_lag7     0.553487"
      ]
     },
     "execution_count": 8,
     "metadata": {},
     "output_type": "execute_result"
    }
   ],
   "source": [
    "pivot_df.columns = pivot_df.columns.get_level_values(0)\n",
    "pivot_df.sort_values(['mean'], ascending=False).head(5)"
   ]
  },
  {
   "cell_type": "markdown",
   "metadata": {},
   "source": [
    "This is different than the prior cases as we see the moving average taking a lead in the predictions, vs. the temperature of the prior day."
   ]
  }
 ],
 "metadata": {
  "kernelspec": {
   "display_name": "Python 3",
   "language": "python",
   "name": "python3"
  },
  "language_info": {
   "codemirror_mode": {
    "name": "ipython",
    "version": 3
   },
   "file_extension": ".py",
   "mimetype": "text/x-python",
   "name": "python",
   "nbconvert_exporter": "python",
   "pygments_lexer": "ipython3",
   "version": "3.6.3"
  }
 },
 "nbformat": 4,
 "nbformat_minor": 2
}
