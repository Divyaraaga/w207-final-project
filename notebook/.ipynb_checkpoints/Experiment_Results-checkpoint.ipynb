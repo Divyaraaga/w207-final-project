{
 "cells": [
  {
   "cell_type": "markdown",
   "metadata": {},
   "source": [
    "# Experiment Results"
   ]
  },
  {
   "cell_type": "code",
   "execution_count": 17,
   "metadata": {},
   "outputs": [
    {
     "data": {
      "text/html": [
       "<script>requirejs.config({paths: { 'plotly': ['https://cdn.plot.ly/plotly-latest.min']},});if(!window.Plotly) {{require(['plotly'],function(plotly) {window.Plotly=plotly;});}}</script>"
      ],
      "text/vnd.plotly.v1+html": [
       "<script>requirejs.config({paths: { 'plotly': ['https://cdn.plot.ly/plotly-latest.min']},});if(!window.Plotly) {{require(['plotly'],function(plotly) {window.Plotly=plotly;});}}</script>"
      ]
     },
     "metadata": {},
     "output_type": "display_data"
    }
   ],
   "source": [
    "import warnings\n",
    "warnings.filterwarnings('ignore')\n",
    "\n",
    "%run helper_functions.py\n",
    "%matplotlib inline"
   ]
  },
  {
   "cell_type": "markdown",
   "metadata": {},
   "source": [
    "Here we review the results from all of our experiments across the various ML algorithms we investigated and the datasets we created.\n",
    "\n",
    "We provide a summary below with a link to each of the notebooks used for the experiments."
   ]
  },
  {
   "cell_type": "markdown",
   "metadata": {},
   "source": [
    "## Experiment Summary\n",
    "\n",
    "We created the following datasets as part of our experiment design\n",
    "\n",
    "| Link | Dataset | Cleaned + Lags/Moving Averages | Including Signals | Enhanced Signals\n",
    "| ---- | :------ | ------------ | ----------- | ---------- |\n",
    "| [link](DataViewer.ipynb?DATA=Atlanta) | Atlanta | x | x | x | \n",
    "| [link](DataViewer.ipynb?DATA=Boston) | Boston | x | x | x |\n",
    "| [link](DataViewer.ipynb?DATA=Dallas) | Dallas | x | x | x |\n",
    "| [link](DataViewer.ipynb?DATA=Houston) | Houston | x | x | x |\n",
    "| [link](DataViewer.ipynb?DATA=New_York) | New York | x | x | x |\n",
    "| [link](DataViewer.ipynb?DATA=Miami) | Miami | x | x | x |\n",
    "\n",
    "\n",
    "We created the following supplementary signals that where used to enhance the datasets above\n",
    "\n",
    "| Link | Dataset | Cleaned | Enhanced with Lags/Moving Averages | Reference |\n",
    "| ---- | :------ | :-------: | :------------------------------: | :---------: |\n",
    "| [link](SignalViewer.ipynb?DATA=AO) | AO (Artic Oscillation) | x | x | x | \n",
    "| [link](SignalViewer.ipynb?DATA=NAO) | NAO (North American Oscilliation) | x | x | x |\n",
    "| [link](SignalViewer.ipynb?DATA=NINO3) | NINO3 | x | x | x |\n",
    "| [link](SignalViewer.ipynb?DATA=NINO4) | NINO4 | x | x | x |\n",
    "| [link](SignalViewer.ipynb?DATA=NINO12) | NINO1/2 | x | x | x |\n",
    "| [link](SignalViewer.ipynb?DATA=NINO34) | NINO3/4 | x | x | x |\n",
    "\n",
    "We also prepared other signals and locations to consider as part of our experimental design. We however limited ourselves to these datasets due to time constraints.\n",
    "\n",
    "We ran the following models as part of our experiment design, these notebooks we used repeatedly to run each variant of the experiments and we included hooks to track the artifacts and results.\n",
    "\n",
    "| Link | Experiments |\n",
    "| ---- | :------- |\n",
    "| [link](Daily_Temp_Analysis_ARIMA.ipynb) | ARIMA statistical models and techniques |\n",
    "| [link](Daily_Temp_Analysis_DT.ipynb) | Decision Tree |\n",
    "| [link](Daily_Temp_Analysis_RF.ipynb) | Random Forest |\n",
    "| [link](Daily_Temp_Analysis_RNN.ipynb) | Sequential Recurrent Neural Net |\n",
    "\n",
    "We systematically collected and archived all of the data created by each of the experiments and saved this assigning each experiment its own unique identifier. We also recorded who/when the experiment was run. We also collected various artifacts created in each experiement so we could repeat the experiment at a later date should it be required.\n"
   ]
  },
  {
   "cell_type": "markdown",
   "metadata": {},
   "source": [
    "This diagram shows the NINO area of the ocean ( courtesy of Climate Prediction Center, National Weather Service ) and it shows how the temperature of the ocean is localized."
   ]
  },
  {
   "cell_type": "code",
   "execution_count": 70,
   "metadata": {},
   "outputs": [
    {
     "data": {
      "text/html": [
       "<img src=\"http://www.cpc.ncep.noaa.gov/products/analysis_monitoring/enso_update/sstanim.gif\"></img>"
      ],
      "text/plain": [
       "<IPython.core.display.HTML object>"
      ]
     },
     "metadata": {},
     "output_type": "display_data"
    }
   ],
   "source": [
    "%%HTML\n",
    "<img src=\"http://www.cpc.ncep.noaa.gov/products/analysis_monitoring/enso_update/sstanim.gif\"></img>"
   ]
  },
  {
   "cell_type": "markdown",
   "metadata": {},
   "source": [
    "## Summary of results by location\n",
    "\n",
    "Here is some quick links to our results\n",
    "\n",
    "| Link | Experiments Results for cities |\n",
    "| ---- | :------- |\n",
    "| [link](Experiment_Results-Atlanta.ipynb) | Atlanta |\n",
    "| [link](Experiment_Results-Boston.ipynb) | Boston |\n",
    "| [link](Experiment_Results-Dallas.ipynb) | Dallas|\n",
    "| [link](Experiment_Results-Houston.ipynb) |Houston |\n",
    "| [link](Experiment_Results-New_York.ipynb) | New York |\n",
    "| [link](Experiment_Results-Miami.ipynb) | Miami |"
   ]
  },
  {
   "cell_type": "markdown",
   "metadata": {},
   "source": [
    "\n",
    "\n",
    "We have provided some pivot tables and charts to allow the reader to see the results of our experiments. We will focus initially on the Mean Squared Error metric as a means of illustrating how each model performed.\n",
    "\n",
    "ARIMA has been excluded from these comparisons as we were unable to create a forecast that would extend any more than 6 days before the signal reverted to the mean trend.\n",
    "\n",
    "On investigation, we would need to use an alternative model called SARIMAX which would allow us to extend the forecasts over a longer time period and thus we would be able to make a meaningful comparison. "
   ]
  },
  {
   "cell_type": "code",
   "execution_count": 4,
   "metadata": {},
   "outputs": [
    {
     "data": {
      "text/html": [
       "<div>\n",
       "<style>\n",
       "    .dataframe thead tr:only-child th {\n",
       "        text-align: right;\n",
       "    }\n",
       "\n",
       "    .dataframe thead th {\n",
       "        text-align: left;\n",
       "    }\n",
       "\n",
       "    .dataframe tbody tr th {\n",
       "        vertical-align: top;\n",
       "    }\n",
       "</style>\n",
       "<table border=\"1\" class=\"dataframe\">\n",
       "  <thead>\n",
       "    <tr>\n",
       "      <th>MODEL_NAME</th>\n",
       "      <th colspan=\"3\" halign=\"left\">DECISION TREE</th>\n",
       "      <th colspan=\"3\" halign=\"left\">RANDOM FOREST</th>\n",
       "      <th colspan=\"3\" halign=\"left\">RNN</th>\n",
       "    </tr>\n",
       "    <tr>\n",
       "      <th>FEATURE_TYPE</th>\n",
       "      <th>Basic</th>\n",
       "      <th>Enhanced_Signals</th>\n",
       "      <th>Inc_Signals</th>\n",
       "      <th>Basic</th>\n",
       "      <th>Enhanced_Signals</th>\n",
       "      <th>Inc_Signals</th>\n",
       "      <th>Basic</th>\n",
       "      <th>Enhanced_Signals</th>\n",
       "      <th>Inc_Signals</th>\n",
       "    </tr>\n",
       "    <tr>\n",
       "      <th>CITY</th>\n",
       "      <th></th>\n",
       "      <th></th>\n",
       "      <th></th>\n",
       "      <th></th>\n",
       "      <th></th>\n",
       "      <th></th>\n",
       "      <th></th>\n",
       "      <th></th>\n",
       "      <th></th>\n",
       "    </tr>\n",
       "  </thead>\n",
       "  <tbody>\n",
       "    <tr>\n",
       "      <th>Atlanta</th>\n",
       "      <td>8.436149</td>\n",
       "      <td>7.783687</td>\n",
       "      <td>7.992946</td>\n",
       "      <td>5.516615</td>\n",
       "      <td>5.434763</td>\n",
       "      <td>5.434763</td>\n",
       "      <td>5.105819</td>\n",
       "      <td>4.966304</td>\n",
       "      <td>5.628276</td>\n",
       "    </tr>\n",
       "    <tr>\n",
       "      <th>Boston</th>\n",
       "      <td>16.504857</td>\n",
       "      <td>25.109055</td>\n",
       "      <td>22.967065</td>\n",
       "      <td>11.877780</td>\n",
       "      <td>12.735153</td>\n",
       "      <td>12.735153</td>\n",
       "      <td>11.869203</td>\n",
       "      <td>11.645510</td>\n",
       "      <td>11.682041</td>\n",
       "    </tr>\n",
       "    <tr>\n",
       "      <th>Dallas</th>\n",
       "      <td>12.523335</td>\n",
       "      <td>15.432839</td>\n",
       "      <td>14.223161</td>\n",
       "      <td>8.983822</td>\n",
       "      <td>9.260334</td>\n",
       "      <td>9.260334</td>\n",
       "      <td>8.563057</td>\n",
       "      <td>8.632428</td>\n",
       "      <td>8.336575</td>\n",
       "    </tr>\n",
       "    <tr>\n",
       "      <th>Houston</th>\n",
       "      <td>7.705077</td>\n",
       "      <td>10.205057</td>\n",
       "      <td>10.519872</td>\n",
       "      <td>6.637421</td>\n",
       "      <td>6.041626</td>\n",
       "      <td>6.041626</td>\n",
       "      <td>5.581542</td>\n",
       "      <td>4.217506</td>\n",
       "      <td>4.588875</td>\n",
       "    </tr>\n",
       "    <tr>\n",
       "      <th>Miami</th>\n",
       "      <td>1.833555</td>\n",
       "      <td>1.556905</td>\n",
       "      <td>1.577366</td>\n",
       "      <td>1.206302</td>\n",
       "      <td>1.168790</td>\n",
       "      <td>1.168790</td>\n",
       "      <td>2.016882</td>\n",
       "      <td>2.012860</td>\n",
       "      <td>2.093093</td>\n",
       "    </tr>\n",
       "    <tr>\n",
       "      <th>New York</th>\n",
       "      <td>5.799872</td>\n",
       "      <td>6.767755</td>\n",
       "      <td>6.518000</td>\n",
       "      <td>4.369905</td>\n",
       "      <td>4.216172</td>\n",
       "      <td>4.216172</td>\n",
       "      <td>4.839433</td>\n",
       "      <td>4.095801</td>\n",
       "      <td>4.700272</td>\n",
       "    </tr>\n",
       "  </tbody>\n",
       "</table>\n",
       "</div>"
      ],
      "text/plain": [
       "MODEL_NAME   DECISION TREE                              RANDOM FOREST  \\\n",
       "FEATURE_TYPE         Basic Enhanced_Signals Inc_Signals         Basic   \n",
       "CITY                                                                    \n",
       "Atlanta           8.436149         7.783687    7.992946      5.516615   \n",
       "Boston           16.504857        25.109055   22.967065     11.877780   \n",
       "Dallas           12.523335        15.432839   14.223161      8.983822   \n",
       "Houston           7.705077        10.205057   10.519872      6.637421   \n",
       "Miami             1.833555         1.556905    1.577366      1.206302   \n",
       "New York          5.799872         6.767755    6.518000      4.369905   \n",
       "\n",
       "MODEL_NAME                                       RNN                   \\\n",
       "FEATURE_TYPE Enhanced_Signals Inc_Signals      Basic Enhanced_Signals   \n",
       "CITY                                                                    \n",
       "Atlanta              5.434763    5.434763   5.105819         4.966304   \n",
       "Boston              12.735153   12.735153  11.869203        11.645510   \n",
       "Dallas               9.260334    9.260334   8.563057         8.632428   \n",
       "Houston              6.041626    6.041626   5.581542         4.217506   \n",
       "Miami                1.168790    1.168790   2.016882         2.012860   \n",
       "New York             4.216172    4.216172   4.839433         4.095801   \n",
       "\n",
       "MODEL_NAME                \n",
       "FEATURE_TYPE Inc_Signals  \n",
       "CITY                      \n",
       "Atlanta         5.628276  \n",
       "Boston         11.682041  \n",
       "Dallas          8.336575  \n",
       "Houston         4.588875  \n",
       "Miami           2.093093  \n",
       "New York        4.700272  "
      ]
     },
     "execution_count": 4,
     "metadata": {},
     "output_type": "execute_result"
    }
   ],
   "source": [
    "# All runs presented in pivot table \n",
    "results_df = get_results()\n",
    "results_df.pivot_table(index=['CITY'], columns=['MODEL_NAME','FEATURE_TYPE'], values=\"MEAN_SQUARED_ERROR\")"
   ]
  },
  {
   "cell_type": "markdown",
   "metadata": {},
   "source": [
    "As we can see above, the enhanced signals appear in some instances to improve the forecasts. However this is not always the case, this could be because the cluster of signals choosen should be selected specifically for each location vs. just applying the same data set to each.\n",
    "\n",
    "We will also review those features flagged in each city's analysis to determine the top 10 features used by the models."
   ]
  },
  {
   "cell_type": "markdown",
   "metadata": {},
   "source": [
    "Let's use some boxplots to review the performance of our models over all of our experiments"
   ]
  },
  {
   "cell_type": "code",
   "execution_count": 19,
   "metadata": {},
   "outputs": [
    {
     "data": {
      "application/vnd.plotly.v1+json": {
       "data": [
        {
         "name": "DECISION TREE",
         "type": "box",
         "uid": "6dfbacfa-a05d-11e8-a9be-3c15c2df16f6",
         "y": [
          5.7998723023293515,
          8.436149146886928,
          16.50485682249502,
          12.523334848374635,
          7.7050769174337,
          1.8335547068344529,
          6.517999829450835,
          7.992946024989189,
          22.967065025804157,
          14.223161289556623,
          10.519871843360622,
          1.5773660502096332,
          6.767755191939864,
          7.783687444115288,
          25.109055444561534,
          15.432839121423886,
          1.5569050691717268,
          10.205056769324727
         ]
        },
        {
         "name": "RANDOM FOREST",
         "type": "box",
         "uid": "6dfbaf5e-a05d-11e8-a5fc-3c15c2df16f6",
         "y": [
          4.369905465863337,
          5.516615136984613,
          11.877780071573177,
          8.983821880686573,
          6.637420788526042,
          1.2063017328337227,
          4.216172255355244,
          5.4347634456409395,
          12.735153111078741,
          9.260333989755587,
          6.041625971463942,
          1.1687902866811652,
          4.216172255355244,
          5.4347634456409395,
          12.735153111078741,
          9.260333989755587,
          6.041625971463942,
          1.1687902866811652
         ]
        },
        {
         "name": "RNN",
         "type": "box",
         "uid": "6dfbb0e4-a05d-11e8-ab7c-3c15c2df16f6",
         "y": [
          4.839432813973904,
          5.105818502748364,
          11.869203007995566,
          8.563057103726269,
          5.581541534375796,
          2.0168823861294793,
          4.700271691561884,
          5.628275922257432,
          11.682040955894735,
          8.336574731987746,
          4.588874703455275,
          2.0930926530327967,
          4.09580074867803,
          4.9663039133177405,
          11.645510202010625,
          8.632428114277632,
          4.217506141849317,
          2.0128601641442403
         ]
        }
       ],
       "layout": {
        "title": "Mean Squared Error by Model Type"
       }
      },
      "text/html": [
       "<div id=\"69328b21-4909-482f-8287-b29b2d40765f\" style=\"height: 525px; width: 100%;\" class=\"plotly-graph-div\"></div><script type=\"text/javascript\">require([\"plotly\"], function(Plotly) { window.PLOTLYENV=window.PLOTLYENV || {};window.PLOTLYENV.BASE_URL=\"https://plotly.att.com\";\n",
       "        Plotly.plot(\n",
       "            '69328b21-4909-482f-8287-b29b2d40765f',\n",
       "            [{\"name\": \"DECISION TREE\", \"y\": [5.7998723023293515, 8.436149146886928, 16.50485682249502, 12.523334848374635, 7.7050769174337, 1.8335547068344529, 6.517999829450835, 7.992946024989189, 22.967065025804157, 14.223161289556623, 10.519871843360622, 1.5773660502096332, 6.767755191939864, 7.783687444115288, 25.109055444561534, 15.432839121423886, 1.5569050691717268, 10.205056769324727], \"type\": \"box\", \"uid\": \"6dfbacfa-a05d-11e8-a9be-3c15c2df16f6\"}, {\"name\": \"RANDOM FOREST\", \"y\": [4.369905465863337, 5.516615136984613, 11.877780071573177, 8.983821880686573, 6.637420788526042, 1.2063017328337227, 4.216172255355244, 5.4347634456409395, 12.735153111078741, 9.260333989755587, 6.041625971463942, 1.1687902866811652, 4.216172255355244, 5.4347634456409395, 12.735153111078741, 9.260333989755587, 6.041625971463942, 1.1687902866811652], \"type\": \"box\", \"uid\": \"6dfbaf5e-a05d-11e8-a5fc-3c15c2df16f6\"}, {\"name\": \"RNN\", \"y\": [4.839432813973904, 5.105818502748364, 11.869203007995566, 8.563057103726269, 5.581541534375796, 2.0168823861294793, 4.700271691561884, 5.628275922257432, 11.682040955894735, 8.336574731987746, 4.588874703455275, 2.0930926530327967, 4.09580074867803, 4.9663039133177405, 11.645510202010625, 8.632428114277632, 4.217506141849317, 2.0128601641442403], \"type\": \"box\", \"uid\": \"6dfbb0e4-a05d-11e8-ab7c-3c15c2df16f6\"}],\n",
       "            {\"title\": \"Mean Squared Error by Model Type\"},\n",
       "            {\"showLink\": true, \"linkText\": \"Export to plotly.att.com\"}\n",
       "        ).then(function () {return Plotly.addFrames('69328b21-4909-482f-8287-b29b2d40765f',{});}).then(function(){Plotly.animate('69328b21-4909-482f-8287-b29b2d40765f');})\n",
       "        });</script>"
      ],
      "text/vnd.plotly.v1+html": [
       "<div id=\"69328b21-4909-482f-8287-b29b2d40765f\" style=\"height: 525px; width: 100%;\" class=\"plotly-graph-div\"></div><script type=\"text/javascript\">require([\"plotly\"], function(Plotly) { window.PLOTLYENV=window.PLOTLYENV || {};window.PLOTLYENV.BASE_URL=\"https://plotly.att.com\";\n",
       "        Plotly.plot(\n",
       "            '69328b21-4909-482f-8287-b29b2d40765f',\n",
       "            [{\"name\": \"DECISION TREE\", \"y\": [5.7998723023293515, 8.436149146886928, 16.50485682249502, 12.523334848374635, 7.7050769174337, 1.8335547068344529, 6.517999829450835, 7.992946024989189, 22.967065025804157, 14.223161289556623, 10.519871843360622, 1.5773660502096332, 6.767755191939864, 7.783687444115288, 25.109055444561534, 15.432839121423886, 1.5569050691717268, 10.205056769324727], \"type\": \"box\", \"uid\": \"6dfbacfa-a05d-11e8-a9be-3c15c2df16f6\"}, {\"name\": \"RANDOM FOREST\", \"y\": [4.369905465863337, 5.516615136984613, 11.877780071573177, 8.983821880686573, 6.637420788526042, 1.2063017328337227, 4.216172255355244, 5.4347634456409395, 12.735153111078741, 9.260333989755587, 6.041625971463942, 1.1687902866811652, 4.216172255355244, 5.4347634456409395, 12.735153111078741, 9.260333989755587, 6.041625971463942, 1.1687902866811652], \"type\": \"box\", \"uid\": \"6dfbaf5e-a05d-11e8-a5fc-3c15c2df16f6\"}, {\"name\": \"RNN\", \"y\": [4.839432813973904, 5.105818502748364, 11.869203007995566, 8.563057103726269, 5.581541534375796, 2.0168823861294793, 4.700271691561884, 5.628275922257432, 11.682040955894735, 8.336574731987746, 4.588874703455275, 2.0930926530327967, 4.09580074867803, 4.9663039133177405, 11.645510202010625, 8.632428114277632, 4.217506141849317, 2.0128601641442403], \"type\": \"box\", \"uid\": \"6dfbb0e4-a05d-11e8-ab7c-3c15c2df16f6\"}],\n",
       "            {\"title\": \"Mean Squared Error by Model Type\"},\n",
       "            {\"showLink\": true, \"linkText\": \"Export to plotly.att.com\"}\n",
       "        ).then(function () {return Plotly.addFrames('69328b21-4909-482f-8287-b29b2d40765f',{});}).then(function(){Plotly.animate('69328b21-4909-482f-8287-b29b2d40765f');})\n",
       "        });</script>"
      ]
     },
     "metadata": {},
     "output_type": "display_data"
    }
   ],
   "source": [
    "# All runs presented in pivot table \n",
    "create_boxplot_traces_for_results(results_df,'MODEL_NAME','MEAN_SQUARED_ERROR',\"Mean Squared Error by Model Type\")"
   ]
  },
  {
   "cell_type": "markdown",
   "metadata": {},
   "source": [
    "As expected the **RNN** performs the best, **Random forest** is the second, **Decision Tree** is the last"
   ]
  },
  {
   "cell_type": "code",
   "execution_count": 20,
   "metadata": {},
   "outputs": [
    {
     "data": {
      "application/vnd.plotly.v1+json": {
       "data": [
        {
         "name": "Basic",
         "type": "box",
         "uid": "73ea3ac0-a05d-11e8-a482-3c15c2df16f6",
         "y": [
          5.7998723023293515,
          8.436149146886928,
          16.50485682249502,
          12.523334848374635,
          7.7050769174337,
          1.8335547068344529,
          4.369905465863337,
          5.516615136984613,
          11.877780071573177,
          8.983821880686573,
          6.637420788526042,
          1.2063017328337227,
          4.839432813973904,
          5.105818502748364,
          11.869203007995566,
          8.563057103726269,
          5.581541534375796,
          2.0168823861294793
         ]
        },
        {
         "name": "Inc_Signals",
         "type": "box",
         "uid": "73ea3c34-a05d-11e8-944a-3c15c2df16f6",
         "y": [
          6.517999829450835,
          7.992946024989189,
          22.967065025804157,
          14.223161289556623,
          10.519871843360622,
          1.5773660502096332,
          4.216172255355244,
          5.4347634456409395,
          12.735153111078741,
          9.260333989755587,
          6.041625971463942,
          1.1687902866811652,
          4.700271691561884,
          5.628275922257432,
          11.682040955894735,
          8.336574731987746,
          4.588874703455275,
          2.0930926530327967
         ]
        },
        {
         "name": "Enhanced_Signals",
         "type": "box",
         "uid": "73ea3cdc-a05d-11e8-b9fa-3c15c2df16f6",
         "y": [
          6.767755191939864,
          7.783687444115288,
          25.109055444561534,
          15.432839121423886,
          1.5569050691717268,
          10.205056769324727,
          4.216172255355244,
          5.4347634456409395,
          12.735153111078741,
          9.260333989755587,
          6.041625971463942,
          1.1687902866811652,
          4.09580074867803,
          4.9663039133177405,
          11.645510202010625,
          8.632428114277632,
          4.217506141849317,
          2.0128601641442403
         ]
        }
       ],
       "layout": {
        "title": "Mean Squared Error by Feature Type"
       }
      },
      "text/html": [
       "<div id=\"8b7377c3-147f-4ecf-9055-f4ecbb14ef67\" style=\"height: 525px; width: 100%;\" class=\"plotly-graph-div\"></div><script type=\"text/javascript\">require([\"plotly\"], function(Plotly) { window.PLOTLYENV=window.PLOTLYENV || {};window.PLOTLYENV.BASE_URL=\"https://plotly.att.com\";\n",
       "        Plotly.plot(\n",
       "            '8b7377c3-147f-4ecf-9055-f4ecbb14ef67',\n",
       "            [{\"name\": \"Basic\", \"y\": [5.7998723023293515, 8.436149146886928, 16.50485682249502, 12.523334848374635, 7.7050769174337, 1.8335547068344529, 4.369905465863337, 5.516615136984613, 11.877780071573177, 8.983821880686573, 6.637420788526042, 1.2063017328337227, 4.839432813973904, 5.105818502748364, 11.869203007995566, 8.563057103726269, 5.581541534375796, 2.0168823861294793], \"type\": \"box\", \"uid\": \"73ea3ac0-a05d-11e8-a482-3c15c2df16f6\"}, {\"name\": \"Inc_Signals\", \"y\": [6.517999829450835, 7.992946024989189, 22.967065025804157, 14.223161289556623, 10.519871843360622, 1.5773660502096332, 4.216172255355244, 5.4347634456409395, 12.735153111078741, 9.260333989755587, 6.041625971463942, 1.1687902866811652, 4.700271691561884, 5.628275922257432, 11.682040955894735, 8.336574731987746, 4.588874703455275, 2.0930926530327967], \"type\": \"box\", \"uid\": \"73ea3c34-a05d-11e8-944a-3c15c2df16f6\"}, {\"name\": \"Enhanced_Signals\", \"y\": [6.767755191939864, 7.783687444115288, 25.109055444561534, 15.432839121423886, 1.5569050691717268, 10.205056769324727, 4.216172255355244, 5.4347634456409395, 12.735153111078741, 9.260333989755587, 6.041625971463942, 1.1687902866811652, 4.09580074867803, 4.9663039133177405, 11.645510202010625, 8.632428114277632, 4.217506141849317, 2.0128601641442403], \"type\": \"box\", \"uid\": \"73ea3cdc-a05d-11e8-b9fa-3c15c2df16f6\"}],\n",
       "            {\"title\": \"Mean Squared Error by Feature Type\"},\n",
       "            {\"showLink\": true, \"linkText\": \"Export to plotly.att.com\"}\n",
       "        ).then(function () {return Plotly.addFrames('8b7377c3-147f-4ecf-9055-f4ecbb14ef67',{});}).then(function(){Plotly.animate('8b7377c3-147f-4ecf-9055-f4ecbb14ef67');})\n",
       "        });</script>"
      ],
      "text/vnd.plotly.v1+html": [
       "<div id=\"8b7377c3-147f-4ecf-9055-f4ecbb14ef67\" style=\"height: 525px; width: 100%;\" class=\"plotly-graph-div\"></div><script type=\"text/javascript\">require([\"plotly\"], function(Plotly) { window.PLOTLYENV=window.PLOTLYENV || {};window.PLOTLYENV.BASE_URL=\"https://plotly.att.com\";\n",
       "        Plotly.plot(\n",
       "            '8b7377c3-147f-4ecf-9055-f4ecbb14ef67',\n",
       "            [{\"name\": \"Basic\", \"y\": [5.7998723023293515, 8.436149146886928, 16.50485682249502, 12.523334848374635, 7.7050769174337, 1.8335547068344529, 4.369905465863337, 5.516615136984613, 11.877780071573177, 8.983821880686573, 6.637420788526042, 1.2063017328337227, 4.839432813973904, 5.105818502748364, 11.869203007995566, 8.563057103726269, 5.581541534375796, 2.0168823861294793], \"type\": \"box\", \"uid\": \"73ea3ac0-a05d-11e8-a482-3c15c2df16f6\"}, {\"name\": \"Inc_Signals\", \"y\": [6.517999829450835, 7.992946024989189, 22.967065025804157, 14.223161289556623, 10.519871843360622, 1.5773660502096332, 4.216172255355244, 5.4347634456409395, 12.735153111078741, 9.260333989755587, 6.041625971463942, 1.1687902866811652, 4.700271691561884, 5.628275922257432, 11.682040955894735, 8.336574731987746, 4.588874703455275, 2.0930926530327967], \"type\": \"box\", \"uid\": \"73ea3c34-a05d-11e8-944a-3c15c2df16f6\"}, {\"name\": \"Enhanced_Signals\", \"y\": [6.767755191939864, 7.783687444115288, 25.109055444561534, 15.432839121423886, 1.5569050691717268, 10.205056769324727, 4.216172255355244, 5.4347634456409395, 12.735153111078741, 9.260333989755587, 6.041625971463942, 1.1687902866811652, 4.09580074867803, 4.9663039133177405, 11.645510202010625, 8.632428114277632, 4.217506141849317, 2.0128601641442403], \"type\": \"box\", \"uid\": \"73ea3cdc-a05d-11e8-b9fa-3c15c2df16f6\"}],\n",
       "            {\"title\": \"Mean Squared Error by Feature Type\"},\n",
       "            {\"showLink\": true, \"linkText\": \"Export to plotly.att.com\"}\n",
       "        ).then(function () {return Plotly.addFrames('8b7377c3-147f-4ecf-9055-f4ecbb14ef67',{});}).then(function(){Plotly.animate('8b7377c3-147f-4ecf-9055-f4ecbb14ef67');})\n",
       "        });</script>"
      ]
     },
     "metadata": {},
     "output_type": "display_data"
    }
   ],
   "source": [
    "# All runs presented in pivot table \n",
    "create_boxplot_traces_for_results(results_df,'FEATURE_TYPE','MEAN_SQUARED_ERROR',\"Mean Squared Error by Feature Type\")"
   ]
  },
  {
   "cell_type": "markdown",
   "metadata": {},
   "source": [
    "In contrary to what we saw above the signals are not having a big of an effect on our prediction, this may be because we are missing signals or we have not tuned the hyper parameters of the models enough"
   ]
  },
  {
   "cell_type": "markdown",
   "metadata": {},
   "source": [
    "## Conclusion\n",
    "\n",
    "The Arima model was unsuitable for forecasting as detailed in summary switching to a more advanced model for example SARIMAX or THETA would help us to forecast for a longer period of time\n",
    "\n",
    "We also incorporated more signals like lags which is signal 1,2,7,30,90 and 365 days ago and moving averages which is signal averaged over 1 week, 30 days, 60 days etc from alternate locations (more locations for SST ) and more weather measurement types like AO (Arctic Oscillation), NAO (North Atlantic Oscillation) and their lags and moving averages, also removed signals that are found to have no predictive power.\n",
    "\n",
    "As per the results detailed in summary RNN performs better of all models and we intend to use LSTM model as a progression from our sequential RNN"
   ]
  },
  {
   "cell_type": "markdown",
   "metadata": {},
   "source": [
    "## Takeaways\n",
    "\n",
    "* We used GIT as the version control tool, as we reached come to the end of the project we realised being organized with git came really handy with code merges and large csv or pickle file checkins.\n",
    "* Serializing data, capturing results(pickle files) and images as we ran multiple experiments provided indispensible which helped us to quickly change artifacts / notebooks as we wanted to answer new questions or compare results.\n",
    "* Notebooks is a great tool for quick analysis but are less efficient when you have to perform multiple iterations with different input parameters and datasets, A hybrid approach is recommended.\n",
    "* We needed more time to tune our hyperparameters using grid searching or any other approaches.\n",
    "* Now that we have good amount of results, It would be a good time to get the results reviewed by a domain expert so that we can identify weaknesses in our approach towards data and redefine our next steps, for example adding more signals or removing unnecessary signals, tune hyperparameters of our models.  \n",
    "* We could scale our data and no of experiments if we have faster compute resources.\n",
    "* We would like to investigate a framework (i.e. MLFlow ) or similiar to help manage the end to end process of data capture, running experiences, instrumentation and presenting our results."
   ]
  }
 ],
 "metadata": {
  "kernelspec": {
   "display_name": "Python 3",
   "language": "python",
   "name": "python3"
  },
  "language_info": {
   "codemirror_mode": {
    "name": "ipython",
    "version": 3
   },
   "file_extension": ".py",
   "mimetype": "text/x-python",
   "name": "python",
   "nbconvert_exporter": "python",
   "pygments_lexer": "ipython3",
   "version": "3.6.3"
  }
 },
 "nbformat": 4,
 "nbformat_minor": 2
}
