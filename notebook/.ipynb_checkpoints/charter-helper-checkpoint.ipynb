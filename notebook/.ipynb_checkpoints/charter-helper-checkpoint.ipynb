{
 "cells": [
  {
   "cell_type": "markdown",
   "metadata": {},
   "source": [
    "# Charter Helper functions"
   ]
  },
  {
   "cell_type": "code",
   "execution_count": 1,
   "metadata": {
    "collapsed": true
   },
   "outputs": [],
   "source": [
    "class charter_helper:\n",
    "    def charter_helper_fitted(title,predictions):\n",
    "        layout = dict(\n",
    "            title=title,\n",
    "            xaxis=dict(\n",
    "                rangeselector=dict(\n",
    "                    buttons=list([\n",
    "                        dict(step='all'),\n",
    "                        dict(count=1,\n",
    "                             label='1m',\n",
    "                             step='month',\n",
    "                             stepmode='backward')\n",
    "                    ])\n",
    "                ),\n",
    "                rangeslider=dict(\n",
    "                    visible = True\n",
    "                ),\n",
    "                type='date'\n",
    "            )\n",
    "        )\n",
    "\n",
    "        fig = go.Figure(data=[{\n",
    "            'x': predictions.index,\n",
    "            'y': predictions[col],\n",
    "            'name': col\n",
    "        }  for col in predictions.columns],layout=layout)\n",
    "\n",
    "        return fig\n",
    "    \n",
    "    def charter_helper_prediction(title,X_train,Y_train,X_test,Y_test,future_forecast):\n",
    "    layout = dict(\n",
    "    title= title,\n",
    "    xaxis=dict(\n",
    "        rangeselector=dict(\n",
    "            buttons=list([\n",
    "                dict(step='all'),\n",
    "                dict(count=6,\n",
    "                     label='6m',\n",
    "                     step='month',\n",
    "                     stepmode='backward'),\n",
    "                dict(count=1,\n",
    "                     label='1m',\n",
    "                     step='month',\n",
    "                     stepmode='backward')\n",
    "            ])\n",
    "        ),\n",
    "        rangeslider=dict(\n",
    "            visible = True\n",
    "        ),\n",
    "        type='date'\n",
    "      )\n",
    "    )\n",
    "\n",
    "    date_index = X_train.shape[0] - 365\n",
    "\n",
    "    fig = go.Figure(data=[{\n",
    "        'x': X_train.index[date_index:],\n",
    "        'y': Y_train[\"temperature\"][date_index:],\n",
    "        'name': \"Train temperature\"\n",
    "    },{\n",
    "        'x': X_test.index,\n",
    "        'y': Y_test[\"temperature\"],\n",
    "        'name': \"Actual temperature\"\n",
    "    },{\n",
    "        'x': future_forecast.index,\n",
    "        'y': future_forecast[\"Fitted\"],\n",
    "        'name': \"Predicted temperature\"\n",
    "    }],layout=layout)\n",
    "    \n",
    "    return fig"
   ]
  }
 ],
 "metadata": {
  "kernelspec": {
   "display_name": "Python 3",
   "language": "python",
   "name": "python3"
  },
  "language_info": {
   "codemirror_mode": {
    "name": "ipython",
    "version": 3
   },
   "file_extension": ".py",
   "mimetype": "text/x-python",
   "name": "python",
   "nbconvert_exporter": "python",
   "pygments_lexer": "ipython3",
   "version": "3.6.3"
  }
 },
 "nbformat": 4,
 "nbformat_minor": 2
}
