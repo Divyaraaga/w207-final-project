{
 "cells": [
  {
   "cell_type": "markdown",
   "metadata": {},
   "source": [
    "# Time Series to observe DAILY temperature variations "
   ]
  },
  {
   "cell_type": "markdown",
   "metadata": {},
   "source": [
    "## About the data\n",
    "### Time Series obtained from Kaggle dataset\n",
    "\n",
    "[Download the Kaggle DATA here](https://www.kaggle.com/avanwyk/encoding-cyclical-features-for-deep-learning/data)\n",
    "\n",
    "\n",
    "### Input Fields \n",
    "\n",
    "1. Date <br>\n",
    "2. temperature\n",
    "       \n",
    "### Values : 2013 - 2015 "
   ]
  },
  {
   "cell_type": "markdown",
   "metadata": {},
   "source": [
    "In this notebook, we will prepare the datasets for the Machine Learning algorithms.\n",
    "\n",
    "We will begin by importing all libraries and setting up our path for saving images as well as pickles.\n",
    "We then move to the Exploratory Data Analysis by loading the CSV file and using the backfilling technic to fill any gaps in the dataset as temperature will very little on a daily basis.\n",
    "\n",
    "Following the EDA, we run some feature engineering to help us build our timeseries features using lags from 1 day to 1 year. \n",
    "\n",
    "Finally, we run a train/test split on the data and write all the data to pickles that we will read from using other notebooks containng the Machine Learning Classifiers."
   ]
  },
  {
   "cell_type": "code",
   "execution_count": 26,
   "metadata": {},
   "outputs": [
    {
     "name": "stdout",
     "output_type": "stream",
     "text": [
      "Requirement already satisfied: plotly in /anaconda3/lib/python3.6/site-packages\n",
      "Requirement already satisfied: six in /anaconda3/lib/python3.6/site-packages (from plotly)\n",
      "Requirement already satisfied: pytz in /anaconda3/lib/python3.6/site-packages (from plotly)\n",
      "Requirement already satisfied: decorator>=4.0.6 in /anaconda3/lib/python3.6/site-packages (from plotly)\n",
      "Requirement already satisfied: requests in /anaconda3/lib/python3.6/site-packages (from plotly)\n",
      "Requirement already satisfied: retrying>=1.3.3 in /anaconda3/lib/python3.6/site-packages (from plotly)\n",
      "Requirement already satisfied: nbformat>=4.2 in /anaconda3/lib/python3.6/site-packages (from plotly)\n",
      "Requirement already satisfied: chardet<3.1.0,>=3.0.2 in /anaconda3/lib/python3.6/site-packages (from requests->plotly)\n",
      "Requirement already satisfied: idna<2.7,>=2.5 in /anaconda3/lib/python3.6/site-packages (from requests->plotly)\n",
      "Requirement already satisfied: urllib3<1.23,>=1.21.1 in /anaconda3/lib/python3.6/site-packages (from requests->plotly)\n",
      "Requirement already satisfied: certifi>=2017.4.17 in /anaconda3/lib/python3.6/site-packages (from requests->plotly)\n",
      "Requirement already satisfied: ipython_genutils in /anaconda3/lib/python3.6/site-packages (from nbformat>=4.2->plotly)\n",
      "Requirement already satisfied: traitlets>=4.1 in /anaconda3/lib/python3.6/site-packages (from nbformat>=4.2->plotly)\n",
      "Requirement already satisfied: jsonschema!=2.5.0,>=2.4 in /anaconda3/lib/python3.6/site-packages (from nbformat>=4.2->plotly)\n",
      "Requirement already satisfied: jupyter_core in /anaconda3/lib/python3.6/site-packages (from nbformat>=4.2->plotly)\n",
      "\u001b[33mYou are using pip version 9.0.1, however version 18.0 is available.\n",
      "You should consider upgrading via the 'pip install --upgrade pip' command.\u001b[0m\n"
     ]
    }
   ],
   "source": [
    "# Install a pip package in the current Jupyter kernel\n",
    "import sys\n",
    "!{sys.executable} -m pip install plotly"
   ]
  },
  {
   "cell_type": "code",
   "execution_count": null,
   "metadata": {
    "collapsed": true
   },
   "outputs": [],
   "source": [
    "import warnings \n",
    "warnings.filterwarnings('ignore')\n",
    "!{sys.executable} -m jupyter trust Daily_Temp_Analysis_EDA.ipynb"
   ]
  },
  {
   "cell_type": "code",
   "execution_count": 28,
   "metadata": {},
   "outputs": [
    {
     "data": {
      "text/html": [
       "<script>requirejs.config({paths: { 'plotly': ['https://cdn.plot.ly/plotly-latest.min']},});if(!window.Plotly) {{require(['plotly'],function(plotly) {window.Plotly=plotly;});}}</script>"
      ],
      "text/vnd.plotly.v1+html": [
       "<script>requirejs.config({paths: { 'plotly': ['https://cdn.plot.ly/plotly-latest.min']},});if(!window.Plotly) {{require(['plotly'],function(plotly) {window.Plotly=plotly;});}}</script>"
      ]
     },
     "metadata": {},
     "output_type": "display_data"
    }
   ],
   "source": [
    "import pandas as pd\n",
    "from pandas import Series\n",
    "import numpy as np\n",
    "from pandas import datetime\n",
    "import seaborn as sns\n",
    "import matplotlib as mpl\n",
    "import matplotlib.pyplot as plt\n",
    "mpl.style.use('seaborn')\n",
    "\n",
    "# Before Importing plotly, run pip install plotly\n",
    "import plotly\n",
    "plotly.tools.set_credentials_file(username='DemoAccount', api_key='lr1c37zw81')\n",
    "import plotly.plotly as py\n",
    "from plotly.offline import plot, iplot , plot_mpl, init_notebook_mode\n",
    "import plotly.graph_objs as go\n",
    "import cufflinks as cf\n",
    "init_notebook_mode(connected=True)\n",
    "\n",
    "# seasonal decompose graphs for the entire data\n",
    "from statsmodels.tsa.seasonal import seasonal_decompose\n",
    "\n",
    "PATH = '../pickles'\n",
    "DATA = '../data'\n",
    "IMAGE_PATH = '../Images/DAILY_EDA'"
   ]
  },
  {
   "cell_type": "code",
   "execution_count": 12,
   "metadata": {},
   "outputs": [
    {
     "data": {
      "text/html": [
       "<div>\n",
       "<style>\n",
       "    .dataframe thead tr:only-child th {\n",
       "        text-align: right;\n",
       "    }\n",
       "\n",
       "    .dataframe thead th {\n",
       "        text-align: left;\n",
       "    }\n",
       "\n",
       "    .dataframe tbody tr th {\n",
       "        vertical-align: top;\n",
       "    }\n",
       "</style>\n",
       "<table border=\"1\" class=\"dataframe\">\n",
       "  <thead>\n",
       "    <tr style=\"text-align: right;\">\n",
       "      <th></th>\n",
       "      <th>datetime</th>\n",
       "      <th>Vancouver</th>\n",
       "      <th>Portland</th>\n",
       "      <th>San Francisco</th>\n",
       "      <th>Seattle</th>\n",
       "      <th>Los Angeles</th>\n",
       "      <th>San Diego</th>\n",
       "      <th>Las Vegas</th>\n",
       "      <th>Phoenix</th>\n",
       "      <th>Albuquerque</th>\n",
       "      <th>...</th>\n",
       "      <th>Philadelphia</th>\n",
       "      <th>New York</th>\n",
       "      <th>Montreal</th>\n",
       "      <th>Boston</th>\n",
       "      <th>Beersheba</th>\n",
       "      <th>Tel Aviv District</th>\n",
       "      <th>Eilat</th>\n",
       "      <th>Haifa</th>\n",
       "      <th>Nahariyya</th>\n",
       "      <th>Jerusalem</th>\n",
       "    </tr>\n",
       "  </thead>\n",
       "  <tbody>\n",
       "    <tr>\n",
       "      <th>0</th>\n",
       "      <td>2012-10-01 12:00:00</td>\n",
       "      <td>NaN</td>\n",
       "      <td>NaN</td>\n",
       "      <td>NaN</td>\n",
       "      <td>NaN</td>\n",
       "      <td>NaN</td>\n",
       "      <td>NaN</td>\n",
       "      <td>NaN</td>\n",
       "      <td>NaN</td>\n",
       "      <td>NaN</td>\n",
       "      <td>...</td>\n",
       "      <td>NaN</td>\n",
       "      <td>NaN</td>\n",
       "      <td>NaN</td>\n",
       "      <td>NaN</td>\n",
       "      <td>NaN</td>\n",
       "      <td>NaN</td>\n",
       "      <td>309.100000</td>\n",
       "      <td>NaN</td>\n",
       "      <td>NaN</td>\n",
       "      <td>NaN</td>\n",
       "    </tr>\n",
       "    <tr>\n",
       "      <th>1</th>\n",
       "      <td>2012-10-01 13:00:00</td>\n",
       "      <td>284.630000</td>\n",
       "      <td>282.080000</td>\n",
       "      <td>289.480000</td>\n",
       "      <td>281.800000</td>\n",
       "      <td>291.870000</td>\n",
       "      <td>291.530000</td>\n",
       "      <td>293.410000</td>\n",
       "      <td>296.600000</td>\n",
       "      <td>285.120000</td>\n",
       "      <td>...</td>\n",
       "      <td>285.630000</td>\n",
       "      <td>288.220000</td>\n",
       "      <td>285.830000</td>\n",
       "      <td>287.170000</td>\n",
       "      <td>307.590000</td>\n",
       "      <td>305.470000</td>\n",
       "      <td>310.580000</td>\n",
       "      <td>304.4</td>\n",
       "      <td>304.4</td>\n",
       "      <td>303.5</td>\n",
       "    </tr>\n",
       "    <tr>\n",
       "      <th>2</th>\n",
       "      <td>2012-10-01 14:00:00</td>\n",
       "      <td>284.629041</td>\n",
       "      <td>282.083252</td>\n",
       "      <td>289.474993</td>\n",
       "      <td>281.797217</td>\n",
       "      <td>291.868186</td>\n",
       "      <td>291.533501</td>\n",
       "      <td>293.403141</td>\n",
       "      <td>296.608509</td>\n",
       "      <td>285.154558</td>\n",
       "      <td>...</td>\n",
       "      <td>285.663208</td>\n",
       "      <td>288.247676</td>\n",
       "      <td>285.834650</td>\n",
       "      <td>287.186092</td>\n",
       "      <td>307.590000</td>\n",
       "      <td>304.310000</td>\n",
       "      <td>310.495769</td>\n",
       "      <td>304.4</td>\n",
       "      <td>304.4</td>\n",
       "      <td>303.5</td>\n",
       "    </tr>\n",
       "    <tr>\n",
       "      <th>3</th>\n",
       "      <td>2012-10-01 15:00:00</td>\n",
       "      <td>284.626998</td>\n",
       "      <td>282.091866</td>\n",
       "      <td>289.460618</td>\n",
       "      <td>281.789833</td>\n",
       "      <td>291.862844</td>\n",
       "      <td>291.543355</td>\n",
       "      <td>293.392177</td>\n",
       "      <td>296.631487</td>\n",
       "      <td>285.233952</td>\n",
       "      <td>...</td>\n",
       "      <td>285.756824</td>\n",
       "      <td>288.326940</td>\n",
       "      <td>285.847790</td>\n",
       "      <td>287.231672</td>\n",
       "      <td>307.391513</td>\n",
       "      <td>304.281841</td>\n",
       "      <td>310.411538</td>\n",
       "      <td>304.4</td>\n",
       "      <td>304.4</td>\n",
       "      <td>303.5</td>\n",
       "    </tr>\n",
       "    <tr>\n",
       "      <th>4</th>\n",
       "      <td>2012-10-01 16:00:00</td>\n",
       "      <td>284.624955</td>\n",
       "      <td>282.100481</td>\n",
       "      <td>289.446243</td>\n",
       "      <td>281.782449</td>\n",
       "      <td>291.857503</td>\n",
       "      <td>291.553209</td>\n",
       "      <td>293.381213</td>\n",
       "      <td>296.654466</td>\n",
       "      <td>285.313345</td>\n",
       "      <td>...</td>\n",
       "      <td>285.850440</td>\n",
       "      <td>288.406203</td>\n",
       "      <td>285.860929</td>\n",
       "      <td>287.277251</td>\n",
       "      <td>307.145200</td>\n",
       "      <td>304.238015</td>\n",
       "      <td>310.327308</td>\n",
       "      <td>304.4</td>\n",
       "      <td>304.4</td>\n",
       "      <td>303.5</td>\n",
       "    </tr>\n",
       "  </tbody>\n",
       "</table>\n",
       "<p>5 rows × 37 columns</p>\n",
       "</div>"
      ],
      "text/plain": [
       "             datetime   Vancouver    Portland  San Francisco     Seattle  \\\n",
       "0 2012-10-01 12:00:00         NaN         NaN            NaN         NaN   \n",
       "1 2012-10-01 13:00:00  284.630000  282.080000     289.480000  281.800000   \n",
       "2 2012-10-01 14:00:00  284.629041  282.083252     289.474993  281.797217   \n",
       "3 2012-10-01 15:00:00  284.626998  282.091866     289.460618  281.789833   \n",
       "4 2012-10-01 16:00:00  284.624955  282.100481     289.446243  281.782449   \n",
       "\n",
       "   Los Angeles   San Diego   Las Vegas     Phoenix  Albuquerque    ...      \\\n",
       "0          NaN         NaN         NaN         NaN          NaN    ...       \n",
       "1   291.870000  291.530000  293.410000  296.600000   285.120000    ...       \n",
       "2   291.868186  291.533501  293.403141  296.608509   285.154558    ...       \n",
       "3   291.862844  291.543355  293.392177  296.631487   285.233952    ...       \n",
       "4   291.857503  291.553209  293.381213  296.654466   285.313345    ...       \n",
       "\n",
       "   Philadelphia    New York    Montreal      Boston   Beersheba  \\\n",
       "0           NaN         NaN         NaN         NaN         NaN   \n",
       "1    285.630000  288.220000  285.830000  287.170000  307.590000   \n",
       "2    285.663208  288.247676  285.834650  287.186092  307.590000   \n",
       "3    285.756824  288.326940  285.847790  287.231672  307.391513   \n",
       "4    285.850440  288.406203  285.860929  287.277251  307.145200   \n",
       "\n",
       "   Tel Aviv District       Eilat  Haifa  Nahariyya  Jerusalem  \n",
       "0                NaN  309.100000    NaN        NaN        NaN  \n",
       "1         305.470000  310.580000  304.4      304.4      303.5  \n",
       "2         304.310000  310.495769  304.4      304.4      303.5  \n",
       "3         304.281841  310.411538  304.4      304.4      303.5  \n",
       "4         304.238015  310.327308  304.4      304.4      303.5  \n",
       "\n",
       "[5 rows x 37 columns]"
      ]
     },
     "execution_count": 12,
     "metadata": {},
     "output_type": "execute_result"
    }
   ],
   "source": [
    "cities_temperature = pd.read_csv(f'{DATA}/temperature.csv', parse_dates=['datetime'], header =0)\n",
    "cities_temperature.head(5)"
   ]
  },
  {
   "cell_type": "code",
   "execution_count": 13,
   "metadata": {},
   "outputs": [
    {
     "name": "stdout",
     "output_type": "stream",
     "text": [
      "datetime       datetime64[ns]\n",
      "temperature           float64\n",
      "dtype: object\n"
     ]
    }
   ],
   "source": [
    "data_all = cities_temperature[['datetime', 'Los Angeles']]\n",
    "data_all = data_all.rename(columns={'Los Angeles': 'temperature'})\n",
    "data_all['temperature'] = data_all['temperature'] - 273.15\n",
    "data_all= data_all.fillna(method = 'bfill', axis=0).dropna()\n",
    "\n",
    "print(data_all.dtypes)"
   ]
  },
  {
   "cell_type": "code",
   "execution_count": 14,
   "metadata": {},
   "outputs": [
    {
     "data": {
      "image/png": "[encoded data removed]",
      "text/plain": [
       "<matplotlib.figure.Figure at 0x1c09e66208>"
      ]
     },
     "metadata": {},
     "output_type": "display_data"
    }
   ],
   "source": [
    "data_seasonal = data_all.set_index('datetime')\n",
    "\n",
    "result = seasonal_decompose(data_seasonal, model='additive', freq=365)\n",
    "result.plot()\n",
    "plt.savefig(f'{IMAGE_PATH}/decompose.png')\n",
    "plt.show()"
   ]
  },
  {
   "cell_type": "code",
   "execution_count": null,
   "metadata": {
    "collapsed": true
   },
   "outputs": [],
   "source": [
    "print(data_seasonal.temperature.describe())\n",
    "ax = sns.distplot(data_seasonal.temperature)\n",
    "plt.savefig(f'{IMAGE_PATH}/density.png')\n",
    "plt.show()"
   ]
  },
  {
   "cell_type": "code",
   "execution_count": null,
   "metadata": {
    "collapsed": true
   },
   "outputs": [],
   "source": [
    "layout = dict(\n",
    "    title='Temperature Time Series with Rangeslider',\n",
    "    xaxis=dict(\n",
    "        rangeselector=dict(\n",
    "            buttons=list([\n",
    "                dict(step='all'),\n",
    "                dict(count=1,\n",
    "                     label='1year',\n",
    "                     step='year',\n",
    "                     stepmode='backward'),\n",
    "                dict(count=6,\n",
    "                     label='6m',\n",
    "                     step='month',\n",
    "                     stepmode='backward'),\n",
    "                dict(count=1,\n",
    "                     label='1m',\n",
    "                     step='month',\n",
    "                     stepmode='backward')\n",
    "            ])\n",
    "        ),\n",
    "        rangeslider=dict(\n",
    "            visible = True\n",
    "        ),\n",
    "        type='date'\n",
    "    )\n",
    ")\n",
    "\n",
    "fig = go.Figure(data=[{\n",
    "    'x': data_seasonal.index,\n",
    "    'y': data_seasonal[col],\n",
    "    'name': col\n",
    "}  for col in data_seasonal.columns], layout=layout)\n",
    "\n",
    "\n",
    "iplot(fig)\n",
    "\n",
    "py.image.save_as(fig, f'{IMAGE_PATH}/data.png')"
   ]
  },
  {
   "cell_type": "code",
   "execution_count": 24,
   "metadata": {
    "collapsed": true
   },
   "outputs": [],
   "source": [
    "def encode(new_df, col, max_val):\n",
    "    new_df[col + '_sin'] = np.sin(2 * np.pi * new_df[col]/max_val)\n",
    "    new_df[col + '_cos'] = np.cos(2 * np.pi * new_df[col]/max_val)\n",
    "    return new_df\n",
    "\n",
    "def get_unencoded_features(df,include_temp=False):\n",
    "    new_df = pd.DataFrame();\n",
    "    if(include_temp):\n",
    "        new_df['temperature'] = df['temperature']\n",
    "    new_df['lag1']=df['temperature'].shift(1)\n",
    "    new_df['lag2']=df['temperature'].shift(2)\n",
    "    new_df['lag7']=df['temperature'].shift(7)\n",
    "    new_df['lag30']=df['temperature'].shift(30)\n",
    "    new_df['lag365']=df['temperature'].shift(365)\n",
    "    return new_df.dropna()"
   ]
  },
  {
   "cell_type": "code",
   "execution_count": 18,
   "metadata": {},
   "outputs": [
    {
     "data": {
      "text/plain": [
       "(1887, 1)"
      ]
     },
     "execution_count": 18,
     "metadata": {},
     "output_type": "execute_result"
    }
   ],
   "source": [
    "data = data_all\n",
    "#Aggregating the dataset at daily level\n",
    "data.Timestamp = pd.to_datetime(data_all.datetime,format='%d-%m-%Y %H:%M') \n",
    "data.index = data_all.Timestamp\n",
    "data = data_all.resample('D').mean()\n",
    "data.shape"
   ]
  },
  {
   "cell_type": "code",
   "execution_count": 19,
   "metadata": {},
   "outputs": [
    {
     "name": "stdout",
     "output_type": "stream",
     "text": [
      "Shape of Raw training Data (1797, 1)\n",
      "Shape of Raw testing Data (90, 1)\n"
     ]
    }
   ],
   "source": [
    "train_size = data.shape[0] - 90\n",
    "train_raw = data[0:train_size]\n",
    "test_raw = data[train_size:]\n",
    "\n",
    "train_raw.to_pickle(f'{PATH}/train_raw.pkl')\n",
    "test_raw.to_pickle(f'{PATH}/test_raw.pkl')\n",
    "\n",
    "print(\"Shape of Raw training Data\",train_raw.shape)\n",
    "print(\"Shape of Raw testing Data\",test_raw.shape)"
   ]
  },
  {
   "cell_type": "code",
   "execution_count": 25,
   "metadata": {},
   "outputs": [
    {
     "name": "stdout",
     "output_type": "stream",
     "text": [
      "Shape of training Data (1432, 5)\n",
      "Shape of testing Data (90, 5)\n"
     ]
    }
   ],
   "source": [
    "data = get_unencoded_features(data, True)\n",
    "data.head()\n",
    "\n",
    "train_size = data.shape[0] - 90\n",
    "train = data[0:train_size]\n",
    "test = data[train_size:]\n",
    "\n",
    "X_train = train.drop('temperature', 1)\n",
    "Y_train = pd.DataFrame(train.temperature)\n",
    "\n",
    "X_test  = test.drop('temperature', 1)\n",
    "Y_test  = pd.DataFrame(test.temperature)\n",
    "\n",
    "X_train.to_pickle(f'{PATH}/X_train.pkl')\n",
    "Y_train.to_pickle(f'{PATH}/Y_train.pkl')\n",
    "X_test.to_pickle(f'{PATH}/X_test.pkl')\n",
    "Y_test.to_pickle(f'{PATH}/Y_test.pkl')\n",
    "\n",
    "print(\"Shape of training Data\",X_train.shape)\n",
    "print(\"Shape of testing Data\",X_test.shape)"
   ]
  }
 ],
 "metadata": {
  "kernelspec": {
   "display_name": "Python 3",
   "language": "python",
   "name": "python3"
  },
  "language_info": {
   "codemirror_mode": {
    "name": "ipython",
    "version": 3
   },
   "file_extension": ".py",
   "mimetype": "text/x-python",
   "name": "python",
   "nbconvert_exporter": "python",
   "pygments_lexer": "ipython3",
   "version": "3.6.3"
  }
 },
 "nbformat": 4,
 "nbformat_minor": 2
}
