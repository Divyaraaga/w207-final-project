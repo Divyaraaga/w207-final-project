{
 "cells": [
  {
   "cell_type": "markdown",
   "metadata": {},
   "source": [
    "# DAILY EDA"
   ]
  },
  {
   "cell_type": "markdown",
   "metadata": {},
   "source": [
    "<a href=\"../notebook/Daily_Temp_Analysis_EDA.ipynb\">EDA Jupyter Notebook</a>\n",
    "\n",
    "This notebook will contains all outputs as it pertains to the Daily EDA, the classical statistical model known as ARIMA, predictive models (Decision Trees and Random Forests) as well as Sequential Recurrent Neural Net. \n",
    "\n",
    "Under each classifier, we will look at two graphs; the first showing the training set vs. the fitted set and the second graph showing the training, the test and the predicted set.\n",
    "\n",
    "It is apparent from the graph below that ARIMA's performance is not at par with any of the other models"
   ]
  },
  {
   "cell_type": "markdown",
   "metadata": {},
   "source": [
    "Here is an example of raw data\n",
    "![](../Images/DAILY_EDA/data.png)"
   ]
  },
  {
   "cell_type": "markdown",
   "metadata": {},
   "source": [
    "Data Density\n",
    "![](../Images/DAILY_EDA/density.png)"
   ]
  },
  {
   "cell_type": "markdown",
   "metadata": {},
   "source": [
    "Seasonal Decomposition\n",
    "![](../Images/DAILY_EDA/decompose.png)"
   ]
  },
  {
   "cell_type": "markdown",
   "metadata": {},
   "source": [
    "# Daily Results"
   ]
  },
  {
   "cell_type": "markdown",
   "metadata": {},
   "source": [
    "## ARIMA\n",
    "<a href=\"../notebook/Daily_Temp_Analysis_ARIMA.ipynb\">Daily_Temperature_ARIMA Jupyter Notebook</a>\n",
    "\n",
    "ARIMA Actuals vs. Predicted Temperature\n",
    "![](../Images/DAILY/Daily_ARIMA_actual_vs_predict.png)\n",
    "\n",
    "Predicting Temperature using ARIMA\n",
    "![](../Images/DAILY/Daily_ARIMA_predict.png)"
   ]
  },
  {
   "cell_type": "markdown",
   "metadata": {},
   "source": [
    "## Decision Tree\n",
    "<a href=\"../notebook/Daily_Temp_Analysis_DT.ipynb\">Daily_Temperature_Decision_Tree Jupyter Notebook</a>\n",
    "\n",
    "Decision Tree Actuals vs. Predicted Temperature\n",
    "![](../Images/DAILY/Daily_DT_actual_vs_predict.png)\n",
    "\n",
    "Predicting Temperature using Decision Trees\n",
    "![](../Images/DAILY/Daily_DT_predict.png)\n"
   ]
  },
  {
   "cell_type": "markdown",
   "metadata": {},
   "source": [
    "## Random Forest\n",
    "<a href=\"../notebook/Daily_Temp_Analysis_RF.ipynb\">Daily_Temperature_Random_Forest Jupyter Notebook</a>\n",
    "\n",
    "Random Forest Actuals vs. Predicted Temperature\n",
    "![](../Images/DAILY/Daily_RF_actual_vs_predict.png)\n",
    "\n",
    "Predicting Temperature using Random Forest\n",
    "![](../Images/DAILY/Daily_RF_predict.png)"
   ]
  },
  {
   "cell_type": "markdown",
   "metadata": {},
   "source": [
    "## Sequential Recurrent Neural Net\n",
    "<a href=\"../notebook/Daily_Temp_Analysis_RNN.ipynb\">Daily_Temperature_Recurrent_Neural_Net Jupyter Notebook</a>\n",
    "\n",
    "RNN Actuals vs. Predicted Temperature\n",
    "![](../Images/DAILY/Daily_RNN_actual_vs_predict.png)\n",
    "\n",
    "Predicting Temperature using RNN\n",
    "![](../Images/DAILY/Daily_RNN_predict.png)"
   ]
  },
  {
   "cell_type": "code",
   "execution_count": 113,
   "metadata": {},
   "outputs": [
    {
     "data": {
      "text/html": [
       "<script>requirejs.config({paths: { 'plotly': ['https://cdn.plot.ly/plotly-latest.min']},});if(!window.Plotly) {{require(['plotly'],function(plotly) {window.Plotly=plotly;});}}</script>"
      ],
      "text/vnd.plotly.v1+html": [
       "<script>requirejs.config({paths: { 'plotly': ['https://cdn.plot.ly/plotly-latest.min']},});if(!window.Plotly) {{require(['plotly'],function(plotly) {window.Plotly=plotly;});}}</script>"
      ]
     },
     "metadata": {},
     "output_type": "display_data"
    }
   ],
   "source": [
    "%run helper_functions.py\n",
    "%matplotlib inline"
   ]
  },
  {
   "cell_type": "markdown",
   "metadata": {},
   "source": [
    "### All runs"
   ]
  },
  {
   "cell_type": "code",
   "execution_count": 39,
   "metadata": {},
   "outputs": [
    {
     "data": {
      "text/html": [
       "<div>\n",
       "<style>\n",
       "    .dataframe thead tr:only-child th {\n",
       "        text-align: right;\n",
       "    }\n",
       "\n",
       "    .dataframe thead th {\n",
       "        text-align: left;\n",
       "    }\n",
       "\n",
       "    .dataframe tbody tr th {\n",
       "        vertical-align: top;\n",
       "    }\n",
       "</style>\n",
       "<table border=\"1\" class=\"dataframe\">\n",
       "  <thead>\n",
       "    <tr style=\"text-align: right;\">\n",
       "      <th></th>\n",
       "      <th>RUN NO</th>\n",
       "      <th>DATETIME</th>\n",
       "      <th>MODEL NAME</th>\n",
       "      <th>CITY</th>\n",
       "      <th>HOST_MACHINE</th>\n",
       "      <th>PARAMETERS</th>\n",
       "      <th>RESULTS</th>\n",
       "      <th>MEAN SQUARED ERROR</th>\n",
       "      <th>FEATURE_TYPE</th>\n",
       "    </tr>\n",
       "  </thead>\n",
       "  <tbody>\n",
       "    <tr>\n",
       "      <th>1</th>\n",
       "      <td>RUN-1</td>\n",
       "      <td>2018-08-10 23:49:12.225283</td>\n",
       "      <td>DECISION TREE</td>\n",
       "      <td>New York</td>\n",
       "      <td>ELS-F25750M</td>\n",
       "      <td>{'max_depth': 8}</td>\n",
       "      <td>{'features': ['temperature_lag1', 'temperature...</td>\n",
       "      <td>0.517323</td>\n",
       "      <td>NaN</td>\n",
       "    </tr>\n",
       "    <tr>\n",
       "      <th>2</th>\n",
       "      <td>RUN-2</td>\n",
       "      <td>2018-08-10 23:49:20.941142</td>\n",
       "      <td>RANDOM FOREST</td>\n",
       "      <td>New York</td>\n",
       "      <td>ELS-F25750M</td>\n",
       "      <td>{'max_depth': 8, 'n_estimators': 50}</td>\n",
       "      <td>{'features': ['temperature_lag1', 'temperature...</td>\n",
       "      <td>0.321614</td>\n",
       "      <td>NaN</td>\n",
       "    </tr>\n",
       "    <tr>\n",
       "      <th>3</th>\n",
       "      <td>RUN-3</td>\n",
       "      <td>2018-08-11 01:45:24.629820</td>\n",
       "      <td>DECISION TREE</td>\n",
       "      <td>New York</td>\n",
       "      <td>ELS-F25750M</td>\n",
       "      <td>{'max_depth': 8, 'Info': &lt;bound method DataFra...</td>\n",
       "      <td>{'features': ['temperature_lag1', 'temperature...</td>\n",
       "      <td>0.558036</td>\n",
       "      <td>NaN</td>\n",
       "    </tr>\n",
       "    <tr>\n",
       "      <th>4</th>\n",
       "      <td>RUN-4</td>\n",
       "      <td>2018-08-11 01:48:28.286225</td>\n",
       "      <td>DECISION TREE</td>\n",
       "      <td>New York</td>\n",
       "      <td>ELS-F25750M</td>\n",
       "      <td>{'max_depth': 8, 'Info': {'city': 'New_York', ...</td>\n",
       "      <td>{'features': ['temperature_lag1', 'temperature...</td>\n",
       "      <td>0.532833</td>\n",
       "      <td>NaN</td>\n",
       "    </tr>\n",
       "    <tr>\n",
       "      <th>5</th>\n",
       "      <td>RUN-5</td>\n",
       "      <td>2018-08-11 02:33:46.185720</td>\n",
       "      <td>DECISION TREE</td>\n",
       "      <td>New York</td>\n",
       "      <td>ELS-F25750M</td>\n",
       "      <td>{'max_depth': 8, 'Info': {'city': 'New York', ...</td>\n",
       "      <td>{'features': ['temperature_lag1', 'temperature...</td>\n",
       "      <td>0.528534</td>\n",
       "      <td></td>\n",
       "    </tr>\n",
       "    <tr>\n",
       "      <th>6</th>\n",
       "      <td>RUN-6</td>\n",
       "      <td>2018-08-11 17:32:11.519405</td>\n",
       "      <td>DECISION TREE</td>\n",
       "      <td>New York</td>\n",
       "      <td>ELS-F25750M</td>\n",
       "      <td>{'max_depth': 8, 'Info': {'feature_set_type': ...</td>\n",
       "      <td>{'features': ['temperature_lag1', 'temperature...</td>\n",
       "      <td>0.560820</td>\n",
       "      <td>Enhanced Features</td>\n",
       "    </tr>\n",
       "    <tr>\n",
       "      <th>7</th>\n",
       "      <td>RUN-7</td>\n",
       "      <td>2018-08-11 17:32:28.362016</td>\n",
       "      <td>DECISION TREE</td>\n",
       "      <td>New York</td>\n",
       "      <td>ELS-F25750M</td>\n",
       "      <td>{'max_depth': 8, 'Info': {'feature_set_type': ...</td>\n",
       "      <td>{'features': ['temperature_lag1', 'temperature...</td>\n",
       "      <td>0.541863</td>\n",
       "      <td>Enhanced Features</td>\n",
       "    </tr>\n",
       "    <tr>\n",
       "      <th>8</th>\n",
       "      <td>RUN-8</td>\n",
       "      <td>2018-08-11 17:33:32.608016</td>\n",
       "      <td>RANDOM FOREST</td>\n",
       "      <td>Los Angeles</td>\n",
       "      <td>ELS-F25750M</td>\n",
       "      <td>{'max_depth': 8, 'n_estimators': 50, 'Info': {...</td>\n",
       "      <td>{'features': ['temperature_lag1', 'temperature...</td>\n",
       "      <td>0.365879</td>\n",
       "      <td>Enhanced Features</td>\n",
       "    </tr>\n",
       "    <tr>\n",
       "      <th>9</th>\n",
       "      <td>RUN-9</td>\n",
       "      <td>2018-08-11 17:34:04.410385</td>\n",
       "      <td>RNN</td>\n",
       "      <td>Los Angeles</td>\n",
       "      <td>ELS-F25750M</td>\n",
       "      <td>{'epochs': 50, 'Info': {'feature_set_type': 'E...</td>\n",
       "      <td>{'features': ['temperature_lag1', 'temperature...</td>\n",
       "      <td>1.489261</td>\n",
       "      <td>Enhanced Features</td>\n",
       "    </tr>\n",
       "    <tr>\n",
       "      <th>10</th>\n",
       "      <td>RUN-10</td>\n",
       "      <td>2018-08-11 17:34:46.857873</td>\n",
       "      <td>ARIMA</td>\n",
       "      <td>Los Angeles</td>\n",
       "      <td>ELS-F25750M</td>\n",
       "      <td>{'order': (7, 0, 1), 'Info': {'feature_set_typ...</td>\n",
       "      <td>{'features': ['temperature']}</td>\n",
       "      <td>28.941912</td>\n",
       "      <td>Enhanced Features</td>\n",
       "    </tr>\n",
       "    <tr>\n",
       "      <th>11</th>\n",
       "      <td>RUN-11</td>\n",
       "      <td>2018-08-11 18:44:18.543542</td>\n",
       "      <td>DECISION TREE</td>\n",
       "      <td>New York</td>\n",
       "      <td>ELS-F25750M</td>\n",
       "      <td>{'max_depth': 8, 'Info': {'feature_set_type': ...</td>\n",
       "      <td>{'features': ['temperature_lag1', 'temperature...</td>\n",
       "      <td>0.525548</td>\n",
       "      <td>Enhanced Features</td>\n",
       "    </tr>\n",
       "    <tr>\n",
       "      <th>12</th>\n",
       "      <td>RUN-12</td>\n",
       "      <td>2018-08-11 18:44:27.509559</td>\n",
       "      <td>RANDOM FOREST</td>\n",
       "      <td>Los Angeles</td>\n",
       "      <td>ELS-F25750M</td>\n",
       "      <td>{'max_depth': 8, 'n_estimators': 50, 'Info': {...</td>\n",
       "      <td>{'features': ['temperature_lag1', 'temperature...</td>\n",
       "      <td>0.365879</td>\n",
       "      <td>Enhanced Features</td>\n",
       "    </tr>\n",
       "    <tr>\n",
       "      <th>13</th>\n",
       "      <td>RUN-13</td>\n",
       "      <td>2018-08-11 18:44:39.281790</td>\n",
       "      <td>ARIMA</td>\n",
       "      <td>Los Angeles</td>\n",
       "      <td>ELS-F25750M</td>\n",
       "      <td>{'order': (7, 0, 1), 'Info': {'feature_set_typ...</td>\n",
       "      <td>{'features': ['temperature']}</td>\n",
       "      <td>28.941912</td>\n",
       "      <td>Enhanced Features</td>\n",
       "    </tr>\n",
       "    <tr>\n",
       "      <th>14</th>\n",
       "      <td>RUN-14</td>\n",
       "      <td>2018-08-11 18:44:50.684336</td>\n",
       "      <td>RNN</td>\n",
       "      <td>Los Angeles</td>\n",
       "      <td>ELS-F25750M</td>\n",
       "      <td>{'epochs': 50, 'Info': {'feature_set_type': 'E...</td>\n",
       "      <td>{'features': ['temperature_lag1', 'temperature...</td>\n",
       "      <td>2.054370</td>\n",
       "      <td>Enhanced Features</td>\n",
       "    </tr>\n",
       "  </tbody>\n",
       "</table>\n",
       "</div>"
      ],
      "text/plain": [
       "    RUN NO                   DATETIME     MODEL NAME         CITY  \\\n",
       "1    RUN-1 2018-08-10 23:49:12.225283  DECISION TREE     New York   \n",
       "2    RUN-2 2018-08-10 23:49:20.941142  RANDOM FOREST     New York   \n",
       "3    RUN-3 2018-08-11 01:45:24.629820  DECISION TREE     New York   \n",
       "4    RUN-4 2018-08-11 01:48:28.286225  DECISION TREE     New York   \n",
       "5    RUN-5 2018-08-11 02:33:46.185720  DECISION TREE     New York   \n",
       "6    RUN-6 2018-08-11 17:32:11.519405  DECISION TREE     New York   \n",
       "7    RUN-7 2018-08-11 17:32:28.362016  DECISION TREE     New York   \n",
       "8    RUN-8 2018-08-11 17:33:32.608016  RANDOM FOREST  Los Angeles   \n",
       "9    RUN-9 2018-08-11 17:34:04.410385            RNN  Los Angeles   \n",
       "10  RUN-10 2018-08-11 17:34:46.857873          ARIMA  Los Angeles   \n",
       "11  RUN-11 2018-08-11 18:44:18.543542  DECISION TREE     New York   \n",
       "12  RUN-12 2018-08-11 18:44:27.509559  RANDOM FOREST  Los Angeles   \n",
       "13  RUN-13 2018-08-11 18:44:39.281790          ARIMA  Los Angeles   \n",
       "14  RUN-14 2018-08-11 18:44:50.684336            RNN  Los Angeles   \n",
       "\n",
       "   HOST_MACHINE                                         PARAMETERS  \\\n",
       "1   ELS-F25750M                                   {'max_depth': 8}   \n",
       "2   ELS-F25750M               {'max_depth': 8, 'n_estimators': 50}   \n",
       "3   ELS-F25750M  {'max_depth': 8, 'Info': <bound method DataFra...   \n",
       "4   ELS-F25750M  {'max_depth': 8, 'Info': {'city': 'New_York', ...   \n",
       "5   ELS-F25750M  {'max_depth': 8, 'Info': {'city': 'New York', ...   \n",
       "6   ELS-F25750M  {'max_depth': 8, 'Info': {'feature_set_type': ...   \n",
       "7   ELS-F25750M  {'max_depth': 8, 'Info': {'feature_set_type': ...   \n",
       "8   ELS-F25750M  {'max_depth': 8, 'n_estimators': 50, 'Info': {...   \n",
       "9   ELS-F25750M  {'epochs': 50, 'Info': {'feature_set_type': 'E...   \n",
       "10  ELS-F25750M  {'order': (7, 0, 1), 'Info': {'feature_set_typ...   \n",
       "11  ELS-F25750M  {'max_depth': 8, 'Info': {'feature_set_type': ...   \n",
       "12  ELS-F25750M  {'max_depth': 8, 'n_estimators': 50, 'Info': {...   \n",
       "13  ELS-F25750M  {'order': (7, 0, 1), 'Info': {'feature_set_typ...   \n",
       "14  ELS-F25750M  {'epochs': 50, 'Info': {'feature_set_type': 'E...   \n",
       "\n",
       "                                              RESULTS  MEAN SQUARED ERROR  \\\n",
       "1   {'features': ['temperature_lag1', 'temperature...            0.517323   \n",
       "2   {'features': ['temperature_lag1', 'temperature...            0.321614   \n",
       "3   {'features': ['temperature_lag1', 'temperature...            0.558036   \n",
       "4   {'features': ['temperature_lag1', 'temperature...            0.532833   \n",
       "5   {'features': ['temperature_lag1', 'temperature...            0.528534   \n",
       "6   {'features': ['temperature_lag1', 'temperature...            0.560820   \n",
       "7   {'features': ['temperature_lag1', 'temperature...            0.541863   \n",
       "8   {'features': ['temperature_lag1', 'temperature...            0.365879   \n",
       "9   {'features': ['temperature_lag1', 'temperature...            1.489261   \n",
       "10                      {'features': ['temperature']}           28.941912   \n",
       "11  {'features': ['temperature_lag1', 'temperature...            0.525548   \n",
       "12  {'features': ['temperature_lag1', 'temperature...            0.365879   \n",
       "13                      {'features': ['temperature']}           28.941912   \n",
       "14  {'features': ['temperature_lag1', 'temperature...            2.054370   \n",
       "\n",
       "         FEATURE_TYPE  \n",
       "1                 NaN  \n",
       "2                 NaN  \n",
       "3                 NaN  \n",
       "4                 NaN  \n",
       "5                      \n",
       "6   Enhanced Features  \n",
       "7   Enhanced Features  \n",
       "8   Enhanced Features  \n",
       "9   Enhanced Features  \n",
       "10  Enhanced Features  \n",
       "11  Enhanced Features  \n",
       "12  Enhanced Features  \n",
       "13  Enhanced Features  \n",
       "14  Enhanced Features  "
      ]
     },
     "execution_count": 39,
     "metadata": {},
     "output_type": "execute_result"
    }
   ],
   "source": [
    "# All runs\n",
    "results_df = get_results()\n",
    "results_df"
   ]
  },
  {
   "cell_type": "code",
   "execution_count": 114,
   "metadata": {},
   "outputs": [
    {
     "data": {
      "text/markdown": [
       "### RESULT - 1"
      ],
      "text/plain": [
       "<IPython.core.display.Markdown object>"
      ]
     },
     "metadata": {},
     "output_type": "display_data"
    },
    {
     "data": {
      "text/markdown": [
       "![](../Images/RESULTS/RUN-1/Daily_DT_actual_vs_predict.png)"
      ],
      "text/plain": [
       "<IPython.core.display.Markdown object>"
      ]
     },
     "metadata": {},
     "output_type": "display_data"
    },
    {
     "data": {
      "text/markdown": [
       "![](../Images/RESULTS/RUN-1/Daily_DT_predict.png)"
      ],
      "text/plain": [
       "<IPython.core.display.Markdown object>"
      ]
     },
     "metadata": {},
     "output_type": "display_data"
    },
    {
     "data": {
      "text/markdown": [
       "### RESULT - 2"
      ],
      "text/plain": [
       "<IPython.core.display.Markdown object>"
      ]
     },
     "metadata": {},
     "output_type": "display_data"
    },
    {
     "data": {
      "text/markdown": [
       "![](../Images/RESULTS/RUN-2/Daily_DT_actual_vs_predict.png)"
      ],
      "text/plain": [
       "<IPython.core.display.Markdown object>"
      ]
     },
     "metadata": {},
     "output_type": "display_data"
    },
    {
     "data": {
      "text/markdown": [
       "![](../Images/RESULTS/RUN-2/Daily_DT_predict.png)"
      ],
      "text/plain": [
       "<IPython.core.display.Markdown object>"
      ]
     },
     "metadata": {},
     "output_type": "display_data"
    },
    {
     "data": {
      "text/markdown": [
       "### RESULT - 3"
      ],
      "text/plain": [
       "<IPython.core.display.Markdown object>"
      ]
     },
     "metadata": {},
     "output_type": "display_data"
    },
    {
     "data": {
      "text/markdown": [
       "![](../Images/RESULTS/RUN-3/Daily_DT_actual_vs_predict.png)"
      ],
      "text/plain": [
       "<IPython.core.display.Markdown object>"
      ]
     },
     "metadata": {},
     "output_type": "display_data"
    },
    {
     "data": {
      "text/markdown": [
       "![](../Images/RESULTS/RUN-3/Daily_DT_predict.png)"
      ],
      "text/plain": [
       "<IPython.core.display.Markdown object>"
      ]
     },
     "metadata": {},
     "output_type": "display_data"
    },
    {
     "data": {
      "text/markdown": [
       "### RESULT - 4"
      ],
      "text/plain": [
       "<IPython.core.display.Markdown object>"
      ]
     },
     "metadata": {},
     "output_type": "display_data"
    },
    {
     "data": {
      "text/markdown": [
       "![](../Images/RESULTS/RUN-4/Daily_DT_actual_vs_predict.png)"
      ],
      "text/plain": [
       "<IPython.core.display.Markdown object>"
      ]
     },
     "metadata": {},
     "output_type": "display_data"
    },
    {
     "data": {
      "text/markdown": [
       "![](../Images/RESULTS/RUN-4/Daily_DT_predict.png)"
      ],
      "text/plain": [
       "<IPython.core.display.Markdown object>"
      ]
     },
     "metadata": {},
     "output_type": "display_data"
    },
    {
     "data": {
      "text/markdown": [
       "### RESULT - 5"
      ],
      "text/plain": [
       "<IPython.core.display.Markdown object>"
      ]
     },
     "metadata": {},
     "output_type": "display_data"
    },
    {
     "data": {
      "text/markdown": [
       "![](../Images/RESULTS/RUN-5/Daily_DT_actual_vs_predict.png)"
      ],
      "text/plain": [
       "<IPython.core.display.Markdown object>"
      ]
     },
     "metadata": {},
     "output_type": "display_data"
    },
    {
     "data": {
      "text/markdown": [
       "![](../Images/RESULTS/RUN-5/Daily_DT_predict.png)"
      ],
      "text/plain": [
       "<IPython.core.display.Markdown object>"
      ]
     },
     "metadata": {},
     "output_type": "display_data"
    },
    {
     "data": {
      "text/markdown": [
       "### RESULT - 6"
      ],
      "text/plain": [
       "<IPython.core.display.Markdown object>"
      ]
     },
     "metadata": {},
     "output_type": "display_data"
    },
    {
     "data": {
      "text/markdown": [
       "![](../Images/RESULTS/RUN-6/Daily_DT_actual_vs_predict.png)"
      ],
      "text/plain": [
       "<IPython.core.display.Markdown object>"
      ]
     },
     "metadata": {},
     "output_type": "display_data"
    },
    {
     "data": {
      "text/markdown": [
       "![](../Images/RESULTS/RUN-6/Daily_DT_predict.png)"
      ],
      "text/plain": [
       "<IPython.core.display.Markdown object>"
      ]
     },
     "metadata": {},
     "output_type": "display_data"
    },
    {
     "data": {
      "text/markdown": [
       "### RESULT - 7"
      ],
      "text/plain": [
       "<IPython.core.display.Markdown object>"
      ]
     },
     "metadata": {},
     "output_type": "display_data"
    },
    {
     "data": {
      "text/markdown": [
       "![](../Images/RESULTS/RUN-7/Daily_DT_actual_vs_predict.png)"
      ],
      "text/plain": [
       "<IPython.core.display.Markdown object>"
      ]
     },
     "metadata": {},
     "output_type": "display_data"
    },
    {
     "data": {
      "text/markdown": [
       "![](../Images/RESULTS/RUN-7/Daily_DT_predict.png)"
      ],
      "text/plain": [
       "<IPython.core.display.Markdown object>"
      ]
     },
     "metadata": {},
     "output_type": "display_data"
    },
    {
     "data": {
      "text/markdown": [
       "### RESULT - 8"
      ],
      "text/plain": [
       "<IPython.core.display.Markdown object>"
      ]
     },
     "metadata": {},
     "output_type": "display_data"
    },
    {
     "data": {
      "text/markdown": [
       "![](../Images/RESULTS/RUN-8/Daily_DT_actual_vs_predict.png)"
      ],
      "text/plain": [
       "<IPython.core.display.Markdown object>"
      ]
     },
     "metadata": {},
     "output_type": "display_data"
    },
    {
     "data": {
      "text/markdown": [
       "![](../Images/RESULTS/RUN-8/Daily_DT_predict.png)"
      ],
      "text/plain": [
       "<IPython.core.display.Markdown object>"
      ]
     },
     "metadata": {},
     "output_type": "display_data"
    },
    {
     "data": {
      "text/markdown": [
       "### RESULT - 9"
      ],
      "text/plain": [
       "<IPython.core.display.Markdown object>"
      ]
     },
     "metadata": {},
     "output_type": "display_data"
    },
    {
     "data": {
      "text/markdown": [
       "![](../Images/RESULTS/RUN-9/Daily_DT_actual_vs_predict.png)"
      ],
      "text/plain": [
       "<IPython.core.display.Markdown object>"
      ]
     },
     "metadata": {},
     "output_type": "display_data"
    },
    {
     "data": {
      "text/markdown": [
       "![](../Images/RESULTS/RUN-9/Daily_DT_predict.png)"
      ],
      "text/plain": [
       "<IPython.core.display.Markdown object>"
      ]
     },
     "metadata": {},
     "output_type": "display_data"
    },
    {
     "data": {
      "text/markdown": [
       "### RESULT - 10"
      ],
      "text/plain": [
       "<IPython.core.display.Markdown object>"
      ]
     },
     "metadata": {},
     "output_type": "display_data"
    },
    {
     "data": {
      "text/markdown": [
       "![](../Images/RESULTS/RUN-10/Daily_DT_actual_vs_predict.png)"
      ],
      "text/plain": [
       "<IPython.core.display.Markdown object>"
      ]
     },
     "metadata": {},
     "output_type": "display_data"
    },
    {
     "data": {
      "text/markdown": [
       "![](../Images/RESULTS/RUN-10/Daily_DT_predict.png)"
      ],
      "text/plain": [
       "<IPython.core.display.Markdown object>"
      ]
     },
     "metadata": {},
     "output_type": "display_data"
    },
    {
     "data": {
      "text/markdown": [
       "### RESULT - 11"
      ],
      "text/plain": [
       "<IPython.core.display.Markdown object>"
      ]
     },
     "metadata": {},
     "output_type": "display_data"
    },
    {
     "data": {
      "text/markdown": [
       "![](../Images/RESULTS/RUN-11/Daily_DT_actual_vs_predict.png)"
      ],
      "text/plain": [
       "<IPython.core.display.Markdown object>"
      ]
     },
     "metadata": {},
     "output_type": "display_data"
    },
    {
     "data": {
      "text/markdown": [
       "![](../Images/RESULTS/RUN-11/Daily_DT_predict.png)"
      ],
      "text/plain": [
       "<IPython.core.display.Markdown object>"
      ]
     },
     "metadata": {},
     "output_type": "display_data"
    },
    {
     "data": {
      "text/markdown": [
       "### RESULT - 12"
      ],
      "text/plain": [
       "<IPython.core.display.Markdown object>"
      ]
     },
     "metadata": {},
     "output_type": "display_data"
    },
    {
     "data": {
      "text/markdown": [
       "![](../Images/RESULTS/RUN-12/Daily_DT_actual_vs_predict.png)"
      ],
      "text/plain": [
       "<IPython.core.display.Markdown object>"
      ]
     },
     "metadata": {},
     "output_type": "display_data"
    },
    {
     "data": {
      "text/markdown": [
       "![](../Images/RESULTS/RUN-12/Daily_DT_predict.png)"
      ],
      "text/plain": [
       "<IPython.core.display.Markdown object>"
      ]
     },
     "metadata": {},
     "output_type": "display_data"
    },
    {
     "data": {
      "text/markdown": [
       "### RESULT - 13"
      ],
      "text/plain": [
       "<IPython.core.display.Markdown object>"
      ]
     },
     "metadata": {},
     "output_type": "display_data"
    },
    {
     "data": {
      "text/markdown": [
       "![](../Images/RESULTS/RUN-13/Daily_DT_actual_vs_predict.png)"
      ],
      "text/plain": [
       "<IPython.core.display.Markdown object>"
      ]
     },
     "metadata": {},
     "output_type": "display_data"
    },
    {
     "data": {
      "text/markdown": [
       "![](../Images/RESULTS/RUN-13/Daily_DT_predict.png)"
      ],
      "text/plain": [
       "<IPython.core.display.Markdown object>"
      ]
     },
     "metadata": {},
     "output_type": "display_data"
    },
    {
     "data": {
      "text/markdown": [
       "### RESULT - 14"
      ],
      "text/plain": [
       "<IPython.core.display.Markdown object>"
      ]
     },
     "metadata": {},
     "output_type": "display_data"
    },
    {
     "data": {
      "text/markdown": [
       "![](../Images/RESULTS/RUN-14/Daily_DT_actual_vs_predict.png)"
      ],
      "text/plain": [
       "<IPython.core.display.Markdown object>"
      ]
     },
     "metadata": {},
     "output_type": "display_data"
    },
    {
     "data": {
      "text/markdown": [
       "![](../Images/RESULTS/RUN-14/Daily_DT_predict.png)"
      ],
      "text/plain": [
       "<IPython.core.display.Markdown object>"
      ]
     },
     "metadata": {},
     "output_type": "display_data"
    }
   ],
   "source": [
    "display_results(results_df)"
   ]
  },
  {
   "cell_type": "markdown",
   "metadata": {},
   "source": [
    "### Top 10 runs"
   ]
  },
  {
   "cell_type": "code",
   "execution_count": 41,
   "metadata": {},
   "outputs": [
    {
     "data": {
      "text/html": [
       "<div>\n",
       "<style>\n",
       "    .dataframe thead tr:only-child th {\n",
       "        text-align: right;\n",
       "    }\n",
       "\n",
       "    .dataframe thead th {\n",
       "        text-align: left;\n",
       "    }\n",
       "\n",
       "    .dataframe tbody tr th {\n",
       "        vertical-align: top;\n",
       "    }\n",
       "</style>\n",
       "<table border=\"1\" class=\"dataframe\">\n",
       "  <thead>\n",
       "    <tr style=\"text-align: right;\">\n",
       "      <th></th>\n",
       "      <th>RUN NO</th>\n",
       "      <th>DATETIME</th>\n",
       "      <th>MODEL NAME</th>\n",
       "      <th>CITY</th>\n",
       "      <th>HOST_MACHINE</th>\n",
       "      <th>PARAMETERS</th>\n",
       "      <th>RESULTS</th>\n",
       "      <th>MEAN SQUARED ERROR</th>\n",
       "      <th>FEATURE_TYPE</th>\n",
       "    </tr>\n",
       "  </thead>\n",
       "  <tbody>\n",
       "    <tr>\n",
       "      <th>1</th>\n",
       "      <td>RUN-2</td>\n",
       "      <td>2018-08-10 23:49:20.941142</td>\n",
       "      <td>RANDOM FOREST</td>\n",
       "      <td>New York</td>\n",
       "      <td>ELS-F25750M</td>\n",
       "      <td>{'max_depth': 8, 'n_estimators': 50}</td>\n",
       "      <td>{'features': ['temperature_lag1', 'temperature...</td>\n",
       "      <td>0.321614</td>\n",
       "      <td>NaN</td>\n",
       "    </tr>\n",
       "    <tr>\n",
       "      <th>2</th>\n",
       "      <td>RUN-8</td>\n",
       "      <td>2018-08-11 17:33:32.608016</td>\n",
       "      <td>RANDOM FOREST</td>\n",
       "      <td>Los Angeles</td>\n",
       "      <td>ELS-F25750M</td>\n",
       "      <td>{'max_depth': 8, 'n_estimators': 50, 'Info': {...</td>\n",
       "      <td>{'features': ['temperature_lag1', 'temperature...</td>\n",
       "      <td>0.365879</td>\n",
       "      <td>Enhanced Features</td>\n",
       "    </tr>\n",
       "    <tr>\n",
       "      <th>3</th>\n",
       "      <td>RUN-12</td>\n",
       "      <td>2018-08-11 18:44:27.509559</td>\n",
       "      <td>RANDOM FOREST</td>\n",
       "      <td>Los Angeles</td>\n",
       "      <td>ELS-F25750M</td>\n",
       "      <td>{'max_depth': 8, 'n_estimators': 50, 'Info': {...</td>\n",
       "      <td>{'features': ['temperature_lag1', 'temperature...</td>\n",
       "      <td>0.365879</td>\n",
       "      <td>Enhanced Features</td>\n",
       "    </tr>\n",
       "    <tr>\n",
       "      <th>4</th>\n",
       "      <td>RUN-1</td>\n",
       "      <td>2018-08-10 23:49:12.225283</td>\n",
       "      <td>DECISION TREE</td>\n",
       "      <td>New York</td>\n",
       "      <td>ELS-F25750M</td>\n",
       "      <td>{'max_depth': 8}</td>\n",
       "      <td>{'features': ['temperature_lag1', 'temperature...</td>\n",
       "      <td>0.517323</td>\n",
       "      <td>NaN</td>\n",
       "    </tr>\n",
       "    <tr>\n",
       "      <th>5</th>\n",
       "      <td>RUN-11</td>\n",
       "      <td>2018-08-11 18:44:18.543542</td>\n",
       "      <td>DECISION TREE</td>\n",
       "      <td>New York</td>\n",
       "      <td>ELS-F25750M</td>\n",
       "      <td>{'max_depth': 8, 'Info': {'feature_set_type': ...</td>\n",
       "      <td>{'features': ['temperature_lag1', 'temperature...</td>\n",
       "      <td>0.525548</td>\n",
       "      <td>Enhanced Features</td>\n",
       "    </tr>\n",
       "    <tr>\n",
       "      <th>6</th>\n",
       "      <td>RUN-5</td>\n",
       "      <td>2018-08-11 02:33:46.185720</td>\n",
       "      <td>DECISION TREE</td>\n",
       "      <td>New York</td>\n",
       "      <td>ELS-F25750M</td>\n",
       "      <td>{'max_depth': 8, 'Info': {'city': 'New York', ...</td>\n",
       "      <td>{'features': ['temperature_lag1', 'temperature...</td>\n",
       "      <td>0.528534</td>\n",
       "      <td></td>\n",
       "    </tr>\n",
       "    <tr>\n",
       "      <th>7</th>\n",
       "      <td>RUN-4</td>\n",
       "      <td>2018-08-11 01:48:28.286225</td>\n",
       "      <td>DECISION TREE</td>\n",
       "      <td>New York</td>\n",
       "      <td>ELS-F25750M</td>\n",
       "      <td>{'max_depth': 8, 'Info': {'city': 'New_York', ...</td>\n",
       "      <td>{'features': ['temperature_lag1', 'temperature...</td>\n",
       "      <td>0.532833</td>\n",
       "      <td>NaN</td>\n",
       "    </tr>\n",
       "    <tr>\n",
       "      <th>8</th>\n",
       "      <td>RUN-7</td>\n",
       "      <td>2018-08-11 17:32:28.362016</td>\n",
       "      <td>DECISION TREE</td>\n",
       "      <td>New York</td>\n",
       "      <td>ELS-F25750M</td>\n",
       "      <td>{'max_depth': 8, 'Info': {'feature_set_type': ...</td>\n",
       "      <td>{'features': ['temperature_lag1', 'temperature...</td>\n",
       "      <td>0.541863</td>\n",
       "      <td>Enhanced Features</td>\n",
       "    </tr>\n",
       "    <tr>\n",
       "      <th>9</th>\n",
       "      <td>RUN-3</td>\n",
       "      <td>2018-08-11 01:45:24.629820</td>\n",
       "      <td>DECISION TREE</td>\n",
       "      <td>New York</td>\n",
       "      <td>ELS-F25750M</td>\n",
       "      <td>{'max_depth': 8, 'Info': &lt;bound method DataFra...</td>\n",
       "      <td>{'features': ['temperature_lag1', 'temperature...</td>\n",
       "      <td>0.558036</td>\n",
       "      <td>NaN</td>\n",
       "    </tr>\n",
       "    <tr>\n",
       "      <th>10</th>\n",
       "      <td>RUN-6</td>\n",
       "      <td>2018-08-11 17:32:11.519405</td>\n",
       "      <td>DECISION TREE</td>\n",
       "      <td>New York</td>\n",
       "      <td>ELS-F25750M</td>\n",
       "      <td>{'max_depth': 8, 'Info': {'feature_set_type': ...</td>\n",
       "      <td>{'features': ['temperature_lag1', 'temperature...</td>\n",
       "      <td>0.560820</td>\n",
       "      <td>Enhanced Features</td>\n",
       "    </tr>\n",
       "  </tbody>\n",
       "</table>\n",
       "</div>"
      ],
      "text/plain": [
       "    RUN NO                   DATETIME     MODEL NAME         CITY  \\\n",
       "1    RUN-2 2018-08-10 23:49:20.941142  RANDOM FOREST     New York   \n",
       "2    RUN-8 2018-08-11 17:33:32.608016  RANDOM FOREST  Los Angeles   \n",
       "3   RUN-12 2018-08-11 18:44:27.509559  RANDOM FOREST  Los Angeles   \n",
       "4    RUN-1 2018-08-10 23:49:12.225283  DECISION TREE     New York   \n",
       "5   RUN-11 2018-08-11 18:44:18.543542  DECISION TREE     New York   \n",
       "6    RUN-5 2018-08-11 02:33:46.185720  DECISION TREE     New York   \n",
       "7    RUN-4 2018-08-11 01:48:28.286225  DECISION TREE     New York   \n",
       "8    RUN-7 2018-08-11 17:32:28.362016  DECISION TREE     New York   \n",
       "9    RUN-3 2018-08-11 01:45:24.629820  DECISION TREE     New York   \n",
       "10   RUN-6 2018-08-11 17:32:11.519405  DECISION TREE     New York   \n",
       "\n",
       "   HOST_MACHINE                                         PARAMETERS  \\\n",
       "1   ELS-F25750M               {'max_depth': 8, 'n_estimators': 50}   \n",
       "2   ELS-F25750M  {'max_depth': 8, 'n_estimators': 50, 'Info': {...   \n",
       "3   ELS-F25750M  {'max_depth': 8, 'n_estimators': 50, 'Info': {...   \n",
       "4   ELS-F25750M                                   {'max_depth': 8}   \n",
       "5   ELS-F25750M  {'max_depth': 8, 'Info': {'feature_set_type': ...   \n",
       "6   ELS-F25750M  {'max_depth': 8, 'Info': {'city': 'New York', ...   \n",
       "7   ELS-F25750M  {'max_depth': 8, 'Info': {'city': 'New_York', ...   \n",
       "8   ELS-F25750M  {'max_depth': 8, 'Info': {'feature_set_type': ...   \n",
       "9   ELS-F25750M  {'max_depth': 8, 'Info': <bound method DataFra...   \n",
       "10  ELS-F25750M  {'max_depth': 8, 'Info': {'feature_set_type': ...   \n",
       "\n",
       "                                              RESULTS  MEAN SQUARED ERROR  \\\n",
       "1   {'features': ['temperature_lag1', 'temperature...            0.321614   \n",
       "2   {'features': ['temperature_lag1', 'temperature...            0.365879   \n",
       "3   {'features': ['temperature_lag1', 'temperature...            0.365879   \n",
       "4   {'features': ['temperature_lag1', 'temperature...            0.517323   \n",
       "5   {'features': ['temperature_lag1', 'temperature...            0.525548   \n",
       "6   {'features': ['temperature_lag1', 'temperature...            0.528534   \n",
       "7   {'features': ['temperature_lag1', 'temperature...            0.532833   \n",
       "8   {'features': ['temperature_lag1', 'temperature...            0.541863   \n",
       "9   {'features': ['temperature_lag1', 'temperature...            0.558036   \n",
       "10  {'features': ['temperature_lag1', 'temperature...            0.560820   \n",
       "\n",
       "         FEATURE_TYPE  \n",
       "1                 NaN  \n",
       "2   Enhanced Features  \n",
       "3   Enhanced Features  \n",
       "4                 NaN  \n",
       "5   Enhanced Features  \n",
       "6                      \n",
       "7                 NaN  \n",
       "8   Enhanced Features  \n",
       "9                 NaN  \n",
       "10  Enhanced Features  "
      ]
     },
     "execution_count": 41,
     "metadata": {},
     "output_type": "execute_result"
    }
   ],
   "source": [
    "results_top_10 = get_results(top_hm_results=10)\n",
    "results_top_10"
   ]
  },
  {
   "cell_type": "code",
   "execution_count": 116,
   "metadata": {},
   "outputs": [
    {
     "data": {
      "text/markdown": [
       "### RESULT - 1"
      ],
      "text/plain": [
       "<IPython.core.display.Markdown object>"
      ]
     },
     "metadata": {},
     "output_type": "display_data"
    },
    {
     "data": {
      "text/markdown": [
       "![](../Images/RESULTS/RUN-2/Daily_DT_actual_vs_predict.png)"
      ],
      "text/plain": [
       "<IPython.core.display.Markdown object>"
      ]
     },
     "metadata": {},
     "output_type": "display_data"
    },
    {
     "data": {
      "text/markdown": [
       "![](../Images/RESULTS/RUN-2/Daily_DT_predict.png)"
      ],
      "text/plain": [
       "<IPython.core.display.Markdown object>"
      ]
     },
     "metadata": {},
     "output_type": "display_data"
    },
    {
     "data": {
      "text/markdown": [
       "### RESULT - 2"
      ],
      "text/plain": [
       "<IPython.core.display.Markdown object>"
      ]
     },
     "metadata": {},
     "output_type": "display_data"
    },
    {
     "data": {
      "text/markdown": [
       "![](../Images/RESULTS/RUN-8/Daily_DT_actual_vs_predict.png)"
      ],
      "text/plain": [
       "<IPython.core.display.Markdown object>"
      ]
     },
     "metadata": {},
     "output_type": "display_data"
    },
    {
     "data": {
      "text/markdown": [
       "![](../Images/RESULTS/RUN-8/Daily_DT_predict.png)"
      ],
      "text/plain": [
       "<IPython.core.display.Markdown object>"
      ]
     },
     "metadata": {},
     "output_type": "display_data"
    },
    {
     "data": {
      "text/markdown": [
       "### RESULT - 3"
      ],
      "text/plain": [
       "<IPython.core.display.Markdown object>"
      ]
     },
     "metadata": {},
     "output_type": "display_data"
    },
    {
     "data": {
      "text/markdown": [
       "![](../Images/RESULTS/RUN-12/Daily_DT_actual_vs_predict.png)"
      ],
      "text/plain": [
       "<IPython.core.display.Markdown object>"
      ]
     },
     "metadata": {},
     "output_type": "display_data"
    },
    {
     "data": {
      "text/markdown": [
       "![](../Images/RESULTS/RUN-12/Daily_DT_predict.png)"
      ],
      "text/plain": [
       "<IPython.core.display.Markdown object>"
      ]
     },
     "metadata": {},
     "output_type": "display_data"
    },
    {
     "data": {
      "text/markdown": [
       "### RESULT - 4"
      ],
      "text/plain": [
       "<IPython.core.display.Markdown object>"
      ]
     },
     "metadata": {},
     "output_type": "display_data"
    },
    {
     "data": {
      "text/markdown": [
       "![](../Images/RESULTS/RUN-1/Daily_DT_actual_vs_predict.png)"
      ],
      "text/plain": [
       "<IPython.core.display.Markdown object>"
      ]
     },
     "metadata": {},
     "output_type": "display_data"
    },
    {
     "data": {
      "text/markdown": [
       "![](../Images/RESULTS/RUN-1/Daily_DT_predict.png)"
      ],
      "text/plain": [
       "<IPython.core.display.Markdown object>"
      ]
     },
     "metadata": {},
     "output_type": "display_data"
    },
    {
     "data": {
      "text/markdown": [
       "### RESULT - 5"
      ],
      "text/plain": [
       "<IPython.core.display.Markdown object>"
      ]
     },
     "metadata": {},
     "output_type": "display_data"
    },
    {
     "data": {
      "text/markdown": [
       "![](../Images/RESULTS/RUN-11/Daily_DT_actual_vs_predict.png)"
      ],
      "text/plain": [
       "<IPython.core.display.Markdown object>"
      ]
     },
     "metadata": {},
     "output_type": "display_data"
    },
    {
     "data": {
      "text/markdown": [
       "![](../Images/RESULTS/RUN-11/Daily_DT_predict.png)"
      ],
      "text/plain": [
       "<IPython.core.display.Markdown object>"
      ]
     },
     "metadata": {},
     "output_type": "display_data"
    },
    {
     "data": {
      "text/markdown": [
       "### RESULT - 6"
      ],
      "text/plain": [
       "<IPython.core.display.Markdown object>"
      ]
     },
     "metadata": {},
     "output_type": "display_data"
    },
    {
     "data": {
      "text/markdown": [
       "![](../Images/RESULTS/RUN-5/Daily_DT_actual_vs_predict.png)"
      ],
      "text/plain": [
       "<IPython.core.display.Markdown object>"
      ]
     },
     "metadata": {},
     "output_type": "display_data"
    },
    {
     "data": {
      "text/markdown": [
       "![](../Images/RESULTS/RUN-5/Daily_DT_predict.png)"
      ],
      "text/plain": [
       "<IPython.core.display.Markdown object>"
      ]
     },
     "metadata": {},
     "output_type": "display_data"
    },
    {
     "data": {
      "text/markdown": [
       "### RESULT - 7"
      ],
      "text/plain": [
       "<IPython.core.display.Markdown object>"
      ]
     },
     "metadata": {},
     "output_type": "display_data"
    },
    {
     "data": {
      "text/markdown": [
       "![](../Images/RESULTS/RUN-4/Daily_DT_actual_vs_predict.png)"
      ],
      "text/plain": [
       "<IPython.core.display.Markdown object>"
      ]
     },
     "metadata": {},
     "output_type": "display_data"
    },
    {
     "data": {
      "text/markdown": [
       "![](../Images/RESULTS/RUN-4/Daily_DT_predict.png)"
      ],
      "text/plain": [
       "<IPython.core.display.Markdown object>"
      ]
     },
     "metadata": {},
     "output_type": "display_data"
    },
    {
     "data": {
      "text/markdown": [
       "### RESULT - 8"
      ],
      "text/plain": [
       "<IPython.core.display.Markdown object>"
      ]
     },
     "metadata": {},
     "output_type": "display_data"
    },
    {
     "data": {
      "text/markdown": [
       "![](../Images/RESULTS/RUN-7/Daily_DT_actual_vs_predict.png)"
      ],
      "text/plain": [
       "<IPython.core.display.Markdown object>"
      ]
     },
     "metadata": {},
     "output_type": "display_data"
    },
    {
     "data": {
      "text/markdown": [
       "![](../Images/RESULTS/RUN-7/Daily_DT_predict.png)"
      ],
      "text/plain": [
       "<IPython.core.display.Markdown object>"
      ]
     },
     "metadata": {},
     "output_type": "display_data"
    },
    {
     "data": {
      "text/markdown": [
       "### RESULT - 9"
      ],
      "text/plain": [
       "<IPython.core.display.Markdown object>"
      ]
     },
     "metadata": {},
     "output_type": "display_data"
    },
    {
     "data": {
      "text/markdown": [
       "![](../Images/RESULTS/RUN-3/Daily_DT_actual_vs_predict.png)"
      ],
      "text/plain": [
       "<IPython.core.display.Markdown object>"
      ]
     },
     "metadata": {},
     "output_type": "display_data"
    },
    {
     "data": {
      "text/markdown": [
       "![](../Images/RESULTS/RUN-3/Daily_DT_predict.png)"
      ],
      "text/plain": [
       "<IPython.core.display.Markdown object>"
      ]
     },
     "metadata": {},
     "output_type": "display_data"
    },
    {
     "data": {
      "text/markdown": [
       "### RESULT - 10"
      ],
      "text/plain": [
       "<IPython.core.display.Markdown object>"
      ]
     },
     "metadata": {},
     "output_type": "display_data"
    },
    {
     "data": {
      "text/markdown": [
       "![](../Images/RESULTS/RUN-6/Daily_DT_actual_vs_predict.png)"
      ],
      "text/plain": [
       "<IPython.core.display.Markdown object>"
      ]
     },
     "metadata": {},
     "output_type": "display_data"
    },
    {
     "data": {
      "text/markdown": [
       "![](../Images/RESULTS/RUN-6/Daily_DT_predict.png)"
      ],
      "text/plain": [
       "<IPython.core.display.Markdown object>"
      ]
     },
     "metadata": {},
     "output_type": "display_data"
    }
   ],
   "source": [
    "display_results(results_top_10)"
   ]
  },
  {
   "cell_type": "markdown",
   "metadata": {},
   "source": [
    "### Top 3 runs filtered by city "
   ]
  },
  {
   "cell_type": "code",
   "execution_count": 42,
   "metadata": {},
   "outputs": [
    {
     "data": {
      "text/html": [
       "<div>\n",
       "<style>\n",
       "    .dataframe thead tr:only-child th {\n",
       "        text-align: right;\n",
       "    }\n",
       "\n",
       "    .dataframe thead th {\n",
       "        text-align: left;\n",
       "    }\n",
       "\n",
       "    .dataframe tbody tr th {\n",
       "        vertical-align: top;\n",
       "    }\n",
       "</style>\n",
       "<table border=\"1\" class=\"dataframe\">\n",
       "  <thead>\n",
       "    <tr style=\"text-align: right;\">\n",
       "      <th></th>\n",
       "      <th>RUN NO</th>\n",
       "      <th>DATETIME</th>\n",
       "      <th>MODEL NAME</th>\n",
       "      <th>CITY</th>\n",
       "      <th>HOST_MACHINE</th>\n",
       "      <th>PARAMETERS</th>\n",
       "      <th>RESULTS</th>\n",
       "      <th>MEAN SQUARED ERROR</th>\n",
       "      <th>FEATURE_TYPE</th>\n",
       "    </tr>\n",
       "  </thead>\n",
       "  <tbody>\n",
       "    <tr>\n",
       "      <th>1</th>\n",
       "      <td>RUN-2</td>\n",
       "      <td>2018-08-10 23:49:20.941142</td>\n",
       "      <td>RANDOM FOREST</td>\n",
       "      <td>New York</td>\n",
       "      <td>ELS-F25750M</td>\n",
       "      <td>{'max_depth': 8, 'n_estimators': 50}</td>\n",
       "      <td>{'features': ['temperature_lag1', 'temperature...</td>\n",
       "      <td>0.321614</td>\n",
       "      <td>NaN</td>\n",
       "    </tr>\n",
       "    <tr>\n",
       "      <th>2</th>\n",
       "      <td>RUN-1</td>\n",
       "      <td>2018-08-10 23:49:12.225283</td>\n",
       "      <td>DECISION TREE</td>\n",
       "      <td>New York</td>\n",
       "      <td>ELS-F25750M</td>\n",
       "      <td>{'max_depth': 8}</td>\n",
       "      <td>{'features': ['temperature_lag1', 'temperature...</td>\n",
       "      <td>0.517323</td>\n",
       "      <td>NaN</td>\n",
       "    </tr>\n",
       "    <tr>\n",
       "      <th>3</th>\n",
       "      <td>RUN-11</td>\n",
       "      <td>2018-08-11 18:44:18.543542</td>\n",
       "      <td>DECISION TREE</td>\n",
       "      <td>New York</td>\n",
       "      <td>ELS-F25750M</td>\n",
       "      <td>{'max_depth': 8, 'Info': {'feature_set_type': ...</td>\n",
       "      <td>{'features': ['temperature_lag1', 'temperature...</td>\n",
       "      <td>0.525548</td>\n",
       "      <td>Enhanced Features</td>\n",
       "    </tr>\n",
       "  </tbody>\n",
       "</table>\n",
       "</div>"
      ],
      "text/plain": [
       "   RUN NO                   DATETIME     MODEL NAME      CITY HOST_MACHINE  \\\n",
       "1   RUN-2 2018-08-10 23:49:20.941142  RANDOM FOREST  New York  ELS-F25750M   \n",
       "2   RUN-1 2018-08-10 23:49:12.225283  DECISION TREE  New York  ELS-F25750M   \n",
       "3  RUN-11 2018-08-11 18:44:18.543542  DECISION TREE  New York  ELS-F25750M   \n",
       "\n",
       "                                          PARAMETERS  \\\n",
       "1               {'max_depth': 8, 'n_estimators': 50}   \n",
       "2                                   {'max_depth': 8}   \n",
       "3  {'max_depth': 8, 'Info': {'feature_set_type': ...   \n",
       "\n",
       "                                             RESULTS  MEAN SQUARED ERROR  \\\n",
       "1  {'features': ['temperature_lag1', 'temperature...            0.321614   \n",
       "2  {'features': ['temperature_lag1', 'temperature...            0.517323   \n",
       "3  {'features': ['temperature_lag1', 'temperature...            0.525548   \n",
       "\n",
       "        FEATURE_TYPE  \n",
       "1                NaN  \n",
       "2                NaN  \n",
       "3  Enhanced Features  "
      ]
     },
     "execution_count": 42,
     "metadata": {},
     "output_type": "execute_result"
    }
   ],
   "source": [
    "city = 'New York'\n",
    "results_top_city_3 = get_results(city = city, top_hm_results = 3)"
   ]
  },
  {
   "cell_type": "markdown",
   "metadata": {},
   "source": [
    "## Prediction results"
   ]
  },
  {
   "cell_type": "code",
   "execution_count": 117,
   "metadata": {},
   "outputs": [
    {
     "data": {
      "text/markdown": [
       "### RESULT - 1"
      ],
      "text/plain": [
       "<IPython.core.display.Markdown object>"
      ]
     },
     "metadata": {},
     "output_type": "display_data"
    },
    {
     "data": {
      "text/markdown": [
       "![](../Images/RESULTS/RUN-2/Daily_DT_actual_vs_predict.png)"
      ],
      "text/plain": [
       "<IPython.core.display.Markdown object>"
      ]
     },
     "metadata": {},
     "output_type": "display_data"
    },
    {
     "data": {
      "text/markdown": [
       "![](../Images/RESULTS/RUN-2/Daily_DT_predict.png)"
      ],
      "text/plain": [
       "<IPython.core.display.Markdown object>"
      ]
     },
     "metadata": {},
     "output_type": "display_data"
    },
    {
     "data": {
      "text/markdown": [
       "### RESULT - 2"
      ],
      "text/plain": [
       "<IPython.core.display.Markdown object>"
      ]
     },
     "metadata": {},
     "output_type": "display_data"
    },
    {
     "data": {
      "text/markdown": [
       "![](../Images/RESULTS/RUN-1/Daily_DT_actual_vs_predict.png)"
      ],
      "text/plain": [
       "<IPython.core.display.Markdown object>"
      ]
     },
     "metadata": {},
     "output_type": "display_data"
    },
    {
     "data": {
      "text/markdown": [
       "![](../Images/RESULTS/RUN-1/Daily_DT_predict.png)"
      ],
      "text/plain": [
       "<IPython.core.display.Markdown object>"
      ]
     },
     "metadata": {},
     "output_type": "display_data"
    },
    {
     "data": {
      "text/markdown": [
       "### RESULT - 3"
      ],
      "text/plain": [
       "<IPython.core.display.Markdown object>"
      ]
     },
     "metadata": {},
     "output_type": "display_data"
    },
    {
     "data": {
      "text/markdown": [
       "![](../Images/RESULTS/RUN-11/Daily_DT_actual_vs_predict.png)"
      ],
      "text/plain": [
       "<IPython.core.display.Markdown object>"
      ]
     },
     "metadata": {},
     "output_type": "display_data"
    },
    {
     "data": {
      "text/markdown": [
       "![](../Images/RESULTS/RUN-11/Daily_DT_predict.png)"
      ],
      "text/plain": [
       "<IPython.core.display.Markdown object>"
      ]
     },
     "metadata": {},
     "output_type": "display_data"
    }
   ],
   "source": [
    "display_results(results_top_city_3)"
   ]
  }
 ],
 "metadata": {
  "kernelspec": {
   "display_name": "Python 3",
   "language": "python",
   "name": "python3"
  },
  "language_info": {
   "codemirror_mode": {
    "name": "ipython",
    "version": 3
   },
   "file_extension": ".py",
   "mimetype": "text/x-python",
   "name": "python",
   "nbconvert_exporter": "python",
   "pygments_lexer": "ipython3",
   "version": "3.6.3"
  }
 },
 "nbformat": 4,
 "nbformat_minor": 2
}
