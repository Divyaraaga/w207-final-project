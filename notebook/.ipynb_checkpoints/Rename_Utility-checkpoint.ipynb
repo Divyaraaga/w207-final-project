{
 "cells": [
  {
   "cell_type": "code",
   "execution_count": 13,
   "metadata": {},
   "outputs": [
    {
     "name": "stdout",
     "output_type": "stream",
     "text": [
      "Daily_RNN_actual_vs_predict.png -> Daily_actual_vs_predict.png\n",
      "Daily_RNN_predict.png -> Daily_predict.png\n",
      "Daily_RNN_actual_vs_predict.png -> Daily_actual_vs_predict.png\n",
      "Daily_RNN_predict.png -> Daily_predict.png\n",
      "Daily_RNN_actual_vs_predict.png -> Daily_actual_vs_predict.png\n",
      "Daily_RNN_predict.png -> Daily_predict.png\n",
      "Daily_RNN_actual_vs_predict.png -> Daily_actual_vs_predict.png\n",
      "Daily_RNN_predict.png -> Daily_predict.png\n",
      "Daily_RNN_actual_vs_predict.png -> Daily_actual_vs_predict.png\n",
      "Daily_RNN_predict.png -> Daily_predict.png\n",
      "Daily_RNN_actual_vs_predict.png -> Daily_actual_vs_predict.png\n",
      "Daily_RNN_predict.png -> Daily_predict.png\n",
      "Daily_RNN_actual_vs_predict.png -> Daily_actual_vs_predict.png\n",
      "Daily_RNN_predict.png -> Daily_predict.png\n",
      "Daily_RNN_actual_vs_predict.png -> Daily_actual_vs_predict.png\n",
      "Daily_RNN_predict.png -> Daily_predict.png\n",
      "Daily_RNN_actual_vs_predict.png -> Daily_actual_vs_predict.png\n",
      "Daily_RNN_predict.png -> Daily_predict.png\n",
      "Daily_RNN_actual_vs_predict.png -> Daily_actual_vs_predict.png\n",
      "Daily_RNN_predict.png -> Daily_predict.png\n",
      "Daily_RNN_actual_vs_predict.png -> Daily_actual_vs_predict.png\n",
      "Daily_RNN_predict.png -> Daily_predict.png\n",
      "Daily_RNN_actual_vs_predict.png -> Daily_actual_vs_predict.png\n",
      "Daily_RNN_predict.png -> Daily_predict.png\n",
      "Daily_RNN_actual_vs_predict.png -> Daily_actual_vs_predict.png\n",
      "Daily_RNN_predict.png -> Daily_predict.png\n",
      "Daily_RNN_actual_vs_predict.png -> Daily_actual_vs_predict.png\n",
      "Daily_RNN_predict.png -> Daily_predict.png\n",
      "Daily_RNN_actual_vs_predict.png -> Daily_actual_vs_predict.png\n",
      "Daily_RNN_predict.png -> Daily_predict.png\n",
      "Daily_RNN_actual_vs_predict.png -> Daily_actual_vs_predict.png\n",
      "Daily_RNN_predict.png -> Daily_predict.png\n",
      "Daily_RNN_actual_vs_predict.png -> Daily_actual_vs_predict.png\n",
      "Daily_RNN_predict.png -> Daily_predict.png\n",
      "Daily_RNN_actual_vs_predict.png -> Daily_actual_vs_predict.png\n",
      "Daily_RNN_predict.png -> Daily_predict.png\n"
     ]
    }
   ],
   "source": [
    "import os\n",
    "for i in range(1,55):\n",
    "    path = f\"../experiment_results/RUN-{i}\"\n",
    "    for filename in os.listdir(path):\n",
    "        pos = filename.find(\"_RNN_\",0)\n",
    "        if (pos > 0):\n",
    "            oldfile = filename\n",
    "            filename = filename.replace(\"_RNN_\",\"_\")\n",
    "            os.rename(f\"{path}/{oldfile}\", f\"{path}/{filename}\")\n",
    "            print(f\"{oldfile} -> {filename}\")"
   ]
  },
  {
   "cell_type": "code",
   "execution_count": null,
   "metadata": {
    "collapsed": true
   },
   "outputs": [],
   "source": []
  },
  {
   "cell_type": "code",
   "execution_count": null,
   "metadata": {
    "collapsed": true
   },
   "outputs": [],
   "source": []
  }
 ],
 "metadata": {
  "kernelspec": {
   "display_name": "Python 3",
   "language": "python",
   "name": "python3"
  },
  "language_info": {
   "codemirror_mode": {
    "name": "ipython",
    "version": 3
   },
   "file_extension": ".py",
   "mimetype": "text/x-python",
   "name": "python",
   "nbconvert_exporter": "python",
   "pygments_lexer": "ipython3",
   "version": "3.6.3"
  }
 },
 "nbformat": 4,
 "nbformat_minor": 2
}
