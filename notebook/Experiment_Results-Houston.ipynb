{
 "cells": [
  {
   "cell_type": "markdown",
   "metadata": {},
   "source": [
    "# Experiment Results"
   ]
  },
  {
   "cell_type": "markdown",
   "metadata": {},
   "source": [
    "## Results for Houston"
   ]
  },
  {
   "cell_type": "code",
   "execution_count": 8,
   "metadata": {},
   "outputs": [
    {
     "data": {
      "text/html": [
       "<script>requirejs.config({paths: { 'plotly': ['https://cdn.plot.ly/plotly-latest.min']},});if(!window.Plotly) {{require(['plotly'],function(plotly) {window.Plotly=plotly;});}}</script>"
      ],
      "text/vnd.plotly.v1+html": [
       "<script>requirejs.config({paths: { 'plotly': ['https://cdn.plot.ly/plotly-latest.min']},});if(!window.Plotly) {{require(['plotly'],function(plotly) {window.Plotly=plotly;});}}</script>"
      ]
     },
     "metadata": {},
     "output_type": "display_data"
    }
   ],
   "source": [
    "import warnings\n",
    "warnings.filterwarnings('ignore')\n",
    "\n",
    "%run helper_functions.py\n",
    "%matplotlib inline"
   ]
  },
  {
   "cell_type": "markdown",
   "metadata": {},
   "source": [
    "Lets review the top 10 results, ordered by Mean Square Error (ascending)"
   ]
  },
  {
   "cell_type": "code",
   "execution_count": 2,
   "metadata": {},
   "outputs": [
    {
     "data": {
      "text/html": [
       "<div>\n",
       "<style scoped>\n",
       "    .dataframe tbody tr th:only-of-type {\n",
       "        vertical-align: middle;\n",
       "    }\n",
       "\n",
       "    .dataframe tbody tr th {\n",
       "        vertical-align: top;\n",
       "    }\n",
       "\n",
       "    .dataframe thead th {\n",
       "        text-align: right;\n",
       "    }\n",
       "</style>\n",
       "<table border=\"1\" class=\"dataframe\">\n",
       "  <thead>\n",
       "    <tr style=\"text-align: right;\">\n",
       "      <th></th>\n",
       "      <th>RUN_ID</th>\n",
       "      <th>DATETIME</th>\n",
       "      <th>MODEL_NAME</th>\n",
       "      <th>CITY</th>\n",
       "      <th>FEATURE_TYPE</th>\n",
       "      <th>HOST_MACHINE</th>\n",
       "      <th>MODEL_PARAMETERS</th>\n",
       "      <th>MODEL_RESULTS</th>\n",
       "      <th>MEAN_SQUARED_ERROR</th>\n",
       "    </tr>\n",
       "  </thead>\n",
       "  <tbody>\n",
       "    <tr>\n",
       "      <th>1</th>\n",
       "      <td>53</td>\n",
       "      <td>2018-08-14 20:40:23.868627</td>\n",
       "      <td>RNN</td>\n",
       "      <td>Houston</td>\n",
       "      <td>Enhanced_Signals</td>\n",
       "      <td>DESKTOP-KN40C32</td>\n",
       "      <td>{'epochs': 50, 'Info': {'feature_set_type': 'E...</td>\n",
       "      <td>{'features': ['temperature_lag1', 'temperature...</td>\n",
       "      <td>4.217506</td>\n",
       "    </tr>\n",
       "    <tr>\n",
       "      <th>2</th>\n",
       "      <td>47</td>\n",
       "      <td>2018-08-14 20:37:47.827488</td>\n",
       "      <td>RNN</td>\n",
       "      <td>Houston</td>\n",
       "      <td>Inc_Signals</td>\n",
       "      <td>DESKTOP-KN40C32</td>\n",
       "      <td>{'epochs': 50, 'Info': {'feature_set_type': 'I...</td>\n",
       "      <td>{'features': ['temperature_lag1', 'temperature...</td>\n",
       "      <td>4.588875</td>\n",
       "    </tr>\n",
       "    <tr>\n",
       "      <th>3</th>\n",
       "      <td>41</td>\n",
       "      <td>2018-08-14 20:35:12.061515</td>\n",
       "      <td>RNN</td>\n",
       "      <td>Houston</td>\n",
       "      <td>Basic</td>\n",
       "      <td>DESKTOP-KN40C32</td>\n",
       "      <td>{'epochs': 50, 'Info': {'feature_set_type': 'B...</td>\n",
       "      <td>{'features': ['temperature_lag1', 'temperature...</td>\n",
       "      <td>5.581542</td>\n",
       "    </tr>\n",
       "    <tr>\n",
       "      <th>4</th>\n",
       "      <td>29</td>\n",
       "      <td>2018-08-14 19:55:55.798404</td>\n",
       "      <td>RANDOM FOREST</td>\n",
       "      <td>Houston</td>\n",
       "      <td>Inc_Signals</td>\n",
       "      <td>DESKTOP-KN40C32</td>\n",
       "      <td>{'max_depth': 8, 'n_estimators': 50, 'Info': {...</td>\n",
       "      <td>{'features': ['temperature_lag1', 'temperature...</td>\n",
       "      <td>6.041626</td>\n",
       "    </tr>\n",
       "    <tr>\n",
       "      <th>5</th>\n",
       "      <td>35</td>\n",
       "      <td>2018-08-14 19:56:44.111200</td>\n",
       "      <td>RANDOM FOREST</td>\n",
       "      <td>Houston</td>\n",
       "      <td>Enhanced_Signals</td>\n",
       "      <td>DESKTOP-KN40C32</td>\n",
       "      <td>{'max_depth': 8, 'n_estimators': 50, 'Info': {...</td>\n",
       "      <td>{'features': ['temperature_lag1', 'temperature...</td>\n",
       "      <td>6.041626</td>\n",
       "    </tr>\n",
       "    <tr>\n",
       "      <th>6</th>\n",
       "      <td>23</td>\n",
       "      <td>2018-08-14 19:55:04.570078</td>\n",
       "      <td>RANDOM FOREST</td>\n",
       "      <td>Houston</td>\n",
       "      <td>Basic</td>\n",
       "      <td>DESKTOP-KN40C32</td>\n",
       "      <td>{'max_depth': 8, 'n_estimators': 50, 'Info': {...</td>\n",
       "      <td>{'features': ['temperature_lag1', 'temperature...</td>\n",
       "      <td>6.637421</td>\n",
       "    </tr>\n",
       "    <tr>\n",
       "      <th>7</th>\n",
       "      <td>5</td>\n",
       "      <td>2018-08-14 19:42:41.506483</td>\n",
       "      <td>DECISION TREE</td>\n",
       "      <td>Houston</td>\n",
       "      <td>Basic</td>\n",
       "      <td>DESKTOP-KN40C32</td>\n",
       "      <td>{'max_depth': 8, 'Info': {'feature_set_type': ...</td>\n",
       "      <td>{'features': ['temperature_lag1', 'temperature...</td>\n",
       "      <td>7.705077</td>\n",
       "    </tr>\n",
       "    <tr>\n",
       "      <th>8</th>\n",
       "      <td>18</td>\n",
       "      <td>2018-08-14 19:48:11.736850</td>\n",
       "      <td>DECISION TREE</td>\n",
       "      <td>Houston</td>\n",
       "      <td>Enhanced_Signals</td>\n",
       "      <td>DESKTOP-KN40C32</td>\n",
       "      <td>{'max_depth': 8, 'Info': {'feature_set_type': ...</td>\n",
       "      <td>{'features': ['temperature_lag1', 'temperature...</td>\n",
       "      <td>10.205057</td>\n",
       "    </tr>\n",
       "    <tr>\n",
       "      <th>9</th>\n",
       "      <td>11</td>\n",
       "      <td>2018-08-14 19:43:39.374706</td>\n",
       "      <td>DECISION TREE</td>\n",
       "      <td>Houston</td>\n",
       "      <td>Inc_Signals</td>\n",
       "      <td>DESKTOP-KN40C32</td>\n",
       "      <td>{'max_depth': 8, 'Info': {'feature_set_type': ...</td>\n",
       "      <td>{'features': ['temperature_lag1', 'temperature...</td>\n",
       "      <td>10.519872</td>\n",
       "    </tr>\n",
       "  </tbody>\n",
       "</table>\n",
       "</div>"
      ],
      "text/plain": [
       "  RUN_ID                   DATETIME     MODEL_NAME     CITY      FEATURE_TYPE  \\\n",
       "1     53 2018-08-14 20:40:23.868627            RNN  Houston  Enhanced_Signals   \n",
       "2     47 2018-08-14 20:37:47.827488            RNN  Houston       Inc_Signals   \n",
       "3     41 2018-08-14 20:35:12.061515            RNN  Houston             Basic   \n",
       "4     29 2018-08-14 19:55:55.798404  RANDOM FOREST  Houston       Inc_Signals   \n",
       "5     35 2018-08-14 19:56:44.111200  RANDOM FOREST  Houston  Enhanced_Signals   \n",
       "6     23 2018-08-14 19:55:04.570078  RANDOM FOREST  Houston             Basic   \n",
       "7      5 2018-08-14 19:42:41.506483  DECISION TREE  Houston             Basic   \n",
       "8     18 2018-08-14 19:48:11.736850  DECISION TREE  Houston  Enhanced_Signals   \n",
       "9     11 2018-08-14 19:43:39.374706  DECISION TREE  Houston       Inc_Signals   \n",
       "\n",
       "      HOST_MACHINE                                   MODEL_PARAMETERS  \\\n",
       "1  DESKTOP-KN40C32  {'epochs': 50, 'Info': {'feature_set_type': 'E...   \n",
       "2  DESKTOP-KN40C32  {'epochs': 50, 'Info': {'feature_set_type': 'I...   \n",
       "3  DESKTOP-KN40C32  {'epochs': 50, 'Info': {'feature_set_type': 'B...   \n",
       "4  DESKTOP-KN40C32  {'max_depth': 8, 'n_estimators': 50, 'Info': {...   \n",
       "5  DESKTOP-KN40C32  {'max_depth': 8, 'n_estimators': 50, 'Info': {...   \n",
       "6  DESKTOP-KN40C32  {'max_depth': 8, 'n_estimators': 50, 'Info': {...   \n",
       "7  DESKTOP-KN40C32  {'max_depth': 8, 'Info': {'feature_set_type': ...   \n",
       "8  DESKTOP-KN40C32  {'max_depth': 8, 'Info': {'feature_set_type': ...   \n",
       "9  DESKTOP-KN40C32  {'max_depth': 8, 'Info': {'feature_set_type': ...   \n",
       "\n",
       "                                       MODEL_RESULTS  MEAN_SQUARED_ERROR  \n",
       "1  {'features': ['temperature_lag1', 'temperature...            4.217506  \n",
       "2  {'features': ['temperature_lag1', 'temperature...            4.588875  \n",
       "3  {'features': ['temperature_lag1', 'temperature...            5.581542  \n",
       "4  {'features': ['temperature_lag1', 'temperature...            6.041626  \n",
       "5  {'features': ['temperature_lag1', 'temperature...            6.041626  \n",
       "6  {'features': ['temperature_lag1', 'temperature...            6.637421  \n",
       "7  {'features': ['temperature_lag1', 'temperature...            7.705077  \n",
       "8  {'features': ['temperature_lag1', 'temperature...           10.205057  \n",
       "9  {'features': ['temperature_lag1', 'temperature...           10.519872  "
      ]
     },
     "execution_count": 2,
     "metadata": {},
     "output_type": "execute_result"
    }
   ],
   "source": [
    "city='Houston'\n",
    "results_top_10 = get_results(city=city, top_hm_results=10)\n",
    "results_top_10"
   ]
  },
  {
   "cell_type": "markdown",
   "metadata": {},
   "source": [
    "RNN has done much better than Random forest so in this instance it is the winner, lets take a look at that chart."
   ]
  },
  {
   "cell_type": "code",
   "execution_count": 3,
   "metadata": {},
   "outputs": [
    {
     "data": {
      "text/markdown": [
       "### Experiment #53 - run by DESKTOP-KN40C32 on 2018-08-14 20:40:23.868627"
      ],
      "text/plain": [
       "<IPython.core.display.Markdown object>"
      ]
     },
     "metadata": {},
     "output_type": "display_data"
    },
    {
     "data": {
      "text/markdown": [
       "![](../experiment_results/RUN-53/Daily_predict.png)"
      ],
      "text/plain": [
       "<IPython.core.display.Markdown object>"
      ]
     },
     "metadata": {},
     "output_type": "display_data"
    }
   ],
   "source": [
    "display_results(results_top_10.head(1), chart_type='predict')"
   ]
  },
  {
   "cell_type": "markdown",
   "metadata": {},
   "source": [
    "We can see the forecast follows the trend and it does a better job but like the prior example of Miami it has some difficulty following the peaks and troughs of the actual temperature pattern experiences. \n",
    "\n",
    "Lets examine the top 10 features across the model runs for this location in a pivot table form."
   ]
  },
  {
   "cell_type": "code",
   "execution_count": 4,
   "metadata": {},
   "outputs": [
    {
     "data": {
      "text/html": [
       "<div>\n",
       "<style scoped>\n",
       "    .dataframe tbody tr th:only-of-type {\n",
       "        vertical-align: middle;\n",
       "    }\n",
       "\n",
       "    .dataframe tbody tr th {\n",
       "        vertical-align: top;\n",
       "    }\n",
       "\n",
       "    .dataframe thead tr th {\n",
       "        text-align: left;\n",
       "    }\n",
       "\n",
       "    .dataframe thead tr:last-of-type th {\n",
       "        text-align: right;\n",
       "    }\n",
       "</style>\n",
       "<table border=\"1\" class=\"dataframe\">\n",
       "  <thead>\n",
       "    <tr>\n",
       "      <th>MODEL_NAME</th>\n",
       "      <th colspan=\"3\" halign=\"left\">DECISION TREE</th>\n",
       "      <th colspan=\"3\" halign=\"left\">RANDOM FOREST</th>\n",
       "    </tr>\n",
       "    <tr>\n",
       "      <th>FEATURE_TYPE</th>\n",
       "      <th>Basic</th>\n",
       "      <th>Enhanced_Signals</th>\n",
       "      <th>Inc_Signals</th>\n",
       "      <th>Basic</th>\n",
       "      <th>Enhanced_Signals</th>\n",
       "      <th>Inc_Signals</th>\n",
       "    </tr>\n",
       "    <tr>\n",
       "      <th>FEATURE</th>\n",
       "      <th></th>\n",
       "      <th></th>\n",
       "      <th></th>\n",
       "      <th></th>\n",
       "      <th></th>\n",
       "      <th></th>\n",
       "    </tr>\n",
       "  </thead>\n",
       "  <tbody>\n",
       "    <tr>\n",
       "      <th>clean_ao_value</th>\n",
       "      <td>NaN</td>\n",
       "      <td>0.043560</td>\n",
       "      <td>0.041918</td>\n",
       "      <td>NaN</td>\n",
       "      <td>0.756749</td>\n",
       "      <td>0.756749</td>\n",
       "    </tr>\n",
       "    <tr>\n",
       "      <th>clean_nao_value</th>\n",
       "      <td>NaN</td>\n",
       "      <td>0.816215</td>\n",
       "      <td>0.794028</td>\n",
       "      <td>NaN</td>\n",
       "      <td>0.656157</td>\n",
       "      <td>0.656157</td>\n",
       "    </tr>\n",
       "    <tr>\n",
       "      <th>clean_nino12_value</th>\n",
       "      <td>NaN</td>\n",
       "      <td>0.235922</td>\n",
       "      <td>0.244526</td>\n",
       "      <td>NaN</td>\n",
       "      <td>NaN</td>\n",
       "      <td>NaN</td>\n",
       "    </tr>\n",
       "    <tr>\n",
       "      <th>clean_nino34_value</th>\n",
       "      <td>NaN</td>\n",
       "      <td>0.003483</td>\n",
       "      <td>0.018493</td>\n",
       "      <td>NaN</td>\n",
       "      <td>NaN</td>\n",
       "      <td>NaN</td>\n",
       "    </tr>\n",
       "    <tr>\n",
       "      <th>clean_nino3_value</th>\n",
       "      <td>NaN</td>\n",
       "      <td>0.087301</td>\n",
       "      <td>0.090106</td>\n",
       "      <td>NaN</td>\n",
       "      <td>NaN</td>\n",
       "      <td>NaN</td>\n",
       "    </tr>\n",
       "    <tr>\n",
       "      <th>clean_nino4_value</th>\n",
       "      <td>NaN</td>\n",
       "      <td>0.109168</td>\n",
       "      <td>0.112347</td>\n",
       "      <td>NaN</td>\n",
       "      <td>NaN</td>\n",
       "      <td>NaN</td>\n",
       "    </tr>\n",
       "    <tr>\n",
       "      <th>temperature_lag1</th>\n",
       "      <td>27.548477</td>\n",
       "      <td>27.136183</td>\n",
       "      <td>27.082286</td>\n",
       "      <td>42.775543</td>\n",
       "      <td>42.447002</td>\n",
       "      <td>42.447002</td>\n",
       "    </tr>\n",
       "    <tr>\n",
       "      <th>temperature_lag2</th>\n",
       "      <td>2.202069</td>\n",
       "      <td>1.773779</td>\n",
       "      <td>1.774231</td>\n",
       "      <td>2.347156</td>\n",
       "      <td>2.064882</td>\n",
       "      <td>2.064882</td>\n",
       "    </tr>\n",
       "    <tr>\n",
       "      <th>temperature_lag30</th>\n",
       "      <td>0.609669</td>\n",
       "      <td>0.646106</td>\n",
       "      <td>0.621661</td>\n",
       "      <td>0.944930</td>\n",
       "      <td>0.742389</td>\n",
       "      <td>0.742389</td>\n",
       "    </tr>\n",
       "    <tr>\n",
       "      <th>temperature_lag365</th>\n",
       "      <td>0.753962</td>\n",
       "      <td>0.440651</td>\n",
       "      <td>0.455842</td>\n",
       "      <td>0.975389</td>\n",
       "      <td>0.840931</td>\n",
       "      <td>0.840931</td>\n",
       "    </tr>\n",
       "    <tr>\n",
       "      <th>temperature_lag7</th>\n",
       "      <td>0.954081</td>\n",
       "      <td>0.859909</td>\n",
       "      <td>0.875849</td>\n",
       "      <td>0.863763</td>\n",
       "      <td>0.675088</td>\n",
       "      <td>0.675088</td>\n",
       "    </tr>\n",
       "    <tr>\n",
       "      <th>temperature_lag90</th>\n",
       "      <td>0.662133</td>\n",
       "      <td>0.330657</td>\n",
       "      <td>0.305711</td>\n",
       "      <td>0.556063</td>\n",
       "      <td>NaN</td>\n",
       "      <td>NaN</td>\n",
       "    </tr>\n",
       "    <tr>\n",
       "      <th>temperature_mavg180</th>\n",
       "      <td>0.241951</td>\n",
       "      <td>0.605832</td>\n",
       "      <td>0.616706</td>\n",
       "      <td>0.407410</td>\n",
       "      <td>NaN</td>\n",
       "      <td>NaN</td>\n",
       "    </tr>\n",
       "    <tr>\n",
       "      <th>temperature_mavg30</th>\n",
       "      <td>0.437132</td>\n",
       "      <td>0.722921</td>\n",
       "      <td>0.940497</td>\n",
       "      <td>0.831117</td>\n",
       "      <td>0.664705</td>\n",
       "      <td>0.664705</td>\n",
       "    </tr>\n",
       "    <tr>\n",
       "      <th>temperature_mavg60</th>\n",
       "      <td>0.558999</td>\n",
       "      <td>0.354695</td>\n",
       "      <td>0.328816</td>\n",
       "      <td>0.598374</td>\n",
       "      <td>0.469204</td>\n",
       "      <td>0.469204</td>\n",
       "    </tr>\n",
       "    <tr>\n",
       "      <th>temperature_mavg7</th>\n",
       "      <td>65.979684</td>\n",
       "      <td>65.591639</td>\n",
       "      <td>65.612385</td>\n",
       "      <td>49.480824</td>\n",
       "      <td>49.105328</td>\n",
       "      <td>49.105328</td>\n",
       "    </tr>\n",
       "    <tr>\n",
       "      <th>temperature_mavg90</th>\n",
       "      <td>0.051843</td>\n",
       "      <td>0.241981</td>\n",
       "      <td>0.084600</td>\n",
       "      <td>NaN</td>\n",
       "      <td>NaN</td>\n",
       "      <td>NaN</td>\n",
       "    </tr>\n",
       "  </tbody>\n",
       "</table>\n",
       "</div>"
      ],
      "text/plain": [
       "MODEL_NAME          DECISION TREE                              RANDOM FOREST  \\\n",
       "FEATURE_TYPE                Basic Enhanced_Signals Inc_Signals         Basic   \n",
       "FEATURE                                                                        \n",
       "clean_ao_value                NaN         0.043560    0.041918           NaN   \n",
       "clean_nao_value               NaN         0.816215    0.794028           NaN   \n",
       "clean_nino12_value            NaN         0.235922    0.244526           NaN   \n",
       "clean_nino34_value            NaN         0.003483    0.018493           NaN   \n",
       "clean_nino3_value             NaN         0.087301    0.090106           NaN   \n",
       "clean_nino4_value             NaN         0.109168    0.112347           NaN   \n",
       "temperature_lag1        27.548477        27.136183   27.082286     42.775543   \n",
       "temperature_lag2         2.202069         1.773779    1.774231      2.347156   \n",
       "temperature_lag30        0.609669         0.646106    0.621661      0.944930   \n",
       "temperature_lag365       0.753962         0.440651    0.455842      0.975389   \n",
       "temperature_lag7         0.954081         0.859909    0.875849      0.863763   \n",
       "temperature_lag90        0.662133         0.330657    0.305711      0.556063   \n",
       "temperature_mavg180      0.241951         0.605832    0.616706      0.407410   \n",
       "temperature_mavg30       0.437132         0.722921    0.940497      0.831117   \n",
       "temperature_mavg60       0.558999         0.354695    0.328816      0.598374   \n",
       "temperature_mavg7       65.979684        65.591639   65.612385     49.480824   \n",
       "temperature_mavg90       0.051843         0.241981    0.084600           NaN   \n",
       "\n",
       "MODEL_NAME                                        \n",
       "FEATURE_TYPE        Enhanced_Signals Inc_Signals  \n",
       "FEATURE                                           \n",
       "clean_ao_value              0.756749    0.756749  \n",
       "clean_nao_value             0.656157    0.656157  \n",
       "clean_nino12_value               NaN         NaN  \n",
       "clean_nino34_value               NaN         NaN  \n",
       "clean_nino3_value                NaN         NaN  \n",
       "clean_nino4_value                NaN         NaN  \n",
       "temperature_lag1           42.447002   42.447002  \n",
       "temperature_lag2            2.064882    2.064882  \n",
       "temperature_lag30           0.742389    0.742389  \n",
       "temperature_lag365          0.840931    0.840931  \n",
       "temperature_lag7            0.675088    0.675088  \n",
       "temperature_lag90                NaN         NaN  \n",
       "temperature_mavg180              NaN         NaN  \n",
       "temperature_mavg30          0.664705    0.664705  \n",
       "temperature_mavg60          0.469204    0.469204  \n",
       "temperature_mavg7          49.105328   49.105328  \n",
       "temperature_mavg90               NaN         NaN  "
      ]
     },
     "execution_count": 4,
     "metadata": {},
     "output_type": "execute_result"
    }
   ],
   "source": [
    "features_df = get_feature_importances(results_top_10)\n",
    "features_df.pivot_table(index=['FEATURE'], columns=['MODEL_NAME','FEATURE_TYPE'], values=\"IMPORTANCE\")"
   ]
  },
  {
   "cell_type": "markdown",
   "metadata": {},
   "source": [
    "Lets look a boxplot of this data to see how the distributions look across our experiments for this location."
   ]
  },
  {
   "cell_type": "code",
   "execution_count": 5,
   "metadata": {},
   "outputs": [
    {
     "data": {
      "application/vnd.plotly.v1+json": {
       "data": [
        {
         "name": "temperature_mavg7",
         "type": "box",
         "uid": "f4f694fa-a052-11e8-8b3d-00215cc353c9",
         "y": [
          49.10532821768008,
          49.10532821768008,
          49.48082442738485,
          65.97968430524229,
          65.59163875851779,
          65.61238463245476
         ]
        },
        {
         "name": "temperature_lag1",
         "type": "box",
         "uid": "f4f694fb-a052-11e8-980b-00215cc353c9",
         "y": [
          42.44700248476583,
          42.44700248476583,
          42.7755425369255,
          27.5484765615573,
          27.136183005767442,
          27.08228591130795
         ]
        },
        {
         "name": "temperature_lag2",
         "type": "box",
         "uid": "f4f694fc-a052-11e8-a118-00215cc353c9",
         "y": [
          2.0648815333732142,
          2.0648815333732142,
          2.3471558563014248,
          2.2020685117098786,
          1.77377897315205,
          1.7742306789428952
         ]
        },
        {
         "name": "temperature_lag365",
         "type": "box",
         "uid": "f4f694fd-a052-11e8-8bec-00215cc353c9",
         "y": [
          0.8409314352613778,
          0.8409314352613778,
          0.9753891297636216,
          0.7539622322687747,
          0.4406505480181425,
          0.4558420943014384
         ]
        },
        {
         "name": "clean_ao_value",
         "type": "box",
         "uid": "f4f694fe-a052-11e8-b824-00215cc353c9",
         "y": [
          0.7567488636490919,
          0.7567488636490919,
          0.04355968530758922,
          0.04191779835351064
         ]
        },
        {
         "name": "temperature_lag30",
         "type": "box",
         "uid": "f4f694ff-a052-11e8-8c97-00215cc353c9",
         "y": [
          0.7423890705474294,
          0.7423890705474294,
          0.9449295163089789,
          0.6096693731935978,
          0.64610559631958,
          0.6216610328470898
         ]
        },
        {
         "name": "temperature_lag7",
         "type": "box",
         "uid": "f4f69500-a052-11e8-bc83-00215cc353c9",
         "y": [
          0.6750883099256371,
          0.6750883099256371,
          0.8637634495287735,
          0.9540812468234188,
          0.8599085864536383,
          0.8758485921267392
         ]
        },
        {
         "name": "temperature_mavg30",
         "type": "box",
         "uid": "f4f69501-a052-11e8-82f4-00215cc353c9",
         "y": [
          0.6647049503270279,
          0.6647049503270279,
          0.8311174801025701,
          0.43713164056940135,
          0.7229205292498851,
          0.9404965460916956
         ]
        },
        {
         "name": "clean_nao_value",
         "type": "box",
         "uid": "f4f69502-a052-11e8-b99c-00215cc353c9",
         "y": [
          0.6561571837223372,
          0.6561571837223372,
          0.8162150905288722,
          0.7940281952001336
         ]
        },
        {
         "name": "temperature_mavg60",
         "type": "box",
         "uid": "f4f69503-a052-11e8-aaaa-00215cc353c9",
         "y": [
          0.4692041560908322,
          0.4692041560908322,
          0.5983740774683083,
          0.5589992730956752,
          0.3546952958592232,
          0.3288164171339208
         ]
        },
        {
         "name": "temperature_lag90",
         "type": "box",
         "uid": "f4f69504-a052-11e8-a012-00215cc353c9",
         "y": [
          0.5560629504278788,
          0.6621328824411805,
          0.3306571770549998,
          0.3057114808381505
         ]
        },
        {
         "name": "temperature_mavg180",
         "type": "box",
         "uid": "f4f69505-a052-11e8-9cb0-00215cc353c9",
         "y": [
          0.40740951547500814,
          0.2419510534870573,
          0.6058323256188426,
          0.6167056113456127
         ]
        },
        {
         "name": "temperature_mavg90",
         "type": "box",
         "uid": "f4f69506-a052-11e8-9f49-00215cc353c9",
         "y": [
          0.051842919611431164,
          0.24198081062506144,
          0.08459958779166044
         ]
        },
        {
         "name": "clean_nino12_value",
         "type": "box",
         "uid": "f4f69507-a052-11e8-8441-00215cc353c9",
         "y": [
          0.2359216729962928,
          0.2445263669318436
         ]
        },
        {
         "name": "clean_nino4_value",
         "type": "box",
         "uid": "f4f69508-a052-11e8-83eb-00215cc353c9",
         "y": [
          0.10916750911873227,
          0.11234670219811596
         ]
        },
        {
         "name": "clean_nino3_value",
         "type": "box",
         "uid": "f4f69509-a052-11e8-9392-00215cc353c9",
         "y": [
          0.08730124520000218,
          0.09010581663656662
         ]
        },
        {
         "name": "clean_nino34_value",
         "type": "box",
         "uid": "f4f6950a-a052-11e8-a712-00215cc353c9",
         "y": [
          0.003483190211861612,
          0.018492535497930625
         ]
        }
       ],
       "layout": {}
      },
      "text/html": [
       "<div id=\"0caca073-b031-4997-9a78-9c7145317dfa\" style=\"height: 525px; width: 100%;\" class=\"plotly-graph-div\"></div><script type=\"text/javascript\">require([\"plotly\"], function(Plotly) { window.PLOTLYENV=window.PLOTLYENV || {};window.PLOTLYENV.BASE_URL=\"https://plot.ly\";Plotly.newPlot(\"0caca073-b031-4997-9a78-9c7145317dfa\", [{\"name\": \"temperature_mavg7\", \"y\": [49.10532821768008, 49.10532821768008, 49.48082442738485, 65.97968430524229, 65.59163875851779, 65.61238463245476], \"type\": \"box\", \"uid\": \"f57255ae-a052-11e8-a2e3-00215cc353c9\"}, {\"name\": \"temperature_lag1\", \"y\": [42.44700248476583, 42.44700248476583, 42.7755425369255, 27.5484765615573, 27.136183005767442, 27.08228591130795], \"type\": \"box\", \"uid\": \"f57255af-a052-11e8-a7f4-00215cc353c9\"}, {\"name\": \"temperature_lag2\", \"y\": [2.0648815333732142, 2.0648815333732142, 2.3471558563014248, 2.2020685117098786, 1.77377897315205, 1.7742306789428952], \"type\": \"box\", \"uid\": \"f57255b0-a052-11e8-a3b7-00215cc353c9\"}, {\"name\": \"temperature_lag365\", \"y\": [0.8409314352613778, 0.8409314352613778, 0.9753891297636216, 0.7539622322687747, 0.4406505480181425, 0.4558420943014384], \"type\": \"box\", \"uid\": \"f57255b1-a052-11e8-99ad-00215cc353c9\"}, {\"name\": \"clean_ao_value\", \"y\": [0.7567488636490919, 0.7567488636490919, 0.04355968530758922, 0.04191779835351064], \"type\": \"box\", \"uid\": \"f57255b2-a052-11e8-9f72-00215cc353c9\"}, {\"name\": \"temperature_lag30\", \"y\": [0.7423890705474294, 0.7423890705474294, 0.9449295163089789, 0.6096693731935978, 0.64610559631958, 0.6216610328470898], \"type\": \"box\", \"uid\": \"f57255b3-a052-11e8-be0f-00215cc353c9\"}, {\"name\": \"temperature_lag7\", \"y\": [0.6750883099256371, 0.6750883099256371, 0.8637634495287735, 0.9540812468234188, 0.8599085864536383, 0.8758485921267392], \"type\": \"box\", \"uid\": \"f57255b4-a052-11e8-b7b7-00215cc353c9\"}, {\"name\": \"temperature_mavg30\", \"y\": [0.6647049503270279, 0.6647049503270279, 0.8311174801025701, 0.43713164056940135, 0.7229205292498851, 0.9404965460916956], \"type\": \"box\", \"uid\": \"f57255b5-a052-11e8-92b5-00215cc353c9\"}, {\"name\": \"clean_nao_value\", \"y\": [0.6561571837223372, 0.6561571837223372, 0.8162150905288722, 0.7940281952001336], \"type\": \"box\", \"uid\": \"f57255b6-a052-11e8-9c88-00215cc353c9\"}, {\"name\": \"temperature_mavg60\", \"y\": [0.4692041560908322, 0.4692041560908322, 0.5983740774683083, 0.5589992730956752, 0.3546952958592232, 0.3288164171339208], \"type\": \"box\", \"uid\": \"f57255b7-a052-11e8-a060-00215cc353c9\"}, {\"name\": \"temperature_lag90\", \"y\": [0.5560629504278788, 0.6621328824411805, 0.3306571770549998, 0.3057114808381505], \"type\": \"box\", \"uid\": \"f57255b8-a052-11e8-bba9-00215cc353c9\"}, {\"name\": \"temperature_mavg180\", \"y\": [0.40740951547500814, 0.2419510534870573, 0.6058323256188426, 0.6167056113456127], \"type\": \"box\", \"uid\": \"f57255b9-a052-11e8-b664-00215cc353c9\"}, {\"name\": \"temperature_mavg90\", \"y\": [0.051842919611431164, 0.24198081062506144, 0.08459958779166044], \"type\": \"box\", \"uid\": \"f57255ba-a052-11e8-8441-00215cc353c9\"}, {\"name\": \"clean_nino12_value\", \"y\": [0.2359216729962928, 0.2445263669318436], \"type\": \"box\", \"uid\": \"f57255bb-a052-11e8-bd22-00215cc353c9\"}, {\"name\": \"clean_nino4_value\", \"y\": [0.10916750911873227, 0.11234670219811596], \"type\": \"box\", \"uid\": \"f57255bc-a052-11e8-b2d0-00215cc353c9\"}, {\"name\": \"clean_nino3_value\", \"y\": [0.08730124520000218, 0.09010581663656662], \"type\": \"box\", \"uid\": \"f57255bd-a052-11e8-9dab-00215cc353c9\"}, {\"name\": \"clean_nino34_value\", \"y\": [0.003483190211861612, 0.018492535497930625], \"type\": \"box\", \"uid\": \"f57255be-a052-11e8-a53c-00215cc353c9\"}], {}, {\"showLink\": true, \"linkText\": \"Export to plot.ly\"})});</script>"
      ],
      "text/vnd.plotly.v1+html": [
       "<div id=\"0caca073-b031-4997-9a78-9c7145317dfa\" style=\"height: 525px; width: 100%;\" class=\"plotly-graph-div\"></div><script type=\"text/javascript\">require([\"plotly\"], function(Plotly) { window.PLOTLYENV=window.PLOTLYENV || {};window.PLOTLYENV.BASE_URL=\"https://plot.ly\";Plotly.newPlot(\"0caca073-b031-4997-9a78-9c7145317dfa\", [{\"name\": \"temperature_mavg7\", \"y\": [49.10532821768008, 49.10532821768008, 49.48082442738485, 65.97968430524229, 65.59163875851779, 65.61238463245476], \"type\": \"box\", \"uid\": \"f57255ae-a052-11e8-a2e3-00215cc353c9\"}, {\"name\": \"temperature_lag1\", \"y\": [42.44700248476583, 42.44700248476583, 42.7755425369255, 27.5484765615573, 27.136183005767442, 27.08228591130795], \"type\": \"box\", \"uid\": \"f57255af-a052-11e8-a7f4-00215cc353c9\"}, {\"name\": \"temperature_lag2\", \"y\": [2.0648815333732142, 2.0648815333732142, 2.3471558563014248, 2.2020685117098786, 1.77377897315205, 1.7742306789428952], \"type\": \"box\", \"uid\": \"f57255b0-a052-11e8-a3b7-00215cc353c9\"}, {\"name\": \"temperature_lag365\", \"y\": [0.8409314352613778, 0.8409314352613778, 0.9753891297636216, 0.7539622322687747, 0.4406505480181425, 0.4558420943014384], \"type\": \"box\", \"uid\": \"f57255b1-a052-11e8-99ad-00215cc353c9\"}, {\"name\": \"clean_ao_value\", \"y\": [0.7567488636490919, 0.7567488636490919, 0.04355968530758922, 0.04191779835351064], \"type\": \"box\", \"uid\": \"f57255b2-a052-11e8-9f72-00215cc353c9\"}, {\"name\": \"temperature_lag30\", \"y\": [0.7423890705474294, 0.7423890705474294, 0.9449295163089789, 0.6096693731935978, 0.64610559631958, 0.6216610328470898], \"type\": \"box\", \"uid\": \"f57255b3-a052-11e8-be0f-00215cc353c9\"}, {\"name\": \"temperature_lag7\", \"y\": [0.6750883099256371, 0.6750883099256371, 0.8637634495287735, 0.9540812468234188, 0.8599085864536383, 0.8758485921267392], \"type\": \"box\", \"uid\": \"f57255b4-a052-11e8-b7b7-00215cc353c9\"}, {\"name\": \"temperature_mavg30\", \"y\": [0.6647049503270279, 0.6647049503270279, 0.8311174801025701, 0.43713164056940135, 0.7229205292498851, 0.9404965460916956], \"type\": \"box\", \"uid\": \"f57255b5-a052-11e8-92b5-00215cc353c9\"}, {\"name\": \"clean_nao_value\", \"y\": [0.6561571837223372, 0.6561571837223372, 0.8162150905288722, 0.7940281952001336], \"type\": \"box\", \"uid\": \"f57255b6-a052-11e8-9c88-00215cc353c9\"}, {\"name\": \"temperature_mavg60\", \"y\": [0.4692041560908322, 0.4692041560908322, 0.5983740774683083, 0.5589992730956752, 0.3546952958592232, 0.3288164171339208], \"type\": \"box\", \"uid\": \"f57255b7-a052-11e8-a060-00215cc353c9\"}, {\"name\": \"temperature_lag90\", \"y\": [0.5560629504278788, 0.6621328824411805, 0.3306571770549998, 0.3057114808381505], \"type\": \"box\", \"uid\": \"f57255b8-a052-11e8-bba9-00215cc353c9\"}, {\"name\": \"temperature_mavg180\", \"y\": [0.40740951547500814, 0.2419510534870573, 0.6058323256188426, 0.6167056113456127], \"type\": \"box\", \"uid\": \"f57255b9-a052-11e8-b664-00215cc353c9\"}, {\"name\": \"temperature_mavg90\", \"y\": [0.051842919611431164, 0.24198081062506144, 0.08459958779166044], \"type\": \"box\", \"uid\": \"f57255ba-a052-11e8-8441-00215cc353c9\"}, {\"name\": \"clean_nino12_value\", \"y\": [0.2359216729962928, 0.2445263669318436], \"type\": \"box\", \"uid\": \"f57255bb-a052-11e8-bd22-00215cc353c9\"}, {\"name\": \"clean_nino4_value\", \"y\": [0.10916750911873227, 0.11234670219811596], \"type\": \"box\", \"uid\": \"f57255bc-a052-11e8-b2d0-00215cc353c9\"}, {\"name\": \"clean_nino3_value\", \"y\": [0.08730124520000218, 0.09010581663656662], \"type\": \"box\", \"uid\": \"f57255bd-a052-11e8-9dab-00215cc353c9\"}, {\"name\": \"clean_nino34_value\", \"y\": [0.003483190211861612, 0.018492535497930625], \"type\": \"box\", \"uid\": \"f57255be-a052-11e8-a53c-00215cc353c9\"}], {}, {\"showLink\": true, \"linkText\": \"Export to plot.ly\"})});</script>"
      ]
     },
     "metadata": {},
     "output_type": "display_data"
    }
   ],
   "source": [
    "traces = create_boxplot_traces_for_features(features_df)\n",
    "iplot(traces)"
   ]
  },
  {
   "cell_type": "markdown",
   "metadata": {},
   "source": [
    "Lets review the means for the features"
   ]
  },
  {
   "cell_type": "code",
   "execution_count": 6,
   "metadata": {},
   "outputs": [
    {
     "data": {
      "text/html": [
       "<div>\n",
       "<style scoped>\n",
       "    .dataframe tbody tr th:only-of-type {\n",
       "        vertical-align: middle;\n",
       "    }\n",
       "\n",
       "    .dataframe tbody tr th {\n",
       "        vertical-align: top;\n",
       "    }\n",
       "\n",
       "    .dataframe thead tr th {\n",
       "        text-align: left;\n",
       "    }\n",
       "\n",
       "    .dataframe thead tr:last-of-type th {\n",
       "        text-align: right;\n",
       "    }\n",
       "</style>\n",
       "<table border=\"1\" class=\"dataframe\">\n",
       "  <thead>\n",
       "    <tr>\n",
       "      <th></th>\n",
       "      <th>mean</th>\n",
       "    </tr>\n",
       "    <tr>\n",
       "      <th></th>\n",
       "      <th>IMPORTANCE</th>\n",
       "    </tr>\n",
       "    <tr>\n",
       "      <th>FEATURE</th>\n",
       "      <th></th>\n",
       "    </tr>\n",
       "  </thead>\n",
       "  <tbody>\n",
       "    <tr>\n",
       "      <th>clean_ao_value</th>\n",
       "      <td>0.399744</td>\n",
       "    </tr>\n",
       "    <tr>\n",
       "      <th>clean_nao_value</th>\n",
       "      <td>0.730639</td>\n",
       "    </tr>\n",
       "    <tr>\n",
       "      <th>clean_nino12_value</th>\n",
       "      <td>0.240224</td>\n",
       "    </tr>\n",
       "    <tr>\n",
       "      <th>clean_nino34_value</th>\n",
       "      <td>0.010988</td>\n",
       "    </tr>\n",
       "    <tr>\n",
       "      <th>clean_nino3_value</th>\n",
       "      <td>0.088704</td>\n",
       "    </tr>\n",
       "    <tr>\n",
       "      <th>clean_nino4_value</th>\n",
       "      <td>0.110757</td>\n",
       "    </tr>\n",
       "    <tr>\n",
       "      <th>temperature_lag1</th>\n",
       "      <td>34.906082</td>\n",
       "    </tr>\n",
       "    <tr>\n",
       "      <th>temperature_lag2</th>\n",
       "      <td>2.037833</td>\n",
       "    </tr>\n",
       "    <tr>\n",
       "      <th>temperature_lag30</th>\n",
       "      <td>0.717857</td>\n",
       "    </tr>\n",
       "    <tr>\n",
       "      <th>temperature_lag365</th>\n",
       "      <td>0.717951</td>\n",
       "    </tr>\n",
       "    <tr>\n",
       "      <th>temperature_lag7</th>\n",
       "      <td>0.817296</td>\n",
       "    </tr>\n",
       "    <tr>\n",
       "      <th>temperature_lag90</th>\n",
       "      <td>0.463641</td>\n",
       "    </tr>\n",
       "    <tr>\n",
       "      <th>temperature_mavg180</th>\n",
       "      <td>0.467975</td>\n",
       "    </tr>\n",
       "    <tr>\n",
       "      <th>temperature_mavg30</th>\n",
       "      <td>0.710179</td>\n",
       "    </tr>\n",
       "    <tr>\n",
       "      <th>temperature_mavg60</th>\n",
       "      <td>0.463216</td>\n",
       "    </tr>\n",
       "    <tr>\n",
       "      <th>temperature_mavg7</th>\n",
       "      <td>57.479198</td>\n",
       "    </tr>\n",
       "    <tr>\n",
       "      <th>temperature_mavg90</th>\n",
       "      <td>0.126141</td>\n",
       "    </tr>\n",
       "  </tbody>\n",
       "</table>\n",
       "</div>"
      ],
      "text/plain": [
       "                          mean\n",
       "                    IMPORTANCE\n",
       "FEATURE                       \n",
       "clean_ao_value        0.399744\n",
       "clean_nao_value       0.730639\n",
       "clean_nino12_value    0.240224\n",
       "clean_nino34_value    0.010988\n",
       "clean_nino3_value     0.088704\n",
       "clean_nino4_value     0.110757\n",
       "temperature_lag1     34.906082\n",
       "temperature_lag2      2.037833\n",
       "temperature_lag30     0.717857\n",
       "temperature_lag365    0.717951\n",
       "temperature_lag7      0.817296\n",
       "temperature_lag90     0.463641\n",
       "temperature_mavg180   0.467975\n",
       "temperature_mavg30    0.710179\n",
       "temperature_mavg60    0.463216\n",
       "temperature_mavg7    57.479198\n",
       "temperature_mavg90    0.126141"
      ]
     },
     "execution_count": 6,
     "metadata": {},
     "output_type": "execute_result"
    }
   ],
   "source": [
    "features_df = get_feature_importances(results_top_10)\n",
    "pivot_df = features_df.pivot_table(index=['FEATURE'], columns=[], values=\"IMPORTANCE\", aggfunc= [np.mean])\n",
    "pivot_df"
   ]
  },
  {
   "cell_type": "markdown",
   "metadata": {},
   "source": [
    "Now lets review the top 5 only"
   ]
  },
  {
   "cell_type": "code",
   "execution_count": 7,
   "metadata": {},
   "outputs": [
    {
     "data": {
      "text/html": [
       "<div>\n",
       "<style scoped>\n",
       "    .dataframe tbody tr th:only-of-type {\n",
       "        vertical-align: middle;\n",
       "    }\n",
       "\n",
       "    .dataframe tbody tr th {\n",
       "        vertical-align: top;\n",
       "    }\n",
       "\n",
       "    .dataframe thead th {\n",
       "        text-align: right;\n",
       "    }\n",
       "</style>\n",
       "<table border=\"1\" class=\"dataframe\">\n",
       "  <thead>\n",
       "    <tr style=\"text-align: right;\">\n",
       "      <th></th>\n",
       "      <th>mean</th>\n",
       "    </tr>\n",
       "    <tr>\n",
       "      <th>FEATURE</th>\n",
       "      <th></th>\n",
       "    </tr>\n",
       "  </thead>\n",
       "  <tbody>\n",
       "    <tr>\n",
       "      <th>temperature_mavg7</th>\n",
       "      <td>57.479198</td>\n",
       "    </tr>\n",
       "    <tr>\n",
       "      <th>temperature_lag1</th>\n",
       "      <td>34.906082</td>\n",
       "    </tr>\n",
       "    <tr>\n",
       "      <th>temperature_lag2</th>\n",
       "      <td>2.037833</td>\n",
       "    </tr>\n",
       "    <tr>\n",
       "      <th>temperature_lag7</th>\n",
       "      <td>0.817296</td>\n",
       "    </tr>\n",
       "    <tr>\n",
       "      <th>clean_nao_value</th>\n",
       "      <td>0.730639</td>\n",
       "    </tr>\n",
       "  </tbody>\n",
       "</table>\n",
       "</div>"
      ],
      "text/plain": [
       "                        mean\n",
       "FEATURE                     \n",
       "temperature_mavg7  57.479198\n",
       "temperature_lag1   34.906082\n",
       "temperature_lag2    2.037833\n",
       "temperature_lag7    0.817296\n",
       "clean_nao_value     0.730639"
      ]
     },
     "execution_count": 7,
     "metadata": {},
     "output_type": "execute_result"
    }
   ],
   "source": [
    "pivot_df.columns = pivot_df.columns.get_level_values(0)\n",
    "pivot_df.sort_values(['mean'], ascending=False).head(5)"
   ]
  },
  {
   "cell_type": "markdown",
   "metadata": {},
   "source": [
    "This is different than the prior cases as the moving average takes a clear lead in the predictions vs. the prior lags of temperature."
   ]
  },
  {
   "cell_type": "code",
   "execution_count": null,
   "metadata": {},
   "outputs": [],
   "source": []
  }
 ],
 "metadata": {
  "kernelspec": {
   "display_name": "Python 3",
   "language": "python",
   "name": "python3"
  },
  "language_info": {
   "codemirror_mode": {
    "name": "ipython",
    "version": 3
   },
   "file_extension": ".py",
   "mimetype": "text/x-python",
   "name": "python",
   "nbconvert_exporter": "python",
   "pygments_lexer": "ipython3",
   "version": "3.6.4"
  }
 },
 "nbformat": 4,
 "nbformat_minor": 2
}
