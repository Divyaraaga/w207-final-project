{
 "cells": [
  {
   "cell_type": "markdown",
   "metadata": {},
   "source": [
    "# Experiment Results"
   ]
  },
  {
   "cell_type": "markdown",
   "metadata": {},
   "source": [
    "## Results for Miami"
   ]
  },
  {
   "cell_type": "code",
   "execution_count": 2,
   "metadata": {},
   "outputs": [
    {
     "data": {
      "text/html": [
       "<script>requirejs.config({paths: { 'plotly': ['https://cdn.plot.ly/plotly-latest.min']},});if(!window.Plotly) {{require(['plotly'],function(plotly) {window.Plotly=plotly;});}}</script>"
      ],
      "text/vnd.plotly.v1+html": [
       "<script>requirejs.config({paths: { 'plotly': ['https://cdn.plot.ly/plotly-latest.min']},});if(!window.Plotly) {{require(['plotly'],function(plotly) {window.Plotly=plotly;});}}</script>"
      ]
     },
     "metadata": {},
     "output_type": "display_data"
    }
   ],
   "source": [
    "import warnings\n",
    "warnings.filterwarnings('ignore')\n",
    "\n",
    "%run helper_functions.py\n",
    "%matplotlib inline"
   ]
  },
  {
   "cell_type": "markdown",
   "metadata": {},
   "source": [
    "Lets review the top 10 results for Miami, ordered by Mean Square Error (ascending)"
   ]
  },
  {
   "cell_type": "code",
   "execution_count": 125,
   "metadata": {},
   "outputs": [
    {
     "data": {
      "text/html": [
       "<div>\n",
       "<style scoped>\n",
       "    .dataframe tbody tr th:only-of-type {\n",
       "        vertical-align: middle;\n",
       "    }\n",
       "\n",
       "    .dataframe tbody tr th {\n",
       "        vertical-align: top;\n",
       "    }\n",
       "\n",
       "    .dataframe thead th {\n",
       "        text-align: right;\n",
       "    }\n",
       "</style>\n",
       "<table border=\"1\" class=\"dataframe\">\n",
       "  <thead>\n",
       "    <tr style=\"text-align: right;\">\n",
       "      <th></th>\n",
       "      <th>RUN_ID</th>\n",
       "      <th>DATETIME</th>\n",
       "      <th>MODEL_NAME</th>\n",
       "      <th>CITY</th>\n",
       "      <th>FEATURE_TYPE</th>\n",
       "      <th>HOST_MACHINE</th>\n",
       "      <th>MODEL_PARAMETERS</th>\n",
       "      <th>MODEL_RESULTS</th>\n",
       "      <th>MEAN_SQUARED_ERROR</th>\n",
       "    </tr>\n",
       "  </thead>\n",
       "  <tbody>\n",
       "    <tr>\n",
       "      <th>1</th>\n",
       "      <td>30</td>\n",
       "      <td>2018-08-14 19:56:00.644376</td>\n",
       "      <td>RANDOM FOREST</td>\n",
       "      <td>Miami</td>\n",
       "      <td>Inc_Signals</td>\n",
       "      <td>DESKTOP-KN40C32</td>\n",
       "      <td>{'max_depth': 8, 'n_estimators': 50, 'Info': {...</td>\n",
       "      <td>{'features': ['temperature_lag1', 'temperature...</td>\n",
       "      <td>1.168790</td>\n",
       "    </tr>\n",
       "    <tr>\n",
       "      <th>2</th>\n",
       "      <td>36</td>\n",
       "      <td>2018-08-14 19:56:51.638468</td>\n",
       "      <td>RANDOM FOREST</td>\n",
       "      <td>Miami</td>\n",
       "      <td>Enhanced_Signals</td>\n",
       "      <td>DESKTOP-KN40C32</td>\n",
       "      <td>{'max_depth': 8, 'n_estimators': 50, 'Info': {...</td>\n",
       "      <td>{'features': ['temperature_lag1', 'temperature...</td>\n",
       "      <td>1.168790</td>\n",
       "    </tr>\n",
       "    <tr>\n",
       "      <th>3</th>\n",
       "      <td>24</td>\n",
       "      <td>2018-08-14 19:55:11.164461</td>\n",
       "      <td>RANDOM FOREST</td>\n",
       "      <td>Miami</td>\n",
       "      <td>Basic</td>\n",
       "      <td>DESKTOP-KN40C32</td>\n",
       "      <td>{'max_depth': 8, 'n_estimators': 50, 'Info': {...</td>\n",
       "      <td>{'features': ['temperature_lag1', 'temperature...</td>\n",
       "      <td>1.206302</td>\n",
       "    </tr>\n",
       "    <tr>\n",
       "      <th>4</th>\n",
       "      <td>17</td>\n",
       "      <td>2018-08-14 19:44:46.805353</td>\n",
       "      <td>DECISION TREE</td>\n",
       "      <td>Miami</td>\n",
       "      <td>Enhanced_Signals</td>\n",
       "      <td>DESKTOP-KN40C32</td>\n",
       "      <td>{'max_depth': 8, 'Info': {'feature_set_type': ...</td>\n",
       "      <td>{'features': ['temperature_lag1', 'temperature...</td>\n",
       "      <td>1.556905</td>\n",
       "    </tr>\n",
       "    <tr>\n",
       "      <th>5</th>\n",
       "      <td>12</td>\n",
       "      <td>2018-08-14 19:43:48.176029</td>\n",
       "      <td>DECISION TREE</td>\n",
       "      <td>Miami</td>\n",
       "      <td>Inc_Signals</td>\n",
       "      <td>DESKTOP-KN40C32</td>\n",
       "      <td>{'max_depth': 8, 'Info': {'feature_set_type': ...</td>\n",
       "      <td>{'features': ['temperature_lag1', 'temperature...</td>\n",
       "      <td>1.577366</td>\n",
       "    </tr>\n",
       "    <tr>\n",
       "      <th>6</th>\n",
       "      <td>6</td>\n",
       "      <td>2018-08-14 19:42:49.124681</td>\n",
       "      <td>DECISION TREE</td>\n",
       "      <td>Miami</td>\n",
       "      <td>Basic</td>\n",
       "      <td>DESKTOP-KN40C32</td>\n",
       "      <td>{'max_depth': 8, 'Info': {'feature_set_type': ...</td>\n",
       "      <td>{'features': ['temperature_lag1', 'temperature...</td>\n",
       "      <td>1.833555</td>\n",
       "    </tr>\n",
       "    <tr>\n",
       "      <th>7</th>\n",
       "      <td>54</td>\n",
       "      <td>2018-08-14 20:40:54.336628</td>\n",
       "      <td>RNN</td>\n",
       "      <td>Miami</td>\n",
       "      <td>Enhanced_Signals</td>\n",
       "      <td>DESKTOP-KN40C32</td>\n",
       "      <td>{'epochs': 50, 'Info': {'feature_set_type': 'E...</td>\n",
       "      <td>{'features': ['temperature_lag1', 'temperature...</td>\n",
       "      <td>2.012860</td>\n",
       "    </tr>\n",
       "    <tr>\n",
       "      <th>8</th>\n",
       "      <td>42</td>\n",
       "      <td>2018-08-14 20:35:28.587513</td>\n",
       "      <td>RNN</td>\n",
       "      <td>Miami</td>\n",
       "      <td>Basic</td>\n",
       "      <td>DESKTOP-KN40C32</td>\n",
       "      <td>{'epochs': 50, 'Info': {'feature_set_type': 'B...</td>\n",
       "      <td>{'features': ['temperature_lag1', 'temperature...</td>\n",
       "      <td>2.016882</td>\n",
       "    </tr>\n",
       "    <tr>\n",
       "      <th>9</th>\n",
       "      <td>48</td>\n",
       "      <td>2018-08-14 20:38:20.610680</td>\n",
       "      <td>RNN</td>\n",
       "      <td>Miami</td>\n",
       "      <td>Inc_Signals</td>\n",
       "      <td>DESKTOP-KN40C32</td>\n",
       "      <td>{'epochs': 50, 'Info': {'feature_set_type': 'I...</td>\n",
       "      <td>{'features': ['temperature_lag1', 'temperature...</td>\n",
       "      <td>2.093093</td>\n",
       "    </tr>\n",
       "  </tbody>\n",
       "</table>\n",
       "</div>"
      ],
      "text/plain": [
       "  RUN_ID                   DATETIME     MODEL_NAME   CITY      FEATURE_TYPE  \\\n",
       "1     30 2018-08-14 19:56:00.644376  RANDOM FOREST  Miami       Inc_Signals   \n",
       "2     36 2018-08-14 19:56:51.638468  RANDOM FOREST  Miami  Enhanced_Signals   \n",
       "3     24 2018-08-14 19:55:11.164461  RANDOM FOREST  Miami             Basic   \n",
       "4     17 2018-08-14 19:44:46.805353  DECISION TREE  Miami  Enhanced_Signals   \n",
       "5     12 2018-08-14 19:43:48.176029  DECISION TREE  Miami       Inc_Signals   \n",
       "6      6 2018-08-14 19:42:49.124681  DECISION TREE  Miami             Basic   \n",
       "7     54 2018-08-14 20:40:54.336628            RNN  Miami  Enhanced_Signals   \n",
       "8     42 2018-08-14 20:35:28.587513            RNN  Miami             Basic   \n",
       "9     48 2018-08-14 20:38:20.610680            RNN  Miami       Inc_Signals   \n",
       "\n",
       "      HOST_MACHINE                                   MODEL_PARAMETERS  \\\n",
       "1  DESKTOP-KN40C32  {'max_depth': 8, 'n_estimators': 50, 'Info': {...   \n",
       "2  DESKTOP-KN40C32  {'max_depth': 8, 'n_estimators': 50, 'Info': {...   \n",
       "3  DESKTOP-KN40C32  {'max_depth': 8, 'n_estimators': 50, 'Info': {...   \n",
       "4  DESKTOP-KN40C32  {'max_depth': 8, 'Info': {'feature_set_type': ...   \n",
       "5  DESKTOP-KN40C32  {'max_depth': 8, 'Info': {'feature_set_type': ...   \n",
       "6  DESKTOP-KN40C32  {'max_depth': 8, 'Info': {'feature_set_type': ...   \n",
       "7  DESKTOP-KN40C32  {'epochs': 50, 'Info': {'feature_set_type': 'E...   \n",
       "8  DESKTOP-KN40C32  {'epochs': 50, 'Info': {'feature_set_type': 'B...   \n",
       "9  DESKTOP-KN40C32  {'epochs': 50, 'Info': {'feature_set_type': 'I...   \n",
       "\n",
       "                                       MODEL_RESULTS  MEAN_SQUARED_ERROR  \n",
       "1  {'features': ['temperature_lag1', 'temperature...            1.168790  \n",
       "2  {'features': ['temperature_lag1', 'temperature...            1.168790  \n",
       "3  {'features': ['temperature_lag1', 'temperature...            1.206302  \n",
       "4  {'features': ['temperature_lag1', 'temperature...            1.556905  \n",
       "5  {'features': ['temperature_lag1', 'temperature...            1.577366  \n",
       "6  {'features': ['temperature_lag1', 'temperature...            1.833555  \n",
       "7  {'features': ['temperature_lag1', 'temperature...            2.012860  \n",
       "8  {'features': ['temperature_lag1', 'temperature...            2.016882  \n",
       "9  {'features': ['temperature_lag1', 'temperature...            2.093093  "
      ]
     },
     "execution_count": 125,
     "metadata": {},
     "output_type": "execute_result"
    }
   ],
   "source": [
    "city='Miami'\n",
    "results_top_10 = get_results(city=city, top_hm_results=10)\n",
    "results_top_10"
   ]
  },
  {
   "cell_type": "markdown",
   "metadata": {},
   "source": [
    "Random forest appears to be the clear winner, lets take a look at that chart."
   ]
  },
  {
   "cell_type": "code",
   "execution_count": 73,
   "metadata": {},
   "outputs": [
    {
     "data": {
      "text/markdown": [
       "### Experiment #30 - run by DESKTOP-KN40C32 on 2018-08-14 19:56:00.644376"
      ],
      "text/plain": [
       "<IPython.core.display.Markdown object>"
      ]
     },
     "metadata": {},
     "output_type": "display_data"
    },
    {
     "data": {
      "text/markdown": [
       "![](../experiment_results/RUN-30/Daily_predict.png)"
      ],
      "text/plain": [
       "<IPython.core.display.Markdown object>"
      ]
     },
     "metadata": {},
     "output_type": "display_data"
    }
   ],
   "source": [
    "display_results(results_top_10.head(1), chart_type='predict')"
   ]
  },
  {
   "cell_type": "markdown",
   "metadata": {},
   "source": [
    "We can see the forecast follows the trend but does not have the predictive power to track some of the more volatile swings in the signals.\n",
    "\n",
    "Lets examine the top 10 features across the model runs for this location in a pivot table form."
   ]
  },
  {
   "cell_type": "code",
   "execution_count": 138,
   "metadata": {},
   "outputs": [
    {
     "data": {
      "text/html": [
       "<div>\n",
       "<style scoped>\n",
       "    .dataframe tbody tr th:only-of-type {\n",
       "        vertical-align: middle;\n",
       "    }\n",
       "\n",
       "    .dataframe tbody tr th {\n",
       "        vertical-align: top;\n",
       "    }\n",
       "\n",
       "    .dataframe thead tr th {\n",
       "        text-align: left;\n",
       "    }\n",
       "\n",
       "    .dataframe thead tr:last-of-type th {\n",
       "        text-align: right;\n",
       "    }\n",
       "</style>\n",
       "<table border=\"1\" class=\"dataframe\">\n",
       "  <thead>\n",
       "    <tr>\n",
       "      <th>MODEL_NAME</th>\n",
       "      <th colspan=\"3\" halign=\"left\">DECISION TREE</th>\n",
       "      <th colspan=\"3\" halign=\"left\">RANDOM FOREST</th>\n",
       "    </tr>\n",
       "    <tr>\n",
       "      <th>FEATURE_TYPE</th>\n",
       "      <th>Basic</th>\n",
       "      <th>Enhanced_Signals</th>\n",
       "      <th>Inc_Signals</th>\n",
       "      <th>Basic</th>\n",
       "      <th>Enhanced_Signals</th>\n",
       "      <th>Inc_Signals</th>\n",
       "    </tr>\n",
       "    <tr>\n",
       "      <th>FEATURE</th>\n",
       "      <th></th>\n",
       "      <th></th>\n",
       "      <th></th>\n",
       "      <th></th>\n",
       "      <th></th>\n",
       "      <th></th>\n",
       "    </tr>\n",
       "  </thead>\n",
       "  <tbody>\n",
       "    <tr>\n",
       "      <th>clean_ao_value</th>\n",
       "      <td>NaN</td>\n",
       "      <td>0.762803</td>\n",
       "      <td>0.697029</td>\n",
       "      <td>NaN</td>\n",
       "      <td>1.069394</td>\n",
       "      <td>1.069394</td>\n",
       "    </tr>\n",
       "    <tr>\n",
       "      <th>clean_nao_value</th>\n",
       "      <td>NaN</td>\n",
       "      <td>0.705866</td>\n",
       "      <td>0.518667</td>\n",
       "      <td>NaN</td>\n",
       "      <td>0.844053</td>\n",
       "      <td>0.844053</td>\n",
       "    </tr>\n",
       "    <tr>\n",
       "      <th>clean_nino12_value</th>\n",
       "      <td>NaN</td>\n",
       "      <td>0.205030</td>\n",
       "      <td>0.101543</td>\n",
       "      <td>NaN</td>\n",
       "      <td>NaN</td>\n",
       "      <td>NaN</td>\n",
       "    </tr>\n",
       "    <tr>\n",
       "      <th>clean_nino34_value</th>\n",
       "      <td>NaN</td>\n",
       "      <td>0.002508</td>\n",
       "      <td>0.000472</td>\n",
       "      <td>NaN</td>\n",
       "      <td>NaN</td>\n",
       "      <td>NaN</td>\n",
       "    </tr>\n",
       "    <tr>\n",
       "      <th>clean_nino3_value</th>\n",
       "      <td>NaN</td>\n",
       "      <td>0.113445</td>\n",
       "      <td>0.100821</td>\n",
       "      <td>NaN</td>\n",
       "      <td>NaN</td>\n",
       "      <td>NaN</td>\n",
       "    </tr>\n",
       "    <tr>\n",
       "      <th>clean_nino4_value</th>\n",
       "      <td>NaN</td>\n",
       "      <td>0.149838</td>\n",
       "      <td>0.105239</td>\n",
       "      <td>NaN</td>\n",
       "      <td>NaN</td>\n",
       "      <td>NaN</td>\n",
       "    </tr>\n",
       "    <tr>\n",
       "      <th>temperature_lag1</th>\n",
       "      <td>81.951355</td>\n",
       "      <td>81.333226</td>\n",
       "      <td>81.412405</td>\n",
       "      <td>71.035461</td>\n",
       "      <td>70.556534</td>\n",
       "      <td>70.556534</td>\n",
       "    </tr>\n",
       "    <tr>\n",
       "      <th>temperature_lag2</th>\n",
       "      <td>2.944449</td>\n",
       "      <td>2.956676</td>\n",
       "      <td>3.089420</td>\n",
       "      <td>3.020370</td>\n",
       "      <td>2.698790</td>\n",
       "      <td>2.698790</td>\n",
       "    </tr>\n",
       "    <tr>\n",
       "      <th>temperature_lag30</th>\n",
       "      <td>0.612916</td>\n",
       "      <td>0.475372</td>\n",
       "      <td>0.456209</td>\n",
       "      <td>1.198484</td>\n",
       "      <td>0.934467</td>\n",
       "      <td>0.934467</td>\n",
       "    </tr>\n",
       "    <tr>\n",
       "      <th>temperature_lag365</th>\n",
       "      <td>0.842632</td>\n",
       "      <td>0.837027</td>\n",
       "      <td>0.969628</td>\n",
       "      <td>1.184014</td>\n",
       "      <td>0.823453</td>\n",
       "      <td>0.823453</td>\n",
       "    </tr>\n",
       "    <tr>\n",
       "      <th>temperature_lag7</th>\n",
       "      <td>1.021827</td>\n",
       "      <td>0.703784</td>\n",
       "      <td>0.710618</td>\n",
       "      <td>1.039751</td>\n",
       "      <td>0.860722</td>\n",
       "      <td>0.860722</td>\n",
       "    </tr>\n",
       "    <tr>\n",
       "      <th>temperature_lag90</th>\n",
       "      <td>0.399428</td>\n",
       "      <td>0.296508</td>\n",
       "      <td>0.412470</td>\n",
       "      <td>0.818218</td>\n",
       "      <td>0.580242</td>\n",
       "      <td>0.580242</td>\n",
       "    </tr>\n",
       "    <tr>\n",
       "      <th>temperature_mavg180</th>\n",
       "      <td>0.607840</td>\n",
       "      <td>0.055693</td>\n",
       "      <td>0.061311</td>\n",
       "      <td>0.679769</td>\n",
       "      <td>NaN</td>\n",
       "      <td>NaN</td>\n",
       "    </tr>\n",
       "    <tr>\n",
       "      <th>temperature_mavg30</th>\n",
       "      <td>0.235605</td>\n",
       "      <td>0.239946</td>\n",
       "      <td>0.236853</td>\n",
       "      <td>0.995305</td>\n",
       "      <td>0.842836</td>\n",
       "      <td>0.842836</td>\n",
       "    </tr>\n",
       "    <tr>\n",
       "      <th>temperature_mavg60</th>\n",
       "      <td>0.630974</td>\n",
       "      <td>0.594589</td>\n",
       "      <td>0.659230</td>\n",
       "      <td>NaN</td>\n",
       "      <td>NaN</td>\n",
       "      <td>NaN</td>\n",
       "    </tr>\n",
       "    <tr>\n",
       "      <th>temperature_mavg7</th>\n",
       "      <td>9.960203</td>\n",
       "      <td>9.951108</td>\n",
       "      <td>9.751084</td>\n",
       "      <td>18.888060</td>\n",
       "      <td>18.563162</td>\n",
       "      <td>18.563162</td>\n",
       "    </tr>\n",
       "    <tr>\n",
       "      <th>temperature_mavg90</th>\n",
       "      <td>0.792771</td>\n",
       "      <td>0.616582</td>\n",
       "      <td>0.717001</td>\n",
       "      <td>0.631938</td>\n",
       "      <td>NaN</td>\n",
       "      <td>NaN</td>\n",
       "    </tr>\n",
       "  </tbody>\n",
       "</table>\n",
       "</div>"
      ],
      "text/plain": [
       "MODEL_NAME          DECISION TREE                              RANDOM FOREST  \\\n",
       "FEATURE_TYPE                Basic Enhanced_Signals Inc_Signals         Basic   \n",
       "FEATURE                                                                        \n",
       "clean_ao_value                NaN         0.762803    0.697029           NaN   \n",
       "clean_nao_value               NaN         0.705866    0.518667           NaN   \n",
       "clean_nino12_value            NaN         0.205030    0.101543           NaN   \n",
       "clean_nino34_value            NaN         0.002508    0.000472           NaN   \n",
       "clean_nino3_value             NaN         0.113445    0.100821           NaN   \n",
       "clean_nino4_value             NaN         0.149838    0.105239           NaN   \n",
       "temperature_lag1        81.951355        81.333226   81.412405     71.035461   \n",
       "temperature_lag2         2.944449         2.956676    3.089420      3.020370   \n",
       "temperature_lag30        0.612916         0.475372    0.456209      1.198484   \n",
       "temperature_lag365       0.842632         0.837027    0.969628      1.184014   \n",
       "temperature_lag7         1.021827         0.703784    0.710618      1.039751   \n",
       "temperature_lag90        0.399428         0.296508    0.412470      0.818218   \n",
       "temperature_mavg180      0.607840         0.055693    0.061311      0.679769   \n",
       "temperature_mavg30       0.235605         0.239946    0.236853      0.995305   \n",
       "temperature_mavg60       0.630974         0.594589    0.659230           NaN   \n",
       "temperature_mavg7        9.960203         9.951108    9.751084     18.888060   \n",
       "temperature_mavg90       0.792771         0.616582    0.717001      0.631938   \n",
       "\n",
       "MODEL_NAME                                        \n",
       "FEATURE_TYPE        Enhanced_Signals Inc_Signals  \n",
       "FEATURE                                           \n",
       "clean_ao_value              1.069394    1.069394  \n",
       "clean_nao_value             0.844053    0.844053  \n",
       "clean_nino12_value               NaN         NaN  \n",
       "clean_nino34_value               NaN         NaN  \n",
       "clean_nino3_value                NaN         NaN  \n",
       "clean_nino4_value                NaN         NaN  \n",
       "temperature_lag1           70.556534   70.556534  \n",
       "temperature_lag2            2.698790    2.698790  \n",
       "temperature_lag30           0.934467    0.934467  \n",
       "temperature_lag365          0.823453    0.823453  \n",
       "temperature_lag7            0.860722    0.860722  \n",
       "temperature_lag90           0.580242    0.580242  \n",
       "temperature_mavg180              NaN         NaN  \n",
       "temperature_mavg30          0.842836    0.842836  \n",
       "temperature_mavg60               NaN         NaN  \n",
       "temperature_mavg7          18.563162   18.563162  \n",
       "temperature_mavg90               NaN         NaN  "
      ]
     },
     "execution_count": 138,
     "metadata": {},
     "output_type": "execute_result"
    }
   ],
   "source": [
    "features_df = get_feature_importances(results_top_10)\n",
    "features_df.pivot_table(index=['FEATURE'], columns=['MODEL_NAME','FEATURE_TYPE'], values=\"IMPORTANCE\")"
   ]
  },
  {
   "cell_type": "markdown",
   "metadata": {},
   "source": [
    "Lets look a boxplot of this data to see how the distributions look across our experiments for this location."
   ]
  },
  {
   "cell_type": "code",
   "execution_count": 123,
   "metadata": {},
   "outputs": [
    {
     "data": {
      "application/vnd.plotly.v1+json": {
       "data": [
        {
         "name": "temperature_lag1",
         "type": "box",
         "uid": "60dcccf6-a04b-11e8-99ec-00215cc353c9",
         "y": [
          70.55653443038533,
          70.55653443038533,
          71.03546110650228,
          81.33322596108859,
          81.41240481860164,
          81.95135540853151
         ]
        },
        {
         "name": "temperature_mavg7",
         "type": "box",
         "uid": "60dcccf7-a04b-11e8-b724-00215cc353c9",
         "y": [
          18.563161892295,
          18.563161892295,
          18.888060185639524,
          9.951108135858018,
          9.751084224254255,
          9.960203145631578
         ]
        },
        {
         "name": "temperature_lag2",
         "type": "box",
         "uid": "60dcccf8-a04b-11e8-b1ce-00215cc353c9",
         "y": [
          2.6987895672680584,
          2.6987895672680584,
          3.02036969296743,
          2.956675941778101,
          3.0894199170343764,
          2.9444487029259463
         ]
        },
        {
         "name": "clean_ao_value",
         "type": "box",
         "uid": "60dcccf9-a04b-11e8-822f-00215cc353c9",
         "y": [
          1.0693938270867474,
          1.0693938270867474,
          0.7628031038223038,
          0.6970290049634424
         ]
        },
        {
         "name": "temperature_lag30",
         "type": "box",
         "uid": "60dcccfa-a04b-11e8-a522-00215cc353c9",
         "y": [
          0.934467034832294,
          0.934467034832294,
          1.198484199108229,
          0.475372362198659,
          0.4562088189011416,
          0.612915691944321
         ]
        },
        {
         "name": "temperature_lag7",
         "type": "box",
         "uid": "60dcccfb-a04b-11e8-908b-00215cc353c9",
         "y": [
          0.8607215658793506,
          0.8607215658793506,
          1.0397508356003422,
          0.7037840428034441,
          0.7106176911650529,
          1.0218273996854894
         ]
        },
        {
         "name": "clean_nao_value",
         "type": "box",
         "uid": "60dcccfc-a04b-11e8-af8f-00215cc353c9",
         "y": [
          0.8440529168738194,
          0.8440529168738194,
          0.7058662754368363,
          0.5186672636864811
         ]
        },
        {
         "name": "temperature_mavg30",
         "type": "box",
         "uid": "60dcccfd-a04b-11e8-a472-00215cc353c9",
         "y": [
          0.8428359446987518,
          0.8428359446987518,
          0.9953052506905754,
          0.2399456060455057,
          0.2368530931511751,
          0.2356048704283546
         ]
        },
        {
         "name": "temperature_lag365",
         "type": "box",
         "uid": "60dcccfe-a04b-11e8-abdf-00215cc353c9",
         "y": [
          0.8234525756688295,
          0.8234525756688295,
          1.1840137374773574,
          0.8370271162177284,
          0.9696283296766728,
          0.842631611337656
         ]
        },
        {
         "name": "temperature_lag90",
         "type": "box",
         "uid": "60dcccff-a04b-11e8-b8bb-00215cc353c9",
         "y": [
          0.5802421432224649,
          0.5802421432224649,
          0.8182181885375608,
          0.2965078811014761,
          0.4124698288579358,
          0.3994280731603416
         ]
        },
        {
         "name": "temperature_mavg180",
         "type": "box",
         "uid": "60dccd00-a04b-11e8-8f25-00215cc353c9",
         "y": [
          0.6797688485594527,
          0.0556928775301606,
          0.06131075037091958,
          0.6078404596557094
         ]
        },
        {
         "name": "temperature_mavg90",
         "type": "box",
         "uid": "60dccd01-a04b-11e8-bc4a-00215cc353c9",
         "y": [
          0.6319375243517276,
          0.6165816161557826,
          0.7170014393380929,
          0.7927705329205811
         ]
        },
        {
         "name": "temperature_mavg60",
         "type": "box",
         "uid": "60dccd02-a04b-11e8-a749-00215cc353c9",
         "y": [
          0.5945886974540229,
          0.6592304622909826,
          0.6309741037785098
         ]
        },
        {
         "name": "clean_nino12_value",
         "type": "box",
         "uid": "60dccd03-a04b-11e8-b597-00215cc353c9",
         "y": [
          0.2050295516694989,
          0.1015432161232614
         ]
        },
        {
         "name": "clean_nino4_value",
         "type": "box",
         "uid": "60dccd04-a04b-11e8-b8ba-00215cc353c9",
         "y": [
          0.14983786135640922,
          0.1052387205121012
         ]
        },
        {
         "name": "clean_nino3_value",
         "type": "box",
         "uid": "60dccd05-a04b-11e8-9cb0-00215cc353c9",
         "y": [
          0.1134445064481232,
          0.10082066133952257
         ]
        },
        {
         "name": "clean_nino34_value",
         "type": "box",
         "uid": "60dccd06-a04b-11e8-b3a6-00215cc353c9",
         "y": [
          0.002508463035347438,
          0.0004717597329414369
         ]
        }
       ],
       "layout": {}
      },
      "text/html": [
       "<div id=\"88deaa04-1120-4ac8-83d1-662959718826\" style=\"height: 525px; width: 100%;\" class=\"plotly-graph-div\"></div><script type=\"text/javascript\">require([\"plotly\"], function(Plotly) { window.PLOTLYENV=window.PLOTLYENV || {};window.PLOTLYENV.BASE_URL=\"https://plot.ly\";Plotly.newPlot(\"88deaa04-1120-4ac8-83d1-662959718826\", [{\"name\": \"temperature_lag1\", \"y\": [70.55653443038533, 70.55653443038533, 71.03546110650228, 81.33322596108859, 81.41240481860164, 81.95135540853151], \"type\": \"box\", \"uid\": \"60f006d4-a04b-11e8-bd65-00215cc353c9\"}, {\"name\": \"temperature_mavg7\", \"y\": [18.563161892295, 18.563161892295, 18.888060185639524, 9.951108135858018, 9.751084224254255, 9.960203145631578], \"type\": \"box\", \"uid\": \"60f006d5-a04b-11e8-aa3f-00215cc353c9\"}, {\"name\": \"temperature_lag2\", \"y\": [2.6987895672680584, 2.6987895672680584, 3.02036969296743, 2.956675941778101, 3.0894199170343764, 2.9444487029259463], \"type\": \"box\", \"uid\": \"60f006d6-a04b-11e8-845a-00215cc353c9\"}, {\"name\": \"clean_ao_value\", \"y\": [1.0693938270867474, 1.0693938270867474, 0.7628031038223038, 0.6970290049634424], \"type\": \"box\", \"uid\": \"60f006d7-a04b-11e8-8333-00215cc353c9\"}, {\"name\": \"temperature_lag30\", \"y\": [0.934467034832294, 0.934467034832294, 1.198484199108229, 0.475372362198659, 0.4562088189011416, 0.612915691944321], \"type\": \"box\", \"uid\": \"60f006d8-a04b-11e8-90f6-00215cc353c9\"}, {\"name\": \"temperature_lag7\", \"y\": [0.8607215658793506, 0.8607215658793506, 1.0397508356003422, 0.7037840428034441, 0.7106176911650529, 1.0218273996854894], \"type\": \"box\", \"uid\": \"60f006d9-a04b-11e8-a69c-00215cc353c9\"}, {\"name\": \"clean_nao_value\", \"y\": [0.8440529168738194, 0.8440529168738194, 0.7058662754368363, 0.5186672636864811], \"type\": \"box\", \"uid\": \"60f006da-a04b-11e8-9a06-00215cc353c9\"}, {\"name\": \"temperature_mavg30\", \"y\": [0.8428359446987518, 0.8428359446987518, 0.9953052506905754, 0.2399456060455057, 0.2368530931511751, 0.2356048704283546], \"type\": \"box\", \"uid\": \"60f006db-a04b-11e8-ae9c-00215cc353c9\"}, {\"name\": \"temperature_lag365\", \"y\": [0.8234525756688295, 0.8234525756688295, 1.1840137374773574, 0.8370271162177284, 0.9696283296766728, 0.842631611337656], \"type\": \"box\", \"uid\": \"60f006dc-a04b-11e8-9286-00215cc353c9\"}, {\"name\": \"temperature_lag90\", \"y\": [0.5802421432224649, 0.5802421432224649, 0.8182181885375608, 0.2965078811014761, 0.4124698288579358, 0.3994280731603416], \"type\": \"box\", \"uid\": \"60f006dd-a04b-11e8-9b75-00215cc353c9\"}, {\"name\": \"temperature_mavg180\", \"y\": [0.6797688485594527, 0.0556928775301606, 0.06131075037091958, 0.6078404596557094], \"type\": \"box\", \"uid\": \"60f006de-a04b-11e8-9f8d-00215cc353c9\"}, {\"name\": \"temperature_mavg90\", \"y\": [0.6319375243517276, 0.6165816161557826, 0.7170014393380929, 0.7927705329205811], \"type\": \"box\", \"uid\": \"60f006df-a04b-11e8-91c8-00215cc353c9\"}, {\"name\": \"temperature_mavg60\", \"y\": [0.5945886974540229, 0.6592304622909826, 0.6309741037785098], \"type\": \"box\", \"uid\": \"60f006e0-a04b-11e8-9311-00215cc353c9\"}, {\"name\": \"clean_nino12_value\", \"y\": [0.2050295516694989, 0.1015432161232614], \"type\": \"box\", \"uid\": \"60f006e1-a04b-11e8-b1c1-00215cc353c9\"}, {\"name\": \"clean_nino4_value\", \"y\": [0.14983786135640922, 0.1052387205121012], \"type\": \"box\", \"uid\": \"60f006e2-a04b-11e8-8de1-00215cc353c9\"}, {\"name\": \"clean_nino3_value\", \"y\": [0.1134445064481232, 0.10082066133952257], \"type\": \"box\", \"uid\": \"60f006e3-a04b-11e8-aa2a-00215cc353c9\"}, {\"name\": \"clean_nino34_value\", \"y\": [0.002508463035347438, 0.0004717597329414369], \"type\": \"box\", \"uid\": \"60f006e4-a04b-11e8-a2ab-00215cc353c9\"}], {}, {\"showLink\": true, \"linkText\": \"Export to plot.ly\"})});</script>"
      ],
      "text/vnd.plotly.v1+html": [
       "<div id=\"88deaa04-1120-4ac8-83d1-662959718826\" style=\"height: 525px; width: 100%;\" class=\"plotly-graph-div\"></div><script type=\"text/javascript\">require([\"plotly\"], function(Plotly) { window.PLOTLYENV=window.PLOTLYENV || {};window.PLOTLYENV.BASE_URL=\"https://plot.ly\";Plotly.newPlot(\"88deaa04-1120-4ac8-83d1-662959718826\", [{\"name\": \"temperature_lag1\", \"y\": [70.55653443038533, 70.55653443038533, 71.03546110650228, 81.33322596108859, 81.41240481860164, 81.95135540853151], \"type\": \"box\", \"uid\": \"60f006d4-a04b-11e8-bd65-00215cc353c9\"}, {\"name\": \"temperature_mavg7\", \"y\": [18.563161892295, 18.563161892295, 18.888060185639524, 9.951108135858018, 9.751084224254255, 9.960203145631578], \"type\": \"box\", \"uid\": \"60f006d5-a04b-11e8-aa3f-00215cc353c9\"}, {\"name\": \"temperature_lag2\", \"y\": [2.6987895672680584, 2.6987895672680584, 3.02036969296743, 2.956675941778101, 3.0894199170343764, 2.9444487029259463], \"type\": \"box\", \"uid\": \"60f006d6-a04b-11e8-845a-00215cc353c9\"}, {\"name\": \"clean_ao_value\", \"y\": [1.0693938270867474, 1.0693938270867474, 0.7628031038223038, 0.6970290049634424], \"type\": \"box\", \"uid\": \"60f006d7-a04b-11e8-8333-00215cc353c9\"}, {\"name\": \"temperature_lag30\", \"y\": [0.934467034832294, 0.934467034832294, 1.198484199108229, 0.475372362198659, 0.4562088189011416, 0.612915691944321], \"type\": \"box\", \"uid\": \"60f006d8-a04b-11e8-90f6-00215cc353c9\"}, {\"name\": \"temperature_lag7\", \"y\": [0.8607215658793506, 0.8607215658793506, 1.0397508356003422, 0.7037840428034441, 0.7106176911650529, 1.0218273996854894], \"type\": \"box\", \"uid\": \"60f006d9-a04b-11e8-a69c-00215cc353c9\"}, {\"name\": \"clean_nao_value\", \"y\": [0.8440529168738194, 0.8440529168738194, 0.7058662754368363, 0.5186672636864811], \"type\": \"box\", \"uid\": \"60f006da-a04b-11e8-9a06-00215cc353c9\"}, {\"name\": \"temperature_mavg30\", \"y\": [0.8428359446987518, 0.8428359446987518, 0.9953052506905754, 0.2399456060455057, 0.2368530931511751, 0.2356048704283546], \"type\": \"box\", \"uid\": \"60f006db-a04b-11e8-ae9c-00215cc353c9\"}, {\"name\": \"temperature_lag365\", \"y\": [0.8234525756688295, 0.8234525756688295, 1.1840137374773574, 0.8370271162177284, 0.9696283296766728, 0.842631611337656], \"type\": \"box\", \"uid\": \"60f006dc-a04b-11e8-9286-00215cc353c9\"}, {\"name\": \"temperature_lag90\", \"y\": [0.5802421432224649, 0.5802421432224649, 0.8182181885375608, 0.2965078811014761, 0.4124698288579358, 0.3994280731603416], \"type\": \"box\", \"uid\": \"60f006dd-a04b-11e8-9b75-00215cc353c9\"}, {\"name\": \"temperature_mavg180\", \"y\": [0.6797688485594527, 0.0556928775301606, 0.06131075037091958, 0.6078404596557094], \"type\": \"box\", \"uid\": \"60f006de-a04b-11e8-9f8d-00215cc353c9\"}, {\"name\": \"temperature_mavg90\", \"y\": [0.6319375243517276, 0.6165816161557826, 0.7170014393380929, 0.7927705329205811], \"type\": \"box\", \"uid\": \"60f006df-a04b-11e8-91c8-00215cc353c9\"}, {\"name\": \"temperature_mavg60\", \"y\": [0.5945886974540229, 0.6592304622909826, 0.6309741037785098], \"type\": \"box\", \"uid\": \"60f006e0-a04b-11e8-9311-00215cc353c9\"}, {\"name\": \"clean_nino12_value\", \"y\": [0.2050295516694989, 0.1015432161232614], \"type\": \"box\", \"uid\": \"60f006e1-a04b-11e8-b1c1-00215cc353c9\"}, {\"name\": \"clean_nino4_value\", \"y\": [0.14983786135640922, 0.1052387205121012], \"type\": \"box\", \"uid\": \"60f006e2-a04b-11e8-8de1-00215cc353c9\"}, {\"name\": \"clean_nino3_value\", \"y\": [0.1134445064481232, 0.10082066133952257], \"type\": \"box\", \"uid\": \"60f006e3-a04b-11e8-aa2a-00215cc353c9\"}, {\"name\": \"clean_nino34_value\", \"y\": [0.002508463035347438, 0.0004717597329414369], \"type\": \"box\", \"uid\": \"60f006e4-a04b-11e8-a2ab-00215cc353c9\"}], {}, {\"showLink\": true, \"linkText\": \"Export to plot.ly\"})});</script>"
      ]
     },
     "metadata": {},
     "output_type": "display_data"
    }
   ],
   "source": [
    "traces = create_boxplot_traces_for_features(features_df)\n",
    "iplot(traces)"
   ]
  },
  {
   "cell_type": "markdown",
   "metadata": {},
   "source": [
    "Lets review the means for the features"
   ]
  },
  {
   "cell_type": "code",
   "execution_count": 153,
   "metadata": {},
   "outputs": [
    {
     "data": {
      "text/html": [
       "<div>\n",
       "<style scoped>\n",
       "    .dataframe tbody tr th:only-of-type {\n",
       "        vertical-align: middle;\n",
       "    }\n",
       "\n",
       "    .dataframe tbody tr th {\n",
       "        vertical-align: top;\n",
       "    }\n",
       "\n",
       "    .dataframe thead tr th {\n",
       "        text-align: left;\n",
       "    }\n",
       "\n",
       "    .dataframe thead tr:last-of-type th {\n",
       "        text-align: right;\n",
       "    }\n",
       "</style>\n",
       "<table border=\"1\" class=\"dataframe\">\n",
       "  <thead>\n",
       "    <tr>\n",
       "      <th></th>\n",
       "      <th>mean</th>\n",
       "    </tr>\n",
       "    <tr>\n",
       "      <th></th>\n",
       "      <th>IMPORTANCE</th>\n",
       "    </tr>\n",
       "    <tr>\n",
       "      <th>FEATURE</th>\n",
       "      <th></th>\n",
       "    </tr>\n",
       "  </thead>\n",
       "  <tbody>\n",
       "    <tr>\n",
       "      <th>clean_ao_value</th>\n",
       "      <td>0.899655</td>\n",
       "    </tr>\n",
       "    <tr>\n",
       "      <th>clean_nao_value</th>\n",
       "      <td>0.728160</td>\n",
       "    </tr>\n",
       "    <tr>\n",
       "      <th>clean_nino12_value</th>\n",
       "      <td>0.153286</td>\n",
       "    </tr>\n",
       "    <tr>\n",
       "      <th>clean_nino34_value</th>\n",
       "      <td>0.001490</td>\n",
       "    </tr>\n",
       "    <tr>\n",
       "      <th>clean_nino3_value</th>\n",
       "      <td>0.107133</td>\n",
       "    </tr>\n",
       "    <tr>\n",
       "      <th>clean_nino4_value</th>\n",
       "      <td>0.127538</td>\n",
       "    </tr>\n",
       "    <tr>\n",
       "      <th>temperature_lag1</th>\n",
       "      <td>76.140919</td>\n",
       "    </tr>\n",
       "    <tr>\n",
       "      <th>temperature_lag2</th>\n",
       "      <td>2.901416</td>\n",
       "    </tr>\n",
       "    <tr>\n",
       "      <th>temperature_lag30</th>\n",
       "      <td>0.768653</td>\n",
       "    </tr>\n",
       "    <tr>\n",
       "      <th>temperature_lag365</th>\n",
       "      <td>0.913368</td>\n",
       "    </tr>\n",
       "    <tr>\n",
       "      <th>temperature_lag7</th>\n",
       "      <td>0.866237</td>\n",
       "    </tr>\n",
       "    <tr>\n",
       "      <th>temperature_lag90</th>\n",
       "      <td>0.514518</td>\n",
       "    </tr>\n",
       "    <tr>\n",
       "      <th>temperature_mavg180</th>\n",
       "      <td>0.351153</td>\n",
       "    </tr>\n",
       "    <tr>\n",
       "      <th>temperature_mavg30</th>\n",
       "      <td>0.565563</td>\n",
       "    </tr>\n",
       "    <tr>\n",
       "      <th>temperature_mavg60</th>\n",
       "      <td>0.628264</td>\n",
       "    </tr>\n",
       "    <tr>\n",
       "      <th>temperature_mavg7</th>\n",
       "      <td>14.279463</td>\n",
       "    </tr>\n",
       "    <tr>\n",
       "      <th>temperature_mavg90</th>\n",
       "      <td>0.689573</td>\n",
       "    </tr>\n",
       "  </tbody>\n",
       "</table>\n",
       "</div>"
      ],
      "text/plain": [
       "                          mean\n",
       "                    IMPORTANCE\n",
       "FEATURE                       \n",
       "clean_ao_value        0.899655\n",
       "clean_nao_value       0.728160\n",
       "clean_nino12_value    0.153286\n",
       "clean_nino34_value    0.001490\n",
       "clean_nino3_value     0.107133\n",
       "clean_nino4_value     0.127538\n",
       "temperature_lag1     76.140919\n",
       "temperature_lag2      2.901416\n",
       "temperature_lag30     0.768653\n",
       "temperature_lag365    0.913368\n",
       "temperature_lag7      0.866237\n",
       "temperature_lag90     0.514518\n",
       "temperature_mavg180   0.351153\n",
       "temperature_mavg30    0.565563\n",
       "temperature_mavg60    0.628264\n",
       "temperature_mavg7    14.279463\n",
       "temperature_mavg90    0.689573"
      ]
     },
     "execution_count": 153,
     "metadata": {},
     "output_type": "execute_result"
    }
   ],
   "source": [
    "features_df = get_feature_importances(results_top_10)\n",
    "pivot_df = features_df.pivot_table(index=['FEATURE'], columns=[], values=\"IMPORTANCE\", aggfunc= [np.mean])\n",
    "pivot_df"
   ]
  },
  {
   "cell_type": "markdown",
   "metadata": {},
   "source": [
    "Now lets review the top 5 only"
   ]
  },
  {
   "cell_type": "code",
   "execution_count": 155,
   "metadata": {},
   "outputs": [
    {
     "data": {
      "text/html": [
       "<div>\n",
       "<style scoped>\n",
       "    .dataframe tbody tr th:only-of-type {\n",
       "        vertical-align: middle;\n",
       "    }\n",
       "\n",
       "    .dataframe tbody tr th {\n",
       "        vertical-align: top;\n",
       "    }\n",
       "\n",
       "    .dataframe thead th {\n",
       "        text-align: right;\n",
       "    }\n",
       "</style>\n",
       "<table border=\"1\" class=\"dataframe\">\n",
       "  <thead>\n",
       "    <tr style=\"text-align: right;\">\n",
       "      <th></th>\n",
       "      <th>mean</th>\n",
       "    </tr>\n",
       "    <tr>\n",
       "      <th>FEATURE</th>\n",
       "      <th></th>\n",
       "    </tr>\n",
       "  </thead>\n",
       "  <tbody>\n",
       "    <tr>\n",
       "      <th>temperature_lag1</th>\n",
       "      <td>76.140919</td>\n",
       "    </tr>\n",
       "    <tr>\n",
       "      <th>temperature_mavg7</th>\n",
       "      <td>14.279463</td>\n",
       "    </tr>\n",
       "    <tr>\n",
       "      <th>temperature_lag2</th>\n",
       "      <td>2.901416</td>\n",
       "    </tr>\n",
       "    <tr>\n",
       "      <th>temperature_lag365</th>\n",
       "      <td>0.913368</td>\n",
       "    </tr>\n",
       "    <tr>\n",
       "      <th>clean_ao_value</th>\n",
       "      <td>0.899655</td>\n",
       "    </tr>\n",
       "  </tbody>\n",
       "</table>\n",
       "</div>"
      ],
      "text/plain": [
       "                         mean\n",
       "FEATURE                      \n",
       "temperature_lag1    76.140919\n",
       "temperature_mavg7   14.279463\n",
       "temperature_lag2     2.901416\n",
       "temperature_lag365   0.913368\n",
       "clean_ao_value       0.899655"
      ]
     },
     "execution_count": 155,
     "metadata": {},
     "output_type": "execute_result"
    }
   ],
   "source": [
    "pivot_df.columns = pivot_df.columns.get_level_values(0)\n",
    "pivot_df.sort_values(['mean'], ascending=False).head(5)"
   ]
  },
  {
   "cell_type": "code",
   "execution_count": null,
   "metadata": {},
   "outputs": [],
   "source": []
  }
 ],
 "metadata": {
  "kernelspec": {
   "display_name": "Python 3",
   "language": "python",
   "name": "python3"
  },
  "language_info": {
   "codemirror_mode": {
    "name": "ipython",
    "version": 3
   },
   "file_extension": ".py",
   "mimetype": "text/x-python",
   "name": "python",
   "nbconvert_exporter": "python",
   "pygments_lexer": "ipython3",
   "version": "3.6.4"
  }
 },
 "nbformat": 4,
 "nbformat_minor": 2
}
